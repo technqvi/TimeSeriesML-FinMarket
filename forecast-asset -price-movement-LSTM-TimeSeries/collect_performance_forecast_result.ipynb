{
 "cells": [
  {
   "cell_type": "code",
   "execution_count": 2,
   "id": "164a4014-3aad-47de-9c62-911d3d5a82ab",
   "metadata": {},
   "outputs": [],
   "source": [
    "import pandas as pd\n",
    "import numpy as np\n",
    "import os\n",
    "from datetime import datetime,date,timedelta,timezone\n",
    "import calendar\n",
    "import json\n",
    "\n",
    "\n",
    "from google.cloud import bigquery\n",
    "from google.oauth2 import service_account\n",
    "from google.cloud.exceptions import NotFound\n",
    "from google.api_core.exceptions import BadRequest\n",
    "\n"
   ]
  },
  {
   "cell_type": "code",
   "execution_count": 3,
   "id": "70179656-b3c0-4034-b606-9e856e4b62c4",
   "metadata": {
    "tags": []
   },
   "outputs": [],
   "source": [
    "collectionDate='2023-06-03 00:00'\n",
    "# uncomment and indent\n",
    "# import functions_framework\n",
    "# @functions_framework.http\n",
    "# def collect_prediction_result(request):   # run on clound function\n",
    "# def collect_prediction_result(collectionDate): # migrate\n"
   ]
  },
  {
   "cell_type": "markdown",
   "id": "05b906bf-b946-449a-a3a7-94c204799c86",
   "metadata": {},
   "source": [
    "# Init parameter"
   ]
  },
  {
   "cell_type": "code",
   "execution_count": 4,
   "id": "ec00a87e-4070-4933-9ee4-09b2f986649d",
   "metadata": {
    "tags": []
   },
   "outputs": [
    {
     "name": "stdout",
     "output_type": "stream",
     "text": [
      "Date to collect data on 2023-06-03 Saturday(Idx:5) at 2023-06-03 00:00:00\n",
      "week_day=5 and last_trading_day_of_week=1\n"
     ]
    }
   ],
   "source": [
    "# uncomment\n",
    "mode=2\n",
    "modelList=['spy-ema1-60t10-ds0115t0523','qqq-ema1-30t5-ds0115t0523']\n",
    "\n",
    "if mode==1: # Migrate to backfill data and Test \n",
    "    logDate=collectionDate\n",
    "    log_date=datetime.strptime(logDate,'%Y-%m-%d %H:%M')\n",
    "    log_timestamp=datetime.strptime(logDate,'%Y-%m-%d %H:%M')\n",
    "else: # On weekly basis\n",
    "    log_timestamp=datetime.now(timezone.utc)\n",
    "    log_date=datetime.strptime(log_timestamp.strftime('%Y-%m-%d'),'%Y-%m-%d')\n",
    "\n",
    "week_day=log_date.weekday()\n",
    "day_name=calendar.day_name[log_date.weekday()]\n",
    "\n",
    "print(f\"Date to collect data on {log_date.strftime('%Y-%m-%d')} {day_name}(Idx:{week_day}) at {log_timestamp}\")\n",
    "\n",
    "if  week_day==5:\n",
    "    last_trading_day_of_week=1\n",
    "elif week_day==6:\n",
    "    last_trading_day_of_week=2\n",
    "else:\n",
    "    raise Exception(\"Saturday OR Sunday,Both are allowed  as Collection Date for forcasting result.\")   \n",
    "\n",
    "print(f\"week_day={week_day} and last_trading_day_of_week={last_trading_day_of_week}\")\n",
    "\n",
    "dictCollectPerf={}"
   ]
  },
  {
   "cell_type": "code",
   "execution_count": null,
   "id": "72672ef9-61d3-4745-9f27-22abed2a9f03",
   "metadata": {},
   "outputs": [],
   "source": []
  },
  {
   "cell_type": "code",
   "execution_count": 7,
   "id": "965595c0-1687-4a01-a51f-37cd56cf67ff",
   "metadata": {
    "tags": []
   },
   "outputs": [],
   "source": [
    "genTableSchema=False\n",
    "metric_name='mae'\n",
    "\n",
    "# comment\n",
    "model_id='spy-ema1-60t10-ds0115t0523'\n",
    "#model_id=\"spy-signal-60t10-ds0115t0523\"\n",
    "#model_id='qqq-ema1-30t5-ds0115t0523'\n"
   ]
  },
  {
   "cell_type": "markdown",
   "id": "99a40750-7bfa-4761-a618-bf8135c0616b",
   "metadata": {},
   "source": [
    "# BigQuery Setting & Configuration Variable"
   ]
  },
  {
   "cell_type": "code",
   "execution_count": 8,
   "id": "6630349a-f4ae-4673-8d01-c7a3f842ea17",
   "metadata": {
    "tags": []
   },
   "outputs": [
    {
     "name": "stdout",
     "output_type": "stream",
     "text": [
      "pongthorn.FinAssetForecast.fin_movement_forecast\n",
      "pongthorn.FinAssetForecast.fin_data\n",
      "pongthorn.FinAssetForecast.model_ts_metadata\n",
      "pongthorn.FinAssetForecast.model_forecast_performance\n"
     ]
    }
   ],
   "source": [
    "date_col='date'\n",
    "projectId='pongthorn'\n",
    "dataset_id='FinAssetForecast'\n",
    "\n",
    "table_data_id=f\"{projectId}.{dataset_id}.fin_data\"\n",
    "table_id = f\"{projectId}.{dataset_id}.fin_movement_forecast\"\n",
    "table_model_id= f\"{projectId}.{dataset_id}.model_ts_metadata\"\n",
    "\n",
    "table_perf_id= f\"{projectId}.{dataset_id}.model_forecast_performance\"\n",
    "\n",
    "print(table_id)\n",
    "print(table_data_id)\n",
    "print(table_model_id)\n",
    "print(table_perf_id)\n",
    "\n",
    "client = bigquery.Client(project=projectId )\n",
    "\n",
    "def load_data_bq(sql:str):\n",
    "    query_result=client.query(sql)\n",
    "    df=query_result.to_dataframe()\n",
    "    return df"
   ]
  },
  {
   "cell_type": "markdown",
   "id": "d09509b0-df8c-44d3-8a6c-ff5642b7d98a",
   "metadata": {},
   "source": [
    "# Check where the given date collected data or not?"
   ]
  },
  {
   "cell_type": "code",
   "execution_count": 9,
   "id": "53bdf53d-0d1b-41d2-ab70-7949ef8eb418",
   "metadata": {
    "tags": []
   },
   "outputs": [
    {
     "name": "stdout",
     "output_type": "stream",
     "text": [
      "\n",
      "select collection_timestamp from `pongthorn.FinAssetForecast.model_forecast_performance`\n",
      "where date(collection_timestamp)='2023-06-03'\n",
      "\n",
      "We are ready to Collect data on 2023-06-03 00:00:00\n"
     ]
    }
   ],
   "source": [
    "sqlCheck=f\"\"\"\n",
    "select collection_timestamp from `{table_perf_id}`\n",
    "where date(collection_timestamp)='{log_date.strftime('%Y-%m-%d')}'\n",
    "\"\"\"\n",
    "print(sqlCheck)\n",
    "dfCheckDate=load_data_bq(sqlCheck)\n",
    "if  dfCheckDate.empty==False:\n",
    "    print(f\"Collection data on {log_date} found, no any action\")\n",
    "    # uncomment\n",
    "    #return f\"Collection data on {log_date} found, no any action\"\n",
    "else:\n",
    "    print(f\"We are ready to Collect data on {log_date}\")"
   ]
  },
  {
   "cell_type": "markdown",
   "id": "f7552d58-047a-4738-804b-490f34468b08",
   "metadata": {},
   "source": [
    "# Create Start to End Date By Getting Last Date of Week"
   ]
  },
  {
   "cell_type": "code",
   "execution_count": 10,
   "id": "af8ef5bf-e1f7-4633-a265-9d57e403cc97",
   "metadata": {
    "tags": []
   },
   "outputs": [
    {
     "name": "stdout",
     "output_type": "stream",
     "text": [
      "Collection data from Monday 29-05-2023 to Friday 02-06-2023\n",
      "Convert start and end data 2023-05-29 - 2023-06-02 to string\n"
     ]
    }
   ],
   "source": [
    "# get  prev prediction  from  get end prediction to beginneg or predicton of week \n",
    "endX=log_date+timedelta(days=-last_trading_day_of_week)\n",
    "startX=endX+timedelta(days=1)+timedelta(days=-5)\n",
    "print(f\"Collection data from {startX.strftime('%A %d-%m-%Y')} to {endX.strftime('%A %d-%m-%Y')}\")\n",
    "\n",
    "endX=endX.strftime('%Y-%m-%d')\n",
    "startX=startX.strftime('%Y-%m-%d')\n",
    "\n",
    "print(f\"Convert start and end data {startX} - {endX} to string\")"
   ]
  },
  {
   "cell_type": "markdown",
   "id": "ce80e154-d966-434f-9213-0c19d719ed83",
   "metadata": {},
   "source": [
    "# Start Loop"
   ]
  },
  {
   "cell_type": "code",
   "execution_count": 11,
   "id": "c609e849-435b-400c-ac02-a5249cce9fdd",
   "metadata": {
    "tags": []
   },
   "outputs": [
    {
     "name": "stdout",
     "output_type": "stream",
     "text": [
      "Collect data : spy-ema1-60t10-ds0115t0523 \n"
     ]
    }
   ],
   "source": [
    "# uncomment  and indent\n",
    "# def process_data(model_id):\n",
    "print(f\"Collect data : {model_id} \")"
   ]
  },
  {
   "cell_type": "markdown",
   "id": "95fac79b-f3e3-420c-af2f-a9f2355e3d7d",
   "metadata": {},
   "source": [
    "# Get Model Meta"
   ]
  },
  {
   "cell_type": "code",
   "execution_count": 12,
   "id": "6af8a0f4-ebd7-44ce-9317-9eef92d360e4",
   "metadata": {},
   "outputs": [
    {
     "name": "stdout",
     "output_type": "stream",
     "text": [
      "\n",
      "    SELECT * FROM `pongthorn.FinAssetForecast.model_ts_metadata`  where model_id='spy-ema1-60t10-ds0115t0523'\n",
      "    \n",
      "model_id                                         spy-ema1-60t10-ds0115t0523\n",
      "asset                                                                   SPY\n",
      "prediction                                                             EMA1\n",
      "input_sequence_length                                                    60\n",
      "output_sequence_length                                                   10\n",
      "gs_model_path                gs://demo-ts-forecast-pongthorn/model_spy_ema1\n",
      "local_model_path                                       model/model_spy_ema1\n",
      "model_file                         EMA1_60To10_SPY_E150S20-Y2015-2023_ma.h5\n",
      "scaler_file                    scaler_EMA1_60To10_SPY_E150S20-Y2015-2023.gz\n",
      "scaler_pred_file          scaler_pred_EMA1_60To10_SPY_E150S20-Y2015-2023.gz\n",
      "Name: 0, dtype: object\n"
     ]
    }
   ],
   "source": [
    "def get_model_metadata(model_id):\n",
    "    sqlModelMt=f\"\"\"\n",
    "    SELECT * FROM `{table_model_id}`  where model_id='{model_id}'\n",
    "    \"\"\"\n",
    "    print(sqlModelMt)\n",
    "    dfModelMeta=load_data_bq(sqlModelMt)\n",
    "    return  dfModelMeta\n",
    "\n",
    "dfModelMeta=get_model_metadata(model_id)\n",
    "\n",
    "if dfModelMeta.empty==False:\n",
    "    modelMeta=dfModelMeta.iloc[0,:]\n",
    "    print(modelMeta)\n",
    "    asset_name=modelMeta['asset']\n",
    "    prediction=modelMeta['prediction']\n",
    "else: \n",
    "    raise Exception(f\"Not found model id  {model_id}\")"
   ]
  },
  {
   "cell_type": "markdown",
   "id": "7e8201bb-91d8-4e3e-80da-20e7d61b25ba",
   "metadata": {},
   "source": [
    "# Retrive forecasting result data to Dictionary"
   ]
  },
  {
   "cell_type": "code",
   "execution_count": 13,
   "id": "001948b5-8ef8-46d7-af6e-53b2ef82ce0a",
   "metadata": {},
   "outputs": [
    {
     "name": "stdout",
     "output_type": "stream",
     "text": [
      "================Get data from 2023-05-29====to===2023-06-02================\n",
      "1.How far back in time does model want to apply as input to make prediction\n",
      "\n",
      "    select t.prediction_date,t.pred_timestamp,t.asset_name,t.prediction_name,\n",
      "    t_feature.input_date as date,t_feature.input_feature as EMA1\n",
      "    from  `pongthorn.FinAssetForecast.fin_movement_forecast` t\n",
      "    cross join unnest(t.feature_for_prediction) t_feature\n",
      "    where (t.prediction_date>='2023-05-29' and  t.prediction_date<='2023-06-02')\n",
      "    and t.model_id='spy-ema1-60t10-ds0115t0523'\n",
      "    order by  t.prediction_date,t_feature.input_date\n",
      "    \n",
      "input_sequence_length=180\n",
      "<class 'pandas.core.frame.DataFrame'>\n",
      "DatetimeIndex: 180 entries, 2023-03-07 to 2023-06-02\n",
      "Data columns (total 5 columns):\n",
      " #   Column           Non-Null Count  Dtype              \n",
      "---  ------           --------------  -----              \n",
      " 0   prediction_date  180 non-null    dbdate             \n",
      " 1   pred_timestamp   180 non-null    datetime64[us, UTC]\n",
      " 2   asset_name       180 non-null    object             \n",
      " 3   prediction_name  180 non-null    object             \n",
      " 4   EMA1             180 non-null    float64            \n",
      "dtypes: datetime64[us, UTC](1), dbdate(1), float64(1), object(2)\n",
      "memory usage: 8.4+ KB\n",
      "None\n",
      "           prediction_date asset_name prediction_name      EMA1\n",
      "date                                                           \n",
      "2023-03-07      2023-05-31        SPY            EMA1  400.6999\n",
      "2023-03-08      2023-05-31        SPY            EMA1  400.3763\n",
      "2023-03-09      2023-05-31        SPY            EMA1  398.7733\n",
      "2023-03-10      2023-05-31        SPY            EMA1  396.4345\n",
      "2023-03-13      2023-05-31        SPY            EMA1  394.4210\n",
      "...                    ...        ...             ...       ...\n",
      "2023-05-26      2023-06-02        SPY            EMA1  415.3730\n",
      "2023-05-30      2023-06-02        SPY            EMA1  416.2470\n",
      "2023-05-31      2023-06-02        SPY            EMA1  416.5385\n",
      "2023-06-01      2023-06-02        SPY            EMA1  417.4988\n",
      "2023-06-02      2023-06-02        SPY            EMA1  419.3935\n",
      "\n",
      "[180 rows x 4 columns]\n",
      "================================================================================================\n",
      "2.How far in advance does model want to  make prediction\n",
      "\n",
      "    select t.prediction_date, t.pred_timestamp,t.asset_name,t.prediction_name,\n",
      "    t_pred.output_date as date,t_pred.output_value as EMA1\n",
      "    from  `pongthorn.FinAssetForecast.fin_movement_forecast` t\n",
      "    cross join unnest(t.prediction_result) t_pred\n",
      "    where (t.prediction_date>='2023-05-29' and  t.prediction_date<='2023-06-02')\n",
      "    and t.model_id='spy-ema1-60t10-ds0115t0523'\n",
      "    order by  t.prediction_date,t_pred.output_date\n",
      "    \n",
      "output_sequence_length=30\n",
      "<class 'pandas.core.frame.DataFrame'>\n",
      "DatetimeIndex: 30 entries, 2023-06-01 to 2023-06-16\n",
      "Data columns (total 5 columns):\n",
      " #   Column           Non-Null Count  Dtype              \n",
      "---  ------           --------------  -----              \n",
      " 0   prediction_date  30 non-null     dbdate             \n",
      " 1   pred_timestamp   30 non-null     datetime64[us, UTC]\n",
      " 2   asset_name       30 non-null     object             \n",
      " 3   prediction_name  30 non-null     object             \n",
      " 4   EMA1             30 non-null     float64            \n",
      "dtypes: datetime64[us, UTC](1), dbdate(1), float64(1), object(2)\n",
      "memory usage: 1.4+ KB\n",
      "None\n",
      "           prediction_date asset_name prediction_name        EMA1\n",
      "date                                                             \n",
      "2023-06-01      2023-05-31        SPY            EMA1  420.234497\n",
      "2023-06-02      2023-05-31        SPY            EMA1  417.737549\n",
      "2023-06-05      2023-05-31        SPY            EMA1  418.551666\n",
      "2023-06-06      2023-05-31        SPY            EMA1  417.915009\n",
      "2023-06-07      2023-05-31        SPY            EMA1  422.082550\n",
      "2023-06-08      2023-05-31        SPY            EMA1  420.300049\n",
      "2023-06-09      2023-05-31        SPY            EMA1  419.826813\n",
      "2023-06-12      2023-05-31        SPY            EMA1  421.301178\n",
      "2023-06-13      2023-05-31        SPY            EMA1  421.392426\n",
      "2023-06-14      2023-05-31        SPY            EMA1  420.813263\n",
      "2023-06-02      2023-06-01        SPY            EMA1  420.573883\n",
      "2023-06-05      2023-06-01        SPY            EMA1  418.026276\n",
      "2023-06-06      2023-06-01        SPY            EMA1  418.890198\n",
      "2023-06-07      2023-06-01        SPY            EMA1  418.228180\n",
      "2023-06-08      2023-06-01        SPY            EMA1  422.556335\n",
      "2023-06-09      2023-06-01        SPY            EMA1  420.740082\n",
      "2023-06-12      2023-06-01        SPY            EMA1  420.182312\n",
      "2023-06-13      2023-06-01        SPY            EMA1  421.635651\n",
      "2023-06-14      2023-06-01        SPY            EMA1  421.737762\n",
      "2023-06-15      2023-06-01        SPY            EMA1  421.214996\n",
      "2023-06-05      2023-06-02        SPY            EMA1  423.474304\n",
      "2023-06-06      2023-06-02        SPY            EMA1  421.174652\n",
      "2023-06-07      2023-06-02        SPY            EMA1  422.262726\n",
      "2023-06-08      2023-06-02        SPY            EMA1  421.639557\n",
      "2023-06-09      2023-06-02        SPY            EMA1  426.032318\n",
      "2023-06-12      2023-06-02        SPY            EMA1  424.441925\n",
      "2023-06-13      2023-06-02        SPY            EMA1  424.050262\n",
      "2023-06-14      2023-06-02        SPY            EMA1  425.004089\n",
      "2023-06-15      2023-06-02        SPY            EMA1  425.052002\n",
      "2023-06-16      2023-06-02        SPY            EMA1  424.626312\n",
      "================================================================================================\n",
      "3.Get Real Data  to compare to prediction from 2023-03-07 to 2023-06-16\n",
      "\n",
      "    select Date as date,EMA1, ImportDateTime, from `pongthorn.FinAssetForecast.fin_data` \n",
      "    where (Date>='2023-03-07' and Date<='2023-06-16') and Symbol='SPY'\n",
      "    order by ImportDateTime,Date\n",
      "    \n",
      "<class 'pandas.core.frame.DataFrame'>\n",
      "DatetimeIndex: 72 entries, 2023-03-07 to 2023-06-16\n",
      "Data columns (total 2 columns):\n",
      " #   Column          Non-Null Count  Dtype         \n",
      "---  ------          --------------  -----         \n",
      " 0   EMA1            72 non-null     float64       \n",
      " 1   ImportDateTime  72 non-null     datetime64[us]\n",
      "dtypes: datetime64[us](1), float64(1)\n",
      "memory usage: 1.7 KB\n",
      "None\n",
      "                EMA1\n",
      "date                \n",
      "2023-03-07  400.6999\n",
      "2023-03-08  400.3763\n",
      "2023-03-09  398.7733\n",
      "2023-03-10  396.4345\n",
      "2023-03-13  394.4210\n",
      "...              ...\n",
      "2023-06-12  426.7027\n",
      "2023-06-13  428.5123\n",
      "2023-06-14  430.0882\n",
      "2023-06-15  432.3631\n",
      "2023-06-16  433.6472\n",
      "\n",
      "[72 rows x 1 columns]\n",
      "================================================================================================\n",
      "=======================================================================\n"
     ]
    }
   ],
   "source": [
    "def get_forecasting_result_data(request):\n",
    "\n",
    "    if   request is not None:  \n",
    "        start_date=request[\"start_date\"]\n",
    "        end_date=request[\"end_date\"]\n",
    "        prediction_name=request[\"prediction_name\"]\n",
    "        asset_name=request[\"asset_name\"]\n",
    "        model_id=request[\"model_id\"]\n",
    "    else:\n",
    "        raise Exception(\"No request parameters such as start_date,prediction_name,asset_name\")\n",
    "\n",
    "    print(\"1.How far back in time does model want to apply as input to make prediction\")\n",
    "\n",
    "    sqlInput=f\"\"\"\n",
    "    select t.prediction_date,t.pred_timestamp,t.asset_name,t.prediction_name,\n",
    "    t_feature.input_date as {date_col},t_feature.input_feature as {prediction_name}\n",
    "    from  `{table_id}` t\n",
    "    cross join unnest(t.feature_for_prediction) t_feature\n",
    "    where (t.prediction_date>='{start_date}' and  t.prediction_date<='{end_date}')\n",
    "    and t.model_id='{model_id}'\n",
    "    order by  t.prediction_date,t_feature.input_date\n",
    "    \"\"\"\n",
    "    print(sqlInput)\n",
    "    dfInput=load_data_bq(sqlInput)\n",
    "    # dfInput=dfInput.drop_duplicates(subset=[date_col,'asset_name','prediction_name'],keep='last',)\n",
    "    # dfInput=dfInput.drop_duplicates(subset=[date_col],keep='last',)\n",
    "    dfInput[date_col]=pd.to_datetime(dfInput[date_col],format='%Y-%m-%d')\n",
    "    dfInput.set_index(date_col,inplace=True)\n",
    "\n",
    "    input_sequence_length=len(dfInput)\n",
    "    print(f\"input_sequence_length={input_sequence_length}\")\n",
    "    \n",
    "\n",
    "    print(dfInput.info())\n",
    "    print(dfInput[['prediction_date','asset_name','prediction_name' ,prediction_name]])\n",
    "    print(\"================================================================================================\")\n",
    "    \n",
    "    print(\"2.How far in advance does model want to  make prediction\")\n",
    "    sqlOutput=f\"\"\"\n",
    "    select t.prediction_date, t.pred_timestamp,t.asset_name,t.prediction_name,\n",
    "    t_pred.output_date as {date_col},t_pred.output_value as {prediction_name}\n",
    "    from  `pongthorn.FinAssetForecast.fin_movement_forecast` t\n",
    "    cross join unnest(t.prediction_result) t_pred\n",
    "    where (t.prediction_date>='{start_date}' and  t.prediction_date<='{end_date}')\n",
    "    and t.model_id='{model_id}'\n",
    "    order by  t.prediction_date,t_pred.output_date\n",
    "    \"\"\"\n",
    "    print(sqlOutput)\n",
    "    dfOutput=load_data_bq(sqlOutput)\n",
    "    # dfOutput=dfOutput.drop_duplicates(subset=[date_col,'asset_name','prediction_name'],keep='last',)\n",
    "    # dfOutput=dfOutput.drop_duplicates(subset=[date_col],keep='last',)\n",
    "    dfOutput[date_col]=pd.to_datetime(dfOutput[date_col],format='%Y-%m-%d')\n",
    "    dfOutput.set_index(date_col,inplace=True)\n",
    "\n",
    "    output_sequence_length=len(dfOutput)\n",
    "    print(f\"output_sequence_length={output_sequence_length}\")\n",
    "    \n",
    "\n",
    "    print(dfOutput.info())\n",
    "    print(dfOutput[['prediction_date','asset_name','prediction_name' ,prediction_name]])\n",
    "    print(\"================================================================================================\")\n",
    "\n",
    "    \n",
    "    #get actual data since the fist day of input and the last day of output(if covered)\n",
    "    startFinData=dfInput.index.min().strftime('%Y-%m-%d')\n",
    "    endFindData=dfOutput.index.max().strftime('%Y-%m-%d')\n",
    "    print(f\"3.Get Real Data  to compare to prediction from {startFinData} to {endFindData}\")\n",
    "\n",
    "    sqlData=f\"\"\"\n",
    "    select Date as {date_col},{prediction_name}, ImportDateTime, from `{table_data_id}` \n",
    "    where (Date>='{startFinData}' and Date<='{endFindData}') and Symbol='{asset_name}'\n",
    "    order by ImportDateTime,Date\n",
    "    \"\"\"\n",
    "    print(sqlData)\n",
    "\n",
    "    dfRealData=load_data_bq(sqlData)\n",
    "    dfRealData=dfRealData.drop_duplicates(subset=[date_col],keep='last',)\n",
    "    dfRealData[date_col]=pd.to_datetime(dfRealData[date_col],format='%Y-%m-%d')\n",
    "    dfRealData.set_index(date_col,inplace=True)\n",
    "    \n",
    "    print(dfRealData.info())\n",
    "    print(dfRealData[[prediction_name]])\n",
    "    print(\"================================================================================================\")\n",
    "\n",
    "    return {'actual_price':dfRealData,'input':dfInput,'output':dfOutput }\n",
    "\n",
    "\n",
    "print(f\"================Get data from {startX}====to==={endX}================\")\n",
    "request={'start_date':startX,'end_date':endX,'prediction_name':prediction,'asset_name':asset_name,'model_id':model_id}\n",
    "data=get_forecasting_result_data(request)\n",
    "print(f\"=======================================================================\")"
   ]
  },
  {
   "cell_type": "markdown",
   "id": "e5051678-ffb7-4d67-be3a-da1ef00d08cb",
   "metadata": {},
   "source": [
    "# Create Predictive and Actual Value dataframe"
   ]
  },
  {
   "cell_type": "code",
   "execution_count": 14,
   "id": "9785fb22-818b-499f-9fb1-85fb8063d517",
   "metadata": {
    "tags": []
   },
   "outputs": [
    {
     "name": "stdout",
     "output_type": "stream",
     "text": [
      "<DateArray>\n",
      "[datetime.date(2023, 5, 31),  datetime.date(2023, 6, 1),\n",
      "  datetime.date(2023, 6, 2)]\n",
      "Length: 3, dtype: dbdate\n"
     ]
    }
   ],
   "source": [
    "myTradingDataList=data['output']['prediction_date'].unique()\n",
    "print(myTradingDataList)"
   ]
  },
  {
   "cell_type": "code",
   "execution_count": 15,
   "id": "8fb89caf-45e7-4339-be0b-12012bb96884",
   "metadata": {
    "tags": []
   },
   "outputs": [
    {
     "name": "stdout",
     "output_type": "stream",
     "text": [
      "========================Actual Price========================\n",
      "=========================2023-05-31=========================\n",
      "        date  pred_value  actual_value prediction_date\n",
      "0 2023-06-01  420.234497      417.4988      2023-05-31\n",
      "1 2023-06-02  417.737549      419.3935      2023-05-31\n",
      "2 2023-06-05  418.551666      420.7947      2023-05-31\n",
      "3 2023-06-06  417.915009      422.1102      2023-05-31\n",
      "4 2023-06-07  422.082550      422.9174      2023-05-31\n",
      "5 2023-06-08  420.300049      424.0486      2023-05-31\n",
      "6 2023-06-09  419.826813      425.1037      2023-05-31\n",
      "7 2023-06-12  421.301178      426.7027      2023-05-31\n",
      "8 2023-06-13  421.392426      428.5123      2023-05-31\n",
      "9 2023-06-14  420.813263      430.0882      2023-05-31\n",
      "=========================2023-06-01=========================\n",
      "        date  pred_value  actual_value prediction_date\n",
      "0 2023-06-02  420.573883      419.3935      2023-06-01\n",
      "1 2023-06-05  418.026276      420.7947      2023-06-01\n",
      "2 2023-06-06  418.890198      422.1102      2023-06-01\n",
      "3 2023-06-07  418.228180      422.9174      2023-06-01\n",
      "4 2023-06-08  422.556335      424.0486      2023-06-01\n",
      "5 2023-06-09  420.740082      425.1037      2023-06-01\n",
      "6 2023-06-12  420.182312      426.7027      2023-06-01\n",
      "7 2023-06-13  421.635651      428.5123      2023-06-01\n",
      "8 2023-06-14  421.737762      430.0882      2023-06-01\n",
      "9 2023-06-15  421.214996      432.3631      2023-06-01\n",
      "=========================2023-06-02=========================\n",
      "        date  pred_value  actual_value prediction_date\n",
      "0 2023-06-05  423.474304      420.7947      2023-06-02\n",
      "1 2023-06-06  421.174652      422.1102      2023-06-02\n",
      "2 2023-06-07  422.262726      422.9174      2023-06-02\n",
      "3 2023-06-08  421.639557      424.0486      2023-06-02\n",
      "4 2023-06-09  426.032318      425.1037      2023-06-02\n",
      "5 2023-06-12  424.441925      426.7027      2023-06-02\n",
      "6 2023-06-13  424.050262      428.5123      2023-06-02\n",
      "7 2023-06-14  425.004089      430.0882      2023-06-02\n",
      "8 2023-06-15  425.052002      432.3631      2023-06-02\n",
      "9 2023-06-16  424.626312      433.6472      2023-06-02\n",
      "========================All values dataframe========================\n",
      "<class 'pandas.core.frame.DataFrame'>\n",
      "RangeIndex: 30 entries, 0 to 29\n",
      "Data columns (total 4 columns):\n",
      " #   Column           Non-Null Count  Dtype         \n",
      "---  ------           --------------  -----         \n",
      " 0   date             30 non-null     datetime64[ns]\n",
      " 1   pred_value       30 non-null     float64       \n",
      " 2   actual_value     30 non-null     float64       \n",
      " 3   prediction_date  30 non-null     object        \n",
      "dtypes: datetime64[ns](1), float64(2), object(1)\n",
      "memory usage: 1.1+ KB\n",
      "None\n",
      "         date  pred_value  actual_value prediction_date\n",
      "0  2023-06-01  420.234497      417.4988      2023-05-31\n",
      "1  2023-06-02  417.737549      419.3935      2023-05-31\n",
      "2  2023-06-05  418.551666      420.7947      2023-05-31\n",
      "3  2023-06-06  417.915009      422.1102      2023-05-31\n",
      "4  2023-06-07  422.082550      422.9174      2023-05-31\n",
      "5  2023-06-08  420.300049      424.0486      2023-05-31\n",
      "6  2023-06-09  419.826813      425.1037      2023-05-31\n",
      "7  2023-06-12  421.301178      426.7027      2023-05-31\n",
      "8  2023-06-13  421.392426      428.5123      2023-05-31\n",
      "9  2023-06-14  420.813263      430.0882      2023-05-31\n",
      "10 2023-06-02  420.573883      419.3935      2023-06-01\n",
      "11 2023-06-05  418.026276      420.7947      2023-06-01\n",
      "12 2023-06-06  418.890198      422.1102      2023-06-01\n",
      "13 2023-06-07  418.228180      422.9174      2023-06-01\n",
      "14 2023-06-08  422.556335      424.0486      2023-06-01\n",
      "15 2023-06-09  420.740082      425.1037      2023-06-01\n",
      "16 2023-06-12  420.182312      426.7027      2023-06-01\n",
      "17 2023-06-13  421.635651      428.5123      2023-06-01\n",
      "18 2023-06-14  421.737762      430.0882      2023-06-01\n",
      "19 2023-06-15  421.214996      432.3631      2023-06-01\n",
      "20 2023-06-05  423.474304      420.7947      2023-06-02\n",
      "21 2023-06-06  421.174652      422.1102      2023-06-02\n",
      "22 2023-06-07  422.262726      422.9174      2023-06-02\n",
      "23 2023-06-08  421.639557      424.0486      2023-06-02\n",
      "24 2023-06-09  426.032318      425.1037      2023-06-02\n",
      "25 2023-06-12  424.441925      426.7027      2023-06-02\n",
      "26 2023-06-13  424.050262      428.5123      2023-06-02\n",
      "27 2023-06-14  425.004089      430.0882      2023-06-02\n",
      "28 2023-06-15  425.052002      432.3631      2023-06-02\n",
      "29 2023-06-16  424.626312      433.6472      2023-06-02\n"
     ]
    }
   ],
   "source": [
    "dfAllForecastResult=pd.DataFrame(columns=['date','pred_value','actual_value','prediction_date'])\n",
    "\n",
    "print(f\"========================Actual Price========================\")\n",
    "dfX=data['actual_price'][[prediction]]\n",
    "dfX.columns=[f'actual_value']\n",
    "# print(dfX)\n",
    "\n",
    "# actually , we can jon without spilting data by prediction_dtate\n",
    "for date in  myTradingDataList: # trading day on giver week\n",
    "    print(f\"========================={date}=========================\")\n",
    "    dfPred=data['output'].query(\"prediction_date==@date\")[[prediction]]\n",
    "    dfPred.columns=[f'pred_value']\n",
    "    # print(dfPred)\n",
    "\n",
    "    dfCompare=pd.merge(left=dfPred,right=dfX,how='inner',right_index=True,left_index=True)\n",
    "    dfCompare.reset_index(inplace=True)   \n",
    "    dfCompare['prediction_date']=date.strftime('%Y-%m-%d')      \n",
    "    print(dfCompare) \n",
    "    # print(dfCompare.info())\n",
    "\n",
    "    dfAllForecastResult= pd.concat([dfAllForecastResult,dfCompare],ignore_index=True)\n",
    "    \n",
    "    \n",
    "print(\"========================All values dataframe========================\")\n",
    "print(dfAllForecastResult.info())\n",
    "print(dfAllForecastResult)"
   ]
  },
  {
   "cell_type": "markdown",
   "id": "56adbf50-b5f9-4788-a1d1-e15effc86e3f",
   "metadata": {},
   "source": [
    "# Calculate Metric"
   ]
  },
  {
   "cell_type": "markdown",
   "id": "200bb009-2934-403c-99be-f18c8231a1cc",
   "metadata": {},
   "source": [
    "## Get sum distance between pred and actul value from prev rows"
   ]
  },
  {
   "cell_type": "code",
   "execution_count": 16,
   "id": "7f072e08-3757-4ce5-9564-7b6c9a09ab0d",
   "metadata": {
    "tags": []
   },
   "outputs": [
    {
     "name": "stdout",
     "output_type": "stream",
     "text": [
      "\n",
      "with pred_actual_by_model as  \n",
      "(\n",
      "SELECT  detail.actual_value,detail.pred_value\n",
      "from `pongthorn.FinAssetForecast.model_forecast_performance`  t\n",
      " cross join unnest(t.pred_actual_data) as detail\n",
      " where t.model_id='spy-ema1-60t10-ds0115t0523' and t.collection_timestamp<'2023-06-03 00:00:00'\n",
      ")\n",
      "select COALESCE( sum(abs(x.actual_value-x.pred_value)),0) as pred_diff_actual,count(*) as no_row  from pred_actual_by_model  x\n",
      "\n",
      "\n",
      "\n",
      "Prev Sum=0.0 and Count=0\n"
     ]
    }
   ],
   "source": [
    "sqlMetric=f\"\"\"\n",
    "with pred_actual_by_model as  \n",
    "(\n",
    "SELECT  detail.actual_value,detail.pred_value\n",
    "from `pongthorn.FinAssetForecast.model_forecast_performance`  t\n",
    " cross join unnest(t.pred_actual_data) as detail\n",
    " where t.model_id='{model_id}' and t.collection_timestamp<'{log_timestamp}'\n",
    ")\n",
    "select COALESCE( sum(abs(x.actual_value-x.pred_value)),0) as pred_diff_actual,count(*) as no_row  from pred_actual_by_model  x\n",
    "\n",
    "\n",
    "\"\"\"\n",
    "\n",
    "if genTableSchema==False:\n",
    "    print(sqlMetric)\n",
    "\n",
    "    dfMetric=load_data_bq(sqlMetric)\n",
    "    prevSum=dfMetric.iloc[0,0]\n",
    "    prevCount=dfMetric.iloc[0,1]\n",
    "\n",
    "else:\n",
    "# for generating table schema\n",
    "    prevSum=0\n",
    "    prevCount=0\n",
    "\n",
    "print(f\"Prev Sum={prevSum} and Count={prevCount}\")"
   ]
  },
  {
   "cell_type": "markdown",
   "id": "90c5e088-d020-45c8-a9a8-4e9407906acd",
   "metadata": {
    "tags": []
   },
   "source": [
    "## Cal sum distance between pred and actul value from last rows"
   ]
  },
  {
   "cell_type": "code",
   "execution_count": 17,
   "id": "7d7ffc03-db16-4c83-b897-e454134c6761",
   "metadata": {
    "tags": []
   },
   "outputs": [
    {
     "name": "stdout",
     "output_type": "stream",
     "text": [
      "Recent Sum=128.84238286119978 and Count=30\n",
      "mae = 4.29\n"
     ]
    }
   ],
   "source": [
    "dfAllForecastResult['pred_diff_actual']=dfAllForecastResult.apply(lambda x : abs(x['pred_value']-x['actual_value']),axis=1)\n",
    "recentSum=dfAllForecastResult['pred_diff_actual'].sum()\n",
    "recentCount=len(dfAllForecastResult)\n",
    "\n",
    "dfAllForecastResult=dfAllForecastResult.drop(columns=['pred_diff_actual'])\n",
    "print(f\"Recent Sum={recentSum} and Count={recentCount}\")\n",
    "\n",
    "#https://en.wikipedia.org/wiki/Mean_absolute_error\n",
    "metric_value= round((prevSum+recentSum)/(prevCount+recentCount),2)\n",
    "print(f\"{metric_name} = {metric_value}\")"
   ]
  },
  {
   "cell_type": "markdown",
   "id": "7ec25219-a1f1-4c3a-a018-0de174dfc669",
   "metadata": {
    "tags": []
   },
   "source": [
    "# Create Collection Performance Info Dataframe and Store \n"
   ]
  },
  {
   "cell_type": "code",
   "execution_count": 18,
   "id": "fd483982-7abe-481c-8167-1c72f8409981",
   "metadata": {
    "tags": []
   },
   "outputs": [
    {
     "name": "stdout",
     "output_type": "stream",
     "text": [
      "<class 'pandas.core.frame.DataFrame'>\n",
      "RangeIndex: 1 entries, 0 to 0\n",
      "Data columns (total 5 columns):\n",
      " #   Column                Non-Null Count  Dtype         \n",
      "---  ------                --------------  -----         \n",
      " 0   collection_date       1 non-null      datetime64[ns]\n",
      " 1   model_id              1 non-null      object        \n",
      " 2   metric_name           1 non-null      object        \n",
      " 3   metric_value          1 non-null      float64       \n",
      " 4   collection_timestamp  1 non-null      datetime64[ns]\n",
      "dtypes: datetime64[ns](2), float64(1), object(2)\n",
      "memory usage: 168.0+ bytes\n",
      "None\n",
      "  collection_date                    model_id metric_name  metric_value  \\\n",
      "0      2023-06-03  spy-ema1-60t10-ds0115t0523         mae          4.29   \n",
      "\n",
      "  collection_timestamp  \n",
      "0           2023-06-03  \n"
     ]
    }
   ],
   "source": [
    "df=pd.DataFrame(data=[ [log_date,model_id,metric_name,metric_value,log_timestamp] ],\n",
    "                columns=[\"collection_date\",\"model_id\",\"metric_name\",\"metric_value\",\"collection_timestamp\"])\n",
    "print(df.info())\n",
    "print(df)\n"
   ]
  },
  {
   "cell_type": "code",
   "execution_count": 19,
   "id": "d6f7c353-748e-4500-b9b8-d699b936b5a7",
   "metadata": {
    "tags": []
   },
   "outputs": [],
   "source": [
    "dictCollectPerf[model_id]=(df,dfAllForecastResult)"
   ]
  },
  {
   "cell_type": "code",
   "execution_count": 20,
   "id": "80938791-97c6-418b-b8ef-2b7ba22f75b8",
   "metadata": {},
   "outputs": [],
   "source": [
    "# uncomment\n",
    "#return f\"gather data of {model_id}\""
   ]
  },
  {
   "cell_type": "markdown",
   "id": "c0bd8275-9727-4bcf-a4b0-2896df68a404",
   "metadata": {},
   "source": [
    "# End Loop"
   ]
  },
  {
   "cell_type": "code",
   "execution_count": 24,
   "id": "0b8ac5f9-c720-4f56-aba8-912f19c244f5",
   "metadata": {},
   "outputs": [],
   "source": [
    "# Iterate over model list\n",
    "# uncomment\n",
    "# for modelID in modelList:\n",
    "# # indent\n",
    "#   print(process_data(modelID))\n",
    "#   print(\"#########################################################\")"
   ]
  },
  {
   "cell_type": "code",
   "execution_count": null,
   "id": "95eda9aa-aaa0-4a99-aa03-0026e6fa4616",
   "metadata": {},
   "outputs": [],
   "source": []
  },
  {
   "cell_type": "markdown",
   "id": "9a5ffae7-8549-4e7c-b919-b90ce1f920e0",
   "metadata": {},
   "source": [
    "# Create Json Data "
   ]
  },
  {
   "cell_type": "code",
   "execution_count": 25,
   "id": "c6c87e63-04de-4c19-a831-26fc21241612",
   "metadata": {
    "tags": []
   },
   "outputs": [
    {
     "name": "stdout",
     "output_type": "stream",
     "text": [
      "spy-ema1-60t10-ds0115t0523\n"
     ]
    }
   ],
   "source": [
    "jsonDataList=[]\n",
    "for model_id,dataTuple in  dictCollectPerf.items():\n",
    "    print(model_id)\n",
    "    \n",
    "    masterDF=dataTuple[0]\n",
    "    masterDF[\"collection_date\"]=masterDF[\"collection_date\"].dt.strftime('%Y-%m-%d')\n",
    "    masterDF[\"collection_timestamp\"]=masterDF[\"collection_timestamp\"].dt.strftime('%Y-%m-%d %H:%M:%S')\n",
    "    master_perf = json.loads(masterDF.to_json(orient = 'records'))[0] # 1 main dataframe has 1 records\n",
    "    \n",
    "    detailDF=dataTuple[1]  \n",
    "    # print(detailDF.info())\n",
    "    \n",
    "    #detailDF[\"prediction_date\"]=detailDF[\"prediction_date\"].dt.strftime('%Y-%m-%d')\n",
    "    detailDF[\"date\"]=detailDF[\"date\"].dt.strftime('%Y-%m-%d')\n",
    "    \n",
    "    detail_perf= json.loads(detailDF.to_json(orient = 'records'))\n",
    "    master_perf[\"pred_actual_data\"]=detail_perf\n",
    "    \n",
    "    jsonDataList.append(master_perf)\n",
    "    \n",
    "# with open(\"fin_forecast_performance.json\", \"w\") as outfile:\n",
    "#     json.dump( jsonDataList, outfile)"
   ]
  },
  {
   "cell_type": "code",
   "execution_count": null,
   "id": "5083681a-8987-4bea-93b2-d6d52aac936c",
   "metadata": {},
   "outputs": [],
   "source": []
  },
  {
   "cell_type": "markdown",
   "id": "f8bb797d-d12d-48d7-9787-384823c9ddf3",
   "metadata": {},
   "source": [
    "# Ingest Data to BigQuery"
   ]
  },
  {
   "cell_type": "markdown",
   "id": "8dc85496-fac5-406a-a281-822cae395bf9",
   "metadata": {},
   "source": [
    "## Try to ingest data to get correct schema and copy the schema to create table including partion/cluster manually"
   ]
  },
  {
   "cell_type": "code",
   "execution_count": 26,
   "id": "7a8fddac-312e-400e-8b55-6391b73559b5",
   "metadata": {},
   "outputs": [
    {
     "name": "stdout",
     "output_type": "stream",
     "text": [
      "Table pongthorn.FinAssetForecast.fin_movement_forecast already exists.\n",
      "Import to bigquery successfully  1 records\n"
     ]
    }
   ],
   "source": [
    "try:\n",
    "    table=client.get_table(table_perf_id)\n",
    "    print(\"Table {} already exists.\".format(table_id))\n",
    "    # print(table.schema)\n",
    "except Exception as ex :\n",
    "    print(str(ex))\n",
    "    \n",
    "job_config = bigquery.LoadJobConfig()\n",
    "\n",
    "job_config.source_format = bigquery.SourceFormat.NEWLINE_DELIMITED_JSON\n",
    "\n",
    "# Try to ingest data to get correct schema and copy the schema to create table including partiion/cluster manually\n",
    "job_config.write_disposition = bigquery.WriteDisposition.WRITE_APPEND \n",
    "\n",
    "\n",
    "job = client.load_table_from_json(jsonDataList,table_perf_id, job_config = job_config)\n",
    "if job.errors is not None:\n",
    "    print(job.error_result)\n",
    "    print(job.errors)\n",
    "    # uncomment\n",
    "    # return \"Error to load data to BigQuery\"\n",
    "else:\n",
    "    print(f\"Import to bigquery successfully  {len(jsonDataList)} records\")\n",
    "    \n",
    "#job_config.schema\n",
    "# truncate table`pongthorn.FinAssetForecast.model_forecast_performance` "
   ]
  },
  {
   "cell_type": "code",
   "execution_count": 27,
   "id": "f54298d5-6437-40ac-bbc7-ea2ff03eae6e",
   "metadata": {},
   "outputs": [],
   "source": [
    "# uncomment\n",
    "#return 'completely'"
   ]
  },
  {
   "cell_type": "code",
   "execution_count": null,
   "id": "31b6fa76-afff-421f-ba7a-9fb587776730",
   "metadata": {},
   "outputs": [],
   "source": []
  },
  {
   "cell_type": "code",
   "execution_count": 28,
   "id": "b6e5c796-ff17-4fd3-8b33-21dfccce4321",
   "metadata": {},
   "outputs": [],
   "source": [
    "# uncomment\n",
    "# Main \n",
    "# print(\"Collect prediction result to monitor performance model\")\n",
    "# listLogDate=['2023-06-03 00:00','2023-06-10 00:00'] \n",
    "# for  d in listLogDate:\n",
    "#   print(collect_prediction_result(d))\n",
    "#   print(\"************************************************************************************************\")\n",
    "        "
   ]
  },
  {
   "cell_type": "code",
   "execution_count": null,
   "id": "d7ee397d-ca12-4600-a26e-cb9dc4deb32c",
   "metadata": {},
   "outputs": [],
   "source": []
  }
 ],
 "metadata": {
  "kernelspec": {
   "display_name": "Python 3 (ipykernel)",
   "language": "python",
   "name": "python3"
  },
  "language_info": {
   "codemirror_mode": {
    "name": "ipython",
    "version": 3
   },
   "file_extension": ".py",
   "mimetype": "text/x-python",
   "name": "python",
   "nbconvert_exporter": "python",
   "pygments_lexer": "ipython3",
   "version": "3.10.12"
  }
 },
 "nbformat": 4,
 "nbformat_minor": 5
}
