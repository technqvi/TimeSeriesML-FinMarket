{
 "cells": [
  {
   "cell_type": "code",
   "execution_count": 191,
   "id": "164a4014-3aad-47de-9c62-911d3d5a82ab",
   "metadata": {},
   "outputs": [],
   "source": [
    "import pandas as pd\n",
    "import numpy as np\n",
    "import os\n",
    "from datetime import datetime,date,timedelta,timezone\n",
    "import calendar\n",
    "import json\n",
    "\n",
    "\n",
    "from google.cloud import bigquery\n",
    "from google.oauth2 import service_account\n",
    "from google.cloud.exceptions import NotFound\n",
    "from google.api_core.exceptions import BadRequest\n",
    "\n"
   ]
  },
  {
   "cell_type": "code",
   "execution_count": 192,
   "id": "70179656-b3c0-4034-b606-9e856e4b62c4",
   "metadata": {
    "tags": []
   },
   "outputs": [],
   "source": [
    "collectionDate='2023-09-02 00:00' # comment\n",
    "# uncomment and indent\n",
    "# import functions_framework\n",
    "# @functions_framework.http\n",
    "# def collect_prediction_result(request):   # run on clound function\n",
    "\n",
    "# def collect_prediction_result(collectionDate): # migrate\n"
   ]
  },
  {
   "cell_type": "markdown",
   "id": "c5a7e353-6409-4a1e-952e-a1e7375f706f",
   "metadata": {},
   "source": [
    "# Dict To store all collective data"
   ]
  },
  {
   "cell_type": "code",
   "execution_count": 193,
   "id": "257e216f-9287-4c5f-9583-de881d10695f",
   "metadata": {
    "tags": []
   },
   "outputs": [],
   "source": [
    "dictCollectPerf={}"
   ]
  },
  {
   "cell_type": "markdown",
   "id": "05b906bf-b946-449a-a3a7-94c204799c86",
   "metadata": {},
   "source": [
    "# Init parameter"
   ]
  },
  {
   "cell_type": "code",
   "execution_count": 221,
   "id": "ec00a87e-4070-4933-9ee4-09b2f986649d",
   "metadata": {
    "tags": []
   },
   "outputs": [
    {
     "name": "stdout",
     "output_type": "stream",
     "text": [
      "Date to collect data on 2023-09-02 Saturday(Idx:5) at 2023-09-02 00:00:00\n",
      "week_day=5 and last_trading_day_of_week=1\n"
     ]
    }
   ],
   "source": [
    "# uncomment\n",
    "mode=1 # 2 for prodictoin 1 for test/migrate \n",
    "#modelList=['spy-ema1-60t10-ds0115t0523','qqq-ema1-30t5-ds0115t0523','spy-signal-60t10-ds0115t0523']\n",
    "\n",
    "# comment\n",
    "#model_id='spy-ema1-60t10-ds0115t0523'\n",
    "#model_id='qqq-ema1-30t5-ds0115t0523'\n",
    "model_id=\"spy-signal-60t10-ds0115t0523\"\n",
    "\n",
    "if mode==1: # Migrate to backfill data and Test \n",
    "    logDate=collectionDate\n",
    "    log_date=datetime.strptime(logDate,'%Y-%m-%d %H:%M')\n",
    "    log_timestamp=datetime.strptime(logDate,'%Y-%m-%d %H:%M')\n",
    "else: # On weekly basis\n",
    "    log_timestamp=datetime.now(timezone.utc)\n",
    "    log_date=datetime.strptime(log_timestamp.strftime('%Y-%m-%d'),'%Y-%m-%d')\n",
    "\n",
    "week_day=log_date.weekday()\n",
    "day_name=calendar.day_name[log_date.weekday()]\n",
    "\n",
    "print(f\"Date to collect data on {log_date.strftime('%Y-%m-%d')} {day_name}(Idx:{week_day}) at {log_timestamp}\")\n",
    "\n",
    "if  week_day==5:\n",
    "    last_trading_day_of_week=1\n",
    "else:\n",
    "    # comment\n",
    "    raise Exception(\"Saturday is allowed  as Collection Date for forcasting result.\")   \n",
    "    # uncomment\n",
    "    # return \"Saturday is allowed  as Collection Date for forcasting result.\"  \n",
    "\n",
    "print(f\"week_day={week_day} and last_trading_day_of_week={last_trading_day_of_week}\")\n",
    "\n",
    "genTableSchema=False\n",
    "metric_name='mae'\n"
   ]
  },
  {
   "cell_type": "markdown",
   "id": "99a40750-7bfa-4761-a618-bf8135c0616b",
   "metadata": {},
   "source": [
    "# BigQuery Setting & Configuration Variable"
   ]
  },
  {
   "cell_type": "code",
   "execution_count": 222,
   "id": "6630349a-f4ae-4673-8d01-c7a3f842ea17",
   "metadata": {
    "tags": []
   },
   "outputs": [
    {
     "name": "stdout",
     "output_type": "stream",
     "text": [
      "pongthorn.FinAssetForecast.fin_movement_forecast\n",
      "pongthorn.FinAssetForecast.fin_data\n",
      "pongthorn.FinAssetForecast.model_ts_metadata\n",
      "pongthorn.FinAssetForecast.model_forecast_performance\n"
     ]
    }
   ],
   "source": [
    "date_col='date'\n",
    "projectId='pongthorn'\n",
    "dataset_id='FinAssetForecast'\n",
    "\n",
    "table_data_id=f\"{projectId}.{dataset_id}.fin_data\"\n",
    "table_id = f\"{projectId}.{dataset_id}.fin_movement_forecast\"\n",
    "table_model_id= f\"{projectId}.{dataset_id}.model_ts_metadata\"\n",
    "\n",
    "table_perf_id= f\"{projectId}.{dataset_id}.model_forecast_performance\"\n",
    "\n",
    "print(table_id)\n",
    "print(table_data_id)\n",
    "print(table_model_id)\n",
    "print(table_perf_id)\n",
    "\n",
    "client = bigquery.Client(project=projectId )\n",
    "\n",
    "def load_data_bq(sql:str):\n",
    "    query_result=client.query(sql)\n",
    "    df=query_result.to_dataframe()\n",
    "    return df"
   ]
  },
  {
   "cell_type": "markdown",
   "id": "d09509b0-df8c-44d3-8a6c-ff5642b7d98a",
   "metadata": {},
   "source": []
  },
  {
   "cell_type": "markdown",
   "id": "f7552d58-047a-4738-804b-490f34468b08",
   "metadata": {},
   "source": [
    "# Create Start to End Date By Getting Last Date of Week"
   ]
  },
  {
   "cell_type": "code",
   "execution_count": 223,
   "id": "af8ef5bf-e1f7-4633-a265-9d57e403cc97",
   "metadata": {
    "tags": []
   },
   "outputs": [
    {
     "name": "stdout",
     "output_type": "stream",
     "text": [
      "Collection data from Monday 28-08-2023 to Friday 01-09-2023\n",
      "Convert start and end data 2023-08-28 - 2023-09-01 to string\n"
     ]
    }
   ],
   "source": [
    "# get  prev prediction  from  get end prediction to beginneg or predicton of week \n",
    "endX=log_date+timedelta(days=-last_trading_day_of_week)\n",
    "startX=endX+timedelta(days=1)+timedelta(days=-5)\n",
    "print(f\"Collection data from {startX.strftime('%A %d-%m-%Y')} to {endX.strftime('%A %d-%m-%Y')}\")\n",
    "\n",
    "endX=endX.strftime('%Y-%m-%d')\n",
    "startX=startX.strftime('%Y-%m-%d')\n",
    "\n",
    "print(f\"Convert start and end data {startX} - {endX} to string\")"
   ]
  },
  {
   "cell_type": "markdown",
   "id": "ce80e154-d966-434f-9213-0c19d719ed83",
   "metadata": {},
   "source": [
    "# Start Loop"
   ]
  },
  {
   "cell_type": "code",
   "execution_count": 224,
   "id": "c609e849-435b-400c-ac02-a5249cce9fdd",
   "metadata": {
    "tags": []
   },
   "outputs": [
    {
     "name": "stdout",
     "output_type": "stream",
     "text": [
      "Collect data : spy-signal-60t10-ds0115t0523 \n"
     ]
    }
   ],
   "source": [
    "# uncomment  and indent\n",
    "# def process_data(model_id):\n",
    "print(f\"Collect data : {model_id} \")"
   ]
  },
  {
   "cell_type": "markdown",
   "id": "6cafb7e6-e876-4327-9747-8d1181c39881",
   "metadata": {},
   "source": [
    "# Check where the given date collected data or not?"
   ]
  },
  {
   "cell_type": "code",
   "execution_count": 225,
   "id": "421f8e88-996d-41ad-8388-fae8bef117dc",
   "metadata": {
    "tags": []
   },
   "outputs": [
    {
     "name": "stdout",
     "output_type": "stream",
     "text": [
      "\n",
      "select collection_timestamp from `pongthorn.FinAssetForecast.model_forecast_performance`\n",
      "where date(collection_timestamp)='2023-09-02' and model_id='spy-signal-60t10-ds0115t0523'\n",
      "\n",
      "We are ready to Collect data on 2023-09-02 00:00:00\n"
     ]
    }
   ],
   "source": [
    "# this verions , it will check once , it is assumes that  all models have been collected data at once.\n",
    "# sqlCheck=f\"\"\"\n",
    "# select collection_timestamp from `{table_perf_id}`\n",
    "# where date(collection_timestamp)='{log_date.strftime('%Y-%m-%d')}'\n",
    "# \"\"\"\n",
    "# this version , it will check on each model invidually\n",
    "# you can move it inside def process\n",
    "sqlCheck=f\"\"\"\n",
    "select collection_timestamp from `{table_perf_id}`\n",
    "where date(collection_timestamp)='{log_date.strftime('%Y-%m-%d')}' and model_id='{model_id}'\n",
    "\"\"\"\n",
    "\n",
    "print(sqlCheck)\n",
    "dfCheckDate=load_data_bq(sqlCheck)\n",
    "if  dfCheckDate.empty==False:\n",
    "    print(f\"Collection data on {log_date} for {model_id} found, no any action\")\n",
    "    # uncomment\n",
    "    #return f\"Collection data on {log_date} for {model_id} found, no any action\"\n",
    "else:\n",
    "    print(f\"We are ready to Collect data on {log_date}\")"
   ]
  },
  {
   "cell_type": "markdown",
   "id": "95fac79b-f3e3-420c-af2f-a9f2355e3d7d",
   "metadata": {},
   "source": [
    "# Get Model Meta"
   ]
  },
  {
   "cell_type": "code",
   "execution_count": 226,
   "id": "6af8a0f4-ebd7-44ce-9317-9eef92d360e4",
   "metadata": {},
   "outputs": [
    {
     "name": "stdout",
     "output_type": "stream",
     "text": [
      "\n",
      "    SELECT * FROM `pongthorn.FinAssetForecast.model_ts_metadata`  where model_id='spy-signal-60t10-ds0115t0523'\n",
      "    \n",
      "model_id                                       spy-signal-60t10-ds0115t0523\n",
      "asset                                                                   SPY\n",
      "prediction                                                           SIGNAL\n",
      "input_sequence_length                                                    60\n",
      "output_sequence_length                                                   10\n",
      "gs_model_path              gs://demo-ts-forecast-pongthorn/model_spy_signal\n",
      "local_model_path                                     model/model_spy_signal\n",
      "model_file                       SIGNAL_60To10_SPY_E150S20-Y2015-2023_ma.h5\n",
      "scaler_file                  scaler_SIGNAL_60To10_SPY_E150S20-Y2015-2023.gz\n",
      "scaler_pred_file          scaler_pred_SIGNAL_60To10_SPY_E150S20-Y2015-20...\n",
      "Name: 0, dtype: object\n"
     ]
    }
   ],
   "source": [
    "def get_model_metadata(model_id):\n",
    "    sqlModelMt=f\"\"\"\n",
    "    SELECT * FROM `{table_model_id}`  where model_id='{model_id}'\n",
    "    \"\"\"\n",
    "    print(sqlModelMt)\n",
    "    dfModelMeta=load_data_bq(sqlModelMt)\n",
    "    return  dfModelMeta\n",
    "\n",
    "dfModelMeta=get_model_metadata(model_id)\n",
    "\n",
    "if dfModelMeta.empty==False:\n",
    "    modelMeta=dfModelMeta.iloc[0,:]\n",
    "    print(modelMeta)\n",
    "    asset_name=modelMeta['asset']\n",
    "    prediction=modelMeta['prediction']\n",
    "else: \n",
    "    raise Exception(f\"Not found model id  {model_id}\")"
   ]
  },
  {
   "cell_type": "markdown",
   "id": "7e8201bb-91d8-4e3e-80da-20e7d61b25ba",
   "metadata": {},
   "source": [
    "# Retrive forecasting result data to Dictionary"
   ]
  },
  {
   "cell_type": "code",
   "execution_count": 227,
   "id": "001948b5-8ef8-46d7-af6e-53b2ef82ce0a",
   "metadata": {},
   "outputs": [
    {
     "name": "stdout",
     "output_type": "stream",
     "text": [
      "================Get data from 2023-08-28====to===2023-09-01================\n",
      "1.How far in advance does model want to  make prediction\n",
      "\n",
      "    select t.prediction_date, t.pred_timestamp,t.asset_name,t.prediction_name,\n",
      "    t_pred.output_date as date,t_pred.output_value as SIGNAL\n",
      "    from  `pongthorn.FinAssetForecast.fin_movement_forecast` t\n",
      "    cross join unnest(t.prediction_result) t_pred\n",
      "    where (t.prediction_date>='2023-08-28' and  t.prediction_date<='2023-09-01')\n",
      "    and t.model_id='spy-signal-60t10-ds0115t0523'\n",
      "    order by  t.prediction_date,t_pred.output_date\n",
      "    \n",
      "output_sequence_length=50\n",
      "<class 'pandas.core.frame.DataFrame'>\n",
      "DatetimeIndex: 50 entries, 2023-08-29 to 2023-09-18\n",
      "Data columns (total 5 columns):\n",
      " #   Column           Non-Null Count  Dtype              \n",
      "---  ------           --------------  -----              \n",
      " 0   prediction_date  50 non-null     dbdate             \n",
      " 1   pred_timestamp   50 non-null     datetime64[us, UTC]\n",
      " 2   asset_name       50 non-null     object             \n",
      " 3   prediction_name  50 non-null     object             \n",
      " 4   SIGNAL           50 non-null     float64            \n",
      "dtypes: datetime64[us, UTC](1), dbdate(1), float64(1), object(2)\n",
      "memory usage: 2.3+ KB\n",
      "None\n",
      "           prediction_date asset_name prediction_name    SIGNAL\n",
      "date                                                           \n",
      "2023-08-29      2023-08-28        SPY          SIGNAL -2.481979\n",
      "2023-08-30      2023-08-28        SPY          SIGNAL -2.933412\n",
      "2023-08-31      2023-08-28        SPY          SIGNAL -3.308313\n",
      "2023-09-01      2023-08-28        SPY          SIGNAL -3.584684\n",
      "2023-09-05      2023-08-28        SPY          SIGNAL -3.716958\n",
      "2023-09-06      2023-08-28        SPY          SIGNAL -3.777962\n",
      "2023-09-07      2023-08-28        SPY          SIGNAL -3.823692\n",
      "2023-09-08      2023-08-28        SPY          SIGNAL -3.797781\n",
      "2023-09-11      2023-08-28        SPY          SIGNAL -3.768486\n",
      "2023-09-12      2023-08-28        SPY          SIGNAL -3.630977\n",
      "2023-08-30      2023-08-29        SPY          SIGNAL -2.497502\n",
      "2023-08-31      2023-08-29        SPY          SIGNAL -2.889642\n",
      "2023-09-01      2023-08-29        SPY          SIGNAL -3.231037\n",
      "2023-09-05      2023-08-29        SPY          SIGNAL -3.486491\n",
      "2023-09-06      2023-08-29        SPY          SIGNAL -3.603402\n",
      "2023-09-07      2023-08-29        SPY          SIGNAL -3.647860\n",
      "2023-09-08      2023-08-29        SPY          SIGNAL -3.675272\n",
      "2023-09-11      2023-08-29        SPY          SIGNAL -3.640126\n",
      "2023-09-12      2023-08-29        SPY          SIGNAL -3.597409\n",
      "2023-09-13      2023-08-29        SPY          SIGNAL -3.477621\n",
      "2023-08-31      2023-08-30        SPY          SIGNAL -1.547354\n",
      "2023-09-01      2023-08-30        SPY          SIGNAL -1.502047\n",
      "2023-09-05      2023-08-30        SPY          SIGNAL -1.490647\n",
      "2023-09-06      2023-08-30        SPY          SIGNAL -1.422935\n",
      "2023-09-07      2023-08-30        SPY          SIGNAL -1.264982\n",
      "2023-09-08      2023-08-30        SPY          SIGNAL -1.053334\n",
      "2023-09-11      2023-08-30        SPY          SIGNAL -0.885211\n",
      "2023-09-12      2023-08-30        SPY          SIGNAL -0.689890\n",
      "2023-09-13      2023-08-30        SPY          SIGNAL -0.541128\n",
      "2023-09-14      2023-08-30        SPY          SIGNAL -0.355173\n",
      "2023-09-01      2023-08-31        SPY          SIGNAL -0.926174\n",
      "2023-09-05      2023-08-31        SPY          SIGNAL -0.575783\n",
      "2023-09-06      2023-08-31        SPY          SIGNAL -0.281425\n",
      "2023-09-07      2023-08-31        SPY          SIGNAL  0.053887\n",
      "2023-09-08      2023-08-31        SPY          SIGNAL  0.440873\n",
      "2023-09-11      2023-08-31        SPY          SIGNAL  0.857221\n",
      "2023-09-12      2023-08-31        SPY          SIGNAL  1.185692\n",
      "2023-09-13      2023-08-31        SPY          SIGNAL  1.529311\n",
      "2023-09-14      2023-08-31        SPY          SIGNAL  1.754573\n",
      "2023-09-15      2023-08-31        SPY          SIGNAL  2.028921\n",
      "2023-09-05      2023-09-01        SPY          SIGNAL -1.445582\n",
      "2023-09-06      2023-09-01        SPY          SIGNAL -1.318155\n",
      "2023-09-07      2023-09-01        SPY          SIGNAL -1.166972\n",
      "2023-09-08      2023-09-01        SPY          SIGNAL -0.962845\n",
      "2023-09-11      2023-09-01        SPY          SIGNAL -0.682770\n",
      "2023-09-12      2023-09-01        SPY          SIGNAL -0.382685\n",
      "2023-09-13      2023-09-01        SPY          SIGNAL -0.132230\n",
      "2023-09-14      2023-09-01        SPY          SIGNAL  0.154154\n",
      "2023-09-15      2023-09-01        SPY          SIGNAL  0.334535\n",
      "2023-09-18      2023-09-01        SPY          SIGNAL  0.599507\n",
      "================================================================================================\n",
      "2.Get Real Data  to compare to prediction from 2023-08-29 to 2023-09-18\n",
      "\n",
      "    select Date as date,SIGNAL, ImportDateTime, from `pongthorn.FinAssetForecast.fin_data` \n",
      "    where (Date>='2023-08-29' and Date<='2023-09-18') and Symbol='SPY'\n",
      "    order by ImportDateTime,Date\n",
      "    \n",
      "<class 'pandas.core.frame.DataFrame'>\n",
      "DatetimeIndex: 4 entries, 2023-08-29 to 2023-09-01\n",
      "Data columns (total 2 columns):\n",
      " #   Column          Non-Null Count  Dtype         \n",
      "---  ------          --------------  -----         \n",
      " 0   SIGNAL          4 non-null      float64       \n",
      " 1   ImportDateTime  4 non-null      datetime64[us]\n",
      "dtypes: datetime64[us](1), float64(1)\n",
      "memory usage: 96.0 bytes\n",
      "None\n",
      "            SIGNAL\n",
      "date              \n",
      "2023-08-29 -2.1338\n",
      "2023-08-30 -1.9440\n",
      "2023-08-31 -1.7029\n",
      "2023-09-01 -1.6574\n",
      "================================================================================================\n",
      "=======================================================================\n"
     ]
    }
   ],
   "source": [
    "def get_forecasting_result_data(request):\n",
    "\n",
    "    if   request is not None:  \n",
    "        start_date=request[\"start_date\"]\n",
    "        end_date=request[\"end_date\"]\n",
    "        prediction_name=request[\"prediction_name\"]\n",
    "        asset_name=request[\"asset_name\"]\n",
    "        model_id=request[\"model_id\"]\n",
    "    else:\n",
    "        raise Exception(\"No request parameters such as start_date,prediction_name,asset_name\")\n",
    "\n",
    "    \n",
    "    print(\"1.How far in advance does model want to  make prediction\")\n",
    "    sqlOutput=f\"\"\"\n",
    "    select t.prediction_date, t.pred_timestamp,t.asset_name,t.prediction_name,\n",
    "    t_pred.output_date as {date_col},t_pred.output_value as {prediction_name}\n",
    "    from  `{table_id}` t\n",
    "    cross join unnest(t.prediction_result) t_pred\n",
    "    where (t.prediction_date>='{start_date}' and  t.prediction_date<='{end_date}')\n",
    "    and t.model_id='{model_id}'\n",
    "    order by  t.prediction_date,t_pred.output_date\n",
    "    \"\"\"\n",
    "    print(sqlOutput)\n",
    "    dfOutput=load_data_bq(sqlOutput)\n",
    "    # dfOutput=dfOutput.drop_duplicates(subset=[date_col,'asset_name','prediction_name'],keep='last',)\n",
    "    # dfOutput=dfOutput.drop_duplicates(subset=[date_col],keep='last',)\n",
    "    dfOutput[date_col]=pd.to_datetime(dfOutput[date_col],format='%Y-%m-%d')\n",
    "    dfOutput.set_index(date_col,inplace=True)\n",
    "\n",
    "    output_sequence_length=len(dfOutput)\n",
    "    print(f\"output_sequence_length={output_sequence_length}\")\n",
    "    \n",
    "\n",
    "    print(dfOutput.info())\n",
    "    print(dfOutput[['prediction_date','asset_name','prediction_name' ,prediction_name]])\n",
    "    print(\"================================================================================================\")\n",
    "\n",
    "    \n",
    "    #get actual data since the fist day of input and the last day of output(if covered)\n",
    "    startFinData=dfOutput.index.min().strftime('%Y-%m-%d')\n",
    "    endFindData=dfOutput.index.max().strftime('%Y-%m-%d')\n",
    "    print(f\"2.Get Real Data  to compare to prediction from {startFinData} to {endFindData}\")\n",
    "\n",
    "    sqlData=f\"\"\"\n",
    "    select Date as {date_col},{prediction_name}, ImportDateTime, from `{table_data_id}` \n",
    "    where (Date>='{startFinData}' and Date<='{endFindData}') and Symbol='{asset_name}'\n",
    "    order by ImportDateTime,Date\n",
    "    \"\"\"\n",
    "    print(sqlData)\n",
    "\n",
    "    dfRealData=load_data_bq(sqlData)\n",
    "    dfRealData=dfRealData.drop_duplicates(subset=[date_col],keep='last',)\n",
    "    dfRealData[date_col]=pd.to_datetime(dfRealData[date_col],format='%Y-%m-%d')\n",
    "    dfRealData.set_index(date_col,inplace=True)\n",
    "    \n",
    "    print(dfRealData.info())\n",
    "    print(dfRealData[[prediction_name]])\n",
    "    print(\"================================================================================================\")\n",
    "\n",
    "    return {'actual_price':dfRealData,'output':dfOutput }\n",
    "\n",
    "\n",
    "print(f\"================Get data from {startX}====to==={endX}================\")\n",
    "request={'start_date':startX,'end_date':endX,'prediction_name':prediction,'asset_name':asset_name,'model_id':model_id}\n",
    "data=get_forecasting_result_data(request)\n",
    "print(f\"=======================================================================\")"
   ]
  },
  {
   "cell_type": "markdown",
   "id": "e5051678-ffb7-4d67-be3a-da1ef00d08cb",
   "metadata": {},
   "source": [
    "# Create Predictive and Actual Value dataframe"
   ]
  },
  {
   "cell_type": "code",
   "execution_count": 228,
   "id": "9785fb22-818b-499f-9fb1-85fb8063d517",
   "metadata": {
    "tags": []
   },
   "outputs": [
    {
     "name": "stdout",
     "output_type": "stream",
     "text": [
      "List all trading day in the week\n",
      "<DateArray>\n",
      "[datetime.date(2023, 8, 28), datetime.date(2023, 8, 29),\n",
      " datetime.date(2023, 8, 30), datetime.date(2023, 8, 31),\n",
      "  datetime.date(2023, 9, 1)]\n",
      "Length: 5, dtype: dbdate\n"
     ]
    }
   ],
   "source": [
    "print(\"List all trading day in the week\")\n",
    "myTradingDataList=data['output']['prediction_date'].unique()\n",
    "print(myTradingDataList)"
   ]
  },
  {
   "cell_type": "code",
   "execution_count": 229,
   "id": "8fb89caf-45e7-4339-be0b-12012bb96884",
   "metadata": {
    "tags": []
   },
   "outputs": [
    {
     "name": "stdout",
     "output_type": "stream",
     "text": [
      "========================dfX :Actual Price========================\n",
      "<class 'pandas.core.frame.DataFrame'>\n",
      "DatetimeIndex: 4 entries, 2023-08-29 to 2023-09-01\n",
      "Data columns (total 1 columns):\n",
      " #   Column        Non-Null Count  Dtype  \n",
      "---  ------        --------------  -----  \n",
      " 0   actual_value  4 non-null      float64\n",
      "dtypes: float64(1)\n",
      "memory usage: 64.0 bytes\n",
      "None\n",
      "=========================dfPred:Predicted Price at 2023-08-28=========================\n",
      "<class 'pandas.core.frame.DataFrame'>\n",
      "DatetimeIndex: 10 entries, 2023-08-29 to 2023-09-12\n",
      "Data columns (total 1 columns):\n",
      " #   Column      Non-Null Count  Dtype  \n",
      "---  ------      --------------  -----  \n",
      " 0   pred_value  10 non-null     float64\n",
      "dtypes: float64(1)\n",
      "memory usage: 160.0 bytes\n",
      "None\n",
      "=====================dfCompare:Join Actual price to Predicted Price=================\n",
      "        date  pred_value  actual_value prediction_date\n",
      "0 2023-08-29   -2.481979       -2.1338      2023-08-28\n",
      "1 2023-08-30   -2.933412       -1.9440      2023-08-28\n",
      "2 2023-08-31   -3.308313       -1.7029      2023-08-28\n",
      "3 2023-09-01   -3.584684       -1.6574      2023-08-28\n",
      "<class 'pandas.core.frame.DataFrame'>\n",
      "RangeIndex: 4 entries, 0 to 3\n",
      "Data columns (total 4 columns):\n",
      " #   Column           Non-Null Count  Dtype         \n",
      "---  ------           --------------  -----         \n",
      " 0   date             4 non-null      datetime64[ns]\n",
      " 1   pred_value       4 non-null      float64       \n",
      " 2   actual_value     4 non-null      float64       \n",
      " 3   prediction_date  4 non-null      object        \n",
      "dtypes: datetime64[ns](1), float64(2), object(1)\n",
      "memory usage: 256.0+ bytes\n",
      "None\n",
      "=========================Appended Data Joined=========================\n",
      "=========================dfPred:Predicted Price at 2023-08-29=========================\n",
      "<class 'pandas.core.frame.DataFrame'>\n",
      "DatetimeIndex: 10 entries, 2023-08-30 to 2023-09-13\n",
      "Data columns (total 1 columns):\n",
      " #   Column      Non-Null Count  Dtype  \n",
      "---  ------      --------------  -----  \n",
      " 0   pred_value  10 non-null     float64\n",
      "dtypes: float64(1)\n",
      "memory usage: 160.0 bytes\n",
      "None\n",
      "=====================dfCompare:Join Actual price to Predicted Price=================\n",
      "        date  pred_value  actual_value prediction_date\n",
      "0 2023-08-30   -2.497502       -1.9440      2023-08-29\n",
      "1 2023-08-31   -2.889642       -1.7029      2023-08-29\n",
      "2 2023-09-01   -3.231037       -1.6574      2023-08-29\n",
      "<class 'pandas.core.frame.DataFrame'>\n",
      "RangeIndex: 3 entries, 0 to 2\n",
      "Data columns (total 4 columns):\n",
      " #   Column           Non-Null Count  Dtype         \n",
      "---  ------           --------------  -----         \n",
      " 0   date             3 non-null      datetime64[ns]\n",
      " 1   pred_value       3 non-null      float64       \n",
      " 2   actual_value     3 non-null      float64       \n",
      " 3   prediction_date  3 non-null      object        \n",
      "dtypes: datetime64[ns](1), float64(2), object(1)\n",
      "memory usage: 224.0+ bytes\n",
      "None\n",
      "=========================Appended Data Joined=========================\n",
      "=========================dfPred:Predicted Price at 2023-08-30=========================\n",
      "<class 'pandas.core.frame.DataFrame'>\n",
      "DatetimeIndex: 10 entries, 2023-08-31 to 2023-09-14\n",
      "Data columns (total 1 columns):\n",
      " #   Column      Non-Null Count  Dtype  \n",
      "---  ------      --------------  -----  \n",
      " 0   pred_value  10 non-null     float64\n",
      "dtypes: float64(1)\n",
      "memory usage: 160.0 bytes\n",
      "None\n",
      "=====================dfCompare:Join Actual price to Predicted Price=================\n",
      "        date  pred_value  actual_value prediction_date\n",
      "0 2023-08-31   -1.547354       -1.7029      2023-08-30\n",
      "1 2023-09-01   -1.502047       -1.6574      2023-08-30\n",
      "<class 'pandas.core.frame.DataFrame'>\n",
      "RangeIndex: 2 entries, 0 to 1\n",
      "Data columns (total 4 columns):\n",
      " #   Column           Non-Null Count  Dtype         \n",
      "---  ------           --------------  -----         \n",
      " 0   date             2 non-null      datetime64[ns]\n",
      " 1   pred_value       2 non-null      float64       \n",
      " 2   actual_value     2 non-null      float64       \n",
      " 3   prediction_date  2 non-null      object        \n",
      "dtypes: datetime64[ns](1), float64(2), object(1)\n",
      "memory usage: 192.0+ bytes\n",
      "None\n",
      "=========================Appended Data Joined=========================\n",
      "=========================dfPred:Predicted Price at 2023-08-31=========================\n",
      "<class 'pandas.core.frame.DataFrame'>\n",
      "DatetimeIndex: 10 entries, 2023-09-01 to 2023-09-15\n",
      "Data columns (total 1 columns):\n",
      " #   Column      Non-Null Count  Dtype  \n",
      "---  ------      --------------  -----  \n",
      " 0   pred_value  10 non-null     float64\n",
      "dtypes: float64(1)\n",
      "memory usage: 160.0 bytes\n",
      "None\n",
      "=====================dfCompare:Join Actual price to Predicted Price=================\n",
      "        date  pred_value  actual_value prediction_date\n",
      "0 2023-09-01   -0.926174       -1.6574      2023-08-31\n",
      "<class 'pandas.core.frame.DataFrame'>\n",
      "RangeIndex: 1 entries, 0 to 0\n",
      "Data columns (total 4 columns):\n",
      " #   Column           Non-Null Count  Dtype         \n",
      "---  ------           --------------  -----         \n",
      " 0   date             1 non-null      datetime64[ns]\n",
      " 1   pred_value       1 non-null      float64       \n",
      " 2   actual_value     1 non-null      float64       \n",
      " 3   prediction_date  1 non-null      object        \n",
      "dtypes: datetime64[ns](1), float64(2), object(1)\n",
      "memory usage: 160.0+ bytes\n",
      "None\n",
      "=========================Appended Data Joined=========================\n",
      "=========================dfPred:Predicted Price at 2023-09-01=========================\n",
      "<class 'pandas.core.frame.DataFrame'>\n",
      "DatetimeIndex: 10 entries, 2023-09-05 to 2023-09-18\n",
      "Data columns (total 1 columns):\n",
      " #   Column      Non-Null Count  Dtype  \n",
      "---  ------      --------------  -----  \n",
      " 0   pred_value  10 non-null     float64\n",
      "dtypes: float64(1)\n",
      "memory usage: 160.0 bytes\n",
      "None\n",
      "=====================dfCompare:Join Actual price to Predicted Price=================\n",
      "Empty DataFrame\n",
      "Columns: [date, pred_value, actual_value, prediction_date]\n",
      "Index: []\n",
      "<class 'pandas.core.frame.DataFrame'>\n",
      "RangeIndex: 0 entries\n",
      "Data columns (total 4 columns):\n",
      " #   Column           Non-Null Count  Dtype  \n",
      "---  ------           --------------  -----  \n",
      " 0   date             0 non-null      int64  \n",
      " 1   pred_value       0 non-null      float64\n",
      " 2   actual_value     0 non-null      float64\n",
      " 3   prediction_date  0 non-null      object \n",
      "dtypes: float64(2), int64(1), object(1)\n",
      "memory usage: 124.0+ bytes\n",
      "None\n",
      "No Appendind Data due to no at least one record to show actual vs pred\n",
      "========================dfAllForecastResult: All Predicton Result========================\n",
      "<class 'pandas.core.frame.DataFrame'>\n",
      "RangeIndex: 10 entries, 0 to 9\n",
      "Data columns (total 4 columns):\n",
      " #   Column           Non-Null Count  Dtype         \n",
      "---  ------           --------------  -----         \n",
      " 0   date             10 non-null     datetime64[ns]\n",
      " 1   pred_value       10 non-null     float64       \n",
      " 2   actual_value     10 non-null     float64       \n",
      " 3   prediction_date  10 non-null     object        \n",
      "dtypes: datetime64[ns](1), float64(2), object(1)\n",
      "memory usage: 448.0+ bytes\n",
      "None\n",
      "        date  pred_value  actual_value prediction_date\n",
      "0 2023-08-29   -2.481979       -2.1338      2023-08-28\n",
      "1 2023-08-30   -2.933412       -1.9440      2023-08-28\n",
      "2 2023-08-31   -3.308313       -1.7029      2023-08-28\n",
      "3 2023-09-01   -3.584684       -1.6574      2023-08-28\n",
      "4 2023-08-30   -2.497502       -1.9440      2023-08-29\n",
      "5 2023-08-31   -2.889642       -1.7029      2023-08-29\n",
      "6 2023-09-01   -3.231037       -1.6574      2023-08-29\n",
      "7 2023-08-31   -1.547354       -1.7029      2023-08-30\n",
      "8 2023-09-01   -1.502047       -1.6574      2023-08-30\n",
      "9 2023-09-01   -0.926174       -1.6574      2023-08-31\n"
     ]
    }
   ],
   "source": [
    "dfAllForecastResult=pd.DataFrame(columns=['date','pred_value','actual_value','prediction_date'])\n",
    "\n",
    "print(f\"========================dfX :Actual Price========================\")\n",
    "dfX=data['actual_price'][[prediction]]\n",
    "dfX.columns=[f'actual_value']\n",
    "print(dfX.info())\n",
    "\n",
    "# actually , we can jon without spilting data by prediction_dtate\n",
    "for date in  myTradingDataList: # trading day on giver week\n",
    "    print(f\"=========================dfPred:Predicted Price at {date}=========================\")\n",
    "    dfPred=data['output'].query(\"prediction_date==@date\")[[prediction]]\n",
    "    dfPred.columns=[f'pred_value']\n",
    "\n",
    "    print(dfPred.info())\n",
    "\n",
    "    print(\"=====================dfCompare:Join Actual price to Predicted Price=================\")\n",
    "    dfCompare=pd.merge(left=dfPred,right=dfX,how='inner',right_index=True,left_index=True)\n",
    "    dfCompare.reset_index(inplace=True)   \n",
    "    dfCompare['prediction_date']=date.strftime('%Y-%m-%d')      \n",
    "    print(dfCompare) \n",
    "    print(dfCompare.info())\n",
    "\n",
    "    if len(dfCompare)>0 : # it will be join if there is at least one record to show actual vs pred\n",
    "        dfAllForecastResult= pd.concat([dfAllForecastResult,dfCompare],ignore_index=True)\n",
    "        print(f\"=========================Appended Data Joined=========================\")\n",
    "    else:\n",
    "        print(\"No Appendind Data due to no at least one record to show actual vs pred\")  \n",
    "    \n",
    "print(\"========================dfAllForecastResult: All Predicton Result========================\")\n",
    "print(dfAllForecastResult.info())\n",
    "print(dfAllForecastResult)"
   ]
  },
  {
   "cell_type": "markdown",
   "id": "56adbf50-b5f9-4788-a1d1-e15effc86e3f",
   "metadata": {},
   "source": [
    "# Calculate Metric"
   ]
  },
  {
   "cell_type": "markdown",
   "id": "200bb009-2934-403c-99be-f18c8231a1cc",
   "metadata": {},
   "source": [
    "## Get sum distance between pred and actul value from prev rows"
   ]
  },
  {
   "cell_type": "code",
   "execution_count": 230,
   "id": "7f072e08-3757-4ce5-9564-7b6c9a09ab0d",
   "metadata": {
    "tags": []
   },
   "outputs": [
    {
     "name": "stdout",
     "output_type": "stream",
     "text": [
      "\n",
      "with pred_actual_by_model as  \n",
      "(\n",
      "SELECT  detail.actual_value,detail.pred_value\n",
      "from `pongthorn.FinAssetForecast.model_forecast_performance`  t\n",
      " cross join unnest(t.pred_actual_data) as detail\n",
      " where t.model_id='spy-signal-60t10-ds0115t0523' and t.collection_timestamp<'2023-09-02 00:00:00'\n",
      ")\n",
      "select COALESCE( sum(abs(x.actual_value-x.pred_value)),0) as pred_diff_actual,count(*) as no_row  from pred_actual_by_model  x\n",
      "\n",
      "\n",
      "\n",
      "Prev Sum=583.2716247067 and Count=595\n"
     ]
    }
   ],
   "source": [
    "sqlMetric=f\"\"\"\n",
    "with pred_actual_by_model as  \n",
    "(\n",
    "SELECT  detail.actual_value,detail.pred_value\n",
    "from `{table_perf_id}`  t\n",
    " cross join unnest(t.pred_actual_data) as detail\n",
    " where t.model_id='{model_id}' and t.collection_timestamp<'{log_timestamp}'\n",
    ")\n",
    "select COALESCE( sum(abs(x.actual_value-x.pred_value)),0) as pred_diff_actual,count(*) as no_row  from pred_actual_by_model  x\n",
    "\n",
    "\n",
    "\"\"\"\n",
    "\n",
    "if genTableSchema==False:\n",
    "    print(sqlMetric)\n",
    "\n",
    "    dfMetric=load_data_bq(sqlMetric)\n",
    "    prevSum=dfMetric.iloc[0,0]\n",
    "    prevCount=dfMetric.iloc[0,1]\n",
    "\n",
    "else:  # it is used if there are something changed in table schema\n",
    "# for generating table schema\n",
    "    prevSum=0\n",
    "    prevCount=0\n",
    "\n",
    "print(f\"Prev Sum={prevSum} and Count={prevCount}\")"
   ]
  },
  {
   "cell_type": "markdown",
   "id": "90c5e088-d020-45c8-a9a8-4e9407906acd",
   "metadata": {
    "tags": []
   },
   "source": [
    "## Cal sum distance between pred and actul value from last rows"
   ]
  },
  {
   "cell_type": "code",
   "execution_count": 231,
   "id": "7d7ffc03-db16-4c83-b897-e454134c6761",
   "metadata": {
    "tags": []
   },
   "outputs": [
    {
     "name": "stdout",
     "output_type": "stream",
     "text": [
      "Recent Sum=9.2262935976 and Count=10\n",
      "mae = 0.98\n"
     ]
    }
   ],
   "source": [
    "dfAllForecastResult['pred_diff_actual']=dfAllForecastResult.apply(lambda x : abs(x['pred_value']-x['actual_value']),axis=1)\n",
    "recentSum=dfAllForecastResult['pred_diff_actual'].sum()\n",
    "recentCount=len(dfAllForecastResult)\n",
    "\n",
    "dfAllForecastResult=dfAllForecastResult.drop(columns=['pred_diff_actual'])\n",
    "print(f\"Recent Sum={recentSum} and Count={recentCount}\")\n",
    "\n",
    "#https://en.wikipedia.org/wiki/Mean_absolute_error\n",
    "metric_value= round((prevSum+recentSum)/(prevCount+recentCount),2)\n",
    "print(f\"{metric_name} = {metric_value}\")"
   ]
  },
  {
   "cell_type": "markdown",
   "id": "7ec25219-a1f1-4c3a-a018-0de174dfc669",
   "metadata": {
    "tags": []
   },
   "source": [
    "# Create Collection Performance Info Dataframe and Store \n"
   ]
  },
  {
   "cell_type": "code",
   "execution_count": 232,
   "id": "fd483982-7abe-481c-8167-1c72f8409981",
   "metadata": {
    "tags": []
   },
   "outputs": [
    {
     "name": "stdout",
     "output_type": "stream",
     "text": [
      "<class 'pandas.core.frame.DataFrame'>\n",
      "RangeIndex: 1 entries, 0 to 0\n",
      "Data columns (total 5 columns):\n",
      " #   Column                Non-Null Count  Dtype         \n",
      "---  ------                --------------  -----         \n",
      " 0   collection_date       1 non-null      datetime64[ns]\n",
      " 1   model_id              1 non-null      object        \n",
      " 2   metric_name           1 non-null      object        \n",
      " 3   metric_value          1 non-null      float64       \n",
      " 4   collection_timestamp  1 non-null      datetime64[ns]\n",
      "dtypes: datetime64[ns](2), float64(1), object(2)\n",
      "memory usage: 168.0+ bytes\n",
      "None\n",
      "  collection_date                      model_id metric_name  metric_value  \\\n",
      "0      2023-09-02  spy-signal-60t10-ds0115t0523         mae          0.98   \n",
      "\n",
      "  collection_timestamp  \n",
      "0           2023-09-02  \n"
     ]
    }
   ],
   "source": [
    "df=pd.DataFrame(data=[ [log_date,model_id,metric_name,metric_value,log_timestamp] ],\n",
    "                columns=[\"collection_date\",\"model_id\",\"metric_name\",\"metric_value\",\"collection_timestamp\"])\n",
    "print(df.info())\n",
    "print(df)\n"
   ]
  },
  {
   "cell_type": "code",
   "execution_count": 233,
   "id": "d6f7c353-748e-4500-b9b8-d699b936b5a7",
   "metadata": {
    "tags": []
   },
   "outputs": [],
   "source": [
    "dictCollectPerf[model_id]=(df,dfAllForecastResult)"
   ]
  },
  {
   "cell_type": "code",
   "execution_count": 237,
   "id": "80938791-97c6-418b-b8ef-2b7ba22f75b8",
   "metadata": {},
   "outputs": [],
   "source": [
    "# uncomment\n",
    "#return f\"gather data of {model_id}\"\n"
   ]
  },
  {
   "cell_type": "markdown",
   "id": "c0bd8275-9727-4bcf-a4b0-2896df68a404",
   "metadata": {},
   "source": [
    "# End Loop"
   ]
  },
  {
   "cell_type": "code",
   "execution_count": 238,
   "id": "0b8ac5f9-c720-4f56-aba8-912f19c244f5",
   "metadata": {},
   "outputs": [],
   "source": [
    "# Iterate over model list\n",
    "# uncomment\n",
    "# for modelID in modelList:\n",
    "# # indent\n",
    "#   print(process_data(modelID))\n",
    "#   print(\"#########################################################\")"
   ]
  },
  {
   "cell_type": "code",
   "execution_count": null,
   "id": "95eda9aa-aaa0-4a99-aa03-0026e6fa4616",
   "metadata": {},
   "outputs": [],
   "source": []
  },
  {
   "cell_type": "markdown",
   "id": "9a5ffae7-8549-4e7c-b919-b90ce1f920e0",
   "metadata": {},
   "source": [
    "# Create Json Data "
   ]
  },
  {
   "cell_type": "code",
   "execution_count": 239,
   "id": "c6c87e63-04de-4c19-a831-26fc21241612",
   "metadata": {
    "tags": []
   },
   "outputs": [
    {
     "name": "stdout",
     "output_type": "stream",
     "text": [
      "qqq-ema1-30t5-ds0115t0523\n",
      "spy-ema1-60t10-ds0115t0523\n",
      "spy-signal-60t10-ds0115t0523\n"
     ]
    }
   ],
   "source": [
    "jsonDataList=[]\n",
    "for model_id,dataTuple in  dictCollectPerf.items():\n",
    "    print(model_id)\n",
    "    \n",
    "    masterDF=dataTuple[0]\n",
    "    masterDF[\"collection_date\"]=masterDF[\"collection_date\"].dt.strftime('%Y-%m-%d')\n",
    "    masterDF[\"collection_timestamp\"]=masterDF[\"collection_timestamp\"].dt.strftime('%Y-%m-%d %H:%M:%S')\n",
    "    master_perf = json.loads(masterDF.to_json(orient = 'records'))[0] # 1 main dataframe has 1 records\n",
    "    \n",
    "    detailDF=dataTuple[1]  \n",
    "    # print(detailDF.info())\n",
    "    \n",
    "    #detailDF[\"prediction_date\"]=detailDF[\"prediction_date\"].dt.strftime('%Y-%m-%d')\n",
    "    detailDF[\"date\"]=detailDF[\"date\"].dt.strftime('%Y-%m-%d')\n",
    "    \n",
    "    detail_perf= json.loads(detailDF.to_json(orient = 'records'))\n",
    "    master_perf[\"pred_actual_data\"]=detail_perf\n",
    "    \n",
    "    jsonDataList.append(master_perf)\n",
    "    \n",
    "with open(\"fin_forecast_performance.json\", \"w\") as outfile:\n",
    "    json.dump( jsonDataList, outfile)"
   ]
  },
  {
   "cell_type": "code",
   "execution_count": null,
   "id": "5083681a-8987-4bea-93b2-d6d52aac936c",
   "metadata": {},
   "outputs": [],
   "source": []
  },
  {
   "cell_type": "markdown",
   "id": "f8bb797d-d12d-48d7-9787-384823c9ddf3",
   "metadata": {},
   "source": [
    "# Ingest Data to BigQuery"
   ]
  },
  {
   "cell_type": "markdown",
   "id": "8dc85496-fac5-406a-a281-822cae395bf9",
   "metadata": {},
   "source": [
    "## Try to ingest data to get correct schema and copy the schema to create table including partion/cluster manually"
   ]
  },
  {
   "cell_type": "code",
   "execution_count": 240,
   "id": "7a8fddac-312e-400e-8b55-6391b73559b5",
   "metadata": {},
   "outputs": [
    {
     "name": "stdout",
     "output_type": "stream",
     "text": [
      "Table pongthorn.FinAssetForecast.fin_movement_forecast already exists.\n",
      "Import to bigquery successfully  3 records\n"
     ]
    }
   ],
   "source": [
    "try:\n",
    "    table=client.get_table(table_perf_id)\n",
    "    print(\"Table {} already exists.\".format(table_id))\n",
    "    # print(table.schema)\n",
    "except Exception as ex :\n",
    "    print(str(ex))\n",
    "    \n",
    "job_config = bigquery.LoadJobConfig()\n",
    "\n",
    "job_config.source_format = bigquery.SourceFormat.NEWLINE_DELIMITED_JSON\n",
    "\n",
    "# Try to ingest data to get correct schema and copy the schema to create table including partiion/cluster manually\n",
    "job_config.write_disposition = bigquery.WriteDisposition.WRITE_APPEND \n",
    "\n",
    "\n",
    "job = client.load_table_from_json(jsonDataList,table_perf_id, job_config = job_config)\n",
    "if job.errors is not None:\n",
    "    print(job.error_result)\n",
    "    print(job.errors)\n",
    "    # uncomment\n",
    "    # return \"Error to load data to BigQuery\"\n",
    "else:\n",
    "    print(f\"Import to bigquery successfully  {len(jsonDataList)} records\")\n",
    "    \n",
    "#job_config.schema\n",
    "# truncate table`pongthorn.FinAssetForecast.model_forecast_performance` "
   ]
  },
  {
   "cell_type": "code",
   "execution_count": 27,
   "id": "f54298d5-6437-40ac-bbc7-ea2ff03eae6e",
   "metadata": {},
   "outputs": [],
   "source": [
    "# uncomment\n",
    "#return 'completely'"
   ]
  },
  {
   "cell_type": "code",
   "execution_count": null,
   "id": "31b6fa76-afff-421f-ba7a-9fb587776730",
   "metadata": {},
   "outputs": [],
   "source": []
  },
  {
   "cell_type": "code",
   "execution_count": 28,
   "id": "b6e5c796-ff17-4fd3-8b33-21dfccce4321",
   "metadata": {},
   "outputs": [],
   "source": [
    "# uncomment\n",
    "# Main \n",
    "# print(\"Collect prediction result to monitor performance model\")\n",
    "\n",
    "# multiple items\n",
    "# listLogDate=[\n",
    "#     '2023-06-03 00:00','2023-06-10 00:00','2023-06-17 00:00','2023-06-24 00:00',\n",
    "#     '2023-07-01 00:00','2023-07-08 00:00','2023-07-15 00:00','2023-07-22 00:00','2023-07-29 00:00',\n",
    "#     '2023-08-05 00:00','2023-08-12 00:00','2023-08-19 00:00','2023-08-26 00:00','2023-09-02 00:00',\n",
    "#     ] \n",
    "# listLogDate=[\n",
    "#      '2023-08-05 00:00','2023-08-12 00:00','2023-08-19 00:00','2023-08-26 00:00','2023-09-02 00:00'\n",
    "# ]\n",
    "# for  d in listLogDate:\n",
    "#   print(f\"*******************************Collect prediction result as of {d}*****************************************\")\n",
    "#   print(collect_prediction_result(d))\n",
    "#   print(\"************************************************************************************************\")\n",
    "\n",
    "# sigle item\n",
    "# collectionDate='2023-08-26 00:00' # comment    \n",
    "# print(collect_prediction_result(collectionDate))\n"
   ]
  },
  {
   "cell_type": "code",
   "execution_count": null,
   "id": "d7ee397d-ca12-4600-a26e-cb9dc4deb32c",
   "metadata": {},
   "outputs": [],
   "source": []
  }
 ],
 "metadata": {
  "kernelspec": {
   "display_name": "Python 3 (ipykernel)",
   "language": "python",
   "name": "python3"
  },
  "language_info": {
   "codemirror_mode": {
    "name": "ipython",
    "version": 3
   },
   "file_extension": ".py",
   "mimetype": "text/x-python",
   "name": "python",
   "nbconvert_exporter": "python",
   "pygments_lexer": "ipython3",
   "version": "3.10.12"
  }
 },
 "nbformat": 4,
 "nbformat_minor": 5
}
