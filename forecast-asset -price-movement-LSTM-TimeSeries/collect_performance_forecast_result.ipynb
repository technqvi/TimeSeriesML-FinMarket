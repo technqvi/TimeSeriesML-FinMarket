{
 "cells": [
  {
   "cell_type": "code",
   "execution_count": 1,
   "id": "164a4014-3aad-47de-9c62-911d3d5a82ab",
   "metadata": {},
   "outputs": [],
   "source": [
    "import pandas as pd\n",
    "import numpy as np\n",
    "import os\n",
    "from datetime import datetime,date,timedelta,timezone\n",
    "import calendar\n",
    "import json\n",
    "\n",
    "\n",
    "from google.cloud import bigquery\n",
    "from google.oauth2 import service_account\n",
    "from google.cloud.exceptions import NotFound\n",
    "from google.api_core.exceptions import BadRequest\n",
    "\n"
   ]
  },
  {
   "cell_type": "code",
   "execution_count": 2,
   "id": "70179656-b3c0-4034-b606-9e856e4b62c4",
   "metadata": {
    "tags": []
   },
   "outputs": [],
   "source": [
    "collectionDate='2023-09-02 00:00' # comment\n",
    "# uncomment and indent\n",
    "# import functions_framework\n",
    "# @functions_framework.http\n",
    "# def collect_prediction_result(request):   # run on clound function\n",
    "\n",
    "# def collect_prediction_result(collectionDate): # migrate\n"
   ]
  },
  {
   "cell_type": "markdown",
   "id": "c5a7e353-6409-4a1e-952e-a1e7375f706f",
   "metadata": {},
   "source": [
    "# Dict To store all collective data Mode To run Job"
   ]
  },
  {
   "cell_type": "code",
   "execution_count": 3,
   "id": "257e216f-9287-4c5f-9583-de881d10695f",
   "metadata": {
    "tags": []
   },
   "outputs": [],
   "source": [
    "dictCollectPerf={}\n",
    "\n",
    "# uncomment\n",
    "mode=1 # 2 for prodictoin 1 for test/migrate \n",
    "#modelList=['spy-ema1-60t10-ds0115t0523','qqq-ema1-30t5-ds0115t0523','spy-signal-60t10-ds0115t0523']\n",
    "\n",
    "# comment\n",
    "#model_id='spy-ema1-60t10-ds0115t0523'\n",
    "model_id='qqq-ema1-30t5-ds0115t0523'\n",
    "#model_id=\"spy-signal-60t10-ds0115t0523\""
   ]
  },
  {
   "cell_type": "markdown",
   "id": "05b906bf-b946-449a-a3a7-94c204799c86",
   "metadata": {},
   "source": [
    "# Init parameter"
   ]
  },
  {
   "cell_type": "code",
   "execution_count": 4,
   "id": "ec00a87e-4070-4933-9ee4-09b2f986649d",
   "metadata": {
    "tags": []
   },
   "outputs": [
    {
     "name": "stdout",
     "output_type": "stream",
     "text": [
      "Date to collect data on 2023-09-02 Saturday(Idx:5) at 2023-09-02 00:00:00\n",
      "week_day=5 and last_trading_day_of_week=1\n"
     ]
    }
   ],
   "source": [
    "if mode==1: # Migrate to backfill data and Test \n",
    "    logDate=collectionDate\n",
    "    log_date=datetime.strptime(logDate,'%Y-%m-%d %H:%M')\n",
    "    log_timestamp=datetime.strptime(logDate,'%Y-%m-%d %H:%M')\n",
    "else: # On weekly basis\n",
    "    log_timestamp=datetime.now(timezone.utc)\n",
    "    log_date=datetime.strptime(log_timestamp.strftime('%Y-%m-%d'),'%Y-%m-%d')\n",
    "\n",
    "week_day=log_date.weekday()\n",
    "day_name=calendar.day_name[log_date.weekday()]\n",
    "\n",
    "print(f\"Date to collect data on {log_date.strftime('%Y-%m-%d')} {day_name}(Idx:{week_day}) at {log_timestamp}\")\n",
    "#week_day=log_date.weekday() Sature=5  [0,1,2,3,4,5,6]\n",
    "\n",
    "if  week_day==5:\n",
    "    last_trading_day_of_week=1\n",
    "else:\n",
    "    # comment\n",
    "    raise Exception(\"Saturday is allowed  as Collection Date for forcasting result.\")   \n",
    "    # uncomment\n",
    "    # return \"Saturday is allowed  as Collection Date for forcasting result.\"  \n",
    "\n",
    "print(f\"week_day={week_day} and last_trading_day_of_week={last_trading_day_of_week}\")\n",
    "\n",
    "genTableSchema=True \n",
    "metric_name='mae'\n"
   ]
  },
  {
   "cell_type": "markdown",
   "id": "f7552d58-047a-4738-804b-490f34468b08",
   "metadata": {},
   "source": [
    "# Create Start to End Date By Getting Last Date of Week"
   ]
  },
  {
   "cell_type": "code",
   "execution_count": 5,
   "id": "a101f2e8-9a65-42b4-b2d7-41b72b835b27",
   "metadata": {
    "tags": []
   },
   "outputs": [
    {
     "name": "stdout",
     "output_type": "stream",
     "text": [
      "Collection data from Monday 28-08-2023 to Friday 01-09-2023\n",
      "Convert Start and End Date to gather data 2023-08-28 - 2023-09-01 to string\n"
     ]
    }
   ],
   "source": [
    "# get  prev prediction  from  get end prediction to beginneg or predicton of week \n",
    "endX=log_date+timedelta(days=-last_trading_day_of_week)\n",
    "startX=endX+timedelta(days=1)+timedelta(days=-5)\n",
    "print(f\"Collection data from {startX.strftime('%A %d-%m-%Y')} to {endX.strftime('%A %d-%m-%Y')}\")\n",
    "\n",
    "endX=endX.strftime('%Y-%m-%d')\n",
    "startX=startX.strftime('%Y-%m-%d')\n",
    "\n",
    "print(f\"Convert Start and End Date to gather data {startX} - {endX} to string\")"
   ]
  },
  {
   "cell_type": "markdown",
   "id": "99a40750-7bfa-4761-a618-bf8135c0616b",
   "metadata": {},
   "source": [
    "# BigQuery Setting & Configuration Variable"
   ]
  },
  {
   "cell_type": "code",
   "execution_count": 129,
   "id": "6630349a-f4ae-4673-8d01-c7a3f842ea17",
   "metadata": {
    "tags": []
   },
   "outputs": [
    {
     "name": "stdout",
     "output_type": "stream",
     "text": [
      "pongthorn.FinAssetForecast.fin_movement_forecast\n",
      "pongthorn.FinAssetForecast.fin_data\n",
      "pongthorn.FinAssetForecast.model_ts_metadata\n",
      "pongthorn.FinAssetForecast.model2_demo_forecast_performance\n"
     ]
    }
   ],
   "source": [
    "date_col='date'\n",
    "projectId='pongthorn'\n",
    "dataset_id='FinAssetForecast'\n",
    "\n",
    "table_data_id=f\"{projectId}.{dataset_id}.fin_data\"\n",
    "table_id = f\"{projectId}.{dataset_id}.fin_movement_forecast\"\n",
    "table_model_id= f\"{projectId}.{dataset_id}.model_ts_metadata\"\n",
    "\n",
    "table_perf_id= f\"{projectId}.{dataset_id}.model2_demo_forecast_performance\"\n",
    "\n",
    "print(table_id)\n",
    "print(table_data_id)\n",
    "print(table_model_id)\n",
    "print(table_perf_id)\n",
    "\n",
    "client = bigquery.Client(project=projectId )\n",
    "\n",
    "def load_data_bq(sql:str):\n",
    "    query_result=client.query(sql)\n",
    "    df=query_result.to_dataframe()\n",
    "    return df"
   ]
  },
  {
   "cell_type": "code",
   "execution_count": null,
   "id": "af8ef5bf-e1f7-4633-a265-9d57e403cc97",
   "metadata": {
    "tags": []
   },
   "outputs": [],
   "source": []
  },
  {
   "cell_type": "markdown",
   "id": "ce80e154-d966-434f-9213-0c19d719ed83",
   "metadata": {},
   "source": [
    "# Start Loop"
   ]
  },
  {
   "cell_type": "code",
   "execution_count": 130,
   "id": "c609e849-435b-400c-ac02-a5249cce9fdd",
   "metadata": {
    "tags": []
   },
   "outputs": [
    {
     "name": "stdout",
     "output_type": "stream",
     "text": [
      "Collect data : qqq-ema1-30t5-ds0115t0523 \n"
     ]
    }
   ],
   "source": [
    "# uncomment  and indent\n",
    "# def process_data(model_id):\n",
    "print(f\"Collect data : {model_id} \")"
   ]
  },
  {
   "cell_type": "markdown",
   "id": "6cafb7e6-e876-4327-9747-8d1181c39881",
   "metadata": {},
   "source": [
    "# Check where the given date collected data or not?"
   ]
  },
  {
   "cell_type": "code",
   "execution_count": 131,
   "id": "421f8e88-996d-41ad-8388-fae8bef117dc",
   "metadata": {
    "tags": []
   },
   "outputs": [],
   "source": [
    "# this verions , it will check once , it is assumes that  all models have been collected data at once.\n",
    "# sqlCheck=f\"\"\"\n",
    "# select collection_timestamp from `{table_perf_id}`\n",
    "# where date(collection_timestamp)='{log_date.strftime('%Y-%m-%d')}'\n",
    "# \"\"\"\n",
    "# this version , it will check on each model invidually\n",
    "# you can move it inside def process\n",
    "\n",
    "# script in the first run because we want to generate table with nested and repeated column\n",
    "# sqlCheck=f\"\"\"\n",
    "# select collection_timestamp from `{table_perf_id}`\n",
    "# where date(collection_timestamp)='{log_date.strftime('%Y-%m-%d')}' and model_id='{model_id}'\n",
    "# \"\"\"\n",
    "\n",
    "# print(sqlCheck)\n",
    "# dfCheckDate=load_data_bq(sqlCheck)\n",
    "# if  dfCheckDate.empty==False:\n",
    "#     print(f\"Collection data on {log_date} for {model_id} found, no any action\")\n",
    "#     # uncomment\n",
    "#     #return f\"Collection data on {log_date} for {model_id} found, no any action\"\n",
    "# else:\n",
    "#     print(f\"We are ready to Collect data on {log_date}\")"
   ]
  },
  {
   "cell_type": "markdown",
   "id": "95fac79b-f3e3-420c-af2f-a9f2355e3d7d",
   "metadata": {},
   "source": [
    "# Get Model Meta"
   ]
  },
  {
   "cell_type": "code",
   "execution_count": 132,
   "id": "6af8a0f4-ebd7-44ce-9317-9eef92d360e4",
   "metadata": {},
   "outputs": [
    {
     "name": "stdout",
     "output_type": "stream",
     "text": [
      "\n",
      "    SELECT * FROM `pongthorn.FinAssetForecast.model_ts_metadata`  where model_id='qqq-ema1-30t5-ds0115t0523'\n",
      "    \n",
      "model_id                                         qqq-ema1-30t5-ds0115t0523\n",
      "asset                                                                  QQQ\n",
      "prediction                                                            EMA1\n",
      "input_sequence_length                                                   30\n",
      "output_sequence_length                                                   5\n",
      "gs_model_path               gs://demo-ts-forecast-pongthorn/model_qqq_ema1\n",
      "local_model_path                                      model/model_qqq_ema1\n",
      "model_file                         EMA1_30To5_QQQ_E200S20-Y2015-2023_ma.h5\n",
      "scaler_file                    scaler_EMA1_30To5_QQQ_E200S20-Y2015-2023.gz\n",
      "scaler_pred_file          scaler_pred_EMA1_30To5_QQQ_E200S20-Y2015-2023.gz\n",
      "Name: 0, dtype: object\n"
     ]
    }
   ],
   "source": [
    "def get_model_metadata(model_id):\n",
    "    sqlModelMt=f\"\"\"\n",
    "    SELECT * FROM `{table_model_id}`  where model_id='{model_id}'\n",
    "    \"\"\"\n",
    "    print(sqlModelMt)\n",
    "    dfModelMeta=load_data_bq(sqlModelMt)\n",
    "    return  dfModelMeta\n",
    "\n",
    "dfModelMeta=get_model_metadata(model_id)\n",
    "\n",
    "if dfModelMeta.empty==False:\n",
    "    modelMeta=dfModelMeta.iloc[0,:]\n",
    "    print(modelMeta)\n",
    "    asset_name=modelMeta['asset']\n",
    "    prediction=modelMeta['prediction']\n",
    "else: \n",
    "    raise Exception(f\"Not found model id  {model_id}\")"
   ]
  },
  {
   "cell_type": "markdown",
   "id": "7e8201bb-91d8-4e3e-80da-20e7d61b25ba",
   "metadata": {},
   "source": [
    "# Retrive forecasting result data to Dictionary"
   ]
  },
  {
   "cell_type": "code",
   "execution_count": 133,
   "id": "001948b5-8ef8-46d7-af6e-53b2ef82ce0a",
   "metadata": {},
   "outputs": [
    {
     "name": "stdout",
     "output_type": "stream",
     "text": [
      "================Get data from 2023-08-28====to===2023-09-01================\n",
      "1.How far in advance does model want to  make prediction\n",
      "\n",
      "    select t.prediction_date, t.pred_timestamp,t.asset_name,t.prediction_name,\n",
      "    t_pred.output_date as date,t_pred.output_value as EMA1\n",
      "    from  `pongthorn.FinAssetForecast.fin_movement_forecast` t\n",
      "    cross join unnest(t.prediction_result) t_pred\n",
      "    where (t.prediction_date>='2023-08-28' and  t.prediction_date<='2023-09-01')\n",
      "    and t.model_id='qqq-ema1-30t5-ds0115t0523'\n",
      "    order by  t.prediction_date,t_pred.output_date\n",
      "    \n",
      "output_sequence_length=25\n",
      "<class 'pandas.core.frame.DataFrame'>\n",
      "DatetimeIndex: 25 entries, 2023-08-29 to 2023-09-11\n",
      "Data columns (total 5 columns):\n",
      " #   Column           Non-Null Count  Dtype              \n",
      "---  ------           --------------  -----              \n",
      " 0   prediction_date  25 non-null     dbdate             \n",
      " 1   pred_timestamp   25 non-null     datetime64[us, UTC]\n",
      " 2   asset_name       25 non-null     object             \n",
      " 3   prediction_name  25 non-null     object             \n",
      " 4   EMA1             25 non-null     float64            \n",
      "dtypes: datetime64[us, UTC](1), dbdate(1), float64(1), object(2)\n",
      "memory usage: 1.2+ KB\n",
      "None\n",
      "           prediction_date asset_name prediction_name        EMA1\n",
      "date                                                             \n",
      "2023-08-29      2023-08-28        QQQ            EMA1  367.377289\n",
      "2023-08-30      2023-08-28        QQQ            EMA1  368.779694\n",
      "2023-08-31      2023-08-28        QQQ            EMA1  365.557068\n",
      "2023-09-01      2023-08-28        QQQ            EMA1  364.746979\n",
      "2023-09-05      2023-08-28        QQQ            EMA1  364.759613\n",
      "2023-08-30      2023-08-29        QQQ            EMA1  369.908997\n",
      "2023-08-31      2023-08-29        QQQ            EMA1  371.342102\n",
      "2023-09-01      2023-08-29        QQQ            EMA1  368.157196\n",
      "2023-09-05      2023-08-29        QQQ            EMA1  367.743347\n",
      "2023-09-06      2023-08-29        QQQ            EMA1  367.886597\n",
      "2023-08-31      2023-08-30        QQQ            EMA1  373.007904\n",
      "2023-09-01      2023-08-30        QQQ            EMA1  374.427856\n",
      "2023-09-05      2023-08-30        QQQ            EMA1  371.419495\n",
      "2023-09-06      2023-08-30        QQQ            EMA1  371.193481\n",
      "2023-09-07      2023-08-30        QQQ            EMA1  371.636810\n",
      "2023-09-01      2023-08-31        QQQ            EMA1  375.135162\n",
      "2023-09-05      2023-08-31        QQQ            EMA1  376.491425\n",
      "2023-09-06      2023-08-31        QQQ            EMA1  373.751556\n",
      "2023-09-07      2023-08-31        QQQ            EMA1  373.429657\n",
      "2023-09-08      2023-08-31        QQQ            EMA1  374.157684\n",
      "2023-09-05      2023-09-01        QQQ            EMA1  376.211182\n",
      "2023-09-06      2023-09-01        QQQ            EMA1  377.511047\n",
      "2023-09-07      2023-09-01        QQQ            EMA1  374.995026\n",
      "2023-09-08      2023-09-01        QQQ            EMA1  374.500610\n",
      "2023-09-11      2023-09-01        QQQ            EMA1  375.375458\n",
      "================================================================================================\n",
      "2.Get Real Data  to compare to prediction from 2023-08-29 to 2023-09-11\n",
      "\n",
      "    select Date as date,EMA1, ImportDateTime, from `pongthorn.FinAssetForecast.fin_data` \n",
      "    where (Date>='2023-08-29' and Date<='2023-09-11') and Symbol='QQQ'\n",
      "    order by ImportDateTime,Date\n",
      "    \n",
      "<class 'pandas.core.frame.DataFrame'>\n",
      "DatetimeIndex: 5 entries, 2023-08-29 to 2023-09-05\n",
      "Data columns (total 2 columns):\n",
      " #   Column          Non-Null Count  Dtype         \n",
      "---  ------          --------------  -----         \n",
      " 0   EMA1            5 non-null      float64       \n",
      " 1   ImportDateTime  5 non-null      datetime64[us]\n",
      "dtypes: datetime64[us](1), float64(1)\n",
      "memory usage: 120.0 bytes\n",
      "None\n",
      "                EMA1\n",
      "date                \n",
      "2023-08-29  366.8853\n",
      "2023-08-30  368.6989\n",
      "2023-08-31  370.3882\n",
      "2023-09-01  371.7010\n",
      "2023-09-05  372.8464\n",
      "================================================================================================\n",
      "=======================================================================\n"
     ]
    }
   ],
   "source": [
    "def get_forecasting_result_data(request):\n",
    "\n",
    "    if   request is not None:  \n",
    "        start_date=request[\"start_date\"]\n",
    "        end_date=request[\"end_date\"]\n",
    "        prediction_name=request[\"prediction_name\"]\n",
    "        asset_name=request[\"asset_name\"]\n",
    "        model_id=request[\"model_id\"]\n",
    "    else:\n",
    "        raise Exception(\"No request parameters such as start_date,prediction_name,asset_name\")\n",
    "\n",
    "    \n",
    "    print(\"1.How far in advance does model want to  make prediction\")\n",
    "    sqlOutput=f\"\"\"\n",
    "    select t.prediction_date, t.pred_timestamp,t.asset_name,t.prediction_name,\n",
    "    t_pred.output_date as {date_col},t_pred.output_value as {prediction_name}\n",
    "    from  `{table_id}` t\n",
    "    cross join unnest(t.prediction_result) t_pred\n",
    "    where (t.prediction_date>='{start_date}' and  t.prediction_date<='{end_date}')\n",
    "    and t.model_id='{model_id}'\n",
    "    order by  t.prediction_date,t_pred.output_date\n",
    "    \"\"\"\n",
    "    print(sqlOutput)\n",
    "    dfOutput=load_data_bq(sqlOutput)\n",
    "    # dfOutput=dfOutput.drop_duplicates(subset=[date_col,'asset_name','prediction_name'],keep='last',)\n",
    "    # dfOutput=dfOutput.drop_duplicates(subset=[date_col],keep='last',)\n",
    "    dfOutput[date_col]=pd.to_datetime(dfOutput[date_col],format='%Y-%m-%d')\n",
    "    dfOutput.set_index(date_col,inplace=True)\n",
    "\n",
    "    output_sequence_length=len(dfOutput)\n",
    "    print(f\"output_sequence_length={output_sequence_length}\")\n",
    "    \n",
    "\n",
    "    print(dfOutput.info())\n",
    "    print(dfOutput[['prediction_date','asset_name','prediction_name' ,prediction_name]])\n",
    "    print(\"================================================================================================\")\n",
    "\n",
    "    \n",
    "    #get actual data since the fist day of input and the last day of output(if covered)\n",
    "    startFinData=dfOutput.index.min().strftime('%Y-%m-%d')\n",
    "    endFindData=dfOutput.index.max().strftime('%Y-%m-%d')\n",
    "    print(f\"2.Get Real Data  to compare to prediction from {startFinData} to {endFindData}\")\n",
    "\n",
    "    sqlData=f\"\"\"\n",
    "    select Date as {date_col},{prediction_name}, ImportDateTime, from `{table_data_id}` \n",
    "    where (Date>='{startFinData}' and Date<='{endFindData}') and Symbol='{asset_name}'\n",
    "    order by ImportDateTime,Date\n",
    "    \"\"\"\n",
    "    print(sqlData)\n",
    "\n",
    "    dfRealData=load_data_bq(sqlData)\n",
    "    dfRealData=dfRealData.drop_duplicates(subset=[date_col],keep='last',)\n",
    "    dfRealData[date_col]=pd.to_datetime(dfRealData[date_col],format='%Y-%m-%d')\n",
    "    dfRealData.set_index(date_col,inplace=True)\n",
    "    \n",
    "    print(dfRealData.info())\n",
    "    print(dfRealData[[prediction_name]])\n",
    "    print(\"================================================================================================\")\n",
    "\n",
    "    return {'actual_price':dfRealData,'output':dfOutput }\n",
    "\n",
    "\n",
    "print(f\"================Get data from {startX}====to==={endX}================\")\n",
    "request={'start_date':startX,'end_date':endX,'prediction_name':prediction,'asset_name':asset_name,'model_id':model_id}\n",
    "data=get_forecasting_result_data(request)\n",
    "print(f\"=======================================================================\")"
   ]
  },
  {
   "cell_type": "markdown",
   "id": "e5051678-ffb7-4d67-be3a-da1ef00d08cb",
   "metadata": {},
   "source": [
    "# Create Predictive and Actual Value dataframe"
   ]
  },
  {
   "cell_type": "code",
   "execution_count": 134,
   "id": "9785fb22-818b-499f-9fb1-85fb8063d517",
   "metadata": {
    "tags": []
   },
   "outputs": [
    {
     "name": "stdout",
     "output_type": "stream",
     "text": [
      "List all trading day in the week\n",
      "<DateArray>\n",
      "[datetime.date(2023, 8, 28), datetime.date(2023, 8, 29),\n",
      " datetime.date(2023, 8, 30), datetime.date(2023, 8, 31),\n",
      "  datetime.date(2023, 9, 1)]\n",
      "Length: 5, dtype: dbdate\n"
     ]
    }
   ],
   "source": [
    "print(\"List all trading day in the week\")\n",
    "myTradingDataList=data['output']['prediction_date'].unique()\n",
    "print(myTradingDataList)"
   ]
  },
  {
   "cell_type": "code",
   "execution_count": 135,
   "id": "b1bf0362-79be-41d0-b2bb-b902707a19bd",
   "metadata": {
    "tags": []
   },
   "outputs": [
    {
     "data": {
      "text/html": [
       "<div>\n",
       "<style scoped>\n",
       "    .dataframe tbody tr th:only-of-type {\n",
       "        vertical-align: middle;\n",
       "    }\n",
       "\n",
       "    .dataframe tbody tr th {\n",
       "        vertical-align: top;\n",
       "    }\n",
       "\n",
       "    .dataframe thead th {\n",
       "        text-align: right;\n",
       "    }\n",
       "</style>\n",
       "<table border=\"1\" class=\"dataframe\">\n",
       "  <thead>\n",
       "    <tr style=\"text-align: right;\">\n",
       "      <th></th>\n",
       "      <th>date</th>\n",
       "      <th>pred_value</th>\n",
       "      <th>actual_value</th>\n",
       "      <th>prediction_date</th>\n",
       "    </tr>\n",
       "  </thead>\n",
       "  <tbody>\n",
       "  </tbody>\n",
       "</table>\n",
       "</div>"
      ],
      "text/plain": [
       "Empty DataFrame\n",
       "Columns: [date, pred_value, actual_value, prediction_date]\n",
       "Index: []"
      ]
     },
     "execution_count": 135,
     "metadata": {},
     "output_type": "execute_result"
    }
   ],
   "source": [
    "dfAllForecastResult=pd.DataFrame(columns=['date','pred_value','actual_value','prediction_date'])\n",
    "dfAllForecastResult"
   ]
  },
  {
   "cell_type": "code",
   "execution_count": 136,
   "id": "16f6d484-4c53-4a32-b60a-970b11a39e3b",
   "metadata": {
    "tags": []
   },
   "outputs": [
    {
     "name": "stdout",
     "output_type": "stream",
     "text": [
      "========================dfX :Actual Price========================\n",
      "<class 'pandas.core.frame.DataFrame'>\n",
      "DatetimeIndex: 5 entries, 2023-08-29 to 2023-09-05\n",
      "Data columns (total 1 columns):\n",
      " #   Column        Non-Null Count  Dtype  \n",
      "---  ------        --------------  -----  \n",
      " 0   actual_value  5 non-null      float64\n",
      "dtypes: float64(1)\n",
      "memory usage: 80.0 bytes\n",
      "None\n"
     ]
    },
    {
     "data": {
      "text/html": [
       "<div>\n",
       "<style scoped>\n",
       "    .dataframe tbody tr th:only-of-type {\n",
       "        vertical-align: middle;\n",
       "    }\n",
       "\n",
       "    .dataframe tbody tr th {\n",
       "        vertical-align: top;\n",
       "    }\n",
       "\n",
       "    .dataframe thead th {\n",
       "        text-align: right;\n",
       "    }\n",
       "</style>\n",
       "<table border=\"1\" class=\"dataframe\">\n",
       "  <thead>\n",
       "    <tr style=\"text-align: right;\">\n",
       "      <th></th>\n",
       "      <th>actual_value</th>\n",
       "    </tr>\n",
       "    <tr>\n",
       "      <th>date</th>\n",
       "      <th></th>\n",
       "    </tr>\n",
       "  </thead>\n",
       "  <tbody>\n",
       "    <tr>\n",
       "      <th>2023-08-29</th>\n",
       "      <td>366.8853</td>\n",
       "    </tr>\n",
       "    <tr>\n",
       "      <th>2023-08-30</th>\n",
       "      <td>368.6989</td>\n",
       "    </tr>\n",
       "    <tr>\n",
       "      <th>2023-08-31</th>\n",
       "      <td>370.3882</td>\n",
       "    </tr>\n",
       "    <tr>\n",
       "      <th>2023-09-01</th>\n",
       "      <td>371.7010</td>\n",
       "    </tr>\n",
       "    <tr>\n",
       "      <th>2023-09-05</th>\n",
       "      <td>372.8464</td>\n",
       "    </tr>\n",
       "  </tbody>\n",
       "</table>\n",
       "</div>"
      ],
      "text/plain": [
       "            actual_value\n",
       "date                    \n",
       "2023-08-29      366.8853\n",
       "2023-08-30      368.6989\n",
       "2023-08-31      370.3882\n",
       "2023-09-01      371.7010\n",
       "2023-09-05      372.8464"
      ]
     },
     "execution_count": 136,
     "metadata": {},
     "output_type": "execute_result"
    }
   ],
   "source": [
    "print(f\"========================dfX :Actual Price========================\")\n",
    "dfX=data['actual_price'][[prediction]]\n",
    "dfX.columns=[f'actual_value']\n",
    "print(dfX.info())\n",
    "dfX"
   ]
  },
  {
   "cell_type": "code",
   "execution_count": 137,
   "id": "8fb89caf-45e7-4339-be0b-12012bb96884",
   "metadata": {
    "tags": []
   },
   "outputs": [
    {
     "name": "stdout",
     "output_type": "stream",
     "text": [
      "=========================dfPred:Predicted Price at 2023-08-28=========================\n",
      "            pred_value\n",
      "date                  \n",
      "2023-08-29  367.377289\n",
      "2023-08-30  368.779694\n",
      "2023-08-31  365.557068\n",
      "2023-09-01  364.746979\n",
      "2023-09-05  364.759613\n",
      "<class 'pandas.core.frame.DataFrame'>\n",
      "DatetimeIndex: 5 entries, 2023-08-29 to 2023-09-05\n",
      "Data columns (total 1 columns):\n",
      " #   Column      Non-Null Count  Dtype  \n",
      "---  ------      --------------  -----  \n",
      " 0   pred_value  5 non-null      float64\n",
      "dtypes: float64(1)\n",
      "memory usage: 80.0 bytes\n",
      "None\n",
      "=====================dfCompare:Join Actual price to Predicted Price=================\n",
      "        date  pred_value  actual_value prediction_date\n",
      "0 2023-08-29  367.377289      366.8853      2023-08-28\n",
      "1 2023-08-30  368.779694      368.6989      2023-08-28\n",
      "2 2023-08-31  365.557068      370.3882      2023-08-28\n",
      "3 2023-09-01  364.746979      371.7010      2023-08-28\n",
      "4 2023-09-05  364.759613      372.8464      2023-08-28\n",
      "<class 'pandas.core.frame.DataFrame'>\n",
      "RangeIndex: 5 entries, 0 to 4\n",
      "Data columns (total 4 columns):\n",
      " #   Column           Non-Null Count  Dtype         \n",
      "---  ------           --------------  -----         \n",
      " 0   date             5 non-null      datetime64[ns]\n",
      " 1   pred_value       5 non-null      float64       \n",
      " 2   actual_value     5 non-null      float64       \n",
      " 3   prediction_date  5 non-null      object        \n",
      "dtypes: datetime64[ns](1), float64(2), object(1)\n",
      "memory usage: 288.0+ bytes\n",
      "None\n",
      "=========================Appended Data Joined=========================\n",
      "=========================dfPred:Predicted Price at 2023-08-29=========================\n",
      "            pred_value\n",
      "date                  \n",
      "2023-08-30  369.908997\n",
      "2023-08-31  371.342102\n",
      "2023-09-01  368.157196\n",
      "2023-09-05  367.743347\n",
      "2023-09-06  367.886597\n",
      "<class 'pandas.core.frame.DataFrame'>\n",
      "DatetimeIndex: 5 entries, 2023-08-30 to 2023-09-06\n",
      "Data columns (total 1 columns):\n",
      " #   Column      Non-Null Count  Dtype  \n",
      "---  ------      --------------  -----  \n",
      " 0   pred_value  5 non-null      float64\n",
      "dtypes: float64(1)\n",
      "memory usage: 80.0 bytes\n",
      "None\n",
      "=====================dfCompare:Join Actual price to Predicted Price=================\n",
      "        date  pred_value  actual_value prediction_date\n",
      "0 2023-08-30  369.908997      368.6989      2023-08-29\n",
      "1 2023-08-31  371.342102      370.3882      2023-08-29\n",
      "2 2023-09-01  368.157196      371.7010      2023-08-29\n",
      "3 2023-09-05  367.743347      372.8464      2023-08-29\n",
      "<class 'pandas.core.frame.DataFrame'>\n",
      "RangeIndex: 4 entries, 0 to 3\n",
      "Data columns (total 4 columns):\n",
      " #   Column           Non-Null Count  Dtype         \n",
      "---  ------           --------------  -----         \n",
      " 0   date             4 non-null      datetime64[ns]\n",
      " 1   pred_value       4 non-null      float64       \n",
      " 2   actual_value     4 non-null      float64       \n",
      " 3   prediction_date  4 non-null      object        \n",
      "dtypes: datetime64[ns](1), float64(2), object(1)\n",
      "memory usage: 256.0+ bytes\n",
      "None\n",
      "=========================Appended Data Joined=========================\n",
      "=========================dfPred:Predicted Price at 2023-08-30=========================\n",
      "            pred_value\n",
      "date                  \n",
      "2023-08-31  373.007904\n",
      "2023-09-01  374.427856\n",
      "2023-09-05  371.419495\n",
      "2023-09-06  371.193481\n",
      "2023-09-07  371.636810\n",
      "<class 'pandas.core.frame.DataFrame'>\n",
      "DatetimeIndex: 5 entries, 2023-08-31 to 2023-09-07\n",
      "Data columns (total 1 columns):\n",
      " #   Column      Non-Null Count  Dtype  \n",
      "---  ------      --------------  -----  \n",
      " 0   pred_value  5 non-null      float64\n",
      "dtypes: float64(1)\n",
      "memory usage: 80.0 bytes\n",
      "None\n",
      "=====================dfCompare:Join Actual price to Predicted Price=================\n",
      "        date  pred_value  actual_value prediction_date\n",
      "0 2023-08-31  373.007904      370.3882      2023-08-30\n",
      "1 2023-09-01  374.427856      371.7010      2023-08-30\n",
      "2 2023-09-05  371.419495      372.8464      2023-08-30\n",
      "<class 'pandas.core.frame.DataFrame'>\n",
      "RangeIndex: 3 entries, 0 to 2\n",
      "Data columns (total 4 columns):\n",
      " #   Column           Non-Null Count  Dtype         \n",
      "---  ------           --------------  -----         \n",
      " 0   date             3 non-null      datetime64[ns]\n",
      " 1   pred_value       3 non-null      float64       \n",
      " 2   actual_value     3 non-null      float64       \n",
      " 3   prediction_date  3 non-null      object        \n",
      "dtypes: datetime64[ns](1), float64(2), object(1)\n",
      "memory usage: 224.0+ bytes\n",
      "None\n",
      "=========================Appended Data Joined=========================\n",
      "=========================dfPred:Predicted Price at 2023-08-31=========================\n",
      "            pred_value\n",
      "date                  \n",
      "2023-09-01  375.135162\n",
      "2023-09-05  376.491425\n",
      "2023-09-06  373.751556\n",
      "2023-09-07  373.429657\n",
      "2023-09-08  374.157684\n",
      "<class 'pandas.core.frame.DataFrame'>\n",
      "DatetimeIndex: 5 entries, 2023-09-01 to 2023-09-08\n",
      "Data columns (total 1 columns):\n",
      " #   Column      Non-Null Count  Dtype  \n",
      "---  ------      --------------  -----  \n",
      " 0   pred_value  5 non-null      float64\n",
      "dtypes: float64(1)\n",
      "memory usage: 80.0 bytes\n",
      "None\n",
      "=====================dfCompare:Join Actual price to Predicted Price=================\n",
      "        date  pred_value  actual_value prediction_date\n",
      "0 2023-09-01  375.135162      371.7010      2023-08-31\n",
      "1 2023-09-05  376.491425      372.8464      2023-08-31\n",
      "<class 'pandas.core.frame.DataFrame'>\n",
      "RangeIndex: 2 entries, 0 to 1\n",
      "Data columns (total 4 columns):\n",
      " #   Column           Non-Null Count  Dtype         \n",
      "---  ------           --------------  -----         \n",
      " 0   date             2 non-null      datetime64[ns]\n",
      " 1   pred_value       2 non-null      float64       \n",
      " 2   actual_value     2 non-null      float64       \n",
      " 3   prediction_date  2 non-null      object        \n",
      "dtypes: datetime64[ns](1), float64(2), object(1)\n",
      "memory usage: 192.0+ bytes\n",
      "None\n",
      "=========================Appended Data Joined=========================\n",
      "=========================dfPred:Predicted Price at 2023-09-01=========================\n",
      "            pred_value\n",
      "date                  \n",
      "2023-09-05  376.211182\n",
      "2023-09-06  377.511047\n",
      "2023-09-07  374.995026\n",
      "2023-09-08  374.500610\n",
      "2023-09-11  375.375458\n",
      "<class 'pandas.core.frame.DataFrame'>\n",
      "DatetimeIndex: 5 entries, 2023-09-05 to 2023-09-11\n",
      "Data columns (total 1 columns):\n",
      " #   Column      Non-Null Count  Dtype  \n",
      "---  ------      --------------  -----  \n",
      " 0   pred_value  5 non-null      float64\n",
      "dtypes: float64(1)\n",
      "memory usage: 80.0 bytes\n",
      "None\n",
      "=====================dfCompare:Join Actual price to Predicted Price=================\n",
      "        date  pred_value  actual_value prediction_date\n",
      "0 2023-09-05  376.211182      372.8464      2023-09-01\n",
      "<class 'pandas.core.frame.DataFrame'>\n",
      "RangeIndex: 1 entries, 0 to 0\n",
      "Data columns (total 4 columns):\n",
      " #   Column           Non-Null Count  Dtype         \n",
      "---  ------           --------------  -----         \n",
      " 0   date             1 non-null      datetime64[ns]\n",
      " 1   pred_value       1 non-null      float64       \n",
      " 2   actual_value     1 non-null      float64       \n",
      " 3   prediction_date  1 non-null      object        \n",
      "dtypes: datetime64[ns](1), float64(2), object(1)\n",
      "memory usage: 160.0+ bytes\n",
      "None\n",
      "=========================Appended Data Joined=========================\n"
     ]
    }
   ],
   "source": [
    "# actually , we can jon without spilting data by prediction_dtate\n",
    "for date in  myTradingDataList: # trading day on giver week\n",
    "    print(f\"=========================dfPred:Predicted Price at {date}=========================\")\n",
    "    dfPred=data['output'].query(\"prediction_date==@date\")[[prediction]]\n",
    "    dfPred.columns=[f'pred_value']\n",
    "    print(dfPred)\n",
    "    print(dfPred.info())\n",
    "\n",
    "    print(\"=====================dfCompare:Join Actual price to Predicted Price=================\")\n",
    "    dfCompare=pd.merge(left=dfPred,right=dfX,how='inner',right_index=True,left_index=True)\n",
    "    dfCompare.reset_index(inplace=True)   \n",
    "    dfCompare['prediction_date']=date.strftime('%Y-%m-%d')      \n",
    "    print(dfCompare) \n",
    "    print(dfCompare.info())\n",
    "\n",
    "    if len(dfCompare)>0 : # it will be join if there is at least one record to show actual vs pred\n",
    "        dfAllForecastResult= pd.concat([dfAllForecastResult,dfCompare],ignore_index=True)\n",
    "        print(f\"=========================Appended Data Joined=========================\")\n",
    "    else:\n",
    "        print(\"No Appendind Data due to no at least one record to show actual vs pred\")  \n",
    "    \n"
   ]
  },
  {
   "cell_type": "code",
   "execution_count": 138,
   "id": "70da4df5-d4df-406f-825e-b0eda85f00ca",
   "metadata": {
    "tags": []
   },
   "outputs": [
    {
     "name": "stdout",
     "output_type": "stream",
     "text": [
      "========================dfAllForecastResult: All Predicton Result========================\n",
      "<class 'pandas.core.frame.DataFrame'>\n",
      "RangeIndex: 15 entries, 0 to 14\n",
      "Data columns (total 4 columns):\n",
      " #   Column           Non-Null Count  Dtype         \n",
      "---  ------           --------------  -----         \n",
      " 0   date             15 non-null     datetime64[ns]\n",
      " 1   pred_value       15 non-null     float64       \n",
      " 2   actual_value     15 non-null     float64       \n",
      " 3   prediction_date  15 non-null     object        \n",
      "dtypes: datetime64[ns](1), float64(2), object(1)\n",
      "memory usage: 608.0+ bytes\n",
      "None\n",
      "         date  pred_value  actual_value prediction_date\n",
      "0  2023-08-29  367.377289      366.8853      2023-08-28\n",
      "1  2023-08-30  368.779694      368.6989      2023-08-28\n",
      "2  2023-08-31  365.557068      370.3882      2023-08-28\n",
      "3  2023-09-01  364.746979      371.7010      2023-08-28\n",
      "4  2023-09-05  364.759613      372.8464      2023-08-28\n",
      "5  2023-08-30  369.908997      368.6989      2023-08-29\n",
      "6  2023-08-31  371.342102      370.3882      2023-08-29\n",
      "7  2023-09-01  368.157196      371.7010      2023-08-29\n",
      "8  2023-09-05  367.743347      372.8464      2023-08-29\n",
      "9  2023-08-31  373.007904      370.3882      2023-08-30\n",
      "10 2023-09-01  374.427856      371.7010      2023-08-30\n",
      "11 2023-09-05  371.419495      372.8464      2023-08-30\n",
      "12 2023-09-01  375.135162      371.7010      2023-08-31\n",
      "13 2023-09-05  376.491425      372.8464      2023-08-31\n",
      "14 2023-09-05  376.211182      372.8464      2023-09-01\n"
     ]
    }
   ],
   "source": [
    "print(\"========================dfAllForecastResult: All Predicton Result========================\")\n",
    "print(dfAllForecastResult.info())\n",
    "print(dfAllForecastResult)"
   ]
  },
  {
   "cell_type": "markdown",
   "id": "56adbf50-b5f9-4788-a1d1-e15effc86e3f",
   "metadata": {},
   "source": [
    "# Calculate MAE Metric"
   ]
  },
  {
   "cell_type": "markdown",
   "id": "200bb009-2934-403c-99be-f18c8231a1cc",
   "metadata": {},
   "source": [
    "## Get sum distance between pred and actul value from prev rows"
   ]
  },
  {
   "cell_type": "code",
   "execution_count": 139,
   "id": "7f072e08-3757-4ce5-9564-7b6c9a09ab0d",
   "metadata": {
    "tags": []
   },
   "outputs": [
    {
     "name": "stdout",
     "output_type": "stream",
     "text": [
      "Prev Sum=0 and Count=0\n"
     ]
    }
   ],
   "source": [
    "sqlMetric=f\"\"\"\n",
    "with pred_actual_by_model as  \n",
    "(\n",
    "SELECT  detail.actual_value,detail.pred_value\n",
    "from `{table_perf_id}`  t\n",
    " cross join unnest(t.pred_actual_data) as detail\n",
    " where t.model_id='{model_id}' and t.collection_timestamp<'{log_timestamp}'\n",
    ")\n",
    "select COALESCE( sum(abs(x.actual_value-x.pred_value)),0) as pred_diff_actual,count(*) as no_row  from pred_actual_by_model  x\n",
    "\n",
    "\n",
    "\"\"\"\n",
    "\n",
    "if genTableSchema==False:\n",
    "    print(sqlMetric)\n",
    "\n",
    "    dfMetric=load_data_bq(sqlMetric)\n",
    "    prevSum=dfMetric.iloc[0,0]\n",
    "    prevCount=dfMetric.iloc[0,1]\n",
    "\n",
    "else:  # it is used if there are something changed in table schema\n",
    "# for generating table schema\n",
    "    prevSum=0\n",
    "    prevCount=0\n",
    "\n",
    "print(f\"Prev Sum={prevSum} and Count={prevCount}\")"
   ]
  },
  {
   "cell_type": "markdown",
   "id": "90c5e088-d020-45c8-a9a8-4e9407906acd",
   "metadata": {
    "tags": []
   },
   "source": [
    "## Cal sum distance between pred and actul value from last rows"
   ]
  },
  {
   "cell_type": "code",
   "execution_count": 140,
   "id": "14805124-ae5a-4757-a1d4-376b77b4975d",
   "metadata": {
    "tags": []
   },
   "outputs": [
    {
     "data": {
      "text/html": [
       "<div>\n",
       "<style scoped>\n",
       "    .dataframe tbody tr th:only-of-type {\n",
       "        vertical-align: middle;\n",
       "    }\n",
       "\n",
       "    .dataframe tbody tr th {\n",
       "        vertical-align: top;\n",
       "    }\n",
       "\n",
       "    .dataframe thead th {\n",
       "        text-align: right;\n",
       "    }\n",
       "</style>\n",
       "<table border=\"1\" class=\"dataframe\">\n",
       "  <thead>\n",
       "    <tr style=\"text-align: right;\">\n",
       "      <th></th>\n",
       "      <th>date</th>\n",
       "      <th>pred_value</th>\n",
       "      <th>actual_value</th>\n",
       "      <th>prediction_date</th>\n",
       "      <th>pred_diff_actual</th>\n",
       "    </tr>\n",
       "  </thead>\n",
       "  <tbody>\n",
       "    <tr>\n",
       "      <th>0</th>\n",
       "      <td>2023-08-29</td>\n",
       "      <td>367.377289</td>\n",
       "      <td>366.8853</td>\n",
       "      <td>2023-08-28</td>\n",
       "      <td>0.491989</td>\n",
       "    </tr>\n",
       "    <tr>\n",
       "      <th>1</th>\n",
       "      <td>2023-08-30</td>\n",
       "      <td>368.779694</td>\n",
       "      <td>368.6989</td>\n",
       "      <td>2023-08-28</td>\n",
       "      <td>0.080794</td>\n",
       "    </tr>\n",
       "    <tr>\n",
       "      <th>2</th>\n",
       "      <td>2023-08-31</td>\n",
       "      <td>365.557068</td>\n",
       "      <td>370.3882</td>\n",
       "      <td>2023-08-28</td>\n",
       "      <td>4.831132</td>\n",
       "    </tr>\n",
       "    <tr>\n",
       "      <th>3</th>\n",
       "      <td>2023-09-01</td>\n",
       "      <td>364.746979</td>\n",
       "      <td>371.7010</td>\n",
       "      <td>2023-08-28</td>\n",
       "      <td>6.954021</td>\n",
       "    </tr>\n",
       "    <tr>\n",
       "      <th>4</th>\n",
       "      <td>2023-09-05</td>\n",
       "      <td>364.759613</td>\n",
       "      <td>372.8464</td>\n",
       "      <td>2023-08-28</td>\n",
       "      <td>8.086787</td>\n",
       "    </tr>\n",
       "    <tr>\n",
       "      <th>5</th>\n",
       "      <td>2023-08-30</td>\n",
       "      <td>369.908997</td>\n",
       "      <td>368.6989</td>\n",
       "      <td>2023-08-29</td>\n",
       "      <td>1.210097</td>\n",
       "    </tr>\n",
       "    <tr>\n",
       "      <th>6</th>\n",
       "      <td>2023-08-31</td>\n",
       "      <td>371.342102</td>\n",
       "      <td>370.3882</td>\n",
       "      <td>2023-08-29</td>\n",
       "      <td>0.953902</td>\n",
       "    </tr>\n",
       "    <tr>\n",
       "      <th>7</th>\n",
       "      <td>2023-09-01</td>\n",
       "      <td>368.157196</td>\n",
       "      <td>371.7010</td>\n",
       "      <td>2023-08-29</td>\n",
       "      <td>3.543804</td>\n",
       "    </tr>\n",
       "    <tr>\n",
       "      <th>8</th>\n",
       "      <td>2023-09-05</td>\n",
       "      <td>367.743347</td>\n",
       "      <td>372.8464</td>\n",
       "      <td>2023-08-29</td>\n",
       "      <td>5.103053</td>\n",
       "    </tr>\n",
       "    <tr>\n",
       "      <th>9</th>\n",
       "      <td>2023-08-31</td>\n",
       "      <td>373.007904</td>\n",
       "      <td>370.3882</td>\n",
       "      <td>2023-08-30</td>\n",
       "      <td>2.619704</td>\n",
       "    </tr>\n",
       "    <tr>\n",
       "      <th>10</th>\n",
       "      <td>2023-09-01</td>\n",
       "      <td>374.427856</td>\n",
       "      <td>371.7010</td>\n",
       "      <td>2023-08-30</td>\n",
       "      <td>2.726856</td>\n",
       "    </tr>\n",
       "    <tr>\n",
       "      <th>11</th>\n",
       "      <td>2023-09-05</td>\n",
       "      <td>371.419495</td>\n",
       "      <td>372.8464</td>\n",
       "      <td>2023-08-30</td>\n",
       "      <td>1.426905</td>\n",
       "    </tr>\n",
       "    <tr>\n",
       "      <th>12</th>\n",
       "      <td>2023-09-01</td>\n",
       "      <td>375.135162</td>\n",
       "      <td>371.7010</td>\n",
       "      <td>2023-08-31</td>\n",
       "      <td>3.434162</td>\n",
       "    </tr>\n",
       "    <tr>\n",
       "      <th>13</th>\n",
       "      <td>2023-09-05</td>\n",
       "      <td>376.491425</td>\n",
       "      <td>372.8464</td>\n",
       "      <td>2023-08-31</td>\n",
       "      <td>3.645025</td>\n",
       "    </tr>\n",
       "    <tr>\n",
       "      <th>14</th>\n",
       "      <td>2023-09-05</td>\n",
       "      <td>376.211182</td>\n",
       "      <td>372.8464</td>\n",
       "      <td>2023-09-01</td>\n",
       "      <td>3.364782</td>\n",
       "    </tr>\n",
       "  </tbody>\n",
       "</table>\n",
       "</div>"
      ],
      "text/plain": [
       "         date  pred_value  actual_value prediction_date  pred_diff_actual\n",
       "0  2023-08-29  367.377289      366.8853      2023-08-28          0.491989\n",
       "1  2023-08-30  368.779694      368.6989      2023-08-28          0.080794\n",
       "2  2023-08-31  365.557068      370.3882      2023-08-28          4.831132\n",
       "3  2023-09-01  364.746979      371.7010      2023-08-28          6.954021\n",
       "4  2023-09-05  364.759613      372.8464      2023-08-28          8.086787\n",
       "5  2023-08-30  369.908997      368.6989      2023-08-29          1.210097\n",
       "6  2023-08-31  371.342102      370.3882      2023-08-29          0.953902\n",
       "7  2023-09-01  368.157196      371.7010      2023-08-29          3.543804\n",
       "8  2023-09-05  367.743347      372.8464      2023-08-29          5.103053\n",
       "9  2023-08-31  373.007904      370.3882      2023-08-30          2.619704\n",
       "10 2023-09-01  374.427856      371.7010      2023-08-30          2.726856\n",
       "11 2023-09-05  371.419495      372.8464      2023-08-30          1.426905\n",
       "12 2023-09-01  375.135162      371.7010      2023-08-31          3.434162\n",
       "13 2023-09-05  376.491425      372.8464      2023-08-31          3.645025\n",
       "14 2023-09-05  376.211182      372.8464      2023-09-01          3.364782"
      ]
     },
     "execution_count": 140,
     "metadata": {},
     "output_type": "execute_result"
    }
   ],
   "source": [
    "dfAllForecastResult['pred_diff_actual']=dfAllForecastResult.apply(lambda x : abs(x['pred_value']-x['actual_value']),axis=1)\n",
    "dfAllForecastResult"
   ]
  },
  {
   "cell_type": "code",
   "execution_count": 141,
   "id": "8a5df647-fbeb-4523-a087-636bb2d6afbf",
   "metadata": {
    "tags": []
   },
   "outputs": [
    {
     "name": "stdout",
     "output_type": "stream",
     "text": [
      "Recent Sum=48.47301259750003 and Count=15\n"
     ]
    }
   ],
   "source": [
    "recentSum=dfAllForecastResult['pred_diff_actual'].sum()\n",
    "recentCount=len(dfAllForecastResult)\n",
    "\n",
    "\n",
    "dfAllForecastResult=dfAllForecastResult.drop(columns=['pred_diff_actual'])\n",
    "print(f\"Recent Sum={recentSum} and Count={recentCount}\")"
   ]
  },
  {
   "cell_type": "markdown",
   "id": "b6ff38e5-9f87-4e91-ae14-606bfb690126",
   "metadata": {},
   "source": [
    "## Calculate MEA as formula"
   ]
  },
  {
   "cell_type": "code",
   "execution_count": 142,
   "id": "7d7ffc03-db16-4c83-b897-e454134c6761",
   "metadata": {
    "tags": []
   },
   "outputs": [
    {
     "name": "stdout",
     "output_type": "stream",
     "text": [
      "mae = 3.23\n"
     ]
    }
   ],
   "source": [
    "#https://en.wikipedia.org/wiki/Mean_absolute_error\n",
    "metric_value= round((prevSum+recentSum)/(prevCount+recentCount),2)\n",
    "print(f\"{metric_name} = {metric_value}\")"
   ]
  },
  {
   "cell_type": "markdown",
   "id": "7ec25219-a1f1-4c3a-a018-0de174dfc669",
   "metadata": {
    "tags": []
   },
   "source": [
    "# Create Collection Performance Info Dataframe and Store \n"
   ]
  },
  {
   "cell_type": "code",
   "execution_count": 143,
   "id": "fd483982-7abe-481c-8167-1c72f8409981",
   "metadata": {
    "tags": []
   },
   "outputs": [
    {
     "name": "stdout",
     "output_type": "stream",
     "text": [
      "<class 'pandas.core.frame.DataFrame'>\n",
      "RangeIndex: 1 entries, 0 to 0\n",
      "Data columns (total 5 columns):\n",
      " #   Column                Non-Null Count  Dtype         \n",
      "---  ------                --------------  -----         \n",
      " 0   collection_date       1 non-null      datetime64[ns]\n",
      " 1   model_id              1 non-null      object        \n",
      " 2   metric_name           1 non-null      object        \n",
      " 3   metric_value          1 non-null      float64       \n",
      " 4   collection_timestamp  1 non-null      datetime64[ns]\n",
      "dtypes: datetime64[ns](2), float64(1), object(2)\n",
      "memory usage: 168.0+ bytes\n",
      "None\n",
      "  collection_date                   model_id metric_name  metric_value  \\\n",
      "0      2023-09-02  qqq-ema1-30t5-ds0115t0523         mae          3.23   \n",
      "\n",
      "  collection_timestamp  \n",
      "0           2023-09-02  \n"
     ]
    }
   ],
   "source": [
    "df=pd.DataFrame(data=[ [log_date,model_id,metric_name,metric_value,log_timestamp] ],\n",
    "                columns=[\"collection_date\",\"model_id\",\"metric_name\",\"metric_value\",\"collection_timestamp\"])\n",
    "print(df.info())\n",
    "print(df)\n"
   ]
  },
  {
   "cell_type": "code",
   "execution_count": 144,
   "id": "d6f7c353-748e-4500-b9b8-d699b936b5a7",
   "metadata": {
    "tags": []
   },
   "outputs": [],
   "source": [
    "dictCollectPerf[model_id]=(df,dfAllForecastResult)"
   ]
  },
  {
   "cell_type": "code",
   "execution_count": 145,
   "id": "80938791-97c6-418b-b8ef-2b7ba22f75b8",
   "metadata": {},
   "outputs": [],
   "source": [
    "# uncomment\n",
    "#return f\"gather data of {model_id}\"\n"
   ]
  },
  {
   "cell_type": "markdown",
   "id": "c0bd8275-9727-4bcf-a4b0-2896df68a404",
   "metadata": {},
   "source": [
    "# End Loop"
   ]
  },
  {
   "cell_type": "code",
   "execution_count": 146,
   "id": "0b8ac5f9-c720-4f56-aba8-912f19c244f5",
   "metadata": {},
   "outputs": [],
   "source": [
    "# Iterate over model list\n",
    "# uncomment\n",
    "# for modelID in modelList:\n",
    "# # indent\n",
    "#   print(process_data(modelID))\n",
    "#   print(\"#########################################################\")"
   ]
  },
  {
   "cell_type": "markdown",
   "id": "9a5ffae7-8549-4e7c-b919-b90ce1f920e0",
   "metadata": {},
   "source": [
    "# Create Json Data "
   ]
  },
  {
   "cell_type": "code",
   "execution_count": 147,
   "id": "c6c87e63-04de-4c19-a831-26fc21241612",
   "metadata": {
    "tags": []
   },
   "outputs": [
    {
     "name": "stdout",
     "output_type": "stream",
     "text": [
      "qqq-ema1-30t5-ds0115t0523\n"
     ]
    }
   ],
   "source": [
    "jsonDataList=[]\n",
    "for model_id,dataTuple in  dictCollectPerf.items():\n",
    "    print(model_id)\n",
    "    \n",
    "    masterDF=dataTuple[0]\n",
    "    masterDF[\"collection_date\"]=masterDF[\"collection_date\"].dt.strftime('%Y-%m-%d')\n",
    "    masterDF[\"collection_timestamp\"]=masterDF[\"collection_timestamp\"].dt.strftime('%Y-%m-%d %H:%M:%S')\n",
    "    master_perf = json.loads(masterDF.to_json(orient = 'records'))[0] # 1 main dataframe has 1 records\n",
    "    \n",
    "    detailDF=dataTuple[1]  \n",
    "    # print(detailDF.info())\n",
    "    \n",
    "    #detailDF[\"prediction_date\"]=detailDF[\"prediction_date\"].dt.strftime('%Y-%m-%d')\n",
    "    detailDF[\"date\"]=detailDF[\"date\"].dt.strftime('%Y-%m-%d')\n",
    "    \n",
    "    detail_perf= json.loads(detailDF.to_json(orient = 'records'))\n",
    "    master_perf[\"pred_actual_data\"]=detail_perf\n",
    "    \n",
    "    jsonDataList.append(master_perf)\n",
    "    \n",
    "with open(\"fin_forecast_performance.json\", \"w\") as outfile:\n",
    "    json.dump( jsonDataList, outfile)"
   ]
  },
  {
   "cell_type": "code",
   "execution_count": null,
   "id": "5083681a-8987-4bea-93b2-d6d52aac936c",
   "metadata": {},
   "outputs": [],
   "source": []
  },
  {
   "cell_type": "markdown",
   "id": "f8bb797d-d12d-48d7-9787-384823c9ddf3",
   "metadata": {},
   "source": [
    "# Ingest Data to BigQuery"
   ]
  },
  {
   "cell_type": "markdown",
   "id": "8dc85496-fac5-406a-a281-822cae395bf9",
   "metadata": {},
   "source": [
    "## Try to ingest data to get correct schema and copy the schema to create table including partion/cluster manually"
   ]
  },
  {
   "cell_type": "code",
   "execution_count": 150,
   "id": "55f9ae69-3b55-4347-b2b9-1f74e3c59fee",
   "metadata": {
    "tags": []
   },
   "outputs": [
    {
     "name": "stdout",
     "output_type": "stream",
     "text": [
      "Table pongthorn.FinAssetForecast.model2_demo_forecast_performance already exists.\n"
     ]
    }
   ],
   "source": [
    "try:\n",
    "    table=client.get_table(table_perf_id)\n",
    "    print(\"Table {} already exists.\".format(table_perf_id))\n",
    "    # print(table.schema)\n",
    "except Exception as ex :\n",
    "    print(str(ex))"
   ]
  },
  {
   "cell_type": "code",
   "execution_count": 151,
   "id": "7a8fddac-312e-400e-8b55-6391b73559b5",
   "metadata": {},
   "outputs": [
    {
     "name": "stdout",
     "output_type": "stream",
     "text": [
      "Import to bigquery successfully  1 records\n"
     ]
    }
   ],
   "source": [
    "\n",
    "job_config = bigquery.LoadJobConfig()\n",
    "\n",
    "job_config.source_format = bigquery.SourceFormat.NEWLINE_DELIMITED_JSON\n",
    "\n",
    "# Try to ingest data to get correct schema and copy the schema to create table including partiion/cluster manually\n",
    "job_config.write_disposition = bigquery.WriteDisposition.WRITE_APPEND \n",
    "\n",
    "\n",
    "job = client.load_table_from_json(jsonDataList,table_perf_id, job_config = job_config)\n",
    "if job.errors is not None:\n",
    "    print(job.error_result)\n",
    "    print(job.errors)\n",
    "    # uncomment\n",
    "    # return \"Error to load data to BigQuery\"\n",
    "else:\n",
    "    print(f\"Import to bigquery successfully  {len(jsonDataList)} records\")\n",
    "    \n",
    "#job_config.schema\n",
    "# truncate table`pongthorn.FinAssetForecast.model_forecast_performance` "
   ]
  },
  {
   "cell_type": "code",
   "execution_count": 27,
   "id": "f54298d5-6437-40ac-bbc7-ea2ff03eae6e",
   "metadata": {},
   "outputs": [],
   "source": [
    "# uncomment\n",
    "#return 'completely'"
   ]
  },
  {
   "cell_type": "code",
   "execution_count": null,
   "id": "31b6fa76-afff-421f-ba7a-9fb587776730",
   "metadata": {},
   "outputs": [],
   "source": []
  },
  {
   "cell_type": "code",
   "execution_count": 4,
   "id": "b6e5c796-ff17-4fd3-8b33-21dfccce4321",
   "metadata": {},
   "outputs": [
    {
     "name": "stdout",
     "output_type": "stream",
     "text": [
      "2023-06-03 10:00\n",
      "2023-06-10 10:00\n",
      "2023-06-17 10:00\n",
      "2023-06-24 10:00\n",
      "2023-07-01 10:00\n",
      "2023-07-08 10:00\n",
      "2023-07-15 10:00\n",
      "2023-07-22 10:00\n",
      "2023-07-29 10:00\n",
      "2023-08-05 10:00\n",
      "2023-08-12 10:00\n",
      "2023-08-19 10:00\n",
      "2023-08-26 10:00\n"
     ]
    }
   ],
   "source": [
    "# uncomment\n",
    "# Main \n",
    "# print(\"Collect prediction result to monitor performance model\")\n",
    "start_backfill='2023-06-03 10:00' # comment\n",
    "end_backfill='2023-08-26 10:00'\n",
    "period_index=pd.date_range(start=start_backfill,end=end_backfill, freq=\"W-SAT\")\n",
    "listLogDate=[ d.strftime('%Y-%m-%d %H:%M')   for  d in  period_index   ]\n",
    "for d in listLogDate:\n",
    "    print(d)\n",
    "# multiple items\n",
    "\n",
    "# listLogDate=[\n",
    "#      '2023-08-05 00:00','2023-08-12 00:00','2023-08-19 00:00','2023-08-26 00:00','2023-09-02 00:00'\n",
    "# ]\n",
    "# for  d in listLogDate:\n",
    "#   print(f\"*******************************Collect prediction result as of {d}*****************************************\")\n",
    "#   print(collect_prediction_result(d))\n",
    "#   print(\"************************************************************************************************\")\n",
    "\n",
    "# sigle item\n",
    "# collectionDate='2023-08-26 00:00' # comment    \n",
    "# print(collect_prediction_result(collectionDate))\n"
   ]
  },
  {
   "cell_type": "code",
   "execution_count": null,
   "id": "d7ee397d-ca12-4600-a26e-cb9dc4deb32c",
   "metadata": {},
   "outputs": [],
   "source": []
  }
 ],
 "metadata": {
  "kernelspec": {
   "display_name": "Python 3 (ipykernel)",
   "language": "python",
   "name": "python3"
  },
  "language_info": {
   "codemirror_mode": {
    "name": "ipython",
    "version": 3
   },
   "file_extension": ".py",
   "mimetype": "text/x-python",
   "name": "python",
   "nbconvert_exporter": "python",
   "pygments_lexer": "ipython3",
   "version": "3.10.12"
  }
 },
 "nbformat": 4,
 "nbformat_minor": 5
}
