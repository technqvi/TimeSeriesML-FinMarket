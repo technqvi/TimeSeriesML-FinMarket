{
 "cells": [
  {
   "cell_type": "code",
   "execution_count": 24,
   "id": "164a4014-3aad-47de-9c62-911d3d5a82ab",
   "metadata": {},
   "outputs": [],
   "source": [
    "import pandas as pd\n",
    "import numpy as np\n",
    "import os\n",
    "from datetime import datetime,date,timedelta\n",
    "import json\n",
    "\n",
    "import matplotlib.pyplot as plt\n",
    "import matplotlib.dates as mdates\n",
    "import seaborn as sns\n",
    "\n",
    "from google.cloud import bigquery\n",
    "from google.oauth2 import service_account\n",
    "from google.cloud.exceptions import NotFound\n",
    "from google.api_core.exceptions import BadRequest\n"
   ]
  },
  {
   "cell_type": "code",
   "execution_count": 25,
   "id": "f9cc0b00-cf00-4de3-932e-12ca05e216a0",
   "metadata": {},
   "outputs": [],
   "source": [
    "model_id='qqq-ema1-30t5-ds0115t0523'\n",
    "\n",
    "# startX  and end X and endX as predict date  must have in fin_movement_forecast\n",
    "# For make prediction , startX is the starting day to use backward/the past 60 data to make prediction the next 10 day\n",
    "startX='2023-05-31'    # use 60 past days since startX  to predict 2026-06-02 To 2026-06-11'\n",
    "endX='2023-07-04'\n",
    "\n",
    "date_col='date'"
   ]
  },
  {
   "cell_type": "code",
   "execution_count": null,
   "id": "f9cc105f-58cd-49b1-bb6e-fea179cf095e",
   "metadata": {},
   "outputs": [],
   "source": []
  },
  {
   "cell_type": "code",
   "execution_count": 26,
   "id": "4f98d430-6159-4c66-ae4c-6bfabd98f903",
   "metadata": {},
   "outputs": [
    {
     "name": "stdout",
     "output_type": "stream",
     "text": [
      "pongthorn.FinAssetForecast.fin_movement_forecast\n",
      "pongthorn.FinAssetForecast.fin_data\n",
      "pongthorn.FinAssetForecast.model_ts_metadata\n"
     ]
    }
   ],
   "source": [
    "\n",
    "projectId='pongthorn'\n",
    "dataset_id='FinAssetForecast'\n",
    "\n",
    "table_data_id=f\"{projectId}.{dataset_id}.fin_data\"\n",
    "table_id = f\"{projectId}.{dataset_id}.fin_movement_forecast\"\n",
    "table_model_id= f\"{projectId}.{dataset_id}.model_ts_metadata\"\n",
    "\n",
    "print(table_id)\n",
    "print(table_data_id)\n",
    "print(table_model_id)\n",
    "\n",
    "client = bigquery.Client(project=projectId )"
   ]
  },
  {
   "cell_type": "code",
   "execution_count": 27,
   "id": "44def24a-a904-49c7-b6cd-7304e1a88075",
   "metadata": {},
   "outputs": [],
   "source": [
    "def load_data_bq(sql:str):\n",
    " query_result=client.query(sql)\n",
    " df=query_result.to_dataframe()\n",
    " return df\n",
    "\n"
   ]
  },
  {
   "cell_type": "markdown",
   "id": "95fac79b-f3e3-420c-af2f-a9f2355e3d7d",
   "metadata": {},
   "source": [
    "# Get Model Meta"
   ]
  },
  {
   "cell_type": "code",
   "execution_count": 28,
   "id": "6af8a0f4-ebd7-44ce-9317-9eef92d360e4",
   "metadata": {},
   "outputs": [
    {
     "name": "stdout",
     "output_type": "stream",
     "text": [
      "\n",
      "SELECT * FROM `pongthorn.FinAssetForecast.model_ts_metadata`  where model_id='qqq-ema1-30t5-ds0115t0523'\n",
      "\n",
      "===============================QQQ - EMA1=================================\n",
      "model_id                                         qqq-ema1-30t5-ds0115t0523\n",
      "asset                                                                  QQQ\n",
      "prediction                                                            EMA1\n",
      "input_sequence_length                                                   30\n",
      "output_sequence_length                                                   5\n",
      "gs_model_path               gs://demo-ts-forecast-pongthorn/model_qqq_ema1\n",
      "local_model_path                                      model/model_qqq_ema1\n",
      "model_file                         EMA1_30To5_QQQ_E200S20-Y2015-2023_ma.h5\n",
      "scaler_file                    scaler_EMA1_30To5_QQQ_E200S20-Y2015-2023.gz\n",
      "scaler_pred_file          scaler_pred_EMA1_30To5_QQQ_E200S20-Y2015-2023.gz\n",
      "Name: 0, dtype: object\n"
     ]
    }
   ],
   "source": [
    "sqlModelMt=f\"\"\"\n",
    "SELECT * FROM `{table_model_id}`  where model_id='{model_id}'\n",
    "\"\"\"\n",
    "print(sqlModelMt)\n",
    "dfModelMeta=load_data_bq(sqlModelMt)\n",
    "if dfModelMeta.empty==False:\n",
    "    modelMeta=dfModelMeta.iloc[0,:]\n",
    "    asset_name=modelMeta['asset']\n",
    "    prediction=modelMeta['prediction']\n",
    "    print(f\"==============================={asset_name} - {prediction}=================================\")\n",
    "    print(modelMeta)\n",
    "    \n",
    "else: \n",
    "    raise Exception(f\"Not found model id  {model_id}\")\n"
   ]
  },
  {
   "cell_type": "markdown",
   "id": "ef9047db-6e97-45aa-b37e-cc6d82d43e48",
   "metadata": {},
   "source": [
    "# Visualize All Feature on particualr period"
   ]
  },
  {
   "cell_type": "code",
   "execution_count": 29,
   "id": "3f563734-8de0-4520-862f-36d96bbeb1f7",
   "metadata": {},
   "outputs": [],
   "source": [
    "# # For view chart\n",
    "# startPriceData='2023-01-01'\n",
    "# endPriceData='2023-06-01'\n",
    "# sqlData=f\"\"\"\n",
    "# SELECT * FROM `pongthorn.FinAssetForecast.fin_data` \n",
    "# where (Date>='{startPriceData}' and Date<='{endPriceData}')\n",
    "# and Symbol='{asset_name}'\n",
    "# \"\"\"\n",
    "# print(sqlData)\n",
    "\n",
    "# dfData=load_data_bq(sqlData)\n",
    "# dfData=dfData.set_index('Date')\n",
    "# dfData=dfData.sort_index()\n",
    "\n",
    "# plt.subplots(2, 1, figsize = (20, 10),sharex=True)\n",
    "\n",
    "# ax1 = plt.subplot(2, 1, 1)\n",
    "# plt.plot(dfData.index,dfData[['Close','EMA1','EMA2']])\n",
    "# plt.ylabel('Price & EMA')\n",
    "\n",
    "# ax2 = plt.subplot(2, 1, 2)\n",
    "# plt.plot(dfData.index,dfData[['MACD','SIGNAL']])\n",
    "# plt.xlabel('Date')\n",
    "# plt.ylabel('MACD & Signal')\n",
    "\n",
    "# plt.show()\n"
   ]
  },
  {
   "cell_type": "code",
   "execution_count": 30,
   "id": "001948b5-8ef8-46d7-af6e-53b2ef82ce0a",
   "metadata": {},
   "outputs": [],
   "source": [
    "def get_forecasting_result_data(request):\n",
    "\n",
    "    if   request is not None:  \n",
    "        start_date=request[\"start_date\"]\n",
    "        prediction_name=request[\"prediction_name\"]\n",
    "        asset_name=request[\"asset_name\"]\n",
    "        model_id=request[\"model_id\"]\n",
    "    else:\n",
    "        raise Exception(\"No request parameters such as start_date,prediction_name,asset_name\")\n",
    "\n",
    "    print(\"1.How far back in time does model want to apply as input to make prediction\")\n",
    "\n",
    "    sqlInput=f\"\"\"\n",
    "    select t.pred_timestamp,t.asset_name,t.prediction_name,\n",
    "    t_feature.input_date as {date_col},t_feature.input_feature as {prediction_name}\n",
    "    from  `{table_id}` t\n",
    "    cross join unnest(t.feature_for_prediction) t_feature\n",
    "    where t.prediction_date='{start_date}' and t.model_id='{model_id}'\n",
    "    order by  t.pred_timestamp,t_feature.input_date\n",
    "    \"\"\"\n",
    "    print(sqlInput)\n",
    "    dfInput=load_data_bq(sqlInput)\n",
    "    dfInput=dfInput.drop_duplicates(subset=[date_col,'asset_name','prediction_name'],keep='last',)\n",
    "    dfInput[date_col]=pd.to_datetime(dfInput[date_col],format='%Y-%m-%d')\n",
    "    dfInput.set_index(date_col,inplace=True)\n",
    "\n",
    "    input_sequence_length=len(dfInput)\n",
    "    print(f\"input_sequence_length={input_sequence_length}\")\n",
    "    print(\"================================================================================================\")\n",
    "\n",
    "    print(dfInput.info())\n",
    "    print(dfInput[['asset_name','prediction_name' ,prediction_name]])\n",
    "\n",
    "    print(\"2.How far in advance does model want to  make prediction\")\n",
    "\n",
    "\n",
    "    sqlOutput=f\"\"\"\n",
    "    select t.pred_timestamp,t.asset_name,t.prediction_name,\n",
    "    t_pred.output_date as {date_col},t_pred.output_value as {prediction_name}\n",
    "    from  `pongthorn.FinAssetForecast.fin_movement_forecast` t\n",
    "    cross join unnest(t.prediction_result) t_pred\n",
    "    where t.prediction_date='{start_date}'  and t.model_id='{model_id}'\n",
    "    order by  t.pred_timestamp,t_pred.output_date\n",
    "    \"\"\"\n",
    "    print(sqlOutput)\n",
    "    dfOutput=load_data_bq(sqlOutput)\n",
    "    dfOutput=dfOutput.drop_duplicates(subset=[date_col,'asset_name','prediction_name'],keep='last',)\n",
    "    dfOutput[date_col]=pd.to_datetime(dfOutput[date_col],format='%Y-%m-%d')\n",
    "    dfOutput.set_index(date_col,inplace=True)\n",
    "\n",
    "    output_sequence_length=len(dfOutput)\n",
    "    print(f\"output_sequence_length={output_sequence_length}\")\n",
    "    print(\"================================================================================================\")\n",
    "\n",
    "    print(dfOutput.info())\n",
    "    print(dfOutput[['asset_name','prediction_name' ,prediction_name]])\n",
    "\n",
    "    print(\"3.Get Real Data  to compare to prediction\")\n",
    "\n",
    "    # get actual data since the fist day of input and the last day of output(if covered)\n",
    "    startFinData=dfInput.index.min().strftime('%Y-%m-%d')\n",
    "    endFindData=dfOutput.index.max().strftime('%Y-%m-%d')\n",
    "\n",
    "    sqlData=f\"\"\"\n",
    "    select Date as {date_col},{prediction_name}, ImportDateTime, from `{table_data_id}` \n",
    "    where (Date>='{startFinData}' and Date<='{endFindData}') and Symbol='{asset_name}'\n",
    "    order by ImportDateTime,Date\n",
    "    \"\"\"\n",
    "    print(sqlData)\n",
    "\n",
    "    dfRealData=load_data_bq(sqlData)\n",
    "    dfRealData=dfRealData.drop_duplicates(subset=[date_col],keep='last',)\n",
    "    dfRealData[date_col]=pd.to_datetime(dfRealData[date_col],format='%Y-%m-%d')\n",
    "    dfRealData.set_index(date_col,inplace=True)\n",
    "    print(dfRealData.info())\n",
    "    print(dfRealData[[prediction_name]])\n",
    "\n",
    "\n",
    "    return {'actual_price':dfRealData,'input':dfInput,'output':dfOutput }\n"
   ]
  },
  {
   "cell_type": "code",
   "execution_count": null,
   "id": "7f5b2ffc-7f3c-42cc-bdf5-1c9afb86ff38",
   "metadata": {},
   "outputs": [],
   "source": []
  },
  {
   "cell_type": "markdown",
   "id": "22f5583f-141e-4093-b6d6-e377b4a57802",
   "metadata": {},
   "source": [
    "# Visualize Prediction Result"
   ]
  },
  {
   "cell_type": "code",
   "execution_count": 31,
   "id": "0bb6c18d-c90c-44f8-a92a-6feec59efa9d",
   "metadata": {},
   "outputs": [
    {
     "name": "stdout",
     "output_type": "stream",
     "text": [
      "DatetimeIndex(['2023-05-31', '2023-06-01', '2023-06-02', '2023-06-05',\n",
      "               '2023-06-06', '2023-06-07', '2023-06-08', '2023-06-09',\n",
      "               '2023-06-12', '2023-06-13', '2023-06-14', '2023-06-15',\n",
      "               '2023-06-16', '2023-06-20', '2023-06-21', '2023-06-22',\n",
      "               '2023-06-23', '2023-06-26', '2023-06-27', '2023-06-28',\n",
      "               '2023-06-29', '2023-06-30', '2023-07-03'],\n",
      "              dtype='datetime64[ns]', freq='C')\n"
     ]
    }
   ],
   "source": [
    "from pandas.tseries.holiday import USFederalHolidayCalendar\n",
    "from pandas.tseries.offsets import CustomBusinessDay\n",
    "us_bd = CustomBusinessDay(calendar=USFederalHolidayCalendar())\n",
    "dateRange=pd.date_range(start=startX,end=endX,freq=us_bd)\n",
    "\n",
    "\n",
    "print(dateRange)"
   ]
  },
  {
   "cell_type": "code",
   "execution_count": 32,
   "id": "b572fd4c-2e9d-4946-b8a3-629afe2476bd",
   "metadata": {},
   "outputs": [
    {
     "name": "stdout",
     "output_type": "stream",
     "text": [
      "23-2023-05-31-2023-07-03\n",
      "\n",
      "    select count(*) as noDaysT0Vis from `pongthorn.FinAssetForecast.fin_movement_forecast` \n",
      "    where prediction_name='EMA1' and  asset_name='QQQ' \n",
      "    and (prediction_date>='2023-05-31' and prediction_date<='2023-07-03')\n",
      "    \n"
     ]
    },
    {
     "ename": "Exception",
     "evalue": "No day to predict 23 != 0 No day in BQ",
     "output_type": "error",
     "traceback": [
      "\u001b[1;31m---------------------------------------------------------------------------\u001b[0m",
      "\u001b[1;31mException\u001b[0m                                 Traceback (most recent call last)",
      "\u001b[1;32m~\\AppData\\Local\\Temp\\ipykernel_7124\\1976885529.py\u001b[0m in \u001b[0;36m<cell line: 2>\u001b[1;34m()\u001b[0m\n\u001b[0;32m     12\u001b[0m     \u001b[0mdfXYZ\u001b[0m\u001b[1;33m=\u001b[0m\u001b[0mload_data_bq\u001b[0m\u001b[1;33m(\u001b[0m\u001b[0msqlDateRange\u001b[0m\u001b[1;33m)\u001b[0m\u001b[1;33m\u001b[0m\u001b[1;33m\u001b[0m\u001b[0m\n\u001b[0;32m     13\u001b[0m     \u001b[1;32mif\u001b[0m \u001b[0mdfXYZ\u001b[0m\u001b[1;33m.\u001b[0m\u001b[0miloc\u001b[0m\u001b[1;33m[\u001b[0m\u001b[1;36m0\u001b[0m\u001b[1;33m,\u001b[0m\u001b[1;36m0\u001b[0m\u001b[1;33m]\u001b[0m\u001b[1;33m!=\u001b[0m\u001b[0mnoDaysT0Vis\u001b[0m\u001b[1;33m:\u001b[0m\u001b[1;33m\u001b[0m\u001b[1;33m\u001b[0m\u001b[0m\n\u001b[1;32m---> 14\u001b[1;33m       \u001b[1;32mraise\u001b[0m \u001b[0mException\u001b[0m\u001b[1;33m(\u001b[0m\u001b[1;34mf\"No day to predict {noDaysT0Vis} != {dfXYZ.iloc[0,0]} No day in BQ\"\u001b[0m\u001b[1;33m)\u001b[0m\u001b[1;33m\u001b[0m\u001b[1;33m\u001b[0m\u001b[0m\n\u001b[0m",
      "\u001b[1;31mException\u001b[0m: No day to predict 23 != 0 No day in BQ"
     ]
    }
   ],
   "source": [
    "noDaysT0Vis=len(dateRange)\n",
    "if noDaysT0Vis>0:\n",
    "    start_query=dateRange[0].strftime('%Y-%m-%d')\n",
    "    end_query=dateRange[noDaysT0Vis-1].strftime('%Y-%m-%d')\n",
    "    print(f\"{noDaysT0Vis}-{start_query}-{end_query}\")\n",
    "    sqlDateRange=f\"\"\"\n",
    "    select count(*) as noDaysT0Vis from `{table_id}` \n",
    "    where prediction_name='{prediction}' and  asset_name='{asset_name}' \n",
    "    and (prediction_date>='{start_query}' and prediction_date<='{end_query}')\n",
    "    \"\"\"\n",
    "    print(sqlDateRange)\n",
    "    dfXYZ=load_data_bq(sqlDateRange)\n",
    "    if dfXYZ.iloc[0,0]!=noDaysT0Vis:\n",
    "      raise Exception(f\"No day to predict {noDaysT0Vis} != {dfXYZ.iloc[0,0]} No day in BQ\")"
   ]
  },
  {
   "cell_type": "code",
   "execution_count": null,
   "id": "b4aa2272-6bd4-47e1-9e1e-20c1626fe4c7",
   "metadata": {},
   "outputs": [],
   "source": []
  },
  {
   "cell_type": "code",
   "execution_count": null,
   "id": "ce8b16ff-8953-4c15-8aa1-99b69670e62a",
   "metadata": {},
   "outputs": [],
   "source": [
    "listDate =  [  d.strftime(\"%Y-%m-%d\")  for d in dateRange.tolist()]\n",
    "dictData={}\n",
    "for d in listDate:\n",
    "    print(f\"==================================={d}===================================\")\n",
    "    request={'start_date':d,'prediction_name':prediction,'asset_name':asset_name,'model_id':model_id}\n",
    "    # data=get_forecasting_result_data(request)\n",
    "    # dictData[d]=data  \n",
    "    print(f\"========================================================================\")"
   ]
  },
  {
   "cell_type": "code",
   "execution_count": null,
   "id": "e74b9f4c-2c98-49cc-90c8-ed0f3aa6746e",
   "metadata": {},
   "outputs": [],
   "source": [
    "for d,data in dictData.items():\n",
    "    fig, ax = plt.subplots(figsize=(10, 5))\n",
    "    plt.title(f\"{asset_name} - {d}\", fontsize=14)\n",
    "    sns.lineplot(data = data['actual_price'][prediction], linewidth=4.0,  markers='o',ax=ax,color='black')\n",
    "    sns.lineplot(data = data['input'][prediction], linewidth=2.0, ax=ax,color='blue')\n",
    "    sns.lineplot(data = data['output'][prediction], linewidth=2.0, ax=ax,color='green')"
   ]
  },
  {
   "cell_type": "code",
   "execution_count": null,
   "id": "93ade35c-76a1-4ce9-ae5c-8559fe180bcb",
   "metadata": {},
   "outputs": [],
   "source": [
    "listMAE=[]\n",
    "from sklearn.metrics import mean_absolute_error\n",
    "for date,data in dictData.items():    \n",
    " print(f\"============={date}=============\")  \n",
    " dfPred=data['output'][[prediction]]\n",
    " dfPred.columns=[f'pred_{prediction}']\n",
    "\n",
    " dfX=data['actual_price'][[prediction]]\n",
    " dfX.columns=[f'actual_{prediction}']\n",
    "\n",
    " # print(dfPred)\n",
    " # print(dfX)\n",
    " dfCompare=pd.merge(left=dfPred,right=dfX,how='inner',right_index=True,left_index=True)\n",
    " print(dfCompare)    \n",
    " if dfCompare.empty==False:     \n",
    "     MAE = mean_absolute_error(dfCompare[f'actual_{prediction}'], dfCompare[f'pred_{prediction}'])\n",
    "     listMAE.append(MAE)\n",
    "     print(f'MAE Actuat vs Pred: {np.round(MAE, 2)}')\n",
    "    \n",
    "print(np.average(listMAE))"
   ]
  },
  {
   "cell_type": "code",
   "execution_count": null,
   "id": "2642ec9f-264a-4b69-977e-778e43c9ba5b",
   "metadata": {},
   "outputs": [],
   "source": []
  },
  {
   "cell_type": "code",
   "execution_count": null,
   "id": "5370dffe-b548-4bd4-8c99-779d4070e8f0",
   "metadata": {},
   "outputs": [],
   "source": []
  }
 ],
 "metadata": {
  "kernelspec": {
   "display_name": "Python 3 (ipykernel)",
   "language": "python",
   "name": "python3"
  },
  "language_info": {
   "codemirror_mode": {
    "name": "ipython",
    "version": 3
   },
   "file_extension": ".py",
   "mimetype": "text/x-python",
   "name": "python",
   "nbconvert_exporter": "python",
   "pygments_lexer": "ipython3",
   "version": "3.9.16"
  }
 },
 "nbformat": 4,
 "nbformat_minor": 5
}
