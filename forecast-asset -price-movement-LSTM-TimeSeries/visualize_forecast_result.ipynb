{
 "cells": [
  {
   "cell_type": "code",
   "execution_count": 24,
   "id": "164a4014-3aad-47de-9c62-911d3d5a82ab",
   "metadata": {},
   "outputs": [],
   "source": [
    "import pandas as pd\n",
    "import numpy as np\n",
    "import os\n",
    "from datetime import datetime,date,timedelta\n",
    "import json\n",
    "\n",
    "import matplotlib.pyplot as plt\n",
    "import matplotlib.dates as mdates\n",
    "import seaborn as sns\n",
    "\n",
    "from google.cloud import bigquery\n",
    "from google.oauth2 import service_account\n",
    "from google.cloud.exceptions import NotFound\n",
    "from google.api_core.exceptions import BadRequest"
   ]
  },
  {
   "cell_type": "code",
   "execution_count": 25,
   "id": "f9cc0b00-cf00-4de3-932e-12ca05e216a0",
   "metadata": {},
   "outputs": [],
   "source": [
    "model_id='qqq-ema1-30t5-ds0115t0523'\n",
    "\n",
    "# startX  and end X and endX as predict date  must have in fin_movement_forecast\n",
    "# For make prediction , startX is the starting day to use backward/the past 60 data to make prediction the next 10 day\n",
    "startX='2023-05-31'    # use 60 past days since startX  to predict 2026-06-02 To 2026-06-11'\n",
    "endX='2023-05-31'\n",
    "\n",
    "date_col='date'"
   ]
  },
  {
   "cell_type": "code",
   "execution_count": null,
   "id": "f9cc105f-58cd-49b1-bb6e-fea179cf095e",
   "metadata": {},
   "outputs": [],
   "source": []
  },
  {
   "cell_type": "code",
   "execution_count": 26,
   "id": "4f98d430-6159-4c66-ae4c-6bfabd98f903",
   "metadata": {},
   "outputs": [
    {
     "name": "stdout",
     "output_type": "stream",
     "text": [
      "pongthorn.FinAssetForecast.fin_movement_forecast\n",
      "pongthorn.FinAssetForecast.fin_data\n",
      "pongthorn.FinAssetForecast.model_ts_metadata\n"
     ]
    }
   ],
   "source": [
    "json_credential_file=r'C:\\Windows\\pongthorn-5decdc5124f5.json'\n",
    "projectId='pongthorn'\n",
    "dataset_id='FinAssetForecast'\n",
    "\n",
    "table_data_id=f\"{projectId}.{dataset_id}.fin_data\"\n",
    "table_id = f\"{projectId}.{dataset_id}.fin_movement_forecast\"\n",
    "table_model_id= f\"{projectId}.{dataset_id}.model_ts_metadata\"\n",
    "\n",
    "print(table_id)\n",
    "print(table_data_id)\n",
    "print(table_model_id)\n",
    "\n",
    "\n",
    "credentials = service_account.Credentials.from_service_account_file(json_credential_file)\n",
    "client = bigquery.Client(project=projectId,credentials=credentials )"
   ]
  },
  {
   "cell_type": "code",
   "execution_count": 27,
   "id": "44def24a-a904-49c7-b6cd-7304e1a88075",
   "metadata": {},
   "outputs": [],
   "source": [
    "def load_data_bq(sql:str):\n",
    " query_result=client.query(sql)\n",
    " df=query_result.to_dataframe()\n",
    " return df\n",
    "\n"
   ]
  },
  {
   "cell_type": "markdown",
   "id": "95fac79b-f3e3-420c-af2f-a9f2355e3d7d",
   "metadata": {},
   "source": [
    "# Get Model Meta"
   ]
  },
  {
   "cell_type": "code",
   "execution_count": 28,
   "id": "6af8a0f4-ebd7-44ce-9317-9eef92d360e4",
   "metadata": {},
   "outputs": [
    {
     "name": "stdout",
     "output_type": "stream",
     "text": [
      "\n",
      "SELECT * FROM `pongthorn.FinAssetForecast.model_ts_metadata`  where model_id='qqq-ema1-30t5-ds0115t0523'\n",
      "\n",
      "QQQ - EMA1\n"
     ]
    }
   ],
   "source": [
    "sqlModelMt=f\"\"\"\n",
    "SELECT * FROM `{table_model_id}`  where model_id='{model_id}'\n",
    "\"\"\"\n",
    "print(sqlModelMt)\n",
    "dfModelMeta=load_data_bq(sqlModelMt)\n",
    "if dfModelMeta.empty==False:\n",
    "    modelMeta=dfModelMeta.iloc[0,:]\n",
    "    asset_name=modelMeta['asset']\n",
    "    prediction=modelMeta['prediction']\n",
    "    print(f\"{asset_name} - {prediction}\")\n",
    "    \n",
    "else: \n",
    "    raise Exception(f\"Not found model id  {model_id}\")\n"
   ]
  },
  {
   "cell_type": "markdown",
   "id": "ef9047db-6e97-45aa-b37e-cc6d82d43e48",
   "metadata": {},
   "source": [
    "# Visualize All Feature on particualr period"
   ]
  },
  {
   "cell_type": "code",
   "execution_count": 29,
   "id": "3f563734-8de0-4520-862f-36d96bbeb1f7",
   "metadata": {},
   "outputs": [],
   "source": [
    "# # For view chart\n",
    "# startPriceData='2023-01-01'\n",
    "# endPriceData='2023-06-01'\n",
    "# sqlData=f\"\"\"\n",
    "# SELECT * FROM `pongthorn.FinAssetForecast.fin_data` \n",
    "# where (Date>='{startPriceData}' and Date<='{endPriceData}')\n",
    "# and Symbol='{asset_name}'\n",
    "# \"\"\"\n",
    "# print(sqlData)\n",
    "\n",
    "# dfData=load_data_bq(sqlData)\n",
    "# dfData=dfData.set_index('Date')\n",
    "# dfData=dfData.sort_index()\n",
    "\n",
    "# plt.subplots(2, 1, figsize = (20, 10),sharex=True)\n",
    "\n",
    "# ax1 = plt.subplot(2, 1, 1)\n",
    "# plt.plot(dfData.index,dfData[['Close','EMA1','EMA2']])\n",
    "# plt.ylabel('Price & EMA')\n",
    "\n",
    "# ax2 = plt.subplot(2, 1, 2)\n",
    "# plt.plot(dfData.index,dfData[['MACD','SIGNAL']])\n",
    "# plt.xlabel('Date')\n",
    "# plt.ylabel('MACD & Signal')\n",
    "\n",
    "# plt.show()\n"
   ]
  },
  {
   "cell_type": "code",
   "execution_count": 30,
   "id": "001948b5-8ef8-46d7-af6e-53b2ef82ce0a",
   "metadata": {},
   "outputs": [],
   "source": [
    "def get_forecasting_result_data(request):\n",
    "\n",
    "    if   request is not None:  \n",
    "        start_date=request[\"start_date\"]\n",
    "        prediction_name=request[\"prediction_name\"]\n",
    "        asset_name=request[\"asset_name\"]\n",
    "    else:\n",
    "        raise Exception(\"No request parameters such as start_date,prediction_name,asset_name\")\n",
    "\n",
    "    print(\"1.How far back in time does model want to apply as input to make prediction\")\n",
    "\n",
    "    sqlInput=f\"\"\"\n",
    "    select t.pred_timestamp,t.asset_name,t.prediction_name,\n",
    "    t_feature.input_date as {date_col},t_feature.input_feature as {prediction_name}\n",
    "    from  `{table_id}` t\n",
    "    cross join unnest(t.feature_for_prediction) t_feature\n",
    "    where t.prediction_date='{start_date}' and t.asset_name='{asset_name}' and t.prediction_name='{prediction_name}'\n",
    "    order by  t.pred_timestamp,t_feature.input_date\n",
    "    \"\"\"\n",
    "    print(sqlInput)\n",
    "    dfInput=load_data_bq(sqlInput)\n",
    "    dfInput=dfInput.drop_duplicates(subset=[date_col,'asset_name','prediction_name'],keep='last',)\n",
    "    dfInput[date_col]=pd.to_datetime(dfInput[date_col],format='%Y-%m-%d')\n",
    "    dfInput.set_index(date_col,inplace=True)\n",
    "\n",
    "    input_sequence_length=len(dfInput)\n",
    "    print(f\"input_sequence_length={input_sequence_length}\")\n",
    "    print(\"================================================================================================\")\n",
    "\n",
    "    print(dfInput.info())\n",
    "    print(dfInput[['asset_name','prediction_name' ,prediction_name]])\n",
    "\n",
    "    print(\"2.How far in advance does model want to  make prediction\")\n",
    "\n",
    "\n",
    "    sqlOutput=f\"\"\"\n",
    "    select t.pred_timestamp,t.asset_name,t.prediction_name,\n",
    "    t_pred.output_date as {date_col},t_pred.output_value as {prediction_name}\n",
    "    from  `pongthorn.FinAssetForecast.fin_movement_forecast` t\n",
    "    cross join unnest(t.prediction_result) t_pred\n",
    "    where t.prediction_date='{start_date}' and t.asset_name='{asset_name}' and t.prediction_name='{prediction_name}'\n",
    "    order by  t.pred_timestamp,t_pred.output_date\n",
    "    \"\"\"\n",
    "    print(sqlOutput)\n",
    "    dfOutput=load_data_bq(sqlOutput)\n",
    "    dfOutput=dfOutput.drop_duplicates(subset=[date_col,'asset_name','prediction_name'],keep='last',)\n",
    "    dfOutput[date_col]=pd.to_datetime(dfOutput[date_col],format='%Y-%m-%d')\n",
    "    dfOutput.set_index(date_col,inplace=True)\n",
    "\n",
    "    output_sequence_length=len(dfOutput)\n",
    "    print(f\"output_sequence_length={output_sequence_length}\")\n",
    "    print(\"================================================================================================\")\n",
    "\n",
    "    print(dfOutput.info())\n",
    "    print(dfOutput[['asset_name','prediction_name' ,prediction_name]])\n",
    "\n",
    "    print(\"3.Get Real Data  to compare to prediction\")\n",
    "\n",
    "    # get actual data since the fist day of input and the last day of output(if covered)\n",
    "    startFinData=dfInput.index.min().strftime('%Y-%m-%d')\n",
    "    endFindData=dfOutput.index.max().strftime('%Y-%m-%d')\n",
    "\n",
    "    sqlData=f\"\"\"\n",
    "    select Date as {date_col},{prediction_name}, ImportDateTime, from `{table_data_id}` \n",
    "    where (Date>='{startFinData}' and Date<='{endFindData}') and Symbol='{asset_name}'\n",
    "    order by ImportDateTime,Date\n",
    "    \"\"\"\n",
    "    print(sqlData)\n",
    "\n",
    "    dfRealData=load_data_bq(sqlData)\n",
    "    dfRealData=dfRealData.drop_duplicates(subset=[date_col],keep='last',)\n",
    "    dfRealData[date_col]=pd.to_datetime(dfRealData[date_col],format='%Y-%m-%d')\n",
    "    dfRealData.set_index(date_col,inplace=True)\n",
    "    print(dfRealData.info())\n",
    "    print(dfRealData[[prediction_name]])\n",
    "\n",
    "\n",
    "    return {'actual_price':dfRealData,'input':dfInput,'output':dfOutput }\n"
   ]
  },
  {
   "cell_type": "code",
   "execution_count": null,
   "id": "7f5b2ffc-7f3c-42cc-bdf5-1c9afb86ff38",
   "metadata": {},
   "outputs": [],
   "source": []
  },
  {
   "cell_type": "markdown",
   "id": "22f5583f-141e-4093-b6d6-e377b4a57802",
   "metadata": {},
   "source": [
    "# Visualize Prediction Result"
   ]
  },
  {
   "cell_type": "code",
   "execution_count": 31,
   "id": "0bb6c18d-c90c-44f8-a92a-6feec59efa9d",
   "metadata": {},
   "outputs": [
    {
     "name": "stdout",
     "output_type": "stream",
     "text": [
      "DatetimeIndex(['2023-05-31'], dtype='datetime64[ns]', freq='B')\n"
     ]
    }
   ],
   "source": [
    "dateRange=pd.date_range(start=startX,end=endX,freq='B')\n",
    "print(dateRange)"
   ]
  },
  {
   "cell_type": "code",
   "execution_count": 32,
   "id": "b572fd4c-2e9d-4946-b8a3-629afe2476bd",
   "metadata": {},
   "outputs": [
    {
     "name": "stdout",
     "output_type": "stream",
     "text": [
      "1-2023-05-31-2023-05-31\n",
      "\n",
      "    select count(*) as noDaysT0Vis from `pongthorn.FinAssetForecast.fin_movement_forecast` \n",
      "    where prediction_name='EMA1' and  asset_name='QQQ' \n",
      "    and (prediction_date>='2023-05-31' and prediction_date<='2023-05-31')\n",
      "    \n"
     ]
    }
   ],
   "source": [
    "noDaysT0Vis=len(dateRange)\n",
    "if noDaysT0Vis>0:\n",
    "    start_query=dateRange[0].strftime('%Y-%m-%d')\n",
    "    end_query=dateRange[noDaysT0Vis-1].strftime('%Y-%m-%d')\n",
    "    print(f\"{noDaysT0Vis}-{start_query}-{end_query}\")\n",
    "    sqlDateRange=f\"\"\"\n",
    "    select count(*) as noDaysT0Vis from `{table_id}` \n",
    "    where prediction_name='{prediction}' and  asset_name='{asset_name}' \n",
    "    and (prediction_date>='{start_query}' and prediction_date<='{end_query}')\n",
    "    \"\"\"\n",
    "    print(sqlDateRange)\n",
    "    dfXYZ=load_data_bq(sqlDateRange)\n",
    "    if dfXYZ.iloc[0,0]!=noDaysT0Vis:\n",
    "      raise Exception(f\"No day to predict {noDaysT0Vis} != {dfXYZ.iloc[0,0]} No day in BQ\")"
   ]
  },
  {
   "cell_type": "code",
   "execution_count": null,
   "id": "b4aa2272-6bd4-47e1-9e1e-20c1626fe4c7",
   "metadata": {},
   "outputs": [],
   "source": []
  },
  {
   "cell_type": "code",
   "execution_count": 33,
   "id": "ce8b16ff-8953-4c15-8aa1-99b69670e62a",
   "metadata": {},
   "outputs": [
    {
     "name": "stdout",
     "output_type": "stream",
     "text": [
      "===================================2023-05-31===================================\n",
      "1.How far back in time does model want to apply as input to make prediction\n",
      "\n",
      "    select t.pred_timestamp,t.asset_name,t.prediction_name,\n",
      "    t_feature.input_date as date,t_feature.input_feature as EMA1\n",
      "    from  `pongthorn.FinAssetForecast.fin_movement_forecast` t\n",
      "    cross join unnest(t.feature_for_prediction) t_feature\n",
      "    where t.prediction_date='2023-05-31' and t.asset_name='QQQ' and t.prediction_name='EMA1'\n",
      "    order by  t.pred_timestamp,t_feature.input_date\n",
      "    \n",
      "input_sequence_length=30\n",
      "================================================================================================\n",
      "<class 'pandas.core.frame.DataFrame'>\n",
      "DatetimeIndex: 30 entries, 2023-04-19 to 2023-05-31\n",
      "Data columns (total 4 columns):\n",
      " #   Column           Non-Null Count  Dtype              \n",
      "---  ------           --------------  -----              \n",
      " 0   pred_timestamp   30 non-null     datetime64[ns, UTC]\n",
      " 1   asset_name       30 non-null     object             \n",
      " 2   prediction_name  30 non-null     object             \n",
      " 3   EMA1             30 non-null     float64            \n",
      "dtypes: datetime64[ns, UTC](1), float64(1), object(2)\n",
      "memory usage: 1.2+ KB\n",
      "None\n",
      "           asset_name prediction_name      EMA1\n",
      "date                                           \n",
      "2023-04-19        QQQ            EMA1  317.4400\n",
      "2023-04-20        QQQ            EMA1  317.2291\n",
      "2023-04-21        QQQ            EMA1  317.1165\n",
      "2023-04-24        QQQ            EMA1  316.9044\n",
      "2023-04-25        QQQ            EMA1  315.6473\n",
      "2023-04-26        QQQ            EMA1  314.9605\n",
      "2023-04-27        QQQ            EMA1  315.9404\n",
      "2023-04-28        QQQ            EMA1  317.1440\n",
      "2023-05-01        QQQ            EMA1  318.0614\n",
      "2023-05-02        QQQ            EMA1  318.3012\n",
      "2023-05-03        QQQ            EMA1  318.1173\n",
      "2023-05-04        QQQ            EMA1  317.7633\n",
      "2023-05-05        QQQ            EMA1  318.6954\n",
      "2023-05-08        QQQ            EMA1  319.6035\n",
      "2023-05-09        QQQ            EMA1  319.9738\n",
      "2023-05-10        QQQ            EMA1  320.9131\n",
      "2023-05-11        QQQ            EMA1  321.8743\n",
      "2023-05-12        QQQ            EMA1  322.4481\n",
      "2023-05-15        QQQ            EMA1  323.2375\n",
      "2023-05-16        QQQ            EMA1  323.9507\n",
      "2023-05-17        QQQ            EMA1  325.2542\n",
      "2023-05-18        QQQ            EMA1  327.4389\n",
      "2023-05-19        QQQ            EMA1  329.0882\n",
      "2023-05-22        QQQ            EMA1  330.6431\n",
      "2023-05-23        QQQ            EMA1  331.1371\n",
      "2023-05-24        QQQ            EMA1  331.2303\n",
      "2023-05-25        QQQ            EMA1  332.7739\n",
      "2023-05-26        QQQ            EMA1  335.6150\n",
      "2023-05-30        QQQ            EMA1  338.2268\n",
      "2023-05-31        QQQ            EMA1  340.0019\n",
      "2.How far in advance does model want to  make prediction\n",
      "\n",
      "    select t.pred_timestamp,t.asset_name,t.prediction_name,\n",
      "    t_pred.output_date as date,t_pred.output_value as EMA1\n",
      "    from  `pongthorn.FinAssetForecast.fin_movement_forecast` t\n",
      "    cross join unnest(t.prediction_result) t_pred\n",
      "    where t.prediction_date='2023-05-31' and t.asset_name='QQQ' and t.prediction_name='EMA1'\n",
      "    order by  t.pred_timestamp,t_pred.output_date\n",
      "    \n",
      "output_sequence_length=5\n",
      "================================================================================================\n",
      "<class 'pandas.core.frame.DataFrame'>\n",
      "DatetimeIndex: 5 entries, 2023-06-01 to 2023-06-07\n",
      "Data columns (total 4 columns):\n",
      " #   Column           Non-Null Count  Dtype              \n",
      "---  ------           --------------  -----              \n",
      " 0   pred_timestamp   5 non-null      datetime64[ns, UTC]\n",
      " 1   asset_name       5 non-null      object             \n",
      " 2   prediction_name  5 non-null      object             \n",
      " 3   EMA1             5 non-null      float64            \n",
      "dtypes: datetime64[ns, UTC](1), float64(1), object(2)\n",
      "memory usage: 200.0+ bytes\n",
      "None\n",
      "           asset_name prediction_name        EMA1\n",
      "date                                             \n",
      "2023-06-01        QQQ            EMA1  346.372589\n",
      "2023-06-02        QQQ            EMA1  346.571930\n",
      "2023-06-05        QQQ            EMA1  347.142426\n",
      "2023-06-06        QQQ            EMA1  347.907288\n",
      "2023-06-07        QQQ            EMA1  347.981842\n",
      "3.Get Real Data  to compare to prediction\n",
      "\n",
      "    select Date as date,EMA1, ImportDateTime, from `pongthorn.FinAssetForecast.fin_data` \n",
      "    where (Date>='2023-04-19' and Date<='2023-06-07') and Symbol='QQQ'\n",
      "    order by ImportDateTime,Date\n",
      "    \n",
      "<class 'pandas.core.frame.DataFrame'>\n",
      "DatetimeIndex: 35 entries, 2023-04-19 to 2023-06-07\n",
      "Data columns (total 2 columns):\n",
      " #   Column          Non-Null Count  Dtype         \n",
      "---  ------          --------------  -----         \n",
      " 0   EMA1            35 non-null     float64       \n",
      " 1   ImportDateTime  35 non-null     datetime64[ns]\n",
      "dtypes: datetime64[ns](1), float64(1)\n",
      "memory usage: 840.0 bytes\n",
      "None\n",
      "                EMA1\n",
      "date                \n",
      "2023-04-19  317.4400\n",
      "2023-04-20  317.2291\n",
      "2023-04-21  317.1165\n",
      "2023-04-24  316.9044\n",
      "2023-04-25  315.6473\n",
      "2023-04-26  314.9605\n",
      "2023-04-27  315.9404\n",
      "2023-04-28  317.1440\n",
      "2023-05-01  318.0614\n",
      "2023-05-02  318.3012\n",
      "2023-05-03  318.1173\n",
      "2023-05-04  317.7633\n",
      "2023-05-05  318.6954\n",
      "2023-05-08  319.6035\n",
      "2023-05-09  319.9738\n",
      "2023-05-10  320.9131\n",
      "2023-05-11  321.8743\n",
      "2023-05-12  322.4481\n",
      "2023-05-15  323.2375\n",
      "2023-05-16  323.9507\n",
      "2023-05-17  325.2542\n",
      "2023-05-18  327.4389\n",
      "2023-05-19  329.0882\n",
      "2023-05-22  330.6431\n",
      "2023-05-23  331.1371\n",
      "2023-05-24  331.2303\n",
      "2023-05-25  332.7739\n",
      "2023-05-26  335.6150\n",
      "2023-05-30  338.2268\n",
      "2023-05-31  340.0019\n",
      "2023-06-01  342.1852\n",
      "2023-06-02  344.4516\n",
      "2023-06-05  346.3513\n",
      "2023-06-06  347.8947\n",
      "2023-06-07  348.0629\n",
      "========================================================================\n"
     ]
    }
   ],
   "source": [
    "listDate =  [  d.strftime(\"%Y-%m-%d\")  for d in dateRange.tolist()]\n",
    "dictData={}\n",
    "for d in listDate:\n",
    "    print(f\"==================================={d}===================================\")\n",
    "    request={'start_date':d,'prediction_name':prediction,'asset_name':asset_name}\n",
    "    data=get_forecasting_result_data(request)\n",
    "    dictData[d]=data  \n",
    "    print(f\"========================================================================\")"
   ]
  },
  {
   "cell_type": "code",
   "execution_count": 34,
   "id": "e74b9f4c-2c98-49cc-90c8-ed0f3aa6746e",
   "metadata": {},
   "outputs": [
    {
     "data": {
      "image/png": "[encoded data removed]",
      "text/plain": [
       "<Figure size 1000x500 with 1 Axes>"
      ]
     },
     "metadata": {},
     "output_type": "display_data"
    }
   ],
   "source": [
    "for d,data in dictData.items():\n",
    "    fig, ax = plt.subplots(figsize=(10, 5))\n",
    "    plt.title(f\"{asset_name} - {d}\", fontsize=14)\n",
    "    sns.lineplot(data = data['actual_price'][prediction], linewidth=4.0,  markers='o',ax=ax,color='black')\n",
    "    sns.lineplot(data = data['input'][prediction], linewidth=2.0, ax=ax,color='blue')\n",
    "    sns.lineplot(data = data['output'][prediction], linewidth=2.0, ax=ax,color='green')"
   ]
  },
  {
   "cell_type": "code",
   "execution_count": 35,
   "id": "93ade35c-76a1-4ce9-ae5c-8559fe180bcb",
   "metadata": {},
   "outputs": [
    {
     "name": "stdout",
     "output_type": "stream",
     "text": [
      "=============2023-05-31=============\n",
      "             pred_EMA1  actual_EMA1\n",
      "date                               \n",
      "2023-06-01  346.372589     342.1852\n",
      "2023-06-02  346.571930     344.4516\n",
      "2023-06-05  347.142426     346.3513\n",
      "2023-06-06  347.907288     347.8947\n",
      "2023-06-07  347.981842     348.0629\n",
      "MAE Actuat vs Pred: 1.44\n"
     ]
    }
   ],
   "source": [
    "listMAE=[]\n",
    "from sklearn.metrics import mean_absolute_error\n",
    "for date,data in dictData.items():    \n",
    " print(f\"============={date}=============\")  \n",
    " dfPred=data['output'][[prediction]]\n",
    " dfPred.columns=[f'pred_{prediction}']\n",
    "\n",
    " dfX=data['actual_price'][[prediction]]\n",
    " dfX.columns=[f'actual_{prediction}']\n",
    "\n",
    " # print(dfPred)\n",
    " # print(dfX)\n",
    " dfCompare=pd.merge(left=dfPred,right=dfX,how='inner',right_index=True,left_index=True)\n",
    " print(dfCompare)    \n",
    " if dfCompare.empty==False:     \n",
    "     MAE = mean_absolute_error(dfCompare[f'actual_{prediction}'], dfCompare[f'pred_{prediction}'])\n",
    "     listMAE.append(MAE)\n",
    "     print(f'MAE Actuat vs Pred: {np.round(MAE, 2)}')"
   ]
  },
  {
   "cell_type": "code",
   "execution_count": 36,
   "id": "cf643049-9359-4de3-910c-cfd6979cdbac",
   "metadata": {},
   "outputs": [
    {
     "name": "stdout",
     "output_type": "stream",
     "text": [
      "1.438498027340006\n"
     ]
    }
   ],
   "source": [
    "print(np.average(listMAE))"
   ]
  },
  {
   "cell_type": "code",
   "execution_count": null,
   "id": "2642ec9f-264a-4b69-977e-778e43c9ba5b",
   "metadata": {},
   "outputs": [],
   "source": []
  },
  {
   "cell_type": "code",
   "execution_count": null,
   "id": "5370dffe-b548-4bd4-8c99-779d4070e8f0",
   "metadata": {},
   "outputs": [],
   "source": []
  }
 ],
 "metadata": {
  "kernelspec": {
   "display_name": "Python 3 (ipykernel)",
   "language": "python",
   "name": "python3"
  },
  "language_info": {
   "codemirror_mode": {
    "name": "ipython",
    "version": 3
   },
   "file_extension": ".py",
   "mimetype": "text/x-python",
   "name": "python",
   "nbconvert_exporter": "python",
   "pygments_lexer": "ipython3",
   "version": "3.9.16"
  }
 },
 "nbformat": 4,
 "nbformat_minor": 5
}
