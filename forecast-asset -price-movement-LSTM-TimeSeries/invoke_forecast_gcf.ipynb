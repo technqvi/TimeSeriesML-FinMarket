{
 "cells": [
  {
   "cell_type": "code",
   "execution_count": 17,
   "id": "8abdb76e-97fa-4e24-ade6-8de09637d32a",
   "metadata": {},
   "outputs": [],
   "source": [
    "import pandas as pd\n",
    "import os\n",
    "import json\n",
    "import requests\n",
    "import google.oauth2.id_token\n",
    "import google.auth.transport.requests"
   ]
  },
  {
   "cell_type": "code",
   "execution_count": 18,
   "id": "b4c73149-e457-4303-a730-051a4b5510f1",
   "metadata": {},
   "outputs": [],
   "source": [
    "startX='2023-06-30'  # startX='2023-06-05'  # use 60 past days since 2023-06-01   to predict 2026-06-02 To 2026-06-11'\n",
    "endX='2023-07-05'  # endX='2023-06-26'\n",
    "#model_id='qqq-ema1-30t5-ds0115t0523' \n",
    "model_id='spy-ema1-60t10-ds0115t0523' \n",
    "\n",
    "#spy-ema1-60t10-ds0115t0523 spy-signal-60t10-ds0115t0523\n",
    "\n",
    "audience_url='https://forecast-fin-asset-ts-movement-qulerxpcqq-as.a.run.app'\n",
    "\n",
    "request = google.auth.transport.requests.Request()  # default project\n",
    "TOKEN = google.oauth2.id_token.fetch_id_token(request, audience_url)"
   ]
  },
  {
   "cell_type": "code",
   "execution_count": null,
   "id": "6bd063aa-b880-447c-b531-37e9d6abc7b1",
   "metadata": {},
   "outputs": [],
   "source": []
  },
  {
   "cell_type": "code",
   "execution_count": 19,
   "id": "62df4a15-eace-4dab-a5ab-15c175868e0a",
   "metadata": {},
   "outputs": [],
   "source": [
    "def make_forecast_x(date_input):\n",
    "    post_data={\n",
    "    \"TODAY\": date_input ,\n",
    "    \"MODEL_ID\":model_id,\n",
    "    }\n",
    "    print(post_data)\n",
    "\n",
    "    r = requests.post(\n",
    "    audience_url, \n",
    "    headers={'Authorization': f\"Bearer {TOKEN}\", \"Content-Type\": \"application/json\"},\n",
    "    data=json.dumps(post_data)  # possible request parameters\n",
    "    )\n",
    "    print(f\"{r.ok} - {r.status_code} - {r.reason} - {r.text}\")\n"
   ]
  },
  {
   "cell_type": "code",
   "execution_count": 20,
   "id": "2ad29ac6-63f3-4667-9a47-783411083344",
   "metadata": {},
   "outputs": [
    {
     "name": "stdout",
     "output_type": "stream",
     "text": [
      "=================trading day : 2023-06-30==================\n",
      "{'TODAY': '2023-06-30', 'MODEL_ID': 'spy-ema1-60t10-ds0115t0523'}\n",
      "True - 200 - OK - Prediction price movement of SPY-EMA1 at 2023-06-30 has been predicted\n",
      "=================trading day : 2023-07-03==================\n",
      "{'TODAY': '2023-07-03', 'MODEL_ID': 'spy-ema1-60t10-ds0115t0523'}\n",
      "True - 200 - OK - completed job.\n",
      "=================trading day : 2023-07-05==================\n",
      "{'TODAY': '2023-07-05', 'MODEL_ID': 'spy-ema1-60t10-ds0115t0523'}\n",
      "True - 200 - OK - Not found price data at 2023-07-05  of SPY\n"
     ]
    }
   ],
   "source": [
    "from pandas.tseries.holiday import USFederalHolidayCalendar\n",
    "from pandas.tseries.offsets import CustomBusinessDay\n",
    "us_bd = CustomBusinessDay(calendar=USFederalHolidayCalendar())\n",
    "dateRange=pd.date_range(start=startX,end=endX,freq=us_bd)\n",
    "for date in dateRange:\n",
    "    date_str=date.strftime('%Y-%m-%d')\n",
    "    print(f\"=================trading day : {date_str}==================\")\n",
    "    make_forecast_x(date_str)\n",
    "    "
   ]
  },
  {
   "cell_type": "code",
   "execution_count": null,
   "id": "c9f56906-3c82-4e45-b2e8-07610324649e",
   "metadata": {},
   "outputs": [],
   "source": []
  },
  {
   "cell_type": "code",
   "execution_count": null,
   "id": "c2da6414-a73c-4b17-a596-e20162984254",
   "metadata": {},
   "outputs": [],
   "source": []
  }
 ],
 "metadata": {
  "kernelspec": {
   "display_name": "Python 3 (ipykernel)",
   "language": "python",
   "name": "python3"
  },
  "language_info": {
   "codemirror_mode": {
    "name": "ipython",
    "version": 3
   },
   "file_extension": ".py",
   "mimetype": "text/x-python",
   "name": "python",
   "nbconvert_exporter": "python",
   "pygments_lexer": "ipython3",
   "version": "3.9.16"
  }
 },
 "nbformat": 4,
 "nbformat_minor": 5
}
