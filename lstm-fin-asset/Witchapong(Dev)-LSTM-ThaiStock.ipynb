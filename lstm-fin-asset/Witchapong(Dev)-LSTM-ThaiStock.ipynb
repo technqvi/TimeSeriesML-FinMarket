{
 "cells": [
  {
   "cell_type": "code",
   "execution_count": 5,
   "id": "617df535-4896-4d52-929a-7aafd81cf933",
   "metadata": {},
   "outputs": [],
   "source": [
    "import pandas as pd\n",
    "import numpy as np\n",
    "from datetime import datetime\n",
    "import time\n",
    "from matplotlib import pyplot\n",
    "import math\n",
    "import SumSinceTrendIndy\n",
    "#https://medium.com/datawiz-th/%E0%B8%A1%E0%B8%B2%E0%B8%A5%E0%B8%AD%E0%B8%87-forecast-%E0%B8%A3%E0%B8%B2%E0%B8%84%E0%B8%B2%E0%B8%AB%E0%B8%B8%E0%B9%89%E0%B8%99%E0%B9%81%E0%B8%9A%E0%B8%9A%E0%B8%87%E0%B9%88%E0%B8%B2%E0%B8%A2%E0%B9%86-%E0%B8%94%E0%B9%89%E0%B8%A7%E0%B8%A2-deep-learning-lstm-python-305c480db223"
   ]
  },
  {
   "cell_type": "code",
   "execution_count": 6,
   "id": "bf92ee1f-6e5c-496b-af22-7ae196348463",
   "metadata": {},
   "outputs": [],
   "source": [
    "ab_path='data/SET50-Daily-Y09-Now.csv'\n",
    "\n",
    "# way=1;  OK\n",
    "# Test RMSE: 2.111 \n",
    "# time_step_predict=66\n",
    "# predict_ahead=11\n",
    "# start_date='2016-01-01'\n",
    "# end_date='2022-12-30'\n",
    "# ratio_train=0.95\n",
    "\n",
    "# original\n",
    "# time_step_predict=66\n",
    "# predict_ahead=11\n",
    "# #Test RMSE: 16.922\n",
    "\n",
    "# # time_step_predict=88\n",
    "# # predict_ahead=11\n",
    "# #16.047\n",
    "\n",
    "# ratio_train=0.75\n",
    "\n",
    "# prediction_col='Price'\n",
    "# my_features=['Price','EMA1']\n",
    "\n",
    "\n",
    "way=1;\n",
    "\n",
    "isTrendTranform=False\n",
    "\n",
    "start_date='2016-01-01'\n",
    "end_date='2022-12-30'\n",
    "\n",
    "time_step_predict=25\n",
    "predict_ahead=5\n",
    "\n",
    "ratio_train=0.9\n",
    "\n",
    "epochs = 50\n",
    "batch_size = 32\n",
    "n_early=0"
   ]
  },
  {
   "cell_type": "markdown",
   "id": "fa2621e5-e9e1-4b42-a12f-cc52fecd6733",
   "metadata": {},
   "source": [
    "# Load data typically"
   ]
  },
  {
   "cell_type": "code",
   "execution_count": 7,
   "id": "34b7f505-f5e5-453b-a793-b409d905de4e",
   "metadata": {},
   "outputs": [
    {
     "name": "stdout",
     "output_type": "stream",
     "text": [
      "['Ticker', 'Date', 'Price', 'EMA1', 'EMA2', 'EMA3', 'MACD', 'SIGNAL', 'RSI', 'RSI-MA']\n",
      "<class 'pandas.core.frame.DataFrame'>\n",
      "DatetimeIndex: 1692 entries, 2016-01-04 to 2022-12-16\n",
      "Data columns (total 1 columns):\n",
      " #   Column  Non-Null Count  Dtype  \n",
      "---  ------  --------------  -----  \n",
      " 0   SIGNAL  1692 non-null   float64\n",
      "dtypes: float64(1)\n",
      "memory usage: 26.4 KB\n",
      "None\n"
     ]
    },
    {
     "data": {
      "text/html": [
       "<div>\n",
       "<style scoped>\n",
       "    .dataframe tbody tr th:only-of-type {\n",
       "        vertical-align: middle;\n",
       "    }\n",
       "\n",
       "    .dataframe tbody tr th {\n",
       "        vertical-align: top;\n",
       "    }\n",
       "\n",
       "    .dataframe thead th {\n",
       "        text-align: right;\n",
       "    }\n",
       "</style>\n",
       "<table border=\"1\" class=\"dataframe\">\n",
       "  <thead>\n",
       "    <tr style=\"text-align: right;\">\n",
       "      <th></th>\n",
       "      <th>SIGNAL</th>\n",
       "    </tr>\n",
       "    <tr>\n",
       "      <th>Date</th>\n",
       "      <th></th>\n",
       "    </tr>\n",
       "  </thead>\n",
       "  <tbody>\n",
       "    <tr>\n",
       "      <th>2022-12-09</th>\n",
       "      <td>1.83</td>\n",
       "    </tr>\n",
       "    <tr>\n",
       "      <th>2022-12-13</th>\n",
       "      <td>1.53</td>\n",
       "    </tr>\n",
       "    <tr>\n",
       "      <th>2022-12-14</th>\n",
       "      <td>1.30</td>\n",
       "    </tr>\n",
       "    <tr>\n",
       "      <th>2022-12-15</th>\n",
       "      <td>1.05</td>\n",
       "    </tr>\n",
       "    <tr>\n",
       "      <th>2022-12-16</th>\n",
       "      <td>0.81</td>\n",
       "    </tr>\n",
       "  </tbody>\n",
       "</table>\n",
       "</div>"
      ],
      "text/plain": [
       "            SIGNAL\n",
       "Date              \n",
       "2022-12-09    1.83\n",
       "2022-12-13    1.53\n",
       "2022-12-14    1.30\n",
       "2022-12-15    1.05\n",
       "2022-12-16    0.81"
      ]
     },
     "execution_count": 7,
     "metadata": {},
     "output_type": "execute_result"
    }
   ],
   "source": [
    "# prediction_col='MACD'\n",
    "# my_features=['MACD','SIGNAL']\n",
    "\n",
    "prediction_col='SIGNAL'\n",
    "#my_features=['Price','EMA1','MACD']\n",
    "\n",
    "my_features=['SIGNAL']\n",
    "\n",
    "\n",
    "df=pd.read_csv(f'{ab_path}',parse_dates=['Date/Time'],dayfirst=True)\n",
    "df.rename(columns={'Date/Time':'Date'},inplace=True)\n",
    "allCols=list(df.columns)\n",
    "print(allCols)\n",
    "\n",
    "df['Date']=df['Date'].apply( lambda  dx :  datetime(dx.year,dx.month,dx.day ))\n",
    "df.set_index('Date',inplace=True)\n",
    "df=df.loc[start_date:end_date,my_features]\n",
    "print(df.info())\n",
    "df.tail()"
   ]
  },
  {
   "cell_type": "markdown",
   "id": "694c514e-c278-443c-ab13-34f7c47551e6",
   "metadata": {},
   "source": [
    "# Convert technincal indicator to trend-feature"
   ]
  },
  {
   "cell_type": "code",
   "execution_count": 8,
   "id": "2c19734e-1b54-4a45-ae90-bd3293bfef94",
   "metadata": {},
   "outputs": [],
   "source": [
    "# 1.read data from somewhere as this format\n",
    "# dfIndy=pd.read_csv(f'{ab_path}',index_col='Date/Time',parse_dates=['Date/Time'],dayfirst=True)\n",
    "# dfIndy=dfIndy[start_date:]\n",
    "# print(dfIndy.info())\n",
    "\n",
    "# #2. transform feature and select  trend columns such sum or count\n",
    "# prediction_col='SIGNAL'\n",
    "# colToFeature=prediction_col\n",
    "\n",
    "# my_features=[prediction_col, f'{prediction_col}_Up',f'{prediction_col}_Down']\n",
    "\n",
    "# df,dfUp,dfDown=SumSinceTrendIndy.create_trend_feature(dfIndy,colToFeature)\n",
    "# df.set_index('Date',inplace=True)\n",
    "# df=df[my_features]\n",
    "\n",
    "# #3. plot show data\n",
    "# df.plot(kind='line',layout=(len(my_features),1),\n",
    "#                         sharex=True,subplots=True,figsize=(15, 3*len(my_features)))\n",
    "# pyplot.show()\n",
    "\n",
    "# df.tail(3)"
   ]
  },
  {
   "cell_type": "code",
   "execution_count": 9,
   "id": "3762b1a5-a3e9-4329-b519-7390adda6265",
   "metadata": {},
   "outputs": [
    {
     "name": "stdout",
     "output_type": "stream",
     "text": [
      "[0]\n"
     ]
    }
   ],
   "source": [
    "num_cols=len(df.columns.tolist())\n",
    "groups =list(range(0,num_cols))\n",
    "print(groups)"
   ]
  },
  {
   "cell_type": "markdown",
   "id": "221c1b8d-8f00-4542-baa4-fdb37d0e77c8",
   "metadata": {},
   "source": [
    "# Arima Decomplose\n",
    "\n"
   ]
  },
  {
   "cell_type": "code",
   "execution_count": 10,
   "id": "ab89d976-7a80-4035-8735-b3bb9c5466f3",
   "metadata": {},
   "outputs": [
    {
     "data": {
      "text/plain": [
       "Date\n",
       "2022-11-18    4.71\n",
       "2022-11-25    3.65\n",
       "2022-12-02    2.85\n",
       "2022-12-09    1.83\n",
       "2022-12-16    0.81\n",
       "Freq: W-FRI, Name: SIGNAL, dtype: float64"
      ]
     },
     "execution_count": 10,
     "metadata": {},
     "output_type": "execute_result"
    },
    {
     "data": {
      "image/png": "[encoded data removed]",
      "text/plain": [
       "<Figure size 1000x500 with 1 Axes>"
      ]
     },
     "metadata": {},
     "output_type": "display_data"
    }
   ],
   "source": [
    "df_x=df[prediction_col].resample('W-FRI').last()\n",
    "df_x.plot(figsize=(10,5))\n",
    "df_x.tail()"
   ]
  },
  {
   "cell_type": "code",
   "execution_count": 11,
   "id": "f7fb8ba5-e0f3-4918-bf76-de5cf4a3b860",
   "metadata": {},
   "outputs": [
    {
     "data": {
      "image/png": "[encoded data removed]",
      "text/plain": [
       "<Figure size 640x480 with 4 Axes>"
      ]
     },
     "metadata": {},
     "output_type": "display_data"
    }
   ],
   "source": [
    "from statsmodels.tsa.seasonal import seasonal_decompose\n",
    "#results = seasonal_decompose(df[prediction_col], model='additive') # error\n",
    "results = seasonal_decompose(df_x, model='additive')\n",
    "results.plot();"
   ]
  },
  {
   "cell_type": "markdown",
   "id": "089635a4-d697-438e-b03a-fb2ef3044462",
   "metadata": {},
   "source": [
    "# Get Numpy Values"
   ]
  },
  {
   "cell_type": "code",
   "execution_count": 12,
   "id": "9596a1f7-ee51-4b5b-8ce8-6c7d4b2fbb87",
   "metadata": {},
   "outputs": [
    {
     "name": "stdout",
     "output_type": "stream",
     "text": [
      "[[1.83]\n",
      " [1.53]\n",
      " [1.3 ]\n",
      " [1.05]\n",
      " [0.81]]\n",
      "(1692, 1)\n"
     ]
    }
   ],
   "source": [
    "values = df.values\n",
    "values = values.astype('float32')\n",
    "print(values[-5:])\n",
    "print(values.shape)"
   ]
  },
  {
   "cell_type": "markdown",
   "id": "3eff4cba-c4ea-455d-9cd8-e79cf4494e96",
   "metadata": {},
   "source": [
    "# Feature eng Normalize"
   ]
  },
  {
   "cell_type": "code",
   "execution_count": 13,
   "id": "302fb91d-d39b-4b79-a9f0-f55998da9d5b",
   "metadata": {},
   "outputs": [
    {
     "name": "stdout",
     "output_type": "stream",
     "text": [
      "[[0.71008]\n",
      " [0.70618]\n",
      " [0.70319]\n",
      " [0.69995]\n",
      " [0.69683]]\n",
      "(1692, 1)\n"
     ]
    }
   ],
   "source": [
    "from sklearn.preprocessing import MinMaxScaler,StandardScaler\n",
    "scaler = MinMaxScaler(feature_range=(0, 1))\n",
    "#scaler = StandardScaler ()\n",
    "scaled_values = scaler.fit_transform(values)\n",
    "scaled_values=np.around(scaled_values,decimals=5)\n",
    "print(scaled_values[-5:])\n",
    "print(scaled_values.shape)"
   ]
  },
  {
   "cell_type": "code",
   "execution_count": 14,
   "id": "703a5e83-6e38-47b1-8c64-05448b3e273e",
   "metadata": {},
   "outputs": [],
   "source": [
    "#https://machinelearningmastery.com/convert-time-series-supervised-learning-problem-python/\n",
    "def series_to_supervised(data, n_in=1, n_out=1, dropnan=True,feat_name=None):\n",
    "    \n",
    "    n_vars = 1 if type(data) is list else data.shape[1]\n",
    "    df = pd.DataFrame(data)\n",
    "    cols, names = list(), list()\n",
    "    \n",
    "    # input sequence (t-n, ... t-1)\n",
    "    for i in range(n_in, 0, -1):\n",
    "        cols.append(df.shift(i))\n",
    "        names += [f'{feat_name[j]}(t-{i})' for j in range(n_vars)]\n",
    "    \n",
    "    # forecast sequence (t, t+1, ... t+n)\n",
    "    for i in range(0, n_out):\n",
    "        cols.append(df.shift(-i))\n",
    "        if i == 0:\n",
    "            names += [f'{feat_name[j]}(t)' for j in range(n_vars)]\n",
    "        else:\n",
    "            names += [f'{feat_name[j]}(t+{i})' for j in range(n_vars)]\n",
    "    \n",
    "    # put it all together\n",
    "    agg = pd.concat(cols, axis=1)\n",
    "    agg.columns = names\n",
    "    \n",
    "    # drop rows with NaN values\n",
    "    if dropnan:\n",
    "        agg.dropna(inplace=True)\n",
    "    return agg"
   ]
  },
  {
   "cell_type": "code",
   "execution_count": 15,
   "id": "5a07a203-0b99-4951-a698-0b47387002d6",
   "metadata": {},
   "outputs": [
    {
     "name": "stdout",
     "output_type": "stream",
     "text": [
      "(1663, 30)\n",
      "<class 'pandas.core.frame.DataFrame'>\n",
      "RangeIndex: 1663 entries, 0 to 1662\n",
      "Data columns (total 30 columns):\n",
      " #   Column        Non-Null Count  Dtype  \n",
      "---  ------        --------------  -----  \n",
      " 0   SIGNAL(t-25)  1663 non-null   float32\n",
      " 1   SIGNAL(t-24)  1663 non-null   float32\n",
      " 2   SIGNAL(t-23)  1663 non-null   float32\n",
      " 3   SIGNAL(t-22)  1663 non-null   float32\n",
      " 4   SIGNAL(t-21)  1663 non-null   float32\n",
      " 5   SIGNAL(t-20)  1663 non-null   float32\n",
      " 6   SIGNAL(t-19)  1663 non-null   float32\n",
      " 7   SIGNAL(t-18)  1663 non-null   float32\n",
      " 8   SIGNAL(t-17)  1663 non-null   float32\n",
      " 9   SIGNAL(t-16)  1663 non-null   float32\n",
      " 10  SIGNAL(t-15)  1663 non-null   float32\n",
      " 11  SIGNAL(t-14)  1663 non-null   float32\n",
      " 12  SIGNAL(t-13)  1663 non-null   float32\n",
      " 13  SIGNAL(t-12)  1663 non-null   float32\n",
      " 14  SIGNAL(t-11)  1663 non-null   float32\n",
      " 15  SIGNAL(t-10)  1663 non-null   float32\n",
      " 16  SIGNAL(t-9)   1663 non-null   float32\n",
      " 17  SIGNAL(t-8)   1663 non-null   float32\n",
      " 18  SIGNAL(t-7)   1663 non-null   float32\n",
      " 19  SIGNAL(t-6)   1663 non-null   float32\n",
      " 20  SIGNAL(t-5)   1663 non-null   float32\n",
      " 21  SIGNAL(t-4)   1663 non-null   float32\n",
      " 22  SIGNAL(t-3)   1663 non-null   float32\n",
      " 23  SIGNAL(t-2)   1663 non-null   float32\n",
      " 24  SIGNAL(t-1)   1663 non-null   float32\n",
      " 25  SIGNAL(t)     1663 non-null   float32\n",
      " 26  SIGNAL(t+1)   1663 non-null   float32\n",
      " 27  SIGNAL(t+2)   1663 non-null   float32\n",
      " 28  SIGNAL(t+3)   1663 non-null   float32\n",
      " 29  SIGNAL(t+4)   1663 non-null   float32\n",
      "dtypes: float32(30)\n",
      "memory usage: 195.0 KB\n",
      "None\n"
     ]
    },
    {
     "data": {
      "text/html": [
       "<div>\n",
       "<style scoped>\n",
       "    .dataframe tbody tr th:only-of-type {\n",
       "        vertical-align: middle;\n",
       "    }\n",
       "\n",
       "    .dataframe tbody tr th {\n",
       "        vertical-align: top;\n",
       "    }\n",
       "\n",
       "    .dataframe thead th {\n",
       "        text-align: right;\n",
       "    }\n",
       "</style>\n",
       "<table border=\"1\" class=\"dataframe\">\n",
       "  <thead>\n",
       "    <tr style=\"text-align: right;\">\n",
       "      <th></th>\n",
       "      <th>SIGNAL(t-25)</th>\n",
       "      <th>SIGNAL(t-24)</th>\n",
       "      <th>SIGNAL(t-23)</th>\n",
       "      <th>SIGNAL(t-22)</th>\n",
       "      <th>SIGNAL(t-21)</th>\n",
       "      <th>SIGNAL(t-20)</th>\n",
       "      <th>SIGNAL(t-19)</th>\n",
       "      <th>SIGNAL(t-18)</th>\n",
       "      <th>SIGNAL(t-17)</th>\n",
       "      <th>SIGNAL(t-16)</th>\n",
       "      <th>...</th>\n",
       "      <th>SIGNAL(t-5)</th>\n",
       "      <th>SIGNAL(t-4)</th>\n",
       "      <th>SIGNAL(t-3)</th>\n",
       "      <th>SIGNAL(t-2)</th>\n",
       "      <th>SIGNAL(t-1)</th>\n",
       "      <th>SIGNAL(t)</th>\n",
       "      <th>SIGNAL(t+1)</th>\n",
       "      <th>SIGNAL(t+2)</th>\n",
       "      <th>SIGNAL(t+3)</th>\n",
       "      <th>SIGNAL(t+4)</th>\n",
       "    </tr>\n",
       "  </thead>\n",
       "  <tbody>\n",
       "    <tr>\n",
       "      <th>1662</th>\n",
       "      <td>0.68437</td>\n",
       "      <td>0.69631</td>\n",
       "      <td>0.70657</td>\n",
       "      <td>0.71657</td>\n",
       "      <td>0.72488</td>\n",
       "      <td>0.73137</td>\n",
       "      <td>0.73838</td>\n",
       "      <td>0.7437</td>\n",
       "      <td>0.74786</td>\n",
       "      <td>0.74968</td>\n",
       "      <td>...</td>\n",
       "      <td>0.72436</td>\n",
       "      <td>0.72332</td>\n",
       "      <td>0.72137</td>\n",
       "      <td>0.71825</td>\n",
       "      <td>0.71436</td>\n",
       "      <td>0.71008</td>\n",
       "      <td>0.70618</td>\n",
       "      <td>0.70319</td>\n",
       "      <td>0.69995</td>\n",
       "      <td>0.69683</td>\n",
       "    </tr>\n",
       "  </tbody>\n",
       "</table>\n",
       "<p>1 rows × 30 columns</p>\n",
       "</div>"
      ],
      "text/plain": [
       "      SIGNAL(t-25)  SIGNAL(t-24)  SIGNAL(t-23)  SIGNAL(t-22)  SIGNAL(t-21)  \\\n",
       "1662       0.68437       0.69631       0.70657       0.71657       0.72488   \n",
       "\n",
       "      SIGNAL(t-20)  SIGNAL(t-19)  SIGNAL(t-18)  SIGNAL(t-17)  SIGNAL(t-16)  \\\n",
       "1662       0.73137       0.73838        0.7437       0.74786       0.74968   \n",
       "\n",
       "      ...  SIGNAL(t-5)  SIGNAL(t-4)  SIGNAL(t-3)  SIGNAL(t-2)  SIGNAL(t-1)  \\\n",
       "1662  ...      0.72436      0.72332      0.72137      0.71825      0.71436   \n",
       "\n",
       "      SIGNAL(t)  SIGNAL(t+1)  SIGNAL(t+2)  SIGNAL(t+3)  SIGNAL(t+4)  \n",
       "1662    0.71008      0.70618      0.70319      0.69995      0.69683  \n",
       "\n",
       "[1 rows x 30 columns]"
      ]
     },
     "execution_count": 15,
     "metadata": {},
     "output_type": "execute_result"
    }
   ],
   "source": [
    "df_reframed = series_to_supervised(scaled_values, time_step_predict, predict_ahead,feat_name=df.columns)\n",
    "df_reframed.reset_index(drop=True,inplace=True)\n",
    "print(df_reframed.shape)\n",
    "print(df_reframed.info())\n",
    "df_reframed.tail(1)\n"
   ]
  },
  {
   "cell_type": "code",
   "execution_count": 16,
   "id": "da9b1402-cc27-4223-92df-a67535caf6e0",
   "metadata": {},
   "outputs": [
    {
     "name": "stdout",
     "output_type": "stream",
     "text": [
      "These cols are used to predict :['SIGNAL(t)', 'SIGNAL(t+1)', 'SIGNAL(t+2)', 'SIGNAL(t+3)', 'SIGNAL(t+4)']\n",
      "These columns will be excluded :[] to predict\n",
      "<class 'pandas.core.frame.DataFrame'>\n",
      "RangeIndex: 1663 entries, 0 to 1662\n",
      "Data columns (total 30 columns):\n",
      " #   Column        Non-Null Count  Dtype  \n",
      "---  ------        --------------  -----  \n",
      " 0   SIGNAL(t-25)  1663 non-null   float32\n",
      " 1   SIGNAL(t-24)  1663 non-null   float32\n",
      " 2   SIGNAL(t-23)  1663 non-null   float32\n",
      " 3   SIGNAL(t-22)  1663 non-null   float32\n",
      " 4   SIGNAL(t-21)  1663 non-null   float32\n",
      " 5   SIGNAL(t-20)  1663 non-null   float32\n",
      " 6   SIGNAL(t-19)  1663 non-null   float32\n",
      " 7   SIGNAL(t-18)  1663 non-null   float32\n",
      " 8   SIGNAL(t-17)  1663 non-null   float32\n",
      " 9   SIGNAL(t-16)  1663 non-null   float32\n",
      " 10  SIGNAL(t-15)  1663 non-null   float32\n",
      " 11  SIGNAL(t-14)  1663 non-null   float32\n",
      " 12  SIGNAL(t-13)  1663 non-null   float32\n",
      " 13  SIGNAL(t-12)  1663 non-null   float32\n",
      " 14  SIGNAL(t-11)  1663 non-null   float32\n",
      " 15  SIGNAL(t-10)  1663 non-null   float32\n",
      " 16  SIGNAL(t-9)   1663 non-null   float32\n",
      " 17  SIGNAL(t-8)   1663 non-null   float32\n",
      " 18  SIGNAL(t-7)   1663 non-null   float32\n",
      " 19  SIGNAL(t-6)   1663 non-null   float32\n",
      " 20  SIGNAL(t-5)   1663 non-null   float32\n",
      " 21  SIGNAL(t-4)   1663 non-null   float32\n",
      " 22  SIGNAL(t-3)   1663 non-null   float32\n",
      " 23  SIGNAL(t-2)   1663 non-null   float32\n",
      " 24  SIGNAL(t-1)   1663 non-null   float32\n",
      " 25  SIGNAL(t)     1663 non-null   float32\n",
      " 26  SIGNAL(t+1)   1663 non-null   float32\n",
      " 27  SIGNAL(t+2)   1663 non-null   float32\n",
      " 28  SIGNAL(t+3)   1663 non-null   float32\n",
      " 29  SIGNAL(t+4)   1663 non-null   float32\n",
      "dtypes: float32(30)\n",
      "memory usage: 195.0 KB\n",
      "None\n",
      "(1663, 30)\n",
      "    SIGNAL(t-25)  SIGNAL(t-24)  SIGNAL(t-23)  SIGNAL(t-22)  SIGNAL(t-21)  \\\n",
      "0        0.50727       0.50662       0.50571       0.50117       0.49701   \n",
      "1        0.50662       0.50571       0.50117       0.49701       0.49273   \n",
      "2        0.50571       0.50117       0.49701       0.49273       0.49117   \n",
      "3        0.50117       0.49701       0.49273       0.49117       0.49442   \n",
      "4        0.49701       0.49273       0.49117       0.49442       0.49909   \n",
      "5        0.49273       0.49117       0.49442       0.49909       0.50247   \n",
      "6        0.49117       0.49442       0.49909       0.50247       0.50519   \n",
      "7        0.49442       0.49909       0.50247       0.50519       0.51013   \n",
      "8        0.49909       0.50247       0.50519       0.51013       0.51480   \n",
      "9        0.50247       0.50519       0.51013       0.51480       0.51922   \n",
      "10       0.50519       0.51013       0.51480       0.51922       0.52623   \n",
      "11       0.51013       0.51480       0.51922       0.52623       0.53506   \n",
      "12       0.51480       0.51922       0.52623       0.53506       0.54505   \n",
      "13       0.51922       0.52623       0.53506       0.54505       0.55674   \n",
      "14       0.52623       0.53506       0.54505       0.55674       0.57076   \n",
      "15       0.53506       0.54505       0.55674       0.57076       0.58764   \n",
      "16       0.54505       0.55674       0.57076       0.58764       0.60517   \n",
      "17       0.55674       0.57076       0.58764       0.60517       0.62101   \n",
      "18       0.57076       0.58764       0.60517       0.62101       0.63581   \n",
      "19       0.58764       0.60517       0.62101       0.63581       0.65009   \n",
      "20       0.60517       0.62101       0.63581       0.65009       0.66450   \n",
      "21       0.62101       0.63581       0.65009       0.66450       0.67775   \n",
      "22       0.63581       0.65009       0.66450       0.67775       0.68930   \n",
      "23       0.65009       0.66450       0.67775       0.68930       0.69904   \n",
      "24       0.66450       0.67775       0.68930       0.69904       0.70488   \n",
      "\n",
      "    SIGNAL(t-20)  SIGNAL(t-19)  SIGNAL(t-18)  SIGNAL(t-17)  SIGNAL(t-16)  ...  \\\n",
      "0        0.49273       0.49117       0.49442       0.49909       0.50247  ...   \n",
      "1        0.49117       0.49442       0.49909       0.50247       0.50519  ...   \n",
      "2        0.49442       0.49909       0.50247       0.50519       0.51013  ...   \n",
      "3        0.49909       0.50247       0.50519       0.51013       0.51480  ...   \n",
      "4        0.50247       0.50519       0.51013       0.51480       0.51922  ...   \n",
      "5        0.50519       0.51013       0.51480       0.51922       0.52623  ...   \n",
      "6        0.51013       0.51480       0.51922       0.52623       0.53506  ...   \n",
      "7        0.51480       0.51922       0.52623       0.53506       0.54505  ...   \n",
      "8        0.51922       0.52623       0.53506       0.54505       0.55674  ...   \n",
      "9        0.52623       0.53506       0.54505       0.55674       0.57076  ...   \n",
      "10       0.53506       0.54505       0.55674       0.57076       0.58764  ...   \n",
      "11       0.54505       0.55674       0.57076       0.58764       0.60517  ...   \n",
      "12       0.55674       0.57076       0.58764       0.60517       0.62101  ...   \n",
      "13       0.57076       0.58764       0.60517       0.62101       0.63581  ...   \n",
      "14       0.58764       0.60517       0.62101       0.63581       0.65009  ...   \n",
      "15       0.60517       0.62101       0.63581       0.65009       0.66450  ...   \n",
      "16       0.62101       0.63581       0.65009       0.66450       0.67775  ...   \n",
      "17       0.63581       0.65009       0.66450       0.67775       0.68930  ...   \n",
      "18       0.65009       0.66450       0.67775       0.68930       0.69904  ...   \n",
      "19       0.66450       0.67775       0.68930       0.69904       0.70488  ...   \n",
      "20       0.67775       0.68930       0.69904       0.70488       0.70774  ...   \n",
      "21       0.68930       0.69904       0.70488       0.70774       0.70969  ...   \n",
      "22       0.69904       0.70488       0.70774       0.70969       0.71098  ...   \n",
      "23       0.70488       0.70774       0.70969       0.71098       0.71202  ...   \n",
      "24       0.70774       0.70969       0.71098       0.71202       0.71358  ...   \n",
      "\n",
      "    SIGNAL(t-5)  SIGNAL(t-4)  SIGNAL(t-3)  SIGNAL(t-2)  SIGNAL(t-1)  \\\n",
      "0       0.60517      0.62101      0.63581      0.65009      0.66450   \n",
      "1       0.62101      0.63581      0.65009      0.66450      0.67775   \n",
      "2       0.63581      0.65009      0.66450      0.67775      0.68930   \n",
      "3       0.65009      0.66450      0.67775      0.68930      0.69904   \n",
      "4       0.66450      0.67775      0.68930      0.69904      0.70488   \n",
      "5       0.67775      0.68930      0.69904      0.70488      0.70774   \n",
      "6       0.68930      0.69904      0.70488      0.70774      0.70969   \n",
      "7       0.69904      0.70488      0.70774      0.70969      0.71098   \n",
      "8       0.70488      0.70774      0.70969      0.71098      0.71202   \n",
      "9       0.70774      0.70969      0.71098      0.71202      0.71358   \n",
      "10      0.70969      0.71098      0.71202      0.71358      0.71877   \n",
      "11      0.71098      0.71202      0.71358      0.71877      0.72630   \n",
      "12      0.71202      0.71358      0.71877      0.72630      0.73552   \n",
      "13      0.71358      0.71877      0.72630      0.73552      0.74513   \n",
      "14      0.71877      0.72630      0.73552      0.74513      0.75565   \n",
      "15      0.72630      0.73552      0.74513      0.75565      0.76487   \n",
      "16      0.73552      0.74513      0.75565      0.76487      0.77460   \n",
      "17      0.74513      0.75565      0.76487      0.77460      0.78616   \n",
      "18      0.75565      0.76487      0.77460      0.78616      0.79966   \n",
      "19      0.76487      0.77460      0.78616      0.79966      0.81342   \n",
      "20      0.77460      0.78616      0.79966      0.81342      0.82849   \n",
      "21      0.78616      0.79966      0.81342      0.82849      0.84095   \n",
      "22      0.79966      0.81342      0.82849      0.84095      0.85264   \n",
      "23      0.81342      0.82849      0.84095      0.85264      0.86108   \n",
      "24      0.82849      0.84095      0.85264      0.86108      0.86835   \n",
      "\n",
      "    SIGNAL(t)  SIGNAL(t+1)  SIGNAL(t+2)  SIGNAL(t+3)  SIGNAL(t+4)  \n",
      "0     0.67775      0.68930      0.69904      0.70488      0.70774  \n",
      "1     0.68930      0.69904      0.70488      0.70774      0.70969  \n",
      "2     0.69904      0.70488      0.70774      0.70969      0.71098  \n",
      "3     0.70488      0.70774      0.70969      0.71098      0.71202  \n",
      "4     0.70774      0.70969      0.71098      0.71202      0.71358  \n",
      "5     0.70969      0.71098      0.71202      0.71358      0.71877  \n",
      "6     0.71098      0.71202      0.71358      0.71877      0.72630  \n",
      "7     0.71202      0.71358      0.71877      0.72630      0.73552  \n",
      "8     0.71358      0.71877      0.72630      0.73552      0.74513  \n",
      "9     0.71877      0.72630      0.73552      0.74513      0.75565  \n",
      "10    0.72630      0.73552      0.74513      0.75565      0.76487  \n",
      "11    0.73552      0.74513      0.75565      0.76487      0.77460  \n",
      "12    0.74513      0.75565      0.76487      0.77460      0.78616  \n",
      "13    0.75565      0.76487      0.77460      0.78616      0.79966  \n",
      "14    0.76487      0.77460      0.78616      0.79966      0.81342  \n",
      "15    0.77460      0.78616      0.79966      0.81342      0.82849  \n",
      "16    0.78616      0.79966      0.81342      0.82849      0.84095  \n",
      "17    0.79966      0.81342      0.82849      0.84095      0.85264  \n",
      "18    0.81342      0.82849      0.84095      0.85264      0.86108  \n",
      "19    0.82849      0.84095      0.85264      0.86108      0.86835  \n",
      "20    0.84095      0.85264      0.86108      0.86835      0.87393  \n",
      "21    0.85264      0.86108      0.86835      0.87393      0.87653  \n",
      "22    0.86108      0.86835      0.87393      0.87653      0.87562  \n",
      "23    0.86835      0.87393      0.87653      0.87562      0.87263  \n",
      "24    0.87393      0.87653      0.87562      0.87263      0.86835  \n",
      "\n",
      "[25 rows x 30 columns]\n"
     ]
    }
   ],
   "source": [
    "# remove unused predicted column\n",
    "# list column as predicted value\n",
    "listTargetCol=[f'{prediction_col}(t)'] \n",
    "listTargetCol2=  [ f'{prediction_col}(t+{n})' for n in  range(1,(predict_ahead))]\n",
    "listTargetCol.extend(listTargetCol2)\n",
    "print(f\"These cols are used to predict :{listTargetCol}\")\n",
    "\n",
    "# drop columns since var2(t), keep only var1(t)  as predict value\n",
    "reframe_cols=list(df_reframed.columns)\n",
    "# reframe_cols=sorted(reframe_cols)\n",
    "# print(f\"Print all column in df reframed prior to removal\")\n",
    "# print(reframe_cols)\n",
    "listAllDelete=[]\n",
    "for colName in list(df.columns):\n",
    "   if colName != prediction_col: \n",
    "    colsToDel=[ c for c in reframe_cols  if (c.startswith(f\"{colName}(t+\")) or (c==f\"{colName}(t)\") ] \n",
    "    listAllDelete.extend(colsToDel)\n",
    "print(f\"These columns will be excluded :{listAllDelete} to predict\")\n",
    "\n",
    "\n",
    "\n",
    "df_reframed=df_reframed.drop(columns=listAllDelete, axis=1)\n",
    "print(df_reframed.info())\n",
    "\n",
    "print(df_reframed.shape)\n",
    "\n",
    "\n",
    "print(df_reframed.head(time_step_predict))"
   ]
  },
  {
   "cell_type": "markdown",
   "id": "1978e419-f030-4556-9d59-b0e2603c0dad",
   "metadata": {},
   "source": [
    "# Split Data and Reshape to be well-suited"
   ]
  },
  {
   "cell_type": "code",
   "execution_count": 17,
   "id": "23c6aaa0-18f0-4e43-a411-10da0f323dac",
   "metadata": {},
   "outputs": [
    {
     "name": "stdout",
     "output_type": "stream",
     "text": [
      " no train is 90.0 % of 1663= 1497\n",
      "(1497, 30)\n",
      "(166, 30)\n"
     ]
    }
   ],
   "source": [
    "# split into train and test sets\n",
    "\n",
    "values = df_reframed.values\n",
    "n_train=math.ceil(len(df_reframed) * ratio_train)\n",
    "print(f' no train is {ratio_train*100} % of {len(values)}= {n_train}')\n",
    "\n",
    "train = values[:n_train, :]\n",
    "test = values[n_train:, :]\n",
    "print(train.shape)\n",
    "print(test.shape)\n"
   ]
  },
  {
   "cell_type": "code",
   "execution_count": 18,
   "id": "75d3b884-12ae-42e4-b227-518ed00a5c18",
   "metadata": {},
   "outputs": [
    {
     "name": "stdout",
     "output_type": "stream",
     "text": [
      "All Data : 2016-01-04 00:00:00 - 2022-11-03 00:00:00\n",
      "Train Data : 2016-01-04 00:00:00 - 2022-02-23 00:00:00\n",
      "Test Data : 2022-02-24 00:00:00 - 2022-11-03 00:00:00\n"
     ]
    }
   ],
   "source": [
    "# keep date data\n",
    "date_reframed = df.index[df_reframed.index]\n",
    "date_train = date_reframed[:n_train]\n",
    "date_test = date_reframed[n_train:]\n",
    "print(f\"All Data : {date_reframed.min()} - {date_reframed.max()}\")\n",
    "print(f\"Train Data : {date_train.min()} - {date_train.max()}\")\n",
    "print(f\"Test Data : {date_test.min()} - {date_test.max()}\")"
   ]
  },
  {
   "cell_type": "code",
   "execution_count": 19,
   "id": "043bc214-65a8-4250-bdff-ef394ce0ac25",
   "metadata": {},
   "outputs": [
    {
     "name": "stdout",
     "output_type": "stream",
     "text": [
      "Train X y = (1497, 25) , (1497, 5)\n",
      "Test X y = (166, 25) , (166, 5)\n"
     ]
    }
   ],
   "source": [
    "# split feature และ target\n",
    "train_X, train_y = train[:, :-predict_ahead], train[:, -predict_ahead:]\n",
    "test_X, test_y = test[:, :-predict_ahead], test[:, -predict_ahead:]\n",
    "\n",
    "print(f\"Train X y = {train_X.shape} , {train_y.shape}\")\n",
    "print(f\"Test X y = {test_X.shape} , {test_y.shape}\")"
   ]
  },
  {
   "cell_type": "code",
   "execution_count": 20,
   "id": "f5791f5a-8e10-412c-b9fc-b945f442405f",
   "metadata": {},
   "outputs": [
    {
     "name": "stdout",
     "output_type": "stream",
     "text": [
      "Reshape Train X to LSTM  = (1497, 1, 25) , (1497, 5)\n",
      "Reshape Test X  to LSTM = (166, 1, 25) , (166, 5)\n"
     ]
    }
   ],
   "source": [
    "# reshape input X to be 3D [samples, timesteps, features]\n",
    "train_X = train_X.reshape((train_X.shape[0],1 , train_X.shape[1]))\n",
    "test_X = test_X.reshape((test_X.shape[0], 1, test_X.shape[1]))\n",
    "print(f\"Reshape Train X to LSTM  = {train_X.shape} , {train_y.shape}\")\n",
    "print(f\"Reshape Test X  to LSTM = {test_X.shape} , {test_y.shape}\")"
   ]
  },
  {
   "cell_type": "code",
   "execution_count": 21,
   "id": "a7fb4b20-2583-439c-9249-63618a425984",
   "metadata": {},
   "outputs": [
    {
     "name": "stdout",
     "output_type": "stream",
     "text": [
      "=======Apply These features=============\n",
      "[[[0.50727 0.50662 0.50571 0.50117 0.49701 0.49273 0.49117 0.49442\n",
      "   0.49909 0.50247 0.50519 0.51013 0.5148  0.51922 0.52623 0.53506\n",
      "   0.54505 0.55674 0.57076 0.58764 0.60517 0.62101 0.63581 0.65009\n",
      "   0.6645 ]]\n",
      "\n",
      " [[0.50662 0.50571 0.50117 0.49701 0.49273 0.49117 0.49442 0.49909\n",
      "   0.50247 0.50519 0.51013 0.5148  0.51922 0.52623 0.53506 0.54505\n",
      "   0.55674 0.57076 0.58764 0.60517 0.62101 0.63581 0.65009 0.6645\n",
      "   0.67775]]]\n",
      "===========To Predict===================\n",
      "[[0.67775 0.6893  0.69904 0.70488 0.70774]\n",
      " [0.6893  0.69904 0.70488 0.70774 0.70969]]\n"
     ]
    }
   ],
   "source": [
    "print(\"=======Apply These features=============\")\n",
    "# print([ col for col in list(df_reframed.columns) if col not in listTargetCol ])\n",
    "print(train_X[:2])\n",
    "print(\"===========To Predict===================\")\n",
    "# print ( listTargetCol )\n",
    "print(train_y[:2])"
   ]
  },
  {
   "cell_type": "code",
   "execution_count": 22,
   "id": "f0bc341b-38b6-4cd2-a728-8964e5ff08de",
   "metadata": {},
   "outputs": [],
   "source": [
    "import tensorflow as tf\n",
    "from tensorflow.keras.models import Sequential\n",
    "from tensorflow.keras.layers import Dense\n",
    "from tensorflow.keras.layers import LSTM\n",
    "from tensorflow.keras.callbacks import EarlyStopping\n",
    "from tensorflow.keras.layers import Flatten,Dropout\n"
   ]
  },
  {
   "cell_type": "code",
   "execution_count": 23,
   "id": "db77e5d8-a9bb-4a2e-a2c6-cfe40daf07a7",
   "metadata": {},
   "outputs": [
    {
     "name": "stdout",
     "output_type": "stream",
     "text": [
      "25 = 1 x 25 to predict 5\n"
     ]
    }
   ],
   "source": [
    "\n",
    "inputshape_Timestamps= train_X.shape[1]\n",
    "no_feature=train_X.shape[2]\n",
    "\n",
    "n_neurons = inputshape_Timestamps *no_feature\n",
    "#n_neurons=50\n",
    "\n",
    "n_output_neurons = predict_ahead\n",
    "\n",
    "print(f\"{n_neurons} = {inputshape_Timestamps} x {no_feature} to predict {n_output_neurons}\")"
   ]
  },
  {
   "cell_type": "code",
   "execution_count": 24,
   "id": "4269507e-13b7-46b8-aac1-295e1bb2442d",
   "metadata": {},
   "outputs": [
    {
     "name": "stdout",
     "output_type": "stream",
     "text": [
      "One Layer\n"
     ]
    }
   ],
   "source": [
    "np.random.seed(7)\n",
    "\n",
    "model=Sequential()\n",
    "\n",
    "# Way1\n",
    "if way==1:\n",
    " print(\"One Layer\")   \n",
    " model.add(LSTM(units=n_neurons, input_shape=(train_X.shape[1], train_X.shape[2])))\n",
    "\n",
    "\n",
    "# Way2\n",
    "elif way==2:\n",
    "    print(\"Two Layer\") \n",
    "    model.add(LSTM(n_neurons, return_sequences=True, input_shape=(inputshape_Timestamps,no_feature))) \n",
    "    model.add(LSTM(n_neurons, return_sequences=False))\n",
    "\n",
    "\n",
    "# Way3 return_sequences for adding other hidden layer\n",
    "else:\n",
    "    print(\"One Layer and Dropout 20%\") \n",
    "    model.add( LSTM (units=n_neurons, return_sequences=True, input_shape=(train_X.shape[1], train_X.shape[2] )))                                                                                            \n",
    "    model.add(Dropout(0.2))\n",
    "    model.add(LSTM(units=n_neurons)) #layer2  additonal\n",
    "    model.add(Dropout(0.2))\n",
    "\n",
    "\n",
    "\n",
    "model.add(Dense(n_output_neurons))\n",
    "                                                                                    \n",
    "                                                                                             \n",
    "model.compile(loss='mean_squared_error', optimizer='adam')"
   ]
  },
  {
   "cell_type": "code",
   "execution_count": 25,
   "id": "551ef3fd-fcff-4fc6-b137-a3d889b50fbe",
   "metadata": {},
   "outputs": [
    {
     "name": "stdout",
     "output_type": "stream",
     "text": [
      "2022-12-27 22:38:18.051294\n",
      "Train\n",
      "Epoch 1/50\n",
      "47/47 - 5s - loss: 0.1126 - val_loss: 0.0044 - 5s/epoch - 107ms/step\n",
      "Epoch 2/50\n",
      "47/47 - 0s - loss: 0.0093 - val_loss: 0.0031 - 244ms/epoch - 5ms/step\n",
      "Epoch 3/50\n",
      "47/47 - 0s - loss: 0.0084 - val_loss: 0.0030 - 390ms/epoch - 8ms/step\n",
      "Epoch 4/50\n",
      "47/47 - 0s - loss: 0.0080 - val_loss: 0.0028 - 335ms/epoch - 7ms/step\n",
      "Epoch 5/50\n",
      "47/47 - 0s - loss: 0.0075 - val_loss: 0.0027 - 311ms/epoch - 7ms/step\n",
      "Epoch 6/50\n",
      "47/47 - 0s - loss: 0.0070 - val_loss: 0.0025 - 331ms/epoch - 7ms/step\n",
      "Epoch 7/50\n",
      "47/47 - 0s - loss: 0.0066 - val_loss: 0.0024 - 302ms/epoch - 6ms/step\n",
      "Epoch 8/50\n",
      "47/47 - 0s - loss: 0.0061 - val_loss: 0.0023 - 294ms/epoch - 6ms/step\n",
      "Epoch 9/50\n",
      "47/47 - 0s - loss: 0.0057 - val_loss: 0.0022 - 296ms/epoch - 6ms/step\n",
      "Epoch 10/50\n",
      "47/47 - 0s - loss: 0.0053 - val_loss: 0.0021 - 251ms/epoch - 5ms/step\n",
      "Epoch 11/50\n",
      "47/47 - 0s - loss: 0.0049 - val_loss: 0.0021 - 240ms/epoch - 5ms/step\n",
      "Epoch 12/50\n",
      "47/47 - 0s - loss: 0.0045 - val_loss: 0.0020 - 257ms/epoch - 5ms/step\n",
      "Epoch 13/50\n",
      "47/47 - 0s - loss: 0.0042 - val_loss: 0.0019 - 254ms/epoch - 5ms/step\n",
      "Epoch 14/50\n",
      "47/47 - 0s - loss: 0.0038 - val_loss: 0.0018 - 237ms/epoch - 5ms/step\n",
      "Epoch 15/50\n",
      "47/47 - 0s - loss: 0.0036 - val_loss: 0.0017 - 261ms/epoch - 6ms/step\n",
      "Epoch 16/50\n",
      "47/47 - 0s - loss: 0.0033 - val_loss: 0.0017 - 297ms/epoch - 6ms/step\n",
      "Epoch 17/50\n",
      "47/47 - 0s - loss: 0.0031 - val_loss: 0.0016 - 287ms/epoch - 6ms/step\n",
      "Epoch 18/50\n",
      "47/47 - 0s - loss: 0.0029 - val_loss: 0.0015 - 297ms/epoch - 6ms/step\n",
      "Epoch 19/50\n",
      "47/47 - 0s - loss: 0.0027 - val_loss: 0.0015 - 277ms/epoch - 6ms/step\n",
      "Epoch 20/50\n",
      "47/47 - 0s - loss: 0.0026 - val_loss: 0.0014 - 291ms/epoch - 6ms/step\n",
      "Epoch 21/50\n",
      "47/47 - 0s - loss: 0.0025 - val_loss: 0.0014 - 258ms/epoch - 5ms/step\n",
      "Epoch 22/50\n",
      "47/47 - 0s - loss: 0.0024 - val_loss: 0.0013 - 246ms/epoch - 5ms/step\n",
      "Epoch 23/50\n",
      "47/47 - 0s - loss: 0.0023 - val_loss: 0.0013 - 248ms/epoch - 5ms/step\n",
      "Epoch 24/50\n",
      "47/47 - 0s - loss: 0.0022 - val_loss: 0.0012 - 253ms/epoch - 5ms/step\n",
      "Epoch 25/50\n",
      "47/47 - 0s - loss: 0.0022 - val_loss: 0.0012 - 234ms/epoch - 5ms/step\n",
      "Epoch 26/50\n",
      "47/47 - 0s - loss: 0.0021 - val_loss: 0.0011 - 264ms/epoch - 6ms/step\n",
      "Epoch 27/50\n",
      "47/47 - 0s - loss: 0.0020 - val_loss: 0.0011 - 268ms/epoch - 6ms/step\n",
      "Epoch 28/50\n",
      "47/47 - 0s - loss: 0.0020 - val_loss: 0.0010 - 259ms/epoch - 6ms/step\n",
      "Epoch 29/50\n",
      "47/47 - 0s - loss: 0.0019 - val_loss: 9.9501e-04 - 227ms/epoch - 5ms/step\n",
      "Epoch 30/50\n",
      "47/47 - 0s - loss: 0.0019 - val_loss: 9.6002e-04 - 240ms/epoch - 5ms/step\n",
      "Epoch 31/50\n",
      "47/47 - 0s - loss: 0.0018 - val_loss: 9.2724e-04 - 248ms/epoch - 5ms/step\n",
      "Epoch 32/50\n",
      "47/47 - 0s - loss: 0.0018 - val_loss: 8.9658e-04 - 269ms/epoch - 6ms/step\n",
      "Epoch 33/50\n",
      "47/47 - 0s - loss: 0.0017 - val_loss: 8.6793e-04 - 241ms/epoch - 5ms/step\n",
      "Epoch 34/50\n",
      "47/47 - 0s - loss: 0.0017 - val_loss: 8.4120e-04 - 242ms/epoch - 5ms/step\n",
      "Epoch 35/50\n",
      "47/47 - 0s - loss: 0.0016 - val_loss: 8.1629e-04 - 208ms/epoch - 4ms/step\n",
      "Epoch 36/50\n",
      "47/47 - 0s - loss: 0.0016 - val_loss: 7.9315e-04 - 219ms/epoch - 5ms/step\n",
      "Epoch 37/50\n",
      "47/47 - 0s - loss: 0.0015 - val_loss: 7.7177e-04 - 170ms/epoch - 4ms/step\n",
      "Epoch 38/50\n",
      "47/47 - 0s - loss: 0.0015 - val_loss: 7.5211e-04 - 174ms/epoch - 4ms/step\n",
      "Epoch 39/50\n",
      "47/47 - 0s - loss: 0.0015 - val_loss: 7.3418e-04 - 190ms/epoch - 4ms/step\n",
      "Epoch 40/50\n",
      "47/47 - 0s - loss: 0.0014 - val_loss: 7.1795e-04 - 186ms/epoch - 4ms/step\n",
      "Epoch 41/50\n",
      "47/47 - 0s - loss: 0.0014 - val_loss: 7.0337e-04 - 180ms/epoch - 4ms/step\n",
      "Epoch 42/50\n",
      "47/47 - 0s - loss: 0.0014 - val_loss: 6.9036e-04 - 175ms/epoch - 4ms/step\n",
      "Epoch 43/50\n",
      "47/47 - 0s - loss: 0.0014 - val_loss: 6.7878e-04 - 176ms/epoch - 4ms/step\n",
      "Epoch 44/50\n",
      "47/47 - 0s - loss: 0.0013 - val_loss: 6.6849e-04 - 184ms/epoch - 4ms/step\n",
      "Epoch 45/50\n",
      "47/47 - 0s - loss: 0.0013 - val_loss: 6.5930e-04 - 178ms/epoch - 4ms/step\n",
      "Epoch 46/50\n",
      "47/47 - 0s - loss: 0.0013 - val_loss: 6.5105e-04 - 180ms/epoch - 4ms/step\n",
      "Epoch 47/50\n",
      "47/47 - 0s - loss: 0.0013 - val_loss: 6.4359e-04 - 173ms/epoch - 4ms/step\n",
      "Epoch 48/50\n",
      "47/47 - 0s - loss: 0.0012 - val_loss: 6.3676e-04 - 167ms/epoch - 4ms/step\n",
      "Epoch 49/50\n",
      "47/47 - 0s - loss: 0.0012 - val_loss: 6.3048e-04 - 176ms/epoch - 4ms/step\n",
      "Epoch 50/50\n",
      "47/47 - 0s - loss: 0.0012 - val_loss: 6.2464e-04 - 183ms/epoch - 4ms/step\n",
      "Total execute making report :  0.0\n",
      "2022-12-27 22:38:35.476352\n"
     ]
    }
   ],
   "source": [
    "callback = EarlyStopping(monitor='loss', patience=n_early)\n",
    "\n",
    "t_Start=time.time()\n",
    "print(datetime.now())\n",
    "\n",
    "if n_early==0:\n",
    "    print(\"Train\")\n",
    "\n",
    "    history = model.fit(train_X, train_y, epochs=epochs,shuffle=False, batch_size=batch_size, validation_data=(test_X, test_y), \\\n",
    "                        verbose=2)\n",
    "else:\n",
    "    print(\"Train with no early stop\")\n",
    "    history = model.fit(train_X, train_y, epochs=epochs, batch_size=batch_size, validation_data=(test_X, test_y), \\\n",
    "                        verbose=2, shuffle=False,callbacks=[callback])\n",
    "\n",
    "\n",
    "\n",
    "t_End=time.time()\n",
    "t_elapsed=(t_End-t_Start)/60/60\n",
    "print('Total execute making report : ',round(t_elapsed,2)) \n",
    "print(datetime.now())"
   ]
  },
  {
   "cell_type": "code",
   "execution_count": 26,
   "id": "34869483-d497-4d6b-94b3-32a74b9c7bf2",
   "metadata": {},
   "outputs": [
    {
     "data": {
      "image/png": "[encoded data removed]",
      "text/plain": [
       "<Figure size 640x480 with 1 Axes>"
      ]
     },
     "metadata": {},
     "output_type": "display_data"
    }
   ],
   "source": [
    "pyplot.plot(history.history['loss'], label='train')\n",
    "pyplot.plot(history.history['val_loss'], label='test')\n",
    "pyplot.legend()\n",
    "pyplot.show()"
   ]
  },
  {
   "cell_type": "code",
   "execution_count": 27,
   "id": "fb26c180-27c6-4237-9292-d23a6ef27f3e",
   "metadata": {},
   "outputs": [
    {
     "name": "stdout",
     "output_type": "stream",
     "text": [
      "Model: \"sequential\"\n",
      "_________________________________________________________________\n",
      " Layer (type)                Output Shape              Param #   \n",
      "=================================================================\n",
      " lstm (LSTM)                 (None, 25)                5100      \n",
      "                                                                 \n",
      " dense (Dense)               (None, 5)                 130       \n",
      "                                                                 \n",
      "=================================================================\n",
      "Total params: 5,230\n",
      "Trainable params: 5,230\n",
      "Non-trainable params: 0\n",
      "_________________________________________________________________\n"
     ]
    }
   ],
   "source": [
    "model.summary()"
   ]
  },
  {
   "cell_type": "code",
   "execution_count": 28,
   "id": "70eaf6e3-9bad-4db0-a485-3db0818d845a",
   "metadata": {},
   "outputs": [],
   "source": [
    "# import shap\n",
    "\n",
    "# # train_shapML=train_X.reshape((train_X.shape[0], train_X.shape[2]))\n",
    "# # test_shapeML = test_X.reshape((test_X.shape[0], test_X.shape[2]))\n",
    "# # print(train_shapML.shape,test_shapeML.shape)\n",
    "\n",
    "# # Use the training data for deep explainer => can use fewer instances\n",
    "# explainer_ = shap.DeepExplainer(model, (train_X))\n",
    "# shap_values_ = explainer_.shap_values(test_X)"
   ]
  },
  {
   "cell_type": "code",
   "execution_count": null,
   "id": "2bb43341-afd1-4794-af4c-65c154731880",
   "metadata": {},
   "outputs": [],
   "source": []
  },
  {
   "cell_type": "code",
   "execution_count": 29,
   "id": "be7bca7d-7e84-487d-a0ef-f61494f2eb72",
   "metadata": {},
   "outputs": [
    {
     "name": "stdout",
     "output_type": "stream",
     "text": [
      "6/6 [==============================] - 1s 3ms/step\n",
      "========= yhat Predict Value==============\n",
      "[[0.67435277 0.6810683  0.6843811  0.68351406 0.6939625 ]\n",
      " [0.6799923  0.68676937 0.6905716  0.6899992  0.69951004]]\n",
      "(166, 5)\n",
      "========== test_X Features to predict===========\n",
      "(166, 1, 25)\n",
      "(166, 25)\n",
      "[[0.77681 0.77175 0.76668 0.76227 0.75863 0.75578 0.75136 0.74202 0.72994\n",
      "  0.71825 0.70774 0.6993  0.6932  0.68735 0.68398 0.68333 0.68385 0.6845\n",
      "  0.68554 0.68619 0.68709 0.68761 0.68826 0.68982 0.69242]\n",
      " [0.77175 0.76668 0.76227 0.75863 0.75578 0.75136 0.74202 0.72994 0.71825\n",
      "  0.70774 0.6993  0.6932  0.68735 0.68398 0.68333 0.68385 0.6845  0.68554\n",
      "  0.68619 0.68709 0.68761 0.68826 0.68982 0.69242 0.6954 ]]\n"
     ]
    }
   ],
   "source": [
    "yhat = model.predict(test_X)\n",
    "print(\"========= yhat Predict Value==============\")\n",
    "print(yhat[:2])\n",
    "print(yhat.shape)\n",
    "\n",
    "print(\"========== test_X Features to predict===========\")\n",
    "print(test_X.shape)\n",
    "test_X = test_X.reshape((test_X.shape[0], test_X.shape[2]))\n",
    "print(test_X.shape)\n",
    "print(test_X[:2])\n"
   ]
  },
  {
   "cell_type": "markdown",
   "id": "c8dcbe4b-b457-48b5-984a-6b6f135814a2",
   "metadata": {},
   "source": [
    "# Concat Target and Feature and InverseTRansform"
   ]
  },
  {
   "cell_type": "code",
   "execution_count": 30,
   "id": "6e7d6b91-1e7b-4d4c-8807-0d91ba3e0355",
   "metadata": {},
   "outputs": [
    {
     "name": "stdout",
     "output_type": "stream",
     "text": [
      "(166, 5)\n"
     ]
    },
    {
     "data": {
      "text/plain": [
       "array([[-0.9213486 , -0.40411758, -0.14896393, -0.21574402,  0.5889969 ],\n",
       "       [-0.48698807,  0.03498077,  0.32782745,  0.283741  ,  1.0162659 ]],\n",
       "      dtype=float32)"
      ]
     },
     "execution_count": 30,
     "metadata": {},
     "output_type": "execute_result"
    }
   ],
   "source": [
    "# invest predict data Y\n",
    "inv_yhat = yhat*( scaler.data_max_[0] - scaler.data_min_[0] )+scaler.data_min_[0]\n",
    "print(inv_yhat.shape)\n",
    "inv_yhat[:2]"
   ]
  },
  {
   "cell_type": "code",
   "execution_count": 31,
   "id": "fd2a16b0-dda7-41ff-aefe-8d730ab9c504",
   "metadata": {},
   "outputs": [
    {
     "name": "stdout",
     "output_type": "stream",
     "text": [
      "(166, 5)\n"
     ]
    },
    {
     "data": {
      "text/plain": [
       "array([[0.69971085, 0.9700508 , 1.2303772 , 1.4699097 , 1.5199699 ],\n",
       "       [0.9700508 , 1.2303772 , 1.4699097 , 1.5199699 , 1.4298592 ]],\n",
       "      dtype=float32)"
      ]
     },
     "execution_count": 31,
     "metadata": {},
     "output_type": "execute_result"
    }
   ],
   "source": [
    "#invest actual data Y\n",
    "inv_y = test_y*( scaler.data_max_[0] - scaler.data_min_[0] )+scaler.data_min_[0]\n",
    "print(inv_y.shape)\n",
    "inv_y[:2]"
   ]
  },
  {
   "cell_type": "code",
   "execution_count": 32,
   "id": "825fce97-c57c-4468-8a4b-78b50dbdba24",
   "metadata": {},
   "outputs": [
    {
     "name": "stdout",
     "output_type": "stream",
     "text": [
      "Test RMSE: 1.925\n"
     ]
    }
   ],
   "source": [
    "from sklearn.metrics import mean_squared_error\n",
    "rmse = np.sqrt(mean_squared_error(inv_y, inv_yhat))\n",
    "print('Test RMSE: %.3f' % rmse)"
   ]
  },
  {
   "cell_type": "markdown",
   "id": "36c8e2f6-38a2-4c2d-989c-0b6733ca4354",
   "metadata": {},
   "source": [
    "# Plot Multiple Forcast (Most Complex Step)"
   ]
  },
  {
   "cell_type": "code",
   "execution_count": 33,
   "id": "8c9c2d31-c78f-4efc-9b2b-43b10dd4a04a",
   "metadata": {},
   "outputs": [
    {
     "name": "stdout",
     "output_type": "stream",
     "text": [
      "25\n"
     ]
    }
   ],
   "source": [
    "import numpy as np\n",
    "# also show the price of previous 30 days + datetime\n",
    "idx = np.random.randint(0,len(yhat)-predict_ahead)\n",
    "print(idx)"
   ]
  },
  {
   "cell_type": "code",
   "execution_count": 34,
   "id": "f0fd37d5-8fab-409c-b42b-ba923fc2d27c",
   "metadata": {},
   "outputs": [
    {
     "name": "stdout",
     "output_type": "stream",
     "text": [
      "Test Data : 2022-02-24 00:00:00 - 2022-11-03 00:00:00\n"
     ]
    },
    {
     "data": {
      "text/plain": [
       "Timedelta('252 days 00:00:00')"
      ]
     },
     "execution_count": 34,
     "metadata": {},
     "output_type": "execute_result"
    }
   ],
   "source": [
    "print(f\"Test Data : {date_test.min()} - {date_test.max()}\")\n",
    "(date_test.max()-date_test.min())"
   ]
  },
  {
   "cell_type": "code",
   "execution_count": 35,
   "id": "2648bc52-6c93-4a09-b4d9-c34185602eaa",
   "metadata": {},
   "outputs": [
    {
     "name": "stderr",
     "output_type": "stream",
     "text": [
      "C:\\Users\\pongthsa\\AppData\\Local\\Temp\\ipykernel_8004\\4102265979.py:10: UserWarning: Matplotlib is currently using module://matplotlib_inline.backend_inline, which is a non-GUI backend, so cannot show the figure.\n",
      "  fig.show()\n"
     ]
    },
    {
     "data": {
      "image/png": "[encoded data removed]",
      "text/plain": [
       "<Figure size 1500x1000 with 1 Axes>"
      ]
     },
     "metadata": {},
     "output_type": "display_data"
    }
   ],
   "source": [
    "import numpy as np\n",
    "idx = np.random.randint(0,len(yhat-predict_ahead))\n",
    "if idx < time_step_predict:\n",
    "  date_actual = date_test[:idx+predict_ahead]\n",
    "else:\n",
    "  date_actual = date_test[idx-time_step_predict:idx+predict_ahead]\n",
    "fig=pyplot.figure(figsize=(15,10))\n",
    "_=pyplot.plot(date_actual,inv_y[max(0,idx-time_step_predict):idx+predict_ahead,0],'b')\n",
    "_=pyplot.plot(date_test[idx:idx+predict_ahead],inv_yhat[idx],'r')\n",
    "fig.show()"
   ]
  },
  {
   "cell_type": "code",
   "execution_count": null,
   "id": "62dde4b9-4428-4927-b1ec-202d6ee2309f",
   "metadata": {},
   "outputs": [],
   "source": []
  },
  {
   "cell_type": "code",
   "execution_count": null,
   "id": "6067b39c-a536-4a41-882a-fa2e0d1fbaea",
   "metadata": {},
   "outputs": [],
   "source": []
  },
  {
   "cell_type": "code",
   "execution_count": null,
   "id": "2c8d970e-9f1b-4828-98cc-6bfead21259c",
   "metadata": {},
   "outputs": [],
   "source": []
  }
 ],
 "metadata": {
  "kernelspec": {
   "display_name": "Python 3 (ipykernel)",
   "language": "python",
   "name": "python3"
  },
  "language_info": {
   "codemirror_mode": {
    "name": "ipython",
    "version": 3
   },
   "file_extension": ".py",
   "mimetype": "text/x-python",
   "name": "python",
   "nbconvert_exporter": "python",
   "pygments_lexer": "ipython3",
   "version": "3.9.13"
  }
 },
 "nbformat": 4,
 "nbformat_minor": 5
}
