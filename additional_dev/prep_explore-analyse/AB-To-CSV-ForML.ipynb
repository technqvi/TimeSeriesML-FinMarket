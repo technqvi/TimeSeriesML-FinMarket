{
 "cells": [
  {
   "cell_type": "code",
   "execution_count": 16,
   "id": "7bb90284-fb01-4442-ac0c-8493adf4b668",
   "metadata": {},
   "outputs": [],
   "source": [
    "import pandas as pd \n",
    "from datetime import datetime"
   ]
  },
  {
   "cell_type": "code",
   "execution_count": 8,
   "id": "55837ac2-3464-4a5f-882d-d559b4073d22",
   "metadata": {},
   "outputs": [],
   "source": [
    "ab_path='data/SPY-Y02_Oct22_AB.csv'\n",
    "csv_data_path='data/SPY-Y02_Oct22_Train'"
   ]
  },
  {
   "cell_type": "code",
   "execution_count": 9,
   "id": "ff5b0f37-878e-4997-b3b7-93044d53ea04",
   "metadata": {},
   "outputs": [],
   "source": [
    "dfAll=pd.read_csv(f'{ab_path}',parse_dates=['Date/Time'],dayfirst=True)\n",
    "dfAll.rename(columns={'Date/Time':'Date_Time'},inplace=True)\n",
    "dfAll.drop(columns=['Ticker'],inplace=True)"
   ]
  },
  {
   "cell_type": "code",
   "execution_count": 10,
   "id": "66ecdc7c-a677-40b4-82bd-002da3c2516a",
   "metadata": {},
   "outputs": [
    {
     "data": {
      "text/html": [
       "<div>\n",
       "<style scoped>\n",
       "    .dataframe tbody tr th:only-of-type {\n",
       "        vertical-align: middle;\n",
       "    }\n",
       "\n",
       "    .dataframe tbody tr th {\n",
       "        vertical-align: top;\n",
       "    }\n",
       "\n",
       "    .dataframe thead th {\n",
       "        text-align: right;\n",
       "    }\n",
       "</style>\n",
       "<table border=\"1\" class=\"dataframe\">\n",
       "  <thead>\n",
       "    <tr style=\"text-align: right;\">\n",
       "      <th></th>\n",
       "      <th>Date_Time</th>\n",
       "      <th>EMA20</th>\n",
       "      <th>EMA50</th>\n",
       "      <th>Close</th>\n",
       "    </tr>\n",
       "  </thead>\n",
       "  <tbody>\n",
       "    <tr>\n",
       "      <th>0</th>\n",
       "      <td>2002-01-02</td>\n",
       "      <td>114.64</td>\n",
       "      <td>113.67</td>\n",
       "      <td>115.53</td>\n",
       "    </tr>\n",
       "    <tr>\n",
       "      <th>1</th>\n",
       "      <td>2002-01-03</td>\n",
       "      <td>114.81</td>\n",
       "      <td>113.78</td>\n",
       "      <td>116.84</td>\n",
       "    </tr>\n",
       "    <tr>\n",
       "      <th>2</th>\n",
       "      <td>2002-01-04</td>\n",
       "      <td>115.03</td>\n",
       "      <td>113.92</td>\n",
       "      <td>117.62</td>\n",
       "    </tr>\n",
       "    <tr>\n",
       "      <th>3</th>\n",
       "      <td>2002-01-07</td>\n",
       "      <td>115.16</td>\n",
       "      <td>114.02</td>\n",
       "      <td>116.79</td>\n",
       "    </tr>\n",
       "    <tr>\n",
       "      <th>4</th>\n",
       "      <td>2002-01-08</td>\n",
       "      <td>115.27</td>\n",
       "      <td>114.11</td>\n",
       "      <td>116.52</td>\n",
       "    </tr>\n",
       "  </tbody>\n",
       "</table>\n",
       "</div>"
      ],
      "text/plain": [
       "   Date_Time   EMA20   EMA50   Close\n",
       "0 2002-01-02  114.64  113.67  115.53\n",
       "1 2002-01-03  114.81  113.78  116.84\n",
       "2 2002-01-04  115.03  113.92  117.62\n",
       "3 2002-01-07  115.16  114.02  116.79\n",
       "4 2002-01-08  115.27  114.11  116.52"
      ]
     },
     "execution_count": 10,
     "metadata": {},
     "output_type": "execute_result"
    }
   ],
   "source": [
    "dfAll.head()"
   ]
  },
  {
   "cell_type": "code",
   "execution_count": 11,
   "id": "392942b6-837a-42c3-9060-61af307ca0a9",
   "metadata": {},
   "outputs": [],
   "source": [
    "start_date='2009-01-01'\n",
    "end_date='2018-12-31'\n",
    "dfAll=dfAll.query('Date_Time>=@start_date and Date_Time<=@end_date')"
   ]
  },
  {
   "cell_type": "code",
   "execution_count": 18,
   "id": "50313f89-8909-4d0e-85c0-a7f569c7ffe9",
   "metadata": {},
   "outputs": [],
   "source": [
    "dfAll.to_csv(f\"{csv_data_path}_{datetime.strptime(start_date, '%Y-%m-%d').strftime('%d%m%y')}-{datetime.strptime(end_date, '%Y-%m-%d').strftime('%d%m%y')}.csv\",index=False)"
   ]
  },
  {
   "cell_type": "code",
   "execution_count": null,
   "id": "1eb8a0d9-da4d-4aca-9883-8759c2239c42",
   "metadata": {},
   "outputs": [],
   "source": []
  },
  {
   "cell_type": "code",
   "execution_count": null,
   "id": "34c7ef6a-8d35-4c47-8bf4-28053f454eb1",
   "metadata": {},
   "outputs": [],
   "source": []
  }
 ],
 "metadata": {
  "kernelspec": {
   "display_name": "Python 3 (ipykernel)",
   "language": "python",
   "name": "python3"
  },
  "language_info": {
   "codemirror_mode": {
    "name": "ipython",
    "version": 3
   },
   "file_extension": ".py",
   "mimetype": "text/x-python",
   "name": "python",
   "nbconvert_exporter": "python",
   "pygments_lexer": "ipython3",
   "version": "3.9.13"
  }
 },
 "nbformat": 4,
 "nbformat_minor": 5
}
