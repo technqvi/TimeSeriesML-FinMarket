{
 "cells": [
  {
   "cell_type": "code",
   "execution_count": 105,
   "id": "baf891b8-ccba-4337-a882-22a10b9c971b",
   "metadata": {},
   "outputs": [],
   "source": [
    "#https://autokeras.com/tutorial/timeseries_forecaster/\n",
    "\n",
    "import pandas as pd\n",
    "import tensorflow as tf\n",
    "\n",
    "import autokeras as ak\n",
    "\n",
    "from datetime import datetime"
   ]
  },
  {
   "cell_type": "code",
   "execution_count": 106,
   "id": "b895d0f2-5e3d-476c-a4ac-8ead22ceef8c",
   "metadata": {},
   "outputs": [
    {
     "name": "stdout",
     "output_type": "stream",
     "text": [
      "['Date', 'Price', 'EMA1', 'EMA2', 'EMA3', 'MACD', 'SIGNAL', 'RSI', 'RSI-MA']\n",
      "<class 'pandas.core.frame.DataFrame'>\n",
      "DatetimeIndex: 251 entries, 2022-01-03 to 2022-12-30\n",
      "Data columns (total 3 columns):\n",
      " #   Column  Non-Null Count  Dtype  \n",
      "---  ------  --------------  -----  \n",
      " 0   EMA1    251 non-null    float64\n",
      " 1   EMA2    251 non-null    float64\n",
      " 2   MACD    251 non-null    float64\n",
      "dtypes: float64(3)\n",
      "memory usage: 7.8 KB\n",
      "None\n"
     ]
    },
    {
     "data": {
      "text/html": [
       "<div>\n",
       "<style scoped>\n",
       "    .dataframe tbody tr th:only-of-type {\n",
       "        vertical-align: middle;\n",
       "    }\n",
       "\n",
       "    .dataframe tbody tr th {\n",
       "        vertical-align: top;\n",
       "    }\n",
       "\n",
       "    .dataframe thead th {\n",
       "        text-align: right;\n",
       "    }\n",
       "</style>\n",
       "<table border=\"1\" class=\"dataframe\">\n",
       "  <thead>\n",
       "    <tr style=\"text-align: right;\">\n",
       "      <th></th>\n",
       "      <th>EMA1</th>\n",
       "      <th>EMA2</th>\n",
       "      <th>MACD</th>\n",
       "    </tr>\n",
       "    <tr>\n",
       "      <th>Date</th>\n",
       "      <th></th>\n",
       "      <th></th>\n",
       "      <th></th>\n",
       "    </tr>\n",
       "  </thead>\n",
       "  <tbody>\n",
       "    <tr>\n",
       "      <th>2022-12-23</th>\n",
       "      <td>386.73</td>\n",
       "      <td>389.85</td>\n",
       "      <td>-3.11</td>\n",
       "    </tr>\n",
       "    <tr>\n",
       "      <th>2022-12-27</th>\n",
       "      <td>385.76</td>\n",
       "      <td>389.04</td>\n",
       "      <td>-3.28</td>\n",
       "    </tr>\n",
       "    <tr>\n",
       "      <th>2022-12-28</th>\n",
       "      <td>384.11</td>\n",
       "      <td>387.86</td>\n",
       "      <td>-3.75</td>\n",
       "    </tr>\n",
       "    <tr>\n",
       "      <th>2022-12-29</th>\n",
       "      <td>383.99</td>\n",
       "      <td>387.44</td>\n",
       "      <td>-3.45</td>\n",
       "    </tr>\n",
       "    <tr>\n",
       "      <th>2022-12-30</th>\n",
       "      <td>383.70</td>\n",
       "      <td>386.97</td>\n",
       "      <td>-3.26</td>\n",
       "    </tr>\n",
       "  </tbody>\n",
       "</table>\n",
       "</div>"
      ],
      "text/plain": [
       "              EMA1    EMA2  MACD\n",
       "Date                            \n",
       "2022-12-23  386.73  389.85 -3.11\n",
       "2022-12-27  385.76  389.04 -3.28\n",
       "2022-12-28  384.11  387.86 -3.75\n",
       "2022-12-29  383.99  387.44 -3.45\n",
       "2022-12-30  383.70  386.97 -3.26"
      ]
     },
     "execution_count": 106,
     "metadata": {},
     "output_type": "execute_result"
    }
   ],
   "source": [
    "ab_path = \"data/SPY-Daily-Y09-Now.csv\"\n",
    "stockname='SPY'\n",
    "\n",
    "train_ratio=0.8\n",
    "\n",
    "# start_date='2015-01-01'\n",
    "start_date='2022-01-01'\n",
    "end_date='2022-12-31'\n",
    "\n",
    "date_col='Date'\n",
    "prediction_col='EMA1'\n",
    "feature_cols=['EMA1','EMA2','MACD']\n",
    "\n",
    "df=pd.read_csv(f'{ab_path}',parse_dates=['Date/Time'],dayfirst=True)\n",
    "df.rename(columns={'Date/Time':date_col},inplace=True)\n",
    "df.drop(columns=['Ticker'],inplace=True)\n",
    "allCols=list(df.columns)\n",
    "print(allCols)\n",
    "\n",
    "df[date_col]=df[date_col].apply( lambda  dx :  datetime(dx.year,dx.month,dx.day ))\n",
    "df.set_index(date_col,inplace=True)\n",
    "df=df.loc[start_date:end_date,:]\n",
    "df=df[feature_cols]\n",
    "print(df.info())\n",
    "df.tail()"
   ]
  },
  {
   "cell_type": "code",
   "execution_count": 107,
   "id": "1a5dbbdb-1127-4315-bd57-922924e26b69",
   "metadata": {},
   "outputs": [],
   "source": [
    "val_split = int(len(df) * train_ratio)\n",
    "data_train = df[:val_split]\n",
    "validation_data = df[val_split:]"
   ]
  },
  {
   "cell_type": "code",
   "execution_count": 108,
   "id": "627c25ad-4800-4d90-900a-0fa0dbebfdcf",
   "metadata": {},
   "outputs": [],
   "source": [
    "data_x = data_train[\n",
    "   list(df.columns)\n",
    "].astype(\"float64\")"
   ]
  },
  {
   "cell_type": "code",
   "execution_count": 109,
   "id": "5e8ddaf6-e07d-4800-9322-e609dbae6892",
   "metadata": {},
   "outputs": [],
   "source": [
    "data_x_val = validation_data[\n",
    "    list(df.columns)\n",
    "].astype(\"float64\")"
   ]
  },
  {
   "cell_type": "code",
   "execution_count": 110,
   "id": "9545840c-38dc-4268-b2dd-cd78c87bd245",
   "metadata": {},
   "outputs": [],
   "source": [
    "data_x_test=df[\n",
    "     list(df.columns)\n",
    "].astype(\"float64\")"
   ]
  },
  {
   "cell_type": "code",
   "execution_count": 111,
   "id": "07880fe9-0e4d-41ad-b6d6-d2d0098ea54c",
   "metadata": {},
   "outputs": [
    {
     "name": "stdout",
     "output_type": "stream",
     "text": [
      "(200, 3)\n",
      "(200,)\n"
     ]
    }
   ],
   "source": [
    "data_y = data_train[prediction_col].astype(\"float64\")\n",
    "data_y_val = validation_data[prediction_col].astype(\"float64\")\n",
    "print(data_x.shape) \n",
    "print(data_y.shape) "
   ]
  },
  {
   "cell_type": "code",
   "execution_count": 112,
   "id": "8a0c3997-2991-4406-b77a-34ea867650ca",
   "metadata": {},
   "outputs": [
    {
     "name": "stdout",
     "output_type": "stream",
     "text": [
      "(200,)\n",
      "(51,)\n"
     ]
    }
   ],
   "source": [
    "print(data_y .shape) \n",
    "print(data_y_val.shape) "
   ]
  },
  {
   "cell_type": "code",
   "execution_count": 116,
   "id": "af4e62d2-68ad-4ae4-8800-c9b9efef558e",
   "metadata": {},
   "outputs": [],
   "source": [
    "# run suceeded if lookback< predict_until ????\n",
    "predict_until = 50\n",
    "lookback = 5"
   ]
  },
  {
   "cell_type": "code",
   "execution_count": 117,
   "id": "a8144f49-78fe-412f-b0b4-7dec41bda5cc",
   "metadata": {},
   "outputs": [
    {
     "name": "stdout",
     "output_type": "stream",
     "text": [
      "INFO:tensorflow:Reloading Tuner from .\\time_series_forecaster\\tuner0.json\n"
     ]
    },
    {
     "name": "stderr",
     "output_type": "stream",
     "text": [
      "INFO:tensorflow:Reloading Tuner from .\\time_series_forecaster\\tuner0.json\n"
     ]
    }
   ],
   "source": [
    "clf = ak.TimeseriesForecaster(\n",
    "    lookback=lookback,\n",
    "    predict_until=predict_until,\n",
    "    max_trials=3,\n",
    "    objective=\"val_loss\",\n",
    ")"
   ]
  },
  {
   "cell_type": "code",
   "execution_count": 118,
   "id": "51f226ea-ef7d-4706-ab23-cc7b325cf677",
   "metadata": {},
   "outputs": [
    {
     "name": "stdout",
     "output_type": "stream",
     "text": [
      "INFO:tensorflow:Oracle triggered exit\n"
     ]
    },
    {
     "name": "stderr",
     "output_type": "stream",
     "text": [
      "INFO:tensorflow:Oracle triggered exit\n"
     ]
    },
    {
     "name": "stdout",
     "output_type": "stream",
     "text": [
      "Epoch 1/10\n",
      "7/7 [==============================] - 11s 402ms/step - loss: 173006.2031 - mean_squared_error: 173006.2031 - val_loss: 150908.5469 - val_mean_squared_error: 150908.5469\n",
      "Epoch 2/10\n",
      "7/7 [==============================] - 0s 24ms/step - loss: 172966.0469 - mean_squared_error: 172966.0469 - val_loss: 150842.1875 - val_mean_squared_error: 150842.1875\n",
      "Epoch 3/10\n",
      "7/7 [==============================] - 0s 30ms/step - loss: 172869.3281 - mean_squared_error: 172869.3281 - val_loss: 150773.5938 - val_mean_squared_error: 150773.5938\n",
      "Epoch 4/10\n",
      "7/7 [==============================] - 0s 27ms/step - loss: 172824.1875 - mean_squared_error: 172824.1875 - val_loss: 150703.2500 - val_mean_squared_error: 150703.2500\n",
      "Epoch 5/10\n",
      "7/7 [==============================] - 0s 34ms/step - loss: 172708.5938 - mean_squared_error: 172708.5938 - val_loss: 150631.0156 - val_mean_squared_error: 150631.0156\n",
      "Epoch 6/10\n",
      "7/7 [==============================] - 0s 32ms/step - loss: 172681.4688 - mean_squared_error: 172681.4688 - val_loss: 150559.7344 - val_mean_squared_error: 150559.7344\n",
      "Epoch 7/10\n",
      "7/7 [==============================] - 0s 38ms/step - loss: 172587.5312 - mean_squared_error: 172587.5312 - val_loss: 150485.2812 - val_mean_squared_error: 150485.2812\n",
      "Epoch 8/10\n",
      "7/7 [==============================] - 0s 39ms/step - loss: 172475.4531 - mean_squared_error: 172475.4531 - val_loss: 150406.5625 - val_mean_squared_error: 150406.5625\n",
      "Epoch 9/10\n",
      "7/7 [==============================] - 0s 40ms/step - loss: 172397.6719 - mean_squared_error: 172397.6719 - val_loss: 150326.2344 - val_mean_squared_error: 150326.2344\n",
      "Epoch 10/10\n",
      "7/7 [==============================] - 0s 40ms/step - loss: 172323.0469 - mean_squared_error: 172323.0469 - val_loss: 150242.6562 - val_mean_squared_error: 150242.6562\n"
     ]
    },
    {
     "name": "stderr",
     "output_type": "stream",
     "text": [
      "WARNING:absl:Found untraced functions such as lstm_cell_1_layer_call_fn, lstm_cell_1_layer_call_and_return_conditional_losses, lstm_cell_2_layer_call_fn, lstm_cell_2_layer_call_and_return_conditional_losses, lstm_cell_4_layer_call_fn while saving (showing 5 of 8). These functions will not be directly callable after loading.\n"
     ]
    },
    {
     "name": "stdout",
     "output_type": "stream",
     "text": [
      "INFO:tensorflow:Assets written to: .\\time_series_forecaster\\best_model\\assets\n"
     ]
    },
    {
     "name": "stderr",
     "output_type": "stream",
     "text": [
      "INFO:tensorflow:Assets written to: .\\time_series_forecaster\\best_model\\assets\n"
     ]
    }
   ],
   "source": [
    "clf.fit(\n",
    "    x=data_x,\n",
    "    y=data_y,\n",
    "    validation_data=(data_x_val, data_y_val),\n",
    "    batch_size=32,\n",
    "    epochs=10,\n",
    ")"
   ]
  },
  {
   "cell_type": "code",
   "execution_count": 119,
   "id": "8aad5d65-e9c5-442f-a36a-91f76db7b369",
   "metadata": {},
   "outputs": [
    {
     "name": "stdout",
     "output_type": "stream",
     "text": [
      "8/8 [==============================] - 2s 12ms/step\n",
      "8/8 [==============================] - 0s 13ms/step\n",
      "(46, 1)\n",
      "2/2 [==============================] - 2s 21ms/step - loss: 150242.6562 - mean_squared_error: 150242.6562\n",
      "[150242.65625, 150242.65625]\n"
     ]
    }
   ],
   "source": [
    "# Predict with the best model(includes original training data).\n",
    "predictions = clf.predict(data_x_test)\n",
    "print(predictions.shape)\n",
    "# Evaluate the best model with testing data.\n",
    "print(clf.evaluate(data_x_val, data_y_val))"
   ]
  },
  {
   "cell_type": "code",
   "execution_count": null,
   "id": "2b29274a-58db-4f78-bf1a-a3be3e0512d1",
   "metadata": {},
   "outputs": [],
   "source": []
  },
  {
   "cell_type": "code",
   "execution_count": null,
   "id": "b045d940-717e-48d9-9103-0e23c800d163",
   "metadata": {},
   "outputs": [],
   "source": []
  }
 ],
 "metadata": {
  "kernelspec": {
   "display_name": "Python 3 (ipykernel)",
   "language": "python",
   "name": "python3"
  },
  "language_info": {
   "codemirror_mode": {
    "name": "ipython",
    "version": 3
   },
   "file_extension": ".py",
   "mimetype": "text/x-python",
   "name": "python",
   "nbconvert_exporter": "python",
   "pygments_lexer": "ipython3",
   "version": "3.9.16"
  }
 },
 "nbformat": 4,
 "nbformat_minor": 5
}
