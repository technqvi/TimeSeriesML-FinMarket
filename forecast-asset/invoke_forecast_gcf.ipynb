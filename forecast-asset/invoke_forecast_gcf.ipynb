{
 "cells": [
  {
   "cell_type": "code",
   "execution_count": 1,
   "id": "8abdb76e-97fa-4e24-ade6-8de09637d32a",
   "metadata": {},
   "outputs": [],
   "source": [
    "import os\n",
    "import json\n",
    "import requests\n",
    "import google.oauth2.id_token\n",
    "import google.auth.transport.requests"
   ]
  },
  {
   "cell_type": "code",
   "execution_count": 7,
   "id": "b4c73149-e457-4303-a730-051a4b5510f1",
   "metadata": {},
   "outputs": [],
   "source": [
    "request = google.auth.transport.requests.Request()\n",
    "audience_url='https://forecast-fin-asset-ts-movement-qulerxpcqq-as.a.run.app'\n",
    "TOKEN = google.oauth2.id_token.fetch_id_token(request, audience_url)"
   ]
  },
  {
   "cell_type": "code",
   "execution_count": null,
   "id": "6bd063aa-b880-447c-b531-37e9d6abc7b1",
   "metadata": {},
   "outputs": [],
   "source": [
    "startX='2023-06-01'    # use 60 past days since 2023-06-01   to predict 2026-06-02 To 2026-06-11'\n",
    "endX='2023-06-02'"
   ]
  },
  {
   "cell_type": "code",
   "execution_count": null,
   "id": "2ad29ac6-63f3-4667-9a47-783411083344",
   "metadata": {},
   "outputs": [],
   "source": [
    "dateRange=pd.date_range(start=startX,end=endX,freq='B')\n",
    "print(dateRange)"
   ]
  },
  {
   "cell_type": "code",
   "execution_count": 25,
   "id": "d0877686-8f7a-455d-b4bf-bf920cef107b",
   "metadata": {},
   "outputs": [],
   "source": [
    "data_input=\"2023-05-28\""
   ]
  },
  {
   "cell_type": "code",
   "execution_count": 26,
   "id": "f08100f5-ae49-465e-bec0-426c5baa6ca6",
   "metadata": {},
   "outputs": [],
   "source": [
    "post_data={\n",
    "  \"TODAY\": data_input ,\n",
    "  \"MODEL_ID\": \"spy-ema1\"\n",
    "}\n",
    "\n",
    "r = requests.post(\n",
    "    audience_url, \n",
    "    headers={'Authorization': f\"Bearer {TOKEN}\", \"Content-Type\": \"application/json\"},\n",
    "    data=json.dumps(post_data)  # possible request parameters\n",
    ")\n",
    "\n"
   ]
  },
  {
   "cell_type": "code",
   "execution_count": 27,
   "id": "37d26e0f-f905-4782-9a2d-85068d488204",
   "metadata": {},
   "outputs": [
    {
     "data": {
      "text/plain": [
       "(200, 'OK')"
      ]
     },
     "execution_count": 27,
     "metadata": {},
     "output_type": "execute_result"
    }
   ],
   "source": [
    "r.status_code, r.reason"
   ]
  },
  {
   "cell_type": "code",
   "execution_count": null,
   "id": "af38ed8d-5686-471a-a221-e9048914efcf",
   "metadata": {},
   "outputs": [],
   "source": []
  }
 ],
 "metadata": {
  "kernelspec": {
   "display_name": "Python 3 (ipykernel)",
   "language": "python",
   "name": "python3"
  },
  "language_info": {
   "codemirror_mode": {
    "name": "ipython",
    "version": 3
   },
   "file_extension": ".py",
   "mimetype": "text/x-python",
   "name": "python",
   "nbconvert_exporter": "python",
   "pygments_lexer": "ipython3",
   "version": "3.9.16"
  }
 },
 "nbformat": 4,
 "nbformat_minor": 5
}
