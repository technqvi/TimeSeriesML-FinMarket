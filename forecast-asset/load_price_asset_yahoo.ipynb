{
 "cells": [
  {
   "cell_type": "code",
   "execution_count": null,
   "id": "3206afc6-ad3f-4dc3-8af8-660e8c306ebc",
   "metadata": {},
   "outputs": [],
   "source": [
    "import pandas as pd\n",
    "import numpy as np\n",
    "import os\n",
    "from datetime import datetime,date,timedelta\n",
    "\n",
    "\n",
    "from ta.utils import dropna\n",
    "import ta.trend as ta_trend\n",
    "import ta.momentum as ta_mmt\n",
    "import ta.others as ta_other\n",
    "import ta \n",
    "\n",
    "import matplotlib.pyplot as plt\n",
    "import matplotlib.dates as mdates\n",
    "import seaborn as sns\n",
    "\n",
    "\n",
    "\n",
    "from google.cloud import bigquery\n",
    "from google.oauth2 import service_account\n",
    "from google.cloud.exceptions import NotFound\n",
    "from google.api_core.exceptions import BadRequest"
   ]
  },
  {
   "cell_type": "code",
   "execution_count": null,
   "id": "9016a129-773e-4a4c-b5dd-84d4f66510cc",
   "metadata": {},
   "outputs": [],
   "source": [
    "ab_path = \"../data/SPY-Daily-May23-Prediction.csv\"\n",
    "\n",
    "start_date='2023-01-01'  # First recoud \n",
    "end_date='2023-05-31'  # last record\n",
    "# no bar=last record-start_date\n",
    "\n",
    "today='2023-04-28'\n",
    "\n",
    "AssetName=\"SPY\"\n",
    "\n",
    "date_col='Date'\n",
    "prediction_col='EMA1'\n",
    "feature_cols=['EMA1']\n"
   ]
  },
  {
   "cell_type": "markdown",
   "id": "c2310d1f-a875-4353-99df-6bc1f6bd0709",
   "metadata": {},
   "source": [
    "# Load data and Create Feature uisng Technocal Analysis Indicator"
   ]
  },
  {
   "cell_type": "code",
   "execution_count": null,
   "id": "2be52629-677c-4d53-9243-f0a8dc5d9002",
   "metadata": {},
   "outputs": [],
   "source": [
    "# df=pd.read_csv(f'{ab_path}',parse_dates=['Date/Time'],dayfirst=True)\n",
    "# df.rename(columns={'Date/Time':date_col},inplace=True)\n",
    "# df.drop(columns=['Ticker'],inplace=True)\n",
    "\n",
    "# df['Symbol']=AssetName\n",
    "# df['EMA1']=ta_trend.ema_indicator(close=df['close'],window=10,fillna=True).round(4)\n",
    "# df['EMA2']=ta_trend.ema_indicator(close=df['close'],window=20,fillna=True).round(4)\n",
    "# df['MACD']=ta_trend.macd(close=df['close'], window_slow=20, window_fast=10, fillna=True).round(4)\n",
    "# df['SIGNAL']=ta_trend.macd_signal(close=df['close'], window_slow=20, window_fast=10,window_sign=15, fillna=True).round(4)\n",
    "\n",
    "\n",
    "# df.set_index(date_col,inplace=True)\n",
    "# df=df.loc[start_date:end_date]\n",
    "\n",
    "# df.columns=['Close','Symbol','EMA1','EMA2','MACD','SIGNAL']\n",
    "# df=df[['Symbol','Close','EMA1','EMA2','MACD','SIGNAL']]\n",
    "\n",
    "# print(df.info())\n",
    "# print(df.tail())\n",
    "\n",
    "# allCols=list(df.columns)\n",
    "# print(allCols)\n",
    "\n",
    "# df.reset_index().to_csv(f'{AssetName}_{start_date}-{end_date}.csv',index=False)"
   ]
  }
 ],
 "metadata": {
  "kernelspec": {
   "display_name": "Python 3 (ipykernel)",
   "language": "python",
   "name": "python3"
  },
  "language_info": {
   "codemirror_mode": {
    "name": "ipython",
    "version": 3
   },
   "file_extension": ".py",
   "mimetype": "text/x-python",
   "name": "python",
   "nbconvert_exporter": "python",
   "pygments_lexer": "ipython3",
   "version": "3.9.16"
  }
 },
 "nbformat": 4,
 "nbformat_minor": 5
}
