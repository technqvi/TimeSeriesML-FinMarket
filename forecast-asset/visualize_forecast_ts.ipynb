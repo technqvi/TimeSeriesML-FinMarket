{
 "cells": [
  {
   "cell_type": "code",
   "execution_count": 69,
   "id": "164a4014-3aad-47de-9c62-911d3d5a82ab",
   "metadata": {},
   "outputs": [],
   "source": [
    "import pandas as pd\n",
    "import numpy as np\n",
    "import os\n",
    "from datetime import datetime,date,timedelta\n",
    "import json\n",
    "\n",
    "import matplotlib.pyplot as plt\n",
    "import matplotlib.dates as mdates\n",
    "import seaborn as sns\n",
    "\n",
    "from google.cloud import bigquery\n",
    "from google.oauth2 import service_account\n",
    "from google.cloud.exceptions import NotFound\n",
    "from google.api_core.exceptions import BadRequest"
   ]
  },
  {
   "cell_type": "code",
   "execution_count": 70,
   "id": "f9cc0b00-cf00-4de3-932e-12ca05e216a0",
   "metadata": {},
   "outputs": [],
   "source": [
    "start_date='2023-05-12'\n",
    "date_col='prediction_date'\n",
    "AssetName='SPY'\n",
    "\n",
    "\n",
    "json_credential_file=r'C:\\Windows\\pongthorn-5decdc5124f5.json'\n",
    "projectId='pongthorn'\n",
    "dataset_id='FinAssetForecast'"
   ]
  },
  {
   "cell_type": "code",
   "execution_count": 71,
   "id": "4f98d430-6159-4c66-ae4c-6bfabd98f903",
   "metadata": {},
   "outputs": [
    {
     "name": "stdout",
     "output_type": "stream",
     "text": [
      "pongthorn.FinAssetForecast.fin_movement_forecast\n",
      "pongthorn.FinAssetForecast.fin_data\n"
     ]
    }
   ],
   "source": [
    "table_data_id=f\"{projectId}.{dataset_id}.fin_data\"\n",
    "table_id = f\"{projectId}.{dataset_id}.fin_movement_forecast\"\n",
    "print(table_id)\n",
    "print(table_data_id)\n",
    "\n",
    "\n",
    "credentials = service_account.Credentials.from_service_account_file(json_credential_file)\n",
    "client = bigquery.Client(project=projectId,credentials=credentials )"
   ]
  },
  {
   "cell_type": "code",
   "execution_count": 72,
   "id": "44def24a-a904-49c7-b6cd-7304e1a88075",
   "metadata": {},
   "outputs": [],
   "source": [
    "def load_data_bq(sql:str):\n",
    " client_bq = bigquery.Client()\n",
    " query_result=client.query(sql)\n",
    " df=query_result.to_dataframe()\n",
    " return df\n",
    "\n",
    "# Load all field\n",
    "# sql=f\"\"\"\n",
    "# select t.prediction_date, t.prediction_name, t.asset_name,t.pred_timestamp,t.feature_for_prediction,t.prediction_result\n",
    "# from `{table_id}`  t\n",
    "# inner join (\n",
    "#  select prediction_date, max(pred_timestamp) as MaxDate\n",
    "#     from  `{table_id}` \n",
    "#     group by prediction_date \n",
    "#   ) tm on t.prediction_date = tm.prediction_date and t.pred_timestamp = tm.MaxDate\n",
    "#   where t.prediction_date>='{start_date}'\n",
    "#   order by t.prediction_date  \n",
    "\n",
    "# \"\"\"\n",
    "# print(sql)\n",
    "# df=load_data_bq(sql)\n",
    "# df[date_col]=pd.to_datetime(df[date_col],format='%Y-%m-%d')\n",
    "\n",
    "\n",
    "# print(df.info())\n",
    "# df.head()\n",
    "# # print(df.tail())"
   ]
  },
  {
   "cell_type": "markdown",
   "id": "4bb793f4-2896-4eef-925a-38b6aaf323f5",
   "metadata": {},
   "source": [
    "# How far back in time does model want to apply as input to make prediction"
   ]
  },
  {
   "cell_type": "code",
   "execution_count": 73,
   "id": "e8a32b1d-0c21-405a-8bdc-c0659b2d207a",
   "metadata": {},
   "outputs": [
    {
     "name": "stdout",
     "output_type": "stream",
     "text": [
      "<class 'pandas.core.frame.DataFrame'>\n",
      "DatetimeIndex: 60 entries, 2023-02-16 to 2023-05-12\n",
      "Data columns (total 1 columns):\n",
      " #   Column  Non-Null Count  Dtype  \n",
      "---  ------  --------------  -----  \n",
      " 0   x_ema1  60 non-null     float64\n",
      "dtypes: float64(1)\n",
      "memory usage: 960.0 bytes\n"
     ]
    },
    {
     "data": {
      "text/html": [
       "<div>\n",
       "<style scoped>\n",
       "    .dataframe tbody tr th:only-of-type {\n",
       "        vertical-align: middle;\n",
       "    }\n",
       "\n",
       "    .dataframe tbody tr th {\n",
       "        vertical-align: top;\n",
       "    }\n",
       "\n",
       "    .dataframe thead th {\n",
       "        text-align: right;\n",
       "    }\n",
       "</style>\n",
       "<table border=\"1\" class=\"dataframe\">\n",
       "  <thead>\n",
       "    <tr style=\"text-align: right;\">\n",
       "      <th></th>\n",
       "      <th>x_ema1</th>\n",
       "    </tr>\n",
       "    <tr>\n",
       "      <th>x_date</th>\n",
       "      <th></th>\n",
       "    </tr>\n",
       "  </thead>\n",
       "  <tbody>\n",
       "    <tr>\n",
       "      <th>2023-05-08</th>\n",
       "      <td>410.8681</td>\n",
       "    </tr>\n",
       "    <tr>\n",
       "      <th>2023-05-09</th>\n",
       "      <td>410.8793</td>\n",
       "    </tr>\n",
       "    <tr>\n",
       "      <th>2023-05-10</th>\n",
       "      <td>411.2376</td>\n",
       "    </tr>\n",
       "    <tr>\n",
       "      <th>2023-05-11</th>\n",
       "      <td>411.3999</td>\n",
       "    </tr>\n",
       "    <tr>\n",
       "      <th>2023-05-12</th>\n",
       "      <td>411.4344</td>\n",
       "    </tr>\n",
       "  </tbody>\n",
       "</table>\n",
       "</div>"
      ],
      "text/plain": [
       "              x_ema1\n",
       "x_date              \n",
       "2023-05-08  410.8681\n",
       "2023-05-09  410.8793\n",
       "2023-05-10  411.2376\n",
       "2023-05-11  411.3999\n",
       "2023-05-12  411.4344"
      ]
     },
     "execution_count": 73,
     "metadata": {},
     "output_type": "execute_result"
    }
   ],
   "source": [
    "sqlInput=f\"\"\"\n",
    "select t_feature.input_date as x_date,t_feature.input_feature x_ema1\n",
    "from  `pongthorn.FinAssetForecast.fin_movement_forecast` t\n",
    "cross join unnest(t.feature_for_prediction) t_feature\n",
    "where t.prediction_date='{start_date}'\n",
    "\"\"\"\n",
    "\n",
    "dfInput=load_data_bq(sqlInput)\n",
    "dfInput['x_date']=pd.to_datetime(dfInput['x_date'],format='%Y-%m-%d')\n",
    "dfInput.set_index('x_date',inplace=True)\n",
    "input_sequence_length=len(dfInput)\n",
    "dfInput.info()\n",
    "dfInput.tail()"
   ]
  },
  {
   "cell_type": "markdown",
   "id": "903f3257-cb06-44b8-9d79-4807e0549fc0",
   "metadata": {},
   "source": [
    "# How far in advance does model want to  make prediction"
   ]
  },
  {
   "cell_type": "code",
   "execution_count": 74,
   "id": "d3abab22-c95a-42ad-8c93-db06c35c0775",
   "metadata": {},
   "outputs": [
    {
     "name": "stdout",
     "output_type": "stream",
     "text": [
      "<class 'pandas.core.frame.DataFrame'>\n",
      "DatetimeIndex: 10 entries, 2023-05-15 to 2023-05-26\n",
      "Data columns (total 1 columns):\n",
      " #   Column  Non-Null Count  Dtype  \n",
      "---  ------  --------------  -----  \n",
      " 0   x_ema1  10 non-null     float64\n",
      "dtypes: float64(1)\n",
      "memory usage: 160.0 bytes\n"
     ]
    },
    {
     "data": {
      "text/html": [
       "<div>\n",
       "<style scoped>\n",
       "    .dataframe tbody tr th:only-of-type {\n",
       "        vertical-align: middle;\n",
       "    }\n",
       "\n",
       "    .dataframe tbody tr th {\n",
       "        vertical-align: top;\n",
       "    }\n",
       "\n",
       "    .dataframe thead th {\n",
       "        text-align: right;\n",
       "    }\n",
       "</style>\n",
       "<table border=\"1\" class=\"dataframe\">\n",
       "  <thead>\n",
       "    <tr style=\"text-align: right;\">\n",
       "      <th></th>\n",
       "      <th>x_ema1</th>\n",
       "    </tr>\n",
       "    <tr>\n",
       "      <th>x_date</th>\n",
       "      <th></th>\n",
       "    </tr>\n",
       "  </thead>\n",
       "  <tbody>\n",
       "    <tr>\n",
       "      <th>2023-05-15</th>\n",
       "      <td>414.615967</td>\n",
       "    </tr>\n",
       "    <tr>\n",
       "      <th>2023-05-16</th>\n",
       "      <td>411.786957</td>\n",
       "    </tr>\n",
       "    <tr>\n",
       "      <th>2023-05-17</th>\n",
       "      <td>412.730621</td>\n",
       "    </tr>\n",
       "    <tr>\n",
       "      <th>2023-05-18</th>\n",
       "      <td>412.142487</td>\n",
       "    </tr>\n",
       "    <tr>\n",
       "      <th>2023-05-19</th>\n",
       "      <td>416.331696</td>\n",
       "    </tr>\n",
       "    <tr>\n",
       "      <th>2023-05-22</th>\n",
       "      <td>414.492401</td>\n",
       "    </tr>\n",
       "    <tr>\n",
       "      <th>2023-05-23</th>\n",
       "      <td>414.008209</td>\n",
       "    </tr>\n",
       "    <tr>\n",
       "      <th>2023-05-24</th>\n",
       "      <td>415.274994</td>\n",
       "    </tr>\n",
       "    <tr>\n",
       "      <th>2023-05-25</th>\n",
       "      <td>415.404785</td>\n",
       "    </tr>\n",
       "    <tr>\n",
       "      <th>2023-05-26</th>\n",
       "      <td>414.897858</td>\n",
       "    </tr>\n",
       "  </tbody>\n",
       "</table>\n",
       "</div>"
      ],
      "text/plain": [
       "                x_ema1\n",
       "x_date                \n",
       "2023-05-15  414.615967\n",
       "2023-05-16  411.786957\n",
       "2023-05-17  412.730621\n",
       "2023-05-18  412.142487\n",
       "2023-05-19  416.331696\n",
       "2023-05-22  414.492401\n",
       "2023-05-23  414.008209\n",
       "2023-05-24  415.274994\n",
       "2023-05-25  415.404785\n",
       "2023-05-26  414.897858"
      ]
     },
     "execution_count": 74,
     "metadata": {},
     "output_type": "execute_result"
    }
   ],
   "source": [
    "sqlOutput=f\"\"\"\n",
    "select t_pred.output_date as x_date,t_pred.output_value x_ema1\n",
    "from  `pongthorn.FinAssetForecast.fin_movement_forecast` t\n",
    "cross join unnest(t.prediction_result) t_pred\n",
    "where t.prediction_date='{start_date}'\n",
    "\"\"\"\n",
    "dfOutput=load_data_bq(sqlOutput)\n",
    "output_sequence_length=len(dfOutput)\n",
    "dfOutput['x_date']=pd.to_datetime(dfOutput['x_date'],format='%Y-%m-%d')\n",
    "dfOutput.set_index('x_date',inplace=True)\n",
    "dfOutput.info()\n",
    "dfOutput"
   ]
  },
  {
   "cell_type": "markdown",
   "id": "179df2d7-ab75-45f2-b37e-330c016d5f65",
   "metadata": {},
   "source": [
    "# Get Real Data  to compare to prediction"
   ]
  },
  {
   "cell_type": "code",
   "execution_count": 75,
   "id": "83c18761-1707-4b0d-a505-83121e32b436",
   "metadata": {},
   "outputs": [
    {
     "name": "stdout",
     "output_type": "stream",
     "text": [
      "\n",
      "select Date as x_date,EMA1 as ema1, from `pongthorn.FinAssetForecast.fin_data` where Date>='2023-02-16' and Date<='2023-05-26'\n",
      "order by Date\n",
      "\n",
      "<class 'pandas.core.frame.DataFrame'>\n",
      "DatetimeIndex: 70 entries, 2023-02-16 to 2023-05-26\n",
      "Data columns (total 1 columns):\n",
      " #   Column  Non-Null Count  Dtype  \n",
      "---  ------  --------------  -----  \n",
      " 0   ema1    70 non-null     float64\n",
      "dtypes: float64(1)\n",
      "memory usage: 1.1 KB\n"
     ]
    },
    {
     "data": {
      "text/html": [
       "<div>\n",
       "<style scoped>\n",
       "    .dataframe tbody tr th:only-of-type {\n",
       "        vertical-align: middle;\n",
       "    }\n",
       "\n",
       "    .dataframe tbody tr th {\n",
       "        vertical-align: top;\n",
       "    }\n",
       "\n",
       "    .dataframe thead th {\n",
       "        text-align: right;\n",
       "    }\n",
       "</style>\n",
       "<table border=\"1\" class=\"dataframe\">\n",
       "  <thead>\n",
       "    <tr style=\"text-align: right;\">\n",
       "      <th></th>\n",
       "      <th>ema1</th>\n",
       "    </tr>\n",
       "    <tr>\n",
       "      <th>x_date</th>\n",
       "      <th></th>\n",
       "    </tr>\n",
       "  </thead>\n",
       "  <tbody>\n",
       "    <tr>\n",
       "      <th>2023-02-16</th>\n",
       "      <td>410.1896</td>\n",
       "    </tr>\n",
       "    <tr>\n",
       "      <th>2023-02-17</th>\n",
       "      <td>409.6570</td>\n",
       "    </tr>\n",
       "    <tr>\n",
       "      <th>2023-02-21</th>\n",
       "      <td>407.7357</td>\n",
       "    </tr>\n",
       "    <tr>\n",
       "      <th>2023-02-22</th>\n",
       "      <td>406.0638</td>\n",
       "    </tr>\n",
       "    <tr>\n",
       "      <th>2023-02-23</th>\n",
       "      <td>405.0813</td>\n",
       "    </tr>\n",
       "    <tr>\n",
       "      <th>...</th>\n",
       "      <td>...</td>\n",
       "    </tr>\n",
       "    <tr>\n",
       "      <th>2023-05-22</th>\n",
       "      <td>415.1761</td>\n",
       "    </tr>\n",
       "    <tr>\n",
       "      <th>2023-05-23</th>\n",
       "      <td>414.9786</td>\n",
       "    </tr>\n",
       "    <tr>\n",
       "      <th>2023-05-24</th>\n",
       "      <td>414.2716</td>\n",
       "    </tr>\n",
       "    <tr>\n",
       "      <th>2023-05-25</th>\n",
       "      <td>414.3404</td>\n",
       "    </tr>\n",
       "    <tr>\n",
       "      <th>2023-05-26</th>\n",
       "      <td>415.3730</td>\n",
       "    </tr>\n",
       "  </tbody>\n",
       "</table>\n",
       "<p>70 rows × 1 columns</p>\n",
       "</div>"
      ],
      "text/plain": [
       "                ema1\n",
       "x_date              \n",
       "2023-02-16  410.1896\n",
       "2023-02-17  409.6570\n",
       "2023-02-21  407.7357\n",
       "2023-02-22  406.0638\n",
       "2023-02-23  405.0813\n",
       "...              ...\n",
       "2023-05-22  415.1761\n",
       "2023-05-23  414.9786\n",
       "2023-05-24  414.2716\n",
       "2023-05-25  414.3404\n",
       "2023-05-26  415.3730\n",
       "\n",
       "[70 rows x 1 columns]"
      ]
     },
     "execution_count": 75,
     "metadata": {},
     "output_type": "execute_result"
    }
   ],
   "source": [
    "startFinData=dfInput.index.min().strftime('%Y-%m-%d')\n",
    "endFindData=dfOutput.index.max().strftime('%Y-%m-%d')\n",
    "\n",
    "sqlData=f\"\"\"\n",
    "select Date as x_date,EMA1 as ema1, from `{table_data_id}` where Date>='{startFinData}' and Date<='{endFindData}'\n",
    "order by Date\n",
    "\"\"\"\n",
    "print(sqlData)\n",
    "\n",
    "dfRealData=load_data_bq(sqlData)\n",
    "dfRealData['x_date']=pd.to_datetime(dfRealData['x_date'],format='%Y-%m-%d')\n",
    "dfRealData.set_index('x_date',inplace=True)\n",
    "dfRealData.info()\n",
    "dfRealData"
   ]
  },
  {
   "cell_type": "markdown",
   "id": "22f5583f-141e-4093-b6d6-e377b4a57802",
   "metadata": {},
   "source": [
    "# Visualize Prediction Result"
   ]
  },
  {
   "cell_type": "code",
   "execution_count": 76,
   "id": "371cfde4-899a-44d5-9da4-065aae96f3b1",
   "metadata": {},
   "outputs": [
    {
     "data": {
      "text/plain": [
       "<Axes: title={'center': 'SPY - 60 days ago to predict next 10 days'}, xlabel='x_date', ylabel='ema1'>"
      ]
     },
     "execution_count": 76,
     "metadata": {},
     "output_type": "execute_result"
    },
    {
     "data": {
      "image/png": "[encoded data removed]",
      "text/plain": [
       "<Figure size 1400x700 with 1 Axes>"
      ]
     },
     "metadata": {},
     "output_type": "display_data"
    }
   ],
   "source": [
    "fig, ax = plt.subplots(figsize=(14, 7))\n",
    "plt.title(f\"{AssetName} - {input_sequence_length} days ago to predict next {output_sequence_length} days\", fontsize=12)\n",
    "sns.lineplot(data = dfRealData['ema1'], linewidth=4.0,  markers='o',ax=ax,color='black')\n",
    "sns.lineplot(data = dfInput['x_ema1'], linewidth=2.0, ax=ax,color='blue')\n",
    "sns.lineplot(data = dfOutput['x_ema1'], linewidth=2.0, ax=ax,color='green')"
   ]
  },
  {
   "cell_type": "code",
   "execution_count": null,
   "id": "e74b9f4c-2c98-49cc-90c8-ed0f3aa6746e",
   "metadata": {},
   "outputs": [],
   "source": []
  },
  {
   "cell_type": "code",
   "execution_count": null,
   "id": "93ade35c-76a1-4ce9-ae5c-8559fe180bcb",
   "metadata": {},
   "outputs": [],
   "source": []
  }
 ],
 "metadata": {
  "kernelspec": {
   "display_name": "Python 3 (ipykernel)",
   "language": "python",
   "name": "python3"
  },
  "language_info": {
   "codemirror_mode": {
    "name": "ipython",
    "version": 3
   },
   "file_extension": ".py",
   "mimetype": "text/x-python",
   "name": "python",
   "nbconvert_exporter": "python",
   "pygments_lexer": "ipython3",
   "version": "3.9.16"
  }
 },
 "nbformat": 4,
 "nbformat_minor": 5
}
