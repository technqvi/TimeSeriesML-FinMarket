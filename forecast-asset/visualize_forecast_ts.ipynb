{
 "cells": [
  {
   "cell_type": "code",
   "execution_count": 7,
   "id": "164a4014-3aad-47de-9c62-911d3d5a82ab",
   "metadata": {},
   "outputs": [],
   "source": [
    "import pandas as pd\n",
    "import numpy as np\n",
    "import os\n",
    "from datetime import datetime,date,timedelta\n",
    "import json\n",
    "\n",
    "import matplotlib.pyplot as plt\n",
    "import matplotlib.dates as mdates\n",
    "import seaborn as sns\n",
    "\n",
    "from google.cloud import bigquery\n",
    "from google.oauth2 import service_account\n",
    "from google.cloud.exceptions import NotFound\n",
    "from google.api_core.exceptions import BadRequest"
   ]
  },
  {
   "cell_type": "code",
   "execution_count": 8,
   "id": "f9cc0b00-cf00-4de3-932e-12ca05e216a0",
   "metadata": {},
   "outputs": [],
   "source": [
    "date_col='prediction_date'"
   ]
  },
  {
   "cell_type": "code",
   "execution_count": 9,
   "id": "4f98d430-6159-4c66-ae4c-6bfabd98f903",
   "metadata": {},
   "outputs": [
    {
     "name": "stdout",
     "output_type": "stream",
     "text": [
      "pongthorn.FinAssetForecast.fin_movement_forecast\n",
      "pongthorn.FinAssetForecast.fin_data\n"
     ]
    }
   ],
   "source": [
    "json_credential_file=r'C:\\Windows\\pongthorn-5decdc5124f5.json'\n",
    "projectId='pongthorn'\n",
    "dataset_id='FinAssetForecast'\n",
    "table_id = f\"{projectId}.{dataset_id}.fin_movement_forecast\"\n",
    "\n",
    "\n",
    "print(table_id)\n",
    "print(table_data_id)\n",
    "\n",
    "credentials = service_account.Credentials.from_service_account_file(json_credential_file)\n",
    "client = bigquery.Client(project=projectId,credentials=credentials )"
   ]
  },
  {
   "cell_type": "code",
   "execution_count": 11,
   "id": "dc7e0985-26e6-46cb-a6d2-5d9a60888a36",
   "metadata": {},
   "outputs": [
    {
     "name": "stdout",
     "output_type": "stream",
     "text": [
      "\n",
      "SELECT  *  FROM `pongthorn.FinAssetForecast.fin_movement_forecast`  \n",
      "\n",
      "\n",
      "<class 'pandas.core.frame.DataFrame'>\n",
      "RangeIndex: 1 entries, 0 to 0\n",
      "Data columns (total 5 columns):\n",
      " #   Column                  Non-Null Count  Dtype         \n",
      "---  ------                  --------------  -----         \n",
      " 0   prediction_result       1 non-null      object        \n",
      " 1   feature_for_prediction  1 non-null      object        \n",
      " 2   prediction_name         1 non-null      object        \n",
      " 3   asset_name              1 non-null      object        \n",
      " 4   prediction_date         1 non-null      datetime64[ns]\n",
      "dtypes: datetime64[ns](1), object(4)\n",
      "memory usage: 168.0+ bytes\n",
      "None\n"
     ]
    },
    {
     "data": {
      "text/html": [
       "<div>\n",
       "<style scoped>\n",
       "    .dataframe tbody tr th:only-of-type {\n",
       "        vertical-align: middle;\n",
       "    }\n",
       "\n",
       "    .dataframe tbody tr th {\n",
       "        vertical-align: top;\n",
       "    }\n",
       "\n",
       "    .dataframe thead th {\n",
       "        text-align: right;\n",
       "    }\n",
       "</style>\n",
       "<table border=\"1\" class=\"dataframe\">\n",
       "  <thead>\n",
       "    <tr style=\"text-align: right;\">\n",
       "      <th></th>\n",
       "      <th>prediction_result</th>\n",
       "      <th>feature_for_prediction</th>\n",
       "      <th>prediction_name</th>\n",
       "      <th>asset_name</th>\n",
       "      <th>prediction_date</th>\n",
       "    </tr>\n",
       "  </thead>\n",
       "  <tbody>\n",
       "    <tr>\n",
       "      <th>0</th>\n",
       "      <td>[{'output_value': 413.9063415527, 'output_date...</td>\n",
       "      <td>[{'input_feature': 405.0143, 'input_date': 202...</td>\n",
       "      <td>EMA1</td>\n",
       "      <td>SPY</td>\n",
       "      <td>2023-04-28</td>\n",
       "    </tr>\n",
       "  </tbody>\n",
       "</table>\n",
       "</div>"
      ],
      "text/plain": [
       "                                   prediction_result  \\\n",
       "0  [{'output_value': 413.9063415527, 'output_date...   \n",
       "\n",
       "                              feature_for_prediction prediction_name  \\\n",
       "0  [{'input_feature': 405.0143, 'input_date': 202...            EMA1   \n",
       "\n",
       "  asset_name prediction_date  \n",
       "0        SPY      2023-04-28  "
      ]
     },
     "execution_count": 11,
     "metadata": {},
     "output_type": "execute_result"
    }
   ],
   "source": [
    "sql=f\"\"\"\n",
    "SELECT  *  FROM `{table_id}`  \n",
    "\n",
    "\"\"\"\n",
    "print(sql)\n",
    "query_result=client.query(sql)\n",
    "df=query_result.to_dataframe()\n",
    "\n",
    "df[date_col]=pd.to_datetime(df[date_col],format='%Y-%m-%d')\n",
    "# df.set_index(date_col,inplace=True)\n",
    "\n",
    "print(df.info())\n",
    "\n",
    "df.head()\n",
    "# print(df.tail())"
   ]
  },
  {
   "cell_type": "code",
   "execution_count": 18,
   "id": "e8a32b1d-0c21-405a-8bdc-c0659b2d207a",
   "metadata": {},
   "outputs": [
    {
     "data": {
      "text/plain": [
       "array([{'output_value': 413.9063415527, 'output_date': datetime.date(2023, 5, 1)},\n",
       "       {'output_value': 411.1998901367, 'output_date': datetime.date(2023, 5, 2)},\n",
       "       {'output_value': 412.1721496582, 'output_date': datetime.date(2023, 5, 3)},\n",
       "       {'output_value': 411.5845947266, 'output_date': datetime.date(2023, 5, 4)},\n",
       "       {'output_value': 416.4372558594, 'output_date': datetime.date(2023, 5, 5)},\n",
       "       {'output_value': 413.510925293, 'output_date': datetime.date(2023, 5, 8)},\n",
       "       {'output_value': 413.4853210449, 'output_date': datetime.date(2023, 5, 9)},\n",
       "       {'output_value': 414.5706176758, 'output_date': datetime.date(2023, 5, 10)},\n",
       "       {'output_value': 414.403717041, 'output_date': datetime.date(2023, 5, 11)},\n",
       "       {'output_value': 414.5373535156, 'output_date': datetime.date(2023, 5, 12)}],\n",
       "      dtype=object)"
      ]
     },
     "execution_count": 18,
     "metadata": {},
     "output_type": "execute_result"
    }
   ],
   "source": [
    "df['prediction_result'][0]"
   ]
  },
  {
   "cell_type": "code",
   "execution_count": 19,
   "id": "d3abab22-c95a-42ad-8c93-db06c35c0775",
   "metadata": {},
   "outputs": [
    {
     "data": {
      "text/plain": [
       "array([{'input_feature': 405.0143, 'input_date': datetime.date(2023, 2, 2)},\n",
       "       {'input_feature': 406.3481, 'input_date': datetime.date(2023, 2, 3)},\n",
       "       {'input_feature': 406.9812, 'input_date': datetime.date(2023, 2, 6)},\n",
       "       {'input_feature': 408.4737, 'input_date': datetime.date(2023, 2, 7)},\n",
       "       {'input_feature': 408.8694, 'input_date': datetime.date(2023, 2, 8)},\n",
       "       {'input_feature': 408.5459, 'input_date': datetime.date(2023, 2, 9)},\n",
       "       {'input_feature': 408.4539, 'input_date': datetime.date(2023, 2, 10)},\n",
       "       {'input_feature': 409.2495, 'input_date': datetime.date(2023, 2, 13)},\n",
       "       {'input_feature': 409.866, 'input_date': datetime.date(2023, 2, 14)},\n",
       "       {'input_feature': 410.614, 'input_date': datetime.date(2023, 2, 15)},\n",
       "       {'input_feature': 410.1896, 'input_date': datetime.date(2023, 2, 16)},\n",
       "       {'input_feature': 409.657, 'input_date': datetime.date(2023, 2, 17)},\n",
       "       {'input_feature': 407.7357, 'input_date': datetime.date(2023, 2, 21)},\n",
       "       {'input_feature': 406.0638, 'input_date': datetime.date(2023, 2, 22)},\n",
       "       {'input_feature': 405.0813, 'input_date': datetime.date(2023, 2, 23)},\n",
       "       {'input_feature': 403.4992, 'input_date': datetime.date(2023, 2, 24)},\n",
       "       {'input_feature': 402.4503, 'input_date': datetime.date(2023, 2, 27)},\n",
       "       {'input_feature': 401.3248, 'input_date': datetime.date(2023, 2, 28)},\n",
       "       {'input_feature': 400.1275, 'input_date': datetime.date(2023, 3, 1)},\n",
       "       {'input_feature': 399.7062, 'input_date': datetime.date(2023, 3, 2)},\n",
       "       {'input_feature': 400.5214, 'input_date': datetime.date(2023, 3, 3)},\n",
       "       {'input_feature': 401.2393, 'input_date': datetime.date(2023, 3, 6)},\n",
       "       {'input_feature': 400.6995, 'input_date': datetime.date(2023, 3, 7)},\n",
       "       {'input_feature': 400.3759, 'input_date': datetime.date(2023, 3, 8)},\n",
       "       {'input_feature': 398.773, 'input_date': datetime.date(2023, 3, 9)},\n",
       "       {'input_feature': 396.4343, 'input_date': datetime.date(2023, 3, 10)},\n",
       "       {'input_feature': 394.4208, 'input_date': datetime.date(2023, 3, 13)},\n",
       "       {'input_feature': 393.9315, 'input_date': datetime.date(2023, 3, 14)},\n",
       "       {'input_feature': 393.0858, 'input_date': datetime.date(2023, 3, 15)},\n",
       "       {'input_feature': 393.6357, 'input_date': datetime.date(2023, 3, 16)},\n",
       "       {'input_feature': 392.9728, 'input_date': datetime.date(2023, 3, 17)},\n",
       "       {'input_feature': 393.1123, 'input_date': datetime.date(2023, 3, 20)},\n",
       "       {'input_feature': 394.1664, 'input_date': datetime.date(2023, 3, 21)},\n",
       "       {'input_feature': 393.7925, 'input_date': datetime.date(2023, 3, 22)},\n",
       "       {'input_feature': 393.6793, 'input_date': datetime.date(2023, 3, 23)},\n",
       "       {'input_feature': 394.0558, 'input_date': datetime.date(2023, 3, 24)},\n",
       "       {'input_feature': 394.4984, 'input_date': datetime.date(2023, 3, 27)},\n",
       "       {'input_feature': 394.6987, 'input_date': datetime.date(2023, 3, 28)},\n",
       "       {'input_feature': 395.908, 'input_date': datetime.date(2023, 3, 29)},\n",
       "       {'input_feature': 397.3247, 'input_date': datetime.date(2023, 3, 30)},\n",
       "       {'input_feature': 399.5184, 'input_date': datetime.date(2023, 3, 31)},\n",
       "       {'input_feature': 401.5969, 'input_date': datetime.date(2023, 4, 3)},\n",
       "       {'input_feature': 402.8829, 'input_date': datetime.date(2023, 4, 4)},\n",
       "       {'input_feature': 403.7406, 'input_date': datetime.date(2023, 4, 5)},\n",
       "       {'input_feature': 404.7314, 'input_date': datetime.date(2023, 4, 6)},\n",
       "       {'input_feature': 405.6184, 'input_date': datetime.date(2023, 4, 10)},\n",
       "       {'input_feature': 406.3641, 'input_date': datetime.date(2023, 4, 11)},\n",
       "       {'input_feature': 406.6707, 'input_date': datetime.date(2023, 4, 12)},\n",
       "       {'input_feature': 407.9069, 'input_date': datetime.date(2023, 4, 13)},\n",
       "       {'input_feature': 408.7347, 'input_date': datetime.date(2023, 4, 14)},\n",
       "       {'input_feature': 409.6812, 'input_date': datetime.date(2023, 4, 17)},\n",
       "       {'input_feature': 410.5046, 'input_date': datetime.date(2023, 4, 18)},\n",
       "       {'input_feature': 411.1656, 'input_date': datetime.date(2023, 4, 19)},\n",
       "       {'input_feature': 411.2955, 'input_date': datetime.date(2023, 4, 20)},\n",
       "       {'input_feature': 411.4599, 'input_date': datetime.date(2023, 4, 21)},\n",
       "       {'input_feature': 411.6727, 'input_date': datetime.date(2023, 4, 24)},\n",
       "       {'input_feature': 410.6558, 'input_date': datetime.date(2023, 4, 25)},\n",
       "       {'input_feature': 409.5111, 'input_date': datetime.date(2023, 4, 26)},\n",
       "       {'input_feature': 410.0382, 'input_date': datetime.date(2023, 4, 27)},\n",
       "       {'input_feature': 411.1094, 'input_date': datetime.date(2023, 4, 28)}],\n",
       "      dtype=object)"
      ]
     },
     "execution_count": 19,
     "metadata": {},
     "output_type": "execute_result"
    }
   ],
   "source": [
    "df['feature_for_prediction'][0]"
   ]
  },
  {
   "cell_type": "markdown",
   "id": "22f5583f-141e-4093-b6d6-e377b4a57802",
   "metadata": {},
   "source": [
    "# Visualize Prediction Result"
   ]
  },
  {
   "cell_type": "code",
   "execution_count": null,
   "id": "c1551e86-cd5e-4d2f-97b1-9fc5d9ead66e",
   "metadata": {},
   "outputs": [],
   "source": [
    "#get data from BQ"
   ]
  },
  {
   "cell_type": "code",
   "execution_count": null,
   "id": "48494caf-c94c-4cd5-8be6-b2d21fa64c01",
   "metadata": {},
   "outputs": [],
   "source": [
    "dfResult=pd.concat([dfFeature,dfPrediction],ignore_index=False)\n",
    "print(dfResult.info())\n",
    "dfResult"
   ]
  },
  {
   "cell_type": "code",
   "execution_count": null,
   "id": "371cfde4-899a-44d5-9da4-065aae96f3b1",
   "metadata": {},
   "outputs": [],
   "source": [
    "fig, ax = plt.subplots(figsize=(10, 5))\n",
    "plt.title(f\"{AssetName} - {input_sequence_length} days ago to predict next {output_sequence_length} days\", fontsize=12)\n",
    "#sns.lineplot(data = dfResult[prediction_col], linewidth=4.0,  markers='o',ax=ax,color='black')\n",
    "sns.lineplot(data = dfResult.query(\"Type==@colInput\")[prediction_col], linewidth=2.0, ax=ax,color='blue')\n",
    "sns.lineplot(data = dfResult.query(\"Type==@colOutput\")[prediction_col], linewidth=2.0, ax=ax,color='green')"
   ]
  }
 ],
 "metadata": {
  "kernelspec": {
   "display_name": "Python 3 (ipykernel)",
   "language": "python",
   "name": "python3"
  },
  "language_info": {
   "codemirror_mode": {
    "name": "ipython",
    "version": 3
   },
   "file_extension": ".py",
   "mimetype": "text/x-python",
   "name": "python",
   "nbconvert_exporter": "python",
   "pygments_lexer": "ipython3",
   "version": "3.9.16"
  }
 },
 "nbformat": 4,
 "nbformat_minor": 5
}
