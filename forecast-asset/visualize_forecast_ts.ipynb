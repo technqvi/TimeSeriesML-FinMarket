{
 "cells": [
  {
   "cell_type": "code",
   "execution_count": 53,
   "id": "164a4014-3aad-47de-9c62-911d3d5a82ab",
   "metadata": {},
   "outputs": [],
   "source": [
    "import pandas as pd\n",
    "import numpy as np\n",
    "import os\n",
    "from datetime import datetime,date,timedelta\n",
    "import json\n",
    "\n",
    "import matplotlib.pyplot as plt\n",
    "import matplotlib.dates as mdates\n",
    "import seaborn as sns\n",
    "\n",
    "from google.cloud import bigquery\n",
    "from google.oauth2 import service_account\n",
    "from google.cloud.exceptions import NotFound\n",
    "from google.api_core.exceptions import BadRequest"
   ]
  },
  {
   "cell_type": "code",
   "execution_count": 54,
   "id": "f9cc0b00-cf00-4de3-932e-12ca05e216a0",
   "metadata": {},
   "outputs": [],
   "source": [
    "start_date='2023-05-26'\n",
    "date_col='prediction_date'\n",
    "AssetName='SPY'\n"
   ]
  },
  {
   "cell_type": "code",
   "execution_count": 55,
   "id": "4f98d430-6159-4c66-ae4c-6bfabd98f903",
   "metadata": {},
   "outputs": [
    {
     "name": "stdout",
     "output_type": "stream",
     "text": [
      "pongthorn.FinAssetForecast.fin_movement_forecast\n"
     ]
    }
   ],
   "source": [
    "json_credential_file=r'C:\\Windows\\pongthorn-5decdc5124f5.json'\n",
    "projectId='pongthorn'\n",
    "dataset_id='FinAssetForecast'\n",
    "table_id = f\"{projectId}.{dataset_id}.fin_movement_forecast\"\n",
    "print(table_id)\n",
    "\n",
    "\n",
    "credentials = service_account.Credentials.from_service_account_file(json_credential_file)\n",
    "client = bigquery.Client(project=projectId,credentials=credentials )"
   ]
  },
  {
   "cell_type": "code",
   "execution_count": 56,
   "id": "44def24a-a904-49c7-b6cd-7304e1a88075",
   "metadata": {},
   "outputs": [],
   "source": [
    "def load_data_bq(sql:str):\n",
    " client_bq = bigquery.Client()\n",
    " query_result=client.query(sql)\n",
    " df=query_result.to_dataframe()\n",
    " return df"
   ]
  },
  {
   "cell_type": "code",
   "execution_count": 57,
   "id": "dc7e0985-26e6-46cb-a6d2-5d9a60888a36",
   "metadata": {},
   "outputs": [],
   "source": [
    "# sql=f\"\"\"\n",
    "# select t.prediction_date, t.prediction_name, t.asset_name,t.pred_timestamp,t.feature_for_prediction,t.prediction_result\n",
    "# from `{table_id}`  t\n",
    "# inner join (\n",
    "#  select prediction_date, max(pred_timestamp) as MaxDate\n",
    "#     from  `{table_id}` \n",
    "#     group by prediction_date \n",
    "#   ) tm on t.prediction_date = tm.prediction_date and t.pred_timestamp = tm.MaxDate\n",
    "#   where t.prediction_date>='{start_date}'\n",
    "#   order by t.prediction_date  \n",
    "\n",
    "# \"\"\"\n",
    "# print(sql)\n",
    "# df=load_data_bq(sql)\n",
    "# df[date_col]=pd.to_datetime(df[date_col],format='%Y-%m-%d')\n",
    "\n",
    "\n",
    "# print(df.info())\n",
    "# df.head()\n",
    "# # print(df.tail())"
   ]
  },
  {
   "cell_type": "code",
   "execution_count": 58,
   "id": "e8a32b1d-0c21-405a-8bdc-c0659b2d207a",
   "metadata": {},
   "outputs": [
    {
     "name": "stdout",
     "output_type": "stream",
     "text": [
      "<class 'pandas.core.frame.DataFrame'>\n",
      "DatetimeIndex: 60 entries, 2023-03-03 to 2023-05-26\n",
      "Data columns (total 1 columns):\n",
      " #   Column  Non-Null Count  Dtype  \n",
      "---  ------  --------------  -----  \n",
      " 0   x_ema1  60 non-null     float64\n",
      "dtypes: float64(1)\n",
      "memory usage: 960.0 bytes\n"
     ]
    },
    {
     "data": {
      "text/html": [
       "<div>\n",
       "<style scoped>\n",
       "    .dataframe tbody tr th:only-of-type {\n",
       "        vertical-align: middle;\n",
       "    }\n",
       "\n",
       "    .dataframe tbody tr th {\n",
       "        vertical-align: top;\n",
       "    }\n",
       "\n",
       "    .dataframe thead th {\n",
       "        text-align: right;\n",
       "    }\n",
       "</style>\n",
       "<table border=\"1\" class=\"dataframe\">\n",
       "  <thead>\n",
       "    <tr style=\"text-align: right;\">\n",
       "      <th></th>\n",
       "      <th>x_ema1</th>\n",
       "    </tr>\n",
       "    <tr>\n",
       "      <th>x_date</th>\n",
       "      <th></th>\n",
       "    </tr>\n",
       "  </thead>\n",
       "  <tbody>\n",
       "    <tr>\n",
       "      <th>2023-05-22</th>\n",
       "      <td>415.1761</td>\n",
       "    </tr>\n",
       "    <tr>\n",
       "      <th>2023-05-23</th>\n",
       "      <td>414.9786</td>\n",
       "    </tr>\n",
       "    <tr>\n",
       "      <th>2023-05-24</th>\n",
       "      <td>414.2716</td>\n",
       "    </tr>\n",
       "    <tr>\n",
       "      <th>2023-05-25</th>\n",
       "      <td>414.3404</td>\n",
       "    </tr>\n",
       "    <tr>\n",
       "      <th>2023-05-26</th>\n",
       "      <td>415.3730</td>\n",
       "    </tr>\n",
       "  </tbody>\n",
       "</table>\n",
       "</div>"
      ],
      "text/plain": [
       "              x_ema1\n",
       "x_date              \n",
       "2023-05-22  415.1761\n",
       "2023-05-23  414.9786\n",
       "2023-05-24  414.2716\n",
       "2023-05-25  414.3404\n",
       "2023-05-26  415.3730"
      ]
     },
     "execution_count": 58,
     "metadata": {},
     "output_type": "execute_result"
    }
   ],
   "source": [
    "sqlInput=f\"\"\"\n",
    "select t_feature.input_date as x_date,t_feature.input_feature x_ema1\n",
    "from  `pongthorn.FinAssetForecast.fin_movement_forecast` t\n",
    "cross join unnest(t.feature_for_prediction) t_feature\n",
    "where t.prediction_date='{start_date}'\n",
    "\"\"\"\n",
    "\n",
    "dfInput=load_data_bq(sqlInput)\n",
    "dfInput['x_date']=pd.to_datetime(dfInput['x_date'],format='%Y-%m-%d')\n",
    "dfInput.set_index('x_date',inplace=True)\n",
    "input_sequence_length=len(dfInput)\n",
    "dfInput.info()\n",
    "dfInput.tail()"
   ]
  },
  {
   "cell_type": "code",
   "execution_count": 59,
   "id": "d3abab22-c95a-42ad-8c93-db06c35c0775",
   "metadata": {},
   "outputs": [
    {
     "name": "stdout",
     "output_type": "stream",
     "text": [
      "<class 'pandas.core.frame.DataFrame'>\n",
      "DatetimeIndex: 10 entries, 2023-05-29 to 2023-06-09\n",
      "Data columns (total 1 columns):\n",
      " #   Column  Non-Null Count  Dtype  \n",
      "---  ------  --------------  -----  \n",
      " 0   x_ema1  10 non-null     float64\n",
      "dtypes: float64(1)\n",
      "memory usage: 160.0 bytes\n"
     ]
    },
    {
     "data": {
      "text/html": [
       "<div>\n",
       "<style scoped>\n",
       "    .dataframe tbody tr th:only-of-type {\n",
       "        vertical-align: middle;\n",
       "    }\n",
       "\n",
       "    .dataframe tbody tr th {\n",
       "        vertical-align: top;\n",
       "    }\n",
       "\n",
       "    .dataframe thead th {\n",
       "        text-align: right;\n",
       "    }\n",
       "</style>\n",
       "<table border=\"1\" class=\"dataframe\">\n",
       "  <thead>\n",
       "    <tr style=\"text-align: right;\">\n",
       "      <th></th>\n",
       "      <th>x_ema1</th>\n",
       "    </tr>\n",
       "    <tr>\n",
       "      <th>x_date</th>\n",
       "      <th></th>\n",
       "    </tr>\n",
       "  </thead>\n",
       "  <tbody>\n",
       "    <tr>\n",
       "      <th>2023-05-29</th>\n",
       "      <td>418.686035</td>\n",
       "    </tr>\n",
       "    <tr>\n",
       "      <th>2023-05-30</th>\n",
       "      <td>416.157166</td>\n",
       "    </tr>\n",
       "    <tr>\n",
       "      <th>2023-05-31</th>\n",
       "      <td>417.009491</td>\n",
       "    </tr>\n",
       "    <tr>\n",
       "      <th>2023-06-01</th>\n",
       "      <td>416.435516</td>\n",
       "    </tr>\n",
       "    <tr>\n",
       "      <th>2023-06-02</th>\n",
       "      <td>420.814270</td>\n",
       "    </tr>\n",
       "  </tbody>\n",
       "</table>\n",
       "</div>"
      ],
      "text/plain": [
       "                x_ema1\n",
       "x_date                \n",
       "2023-05-29  418.686035\n",
       "2023-05-30  416.157166\n",
       "2023-05-31  417.009491\n",
       "2023-06-01  416.435516\n",
       "2023-06-02  420.814270"
      ]
     },
     "execution_count": 59,
     "metadata": {},
     "output_type": "execute_result"
    }
   ],
   "source": [
    "sqlOutput=f\"\"\"\n",
    "select t_pred.output_date as x_date,t_pred.output_value x_ema1\n",
    "from  `pongthorn.FinAssetForecast.fin_movement_forecast` t\n",
    "cross join unnest(t.prediction_result) t_pred\n",
    "where t.prediction_date='{start_date}'\n",
    "\"\"\"\n",
    "dfOutput=load_data_bq(sqlOutput)\n",
    "output_sequence_length=len(dfOutput)\n",
    "dfOutput['x_date']=pd.to_datetime(dfOutput['x_date'],format='%Y-%m-%d')\n",
    "dfOutput.set_index('x_date',inplace=True)\n",
    "dfOutput.info()\n",
    "dfOutput.head()"
   ]
  },
  {
   "cell_type": "markdown",
   "id": "22f5583f-141e-4093-b6d6-e377b4a57802",
   "metadata": {},
   "source": [
    "# Visualize Prediction Result"
   ]
  },
  {
   "cell_type": "code",
   "execution_count": 60,
   "id": "371cfde4-899a-44d5-9da4-065aae96f3b1",
   "metadata": {},
   "outputs": [
    {
     "data": {
      "text/plain": [
       "<Axes: title={'center': 'SPY - 60 days ago to predict next 10 days'}, xlabel='x_date', ylabel='x_ema1'>"
      ]
     },
     "execution_count": 60,
     "metadata": {},
     "output_type": "execute_result"
    },
    {
     "data": {
      "image/png": "[encoded data removed]",
      "text/plain": [
       "<Figure size 1000x500 with 1 Axes>"
      ]
     },
     "metadata": {},
     "output_type": "display_data"
    }
   ],
   "source": [
    "fig, ax = plt.subplots(figsize=(10, 5))\n",
    "plt.title(f\"{AssetName} - {input_sequence_length} days ago to predict next {output_sequence_length} days\", fontsize=12)\n",
    "#sns.lineplot(data = dfResult[prediction_col], linewidth=4.0,  markers='o',ax=ax,color='black')\n",
    "sns.lineplot(data = dfInput['x_ema1'], linewidth=2.0, ax=ax,color='blue')\n",
    "sns.lineplot(data = dfOutput['x_ema1'], linewidth=2.0, ax=ax,color='green')"
   ]
  },
  {
   "cell_type": "code",
   "execution_count": null,
   "id": "d3bfe6c1-5ad7-4ee1-9397-4a205c9a4b70",
   "metadata": {},
   "outputs": [],
   "source": []
  }
 ],
 "metadata": {
  "kernelspec": {
   "display_name": "Python 3 (ipykernel)",
   "language": "python",
   "name": "python3"
  },
  "language_info": {
   "codemirror_mode": {
    "name": "ipython",
    "version": 3
   },
   "file_extension": ".py",
   "mimetype": "text/x-python",
   "name": "python",
   "nbconvert_exporter": "python",
   "pygments_lexer": "ipython3",
   "version": "3.9.16"
  }
 },
 "nbformat": 4,
 "nbformat_minor": 5
}
