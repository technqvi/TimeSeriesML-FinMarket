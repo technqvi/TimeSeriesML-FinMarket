{
 "cells": [
  {
   "cell_type": "code",
   "execution_count": null,
   "id": "164a4014-3aad-47de-9c62-911d3d5a82ab",
   "metadata": {},
   "outputs": [],
   "source": [
    "import matplotlib.pyplot as plt\n",
    "import matplotlib.dates as mdates\n",
    "import seaborn as sns"
   ]
  },
  {
   "cell_type": "markdown",
   "id": "22f5583f-141e-4093-b6d6-e377b4a57802",
   "metadata": {},
   "source": [
    "# Visualize Prediction Result"
   ]
  },
  {
   "cell_type": "code",
   "execution_count": null,
   "id": "c1551e86-cd5e-4d2f-97b1-9fc5d9ead66e",
   "metadata": {},
   "outputs": [],
   "source": [
    "#get data from BQ"
   ]
  },
  {
   "cell_type": "code",
   "execution_count": null,
   "id": "48494caf-c94c-4cd5-8be6-b2d21fa64c01",
   "metadata": {},
   "outputs": [],
   "source": [
    "dfResult=pd.concat([dfFeature,dfPrediction],ignore_index=False)\n",
    "print(dfResult.info())\n",
    "dfResult"
   ]
  },
  {
   "cell_type": "code",
   "execution_count": null,
   "id": "371cfde4-899a-44d5-9da4-065aae96f3b1",
   "metadata": {},
   "outputs": [],
   "source": [
    "fig, ax = plt.subplots(figsize=(10, 5))\n",
    "plt.title(f\"{AssetName} - {input_sequence_length} days ago to predict next {output_sequence_length} days\", fontsize=12)\n",
    "#sns.lineplot(data = dfResult[prediction_col], linewidth=4.0,  markers='o',ax=ax,color='black')\n",
    "sns.lineplot(data = dfResult.query(\"Type==@colInput\")[prediction_col], linewidth=2.0, ax=ax,color='blue')\n",
    "sns.lineplot(data = dfResult.query(\"Type==@colOutput\")[prediction_col], linewidth=2.0, ax=ax,color='green')"
   ]
  }
 ],
 "metadata": {
  "kernelspec": {
   "display_name": "Python 3 (ipykernel)",
   "language": "python",
   "name": "python3"
  },
  "language_info": {
   "codemirror_mode": {
    "name": "ipython",
    "version": 3
   },
   "file_extension": ".py",
   "mimetype": "text/x-python",
   "name": "python",
   "nbconvert_exporter": "python",
   "pygments_lexer": "ipython3",
   "version": "3.9.16"
  }
 },
 "nbformat": 4,
 "nbformat_minor": 5
}
