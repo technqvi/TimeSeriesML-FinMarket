{
 "cells": [
  {
   "cell_type": "code",
   "execution_count": 131,
   "id": "3206afc6-ad3f-4dc3-8af8-660e8c306ebc",
   "metadata": {},
   "outputs": [],
   "source": [
    "import pandas as pd\n",
    "import numpy as np\n",
    "import os\n",
    "from datetime import datetime,date,timedelta,timezone\n",
    "import pytz\n",
    "\n",
    "import yfinance as yf\n",
    "\n",
    "from ta.utils import dropna\n",
    "import ta.trend as ta_trend\n",
    "import ta.momentum as ta_mmt\n",
    "import ta.others as ta_other\n",
    "import ta \n",
    "\n",
    "# import matplotlib.pyplot as plt\n",
    "# import matplotlib.dates as mdates\n",
    "# import seaborn as sns\n",
    "\n",
    "#SELECT * FROM `pongthorn.FinAssetForecast.fin_data`  where Date >= '2023-05-25' order by Date\n",
    "\n",
    "from google.cloud import bigquery\n",
    "from google.oauth2 import service_account\n",
    "from google.cloud.exceptions import NotFound\n",
    "from google.api_core.exceptions import BadRequest\n",
    "\n",
    "# Often when people are talking about the stock market, \n",
    "# they're referring to US exchanges – such as the NYSE or NASDAQ – which are open from 14.30 to 21:00 (UTC)"
   ]
  },
  {
   "cell_type": "code",
   "execution_count": 132,
   "id": "d18f6c78-00cf-4c76-af8a-6cbe66566c10",
   "metadata": {},
   "outputs": [],
   "source": [
    "# import functions_framework\n",
    "# @functions_framework.http\n",
    "# def load_asset_price_yahoo(request):"
   ]
  },
  {
   "cell_type": "markdown",
   "id": "fab99818-cbd2-4b5f-8173-331dbed3b056",
   "metadata": {},
   "source": [
    "# Enviroment Variable "
   ]
  },
  {
   "cell_type": "code",
   "execution_count": 133,
   "id": "1ef2c938-3b4c-42c4-bcc0-2b7cd37cb143",
   "metadata": {},
   "outputs": [],
   "source": [
    "start_date=os.environ.get('START_DATE', '')  # First recoud \n",
    "end_date=os.environ.get('END_DATE', '') \n",
    "\n",
    "\n",
    "# start_date=os.environ.get('START_DATE', '2014-12-01')  # First recoud \n",
    "# end_date=os.environ.get('END_DATE', '2023-05-31') \n",
    "\n",
    "#symbol_str_list=\"SPY,QQQ,ACWI\"\n",
    "symbol_str_list=os.environ.get('SYMBOL_STR_LIST', 'SPY') \n",
    "nLastToIndy=int(os.environ.get('N_LAST_DATA', '45'))  # default=45\n"
   ]
  },
  {
   "cell_type": "markdown",
   "id": "8bc095c8-b295-4cb4-a508-4ffbdb741242",
   "metadata": {},
   "source": [
    "# Constant Value"
   ]
  },
  {
   "cell_type": "code",
   "execution_count": 134,
   "id": "efa263e9-4200-40aa-b72e-49b9f5cf1d5b",
   "metadata": {},
   "outputs": [],
   "source": [
    "source='yahoo'  # csv / yahoo\n",
    "my_tz='Asia/Bangkok'\n",
    "#write_method='WRITE_EMPTY' #'WRITE_TRUNCATE'\n",
    "write_method='WRITE_APPEND'"
   ]
  },
  {
   "cell_type": "code",
   "execution_count": 135,
   "id": "df6392b2-7adc-4be1-b000-9287b80dc33a",
   "metadata": {},
   "outputs": [
    {
     "name": "stdout",
     "output_type": "stream",
     "text": [
      "Get ['SPY'] from 2023-05-31 to 2023-06-01 at 2023-06-01 07:58:32.681144\n"
     ]
    }
   ],
   "source": [
    "symbol_list= symbol_str_list.split(',')\n",
    "\n",
    "import_dt=datetime.now()\n",
    "#import_dt=datetime.now(pytz.timezone(my_tz))\n",
    "#import_dt=datetime.now(pytz.utc)\n",
    "\n",
    "\n",
    "if  start_date=='' and end_date=='':\n",
    "  start_date=(import_dt+timedelta(days=-1)).strftime(\"%Y-%m-%d\")\n",
    "  end_date= import_dt.strftime(\"%Y-%m-%d\")\n",
    "  # end_date=start_date  \n",
    "    \n",
    "print(f\"Get {symbol_list} from {start_date} to {end_date} at {import_dt}\" ) "
   ]
  },
  {
   "cell_type": "code",
   "execution_count": 136,
   "id": "9d8234ef-3777-4175-9240-893008c22b33",
   "metadata": {},
   "outputs": [],
   "source": [
    "list_cols=['Date','Symbol','Close']"
   ]
  },
  {
   "cell_type": "markdown",
   "id": "2bf6c30e-65bc-4fb0-96e5-f0752a723cd8",
   "metadata": {},
   "source": [
    "# BigQuery"
   ]
  },
  {
   "cell_type": "code",
   "execution_count": 137,
   "id": "dd415da4-273d-4978-a44d-0ad04cea07fb",
   "metadata": {},
   "outputs": [
    {
     "name": "stdout",
     "output_type": "stream",
     "text": [
      "pongthorn.FinAssetForecast.fin_data\n"
     ]
    }
   ],
   "source": [
    "projectId=\"pongthorn\"\n",
    "dataset_id='FinAssetForecast'\n",
    "table_data_id=f\"{projectId}.{dataset_id}.fin_data\"\n",
    "print(table_data_id)\n",
    "\n",
    "client = bigquery.Client(project=projectId )\n",
    "\n",
    "def load_data_bq(sql:str):\n",
    " query_result=client.query(sql)\n",
    " df=query_result.to_dataframe()\n",
    " return df\n",
    "\n",
    "\n",
    "def importDataToBQ(dfToBQ):\n",
    "    try:\n",
    "            job_config = bigquery.LoadJobConfig(\n",
    "                write_disposition=write_method,\n",
    "            )\n",
    "            job = client.load_table_from_dataframe(\n",
    "                dfToBQ, table_data_id, job_config=job_config,\n",
    "            )  # Make an API request.\n",
    "            job.result()  # Wait for the job to complete.\n",
    "            print(f\"{source}-Total\", len(dfToBQ), f\" Add transaction to {table_data_id} bigquery successfully\")\n",
    "    except:\n",
    "          print(job.error_result)"
   ]
  },
  {
   "cell_type": "markdown",
   "id": "3c58032b-1928-42e2-b878-dd4c6e8f43f2",
   "metadata": {},
   "source": [
    "# Build Indicator as Feature using TA-Lib"
   ]
  },
  {
   "cell_type": "code",
   "execution_count": 138,
   "id": "ce2a6894-5af7-46bd-a586-874a19e9413f",
   "metadata": {},
   "outputs": [],
   "source": [
    "def build_indicator_feature(df):\n",
    "    #df['MA5']=ta_trend.sma_indicator(close=df['Close'],window=5,fillna=True).round(4)\n",
    "    df['EMA1']=ta_trend.ema_indicator(close=df['Close'],window=10,fillna=True).round(4)\n",
    "    df['EMA2']=ta_trend.ema_indicator(close=df['Close'],window=20,fillna=True).round(4)\n",
    "    df['MACD']=ta_trend.macd(close=df['Close'], window_slow=20, window_fast=10, fillna=True).round(4)\n",
    "    df['SIGNAL']=ta_trend.macd_signal(close=df['Close'], window_slow=20, window_fast=10,window_sign=15, fillna=True).round(4)\n",
    "    return df   "
   ]
  },
  {
   "cell_type": "markdown",
   "id": "a11370ba-aa3d-466c-b29f-8c4cfbd10167",
   "metadata": {},
   "source": [
    "# Load data from CSV (Export from Amibroker)"
   ]
  },
  {
   "cell_type": "code",
   "execution_count": 139,
   "id": "779ece19-c693-422d-acab-25278558ea19",
   "metadata": {},
   "outputs": [],
   "source": [
    "if source=='csv':\n",
    "    print(\"Load data from CSV (Export from Amibroker)\")\n",
    "    '''\n",
    "    Afl file on Amibroker  Explore to train TS 01-12-2014 - 31-05-2023\n",
    "    Filter=1; \n",
    "    AddColumn(C,\"close\"); \n",
    "    '''\n",
    "    ab_path=\"data/AB-SPY_2014-12-01-2023-05-31.csv\"\n",
    "    dfCSV=pd.read_csv(f'{ab_path}',parse_dates=['Date/Time'],dayfirst=True)\n",
    "    dfCSV.columns=['Symbol','Date','Close']\n",
    "    dfCSV=dfCSV[list_cols]\n",
    "    dfCSV=dfCSV.drop_duplicates(subset=['Date','Symbol'],keep='last')\n",
    "    dfCSV=build_indicator_feature(dfCSV)\n",
    "    dfCSV['ImportDateTime']=import_dt\n",
    "    dfCSV['ImportDateTime']=dfCSV['ImportDateTime'].dt.tz_localize('utc').dt.tz_convert(my_tz)\n",
    "    print(dfCSV.info())\n",
    "    importDataToBQ(dfCSV)"
   ]
  },
  {
   "cell_type": "markdown",
   "id": "f8ed8ca7-8907-4961-9f33-e3ec8fe7d531",
   "metadata": {},
   "source": [
    "# Load data from Yahoo"
   ]
  },
  {
   "cell_type": "code",
   "execution_count": 140,
   "id": "81eb0732-bc1d-48a6-99ae-7eb00af5d333",
   "metadata": {},
   "outputs": [
    {
     "name": "stdout",
     "output_type": "stream",
     "text": [
      "Load data from Yahoo\n",
      "Empty DataFrame\n",
      "Columns: [Date, Symbol, Close]\n",
      "Index: []\n",
      "[*********************100%***********************]  1 of 1 completed\n",
      "==============SPY=============\n",
      "First Row of Yahoo2023-05-31\n",
      "No 32 past data+current to calculate TA-Indicator\n",
      "<class 'pandas.core.frame.DataFrame'>\n",
      "Int64Index: 32 entries, 0 to 31\n",
      "Data columns (total 7 columns):\n",
      " #   Column  Non-Null Count  Dtype         \n",
      "---  ------  --------------  -----         \n",
      " 0   Date    32 non-null     datetime64[ns]\n",
      " 1   Symbol  32 non-null     object        \n",
      " 2   Close   32 non-null     float64       \n",
      " 3   EMA1    32 non-null     float64       \n",
      " 4   EMA2    32 non-null     float64       \n",
      " 5   MACD    32 non-null     float64       \n",
      " 6   SIGNAL  32 non-null     float64       \n",
      "dtypes: datetime64[ns](1), float64(5), object(1)\n",
      "memory usage: 2.0+ KB\n",
      "None\n",
      "         Date Symbol       Close      EMA1      EMA2    MACD  SIGNAL\n",
      "31 2023-05-31    SPY  417.850006  416.5469  415.1317  1.4152  0.6864\n",
      "<class 'pandas.core.frame.DataFrame'>\n",
      "Int64Index: 1 entries, 31 to 31\n",
      "Data columns (total 8 columns):\n",
      " #   Column          Non-Null Count  Dtype                       \n",
      "---  ------          --------------  -----                       \n",
      " 0   Date            1 non-null      datetime64[ns]              \n",
      " 1   Symbol          1 non-null      object                      \n",
      " 2   Close           1 non-null      float64                     \n",
      " 3   EMA1            1 non-null      float64                     \n",
      " 4   EMA2            1 non-null      float64                     \n",
      " 5   MACD            1 non-null      float64                     \n",
      " 6   SIGNAL          1 non-null      float64                     \n",
      " 7   ImportDateTime  1 non-null      datetime64[ns, Asia/Bangkok]\n",
      "dtypes: datetime64[ns, Asia/Bangkok](1), datetime64[ns](1), float64(5), object(1)\n",
      "memory usage: 72.0+ bytes\n",
      "None\n",
      "yahoo-Total 1  Add transaction to pongthorn.FinAssetForecast.fin_data bigquery successfully\n"
     ]
    }
   ],
   "source": [
    "if source=='yahoo':\n",
    "    print(\"Load data from Yahoo\")\n",
    "    dfMain=pd.DataFrame(columns=list_cols)\n",
    "    print(dfMain)\n",
    "\n",
    "    for symbol in symbol_list:\n",
    "\n",
    "        dfx=yf.download(tickers=symbol,start=start_date,end=end_date)\n",
    "\n",
    "        if dfx.empty==False:\n",
    "            print(f\"=============={symbol}=============\")  \n",
    "            dfx.reset_index(drop=False,inplace=True)  \n",
    "            dfx['Symbol']=symbol\n",
    "            dfx=dfx[['Date','Symbol','Close']] \n",
    "\n",
    "            minDate=dfx['Date'].min().strftime(\"%Y-%m-%d\")\n",
    "            print(\"First Row of Yahoo\"+minDate)\n",
    "            sqlX=f\"\"\"\n",
    "            SELECT Date,Symbol,Close FROM `{table_data_id}` \n",
    "            Where  Date between  DATE_SUB(DATE '{minDate}', INTERVAL {nLastToIndy} Day) and '{minDate}' \n",
    "            and Symbol='{symbol}' order by Date,ImportDateTime\n",
    "            \"\"\"\n",
    "            dfHist=load_data_bq(sqlX)\n",
    "\n",
    "\n",
    "            dfx=pd.concat([dfHist,dfx],axis=0,ignore_index=True)\n",
    "\n",
    "            print(f\"No {len(dfx)} past data+current to calculate TA-Indicator\")\n",
    "            dfx=dfx.drop_duplicates(subset=['Date','Symbol'],keep='last')\n",
    "            dfx['Date']=pd.to_datetime(dfx['Date'],format='%Y-%m-%d')\n",
    "\n",
    "            dfx=build_indicator_feature(dfx)\n",
    "\n",
    "\n",
    "            print(dfx.info())            \n",
    "\n",
    "            #dfx=dfx[dfx.Date.between(start_date, end_date)]\n",
    "            dfx = dfx.query('Date >= @start_date and Date < @end_date')\n",
    "\n",
    "            print(dfx)\n",
    "            dfMain=pd.concat([dfMain,dfx])\n",
    "            \n",
    "\n",
    "        else:\n",
    "          msg=f\"Not found {symbol} OR No data between {start_date} and {end_date}\"\n",
    "          print(msg)\n",
    "          #return  msg\n",
    "    if dfMain.empty==False:\n",
    "        dfMain['ImportDateTime']=import_dt\n",
    "        # dfMain['ImportDateTime']=dfMain['ImportDateTime'].dt.tz_localize(my_tz)\n",
    "        dfMain['ImportDateTime']=dfMain['ImportDateTime'].dt.tz_localize('utc').dt.tz_convert(my_tz)\n",
    "        print(dfMain.info())\n",
    "        #dfMain\n",
    "        importDataToBQ(dfMain)"
   ]
  },
  {
   "cell_type": "code",
   "execution_count": 106,
   "id": "a0ee02a6-209d-4d83-874b-2c4d517ee2e4",
   "metadata": {},
   "outputs": [],
   "source": [
    "# return 'OK'"
   ]
  },
  {
   "cell_type": "code",
   "execution_count": 141,
   "id": "4936e5c8-0545-419e-8c63-328e951fd1f7",
   "metadata": {},
   "outputs": [
    {
     "data": {
      "text/html": [
       "<div>\n",
       "<style scoped>\n",
       "    .dataframe tbody tr th:only-of-type {\n",
       "        vertical-align: middle;\n",
       "    }\n",
       "\n",
       "    .dataframe tbody tr th {\n",
       "        vertical-align: top;\n",
       "    }\n",
       "\n",
       "    .dataframe thead th {\n",
       "        text-align: right;\n",
       "    }\n",
       "</style>\n",
       "<table border=\"1\" class=\"dataframe\">\n",
       "  <thead>\n",
       "    <tr style=\"text-align: right;\">\n",
       "      <th></th>\n",
       "      <th>Date</th>\n",
       "      <th>Symbol</th>\n",
       "      <th>Close</th>\n",
       "      <th>EMA1</th>\n",
       "      <th>EMA2</th>\n",
       "      <th>MACD</th>\n",
       "      <th>SIGNAL</th>\n",
       "      <th>ImportDateTime</th>\n",
       "    </tr>\n",
       "  </thead>\n",
       "  <tbody>\n",
       "    <tr>\n",
       "      <th>31</th>\n",
       "      <td>2023-05-31</td>\n",
       "      <td>SPY</td>\n",
       "      <td>417.850006</td>\n",
       "      <td>416.5469</td>\n",
       "      <td>415.1317</td>\n",
       "      <td>1.4152</td>\n",
       "      <td>0.6864</td>\n",
       "      <td>2023-06-01 14:58:32.681144+07:00</td>\n",
       "    </tr>\n",
       "  </tbody>\n",
       "</table>\n",
       "</div>"
      ],
      "text/plain": [
       "         Date Symbol       Close      EMA1      EMA2    MACD  SIGNAL  \\\n",
       "31 2023-05-31    SPY  417.850006  416.5469  415.1317  1.4152  0.6864   \n",
       "\n",
       "                     ImportDateTime  \n",
       "31 2023-06-01 14:58:32.681144+07:00  "
      ]
     },
     "execution_count": 141,
     "metadata": {},
     "output_type": "execute_result"
    }
   ],
   "source": [
    "dfMain"
   ]
  },
  {
   "cell_type": "code",
   "execution_count": null,
   "id": "e91e939e-9dd9-414f-969a-943d18d389d2",
   "metadata": {},
   "outputs": [],
   "source": []
  }
 ],
 "metadata": {
  "kernelspec": {
   "display_name": "Python 3 (ipykernel)",
   "language": "python",
   "name": "python3"
  },
  "language_info": {
   "codemirror_mode": {
    "name": "ipython",
    "version": 3
   },
   "file_extension": ".py",
   "mimetype": "text/x-python",
   "name": "python",
   "nbconvert_exporter": "python",
   "pygments_lexer": "ipython3",
   "version": "3.9.16"
  }
 },
 "nbformat": 4,
 "nbformat_minor": 5
}
