{
 "cells": [
  {
   "cell_type": "code",
   "execution_count": 481,
   "id": "a9cb56bd-3c45-4f45-a2fb-c33f5198d50e",
   "metadata": {},
   "outputs": [],
   "source": [
    "import pandas as pd\n",
    "import numpy as np\n",
    "import os\n",
    "from datetime import datetime,date,timedelta\n",
    "import json\n",
    "\n",
    "from ta.utils import dropna\n",
    "import ta.trend as ta_trend\n",
    "import ta.momentum as ta_mmt\n",
    "import ta.others as ta_other\n",
    "import ta \n",
    "\n",
    "import matplotlib.pyplot as plt\n",
    "import matplotlib.dates as mdates\n",
    "import seaborn as sns\n",
    "\n",
    "from tensorflow.keras.models import load_model\n",
    "import joblib\n",
    "\n",
    "from google.cloud import bigquery\n",
    "from google.oauth2 import service_account\n",
    "from google.cloud.exceptions import NotFound\n",
    "from google.api_core.exceptions import BadRequest"
   ]
  },
  {
   "cell_type": "code",
   "execution_count": 482,
   "id": "6a33b887-b266-4ff9-b2ca-a334364eb410",
   "metadata": {},
   "outputs": [
    {
     "name": "stdout",
     "output_type": "stream",
     "text": [
      "Load model and scaler\n",
      "Model and Scaler Object Summary\n",
      "Model: \"sequential_1\"\n",
      "_________________________________________________________________\n",
      " Layer (type)                Output Shape              Param #   \n",
      "=================================================================\n",
      " lstm_1 (LSTM)               (None, 240)               232320    \n",
      "                                                                 \n",
      " dropout_1 (Dropout)         (None, 240)               0         \n",
      "                                                                 \n",
      " dense_1 (Dense)             (None, 10)                2410      \n",
      "                                                                 \n",
      "=================================================================\n",
      "Total params: 234,730\n",
      "Trainable params: 234,730\n",
      "Non-trainable params: 0\n",
      "_________________________________________________________________\n",
      "None\n",
      "max=[473.99] and min=[187.09] and scale=[0.00348554]\n",
      "max=[473.99] and min=[187.09] and scale=[0.00348554]\n"
     ]
    },
    {
     "name": "stderr",
     "output_type": "stream",
     "text": [
      "D:\\ProgramData\\Anaconda3\\envs\\google_base\\lib\\site-packages\\sklearn\\base.py:318: UserWarning: Trying to unpickle estimator MinMaxScaler from version 1.2.1 when using version 1.2.2. This might lead to breaking code or invalid results. Use at your own risk. For more info please refer to:\n",
      "https://scikit-learn.org/stable/model_persistence.html#security-maintainability-limitations\n",
      "  warnings.warn(\n"
     ]
    }
   ],
   "source": [
    "ab_path = \"../data/SPY-Daily-May23-Prediction.csv\"\n",
    "\n",
    "\n",
    "\n",
    "start_date='2023-01-01'  # First recoud \n",
    "end_date='2023-04-28'  # last record\n",
    "# no bar=last record-start_date\n",
    "\n",
    "AssetName=\"S&P500\"\n",
    "\n",
    "date_col='Date'\n",
    "prediction_col='EMA1'\n",
    "feature_cols=['EMA1']\n",
    "\n",
    "input_sequence_length =60\n",
    "output_sequence_length =10\n",
    "\n",
    "\n",
    "colInput='feature'\n",
    "colOutput='prediction'\n",
    "\n",
    "print(\"Load model and scaler\")\n",
    "x_model = load_model(\"model/EMA1_60To10_SPY_E150S15-Y2015-2023_ma.h5\")\n",
    "x_scaler = joblib.load(\"model/scaler_EMA1_60To10_SPY_E150S15-Y2015-2023.gz\")\n",
    "x_scalerPred=joblib.load(\"model/scaler_pred_EMA1_60To10_SPY_E150S15-Y2015-2023.gz\")\n",
    "\n",
    "\n",
    "\n",
    "# x_model = load_model(\"model/best_tune_EMA1_60To10_SPY_E150S15-Y2015-2023.h5\")\n",
    "# x_scaler = joblib.load(\"model/scaler_best_tune_EMA1_60To10_SPY_E150S15-Y2015-2023.gz\")\n",
    "# x_scalerPred=joblib.load(\"model/scaler_pred_best_tune_EMA1_60To10_SPY_E150S15-Y2015-2023.gz\")\n",
    "\n",
    "print(\"Model and Scaler Object Summary\")\n",
    "print(x_model.summary())\n",
    "\n",
    "#(max - min) / (X.max(axis=0) - X.min(axis=0))\n",
    "print(f\"max={x_scaler.data_max_} and min={x_scaler.data_min_} and scale={x_scaler.scale_}\")\n",
    "print(f\"max={x_scalerPred.data_max_} and min={x_scalerPred.data_min_} and scale={x_scalerPred.scale_}\")"
   ]
  },
  {
   "cell_type": "code",
   "execution_count": null,
   "id": "c5714b43-ed19-41fb-a1c6-e90dceaf22b5",
   "metadata": {},
   "outputs": [],
   "source": []
  },
  {
   "cell_type": "markdown",
   "id": "1dea03ea-721d-4cb0-95f3-19a05358461d",
   "metadata": {},
   "source": [
    "# Load data and Create Feature uisng Technocal Analysis Indicator"
   ]
  },
  {
   "cell_type": "code",
   "execution_count": 483,
   "id": "0feffbdd-cbf7-4621-b6dc-e93aeb50cf90",
   "metadata": {},
   "outputs": [
    {
     "name": "stdout",
     "output_type": "stream",
     "text": [
      "['Date', 'close', 'EMA1', 'EMA2', 'MACD', 'SIGNAL']\n",
      "<class 'pandas.core.frame.DataFrame'>\n",
      "DatetimeIndex: 81 entries, 2023-01-03 to 2023-04-28\n",
      "Data columns (total 5 columns):\n",
      " #   Column  Non-Null Count  Dtype  \n",
      "---  ------  --------------  -----  \n",
      " 0   close   81 non-null     float64\n",
      " 1   EMA1    81 non-null     float64\n",
      " 2   EMA2    81 non-null     float64\n",
      " 3   MACD    81 non-null     float64\n",
      " 4   SIGNAL  81 non-null     float64\n",
      "dtypes: float64(5)\n",
      "memory usage: 3.8 KB\n",
      "None\n",
      "<class 'pandas.core.frame.DataFrame'>\n",
      "DatetimeIndex: 81 entries, 2023-01-03 to 2023-04-28\n",
      "Data columns (total 5 columns):\n",
      " #   Column  Non-Null Count  Dtype  \n",
      "---  ------  --------------  -----  \n",
      " 0   close   81 non-null     float64\n",
      " 1   EMA1    81 non-null     float64\n",
      " 2   EMA2    81 non-null     float64\n",
      " 3   MACD    81 non-null     float64\n",
      " 4   SIGNAL  81 non-null     float64\n",
      "dtypes: float64(5)\n",
      "memory usage: 3.8 KB\n"
     ]
    },
    {
     "data": {
      "text/html": [
       "<div>\n",
       "<style scoped>\n",
       "    .dataframe tbody tr th:only-of-type {\n",
       "        vertical-align: middle;\n",
       "    }\n",
       "\n",
       "    .dataframe tbody tr th {\n",
       "        vertical-align: top;\n",
       "    }\n",
       "\n",
       "    .dataframe thead th {\n",
       "        text-align: right;\n",
       "    }\n",
       "</style>\n",
       "<table border=\"1\" class=\"dataframe\">\n",
       "  <thead>\n",
       "    <tr style=\"text-align: right;\">\n",
       "      <th></th>\n",
       "      <th>close</th>\n",
       "      <th>EMA1</th>\n",
       "      <th>EMA2</th>\n",
       "      <th>MACD</th>\n",
       "      <th>SIGNAL</th>\n",
       "    </tr>\n",
       "    <tr>\n",
       "      <th>Date</th>\n",
       "      <th></th>\n",
       "      <th></th>\n",
       "      <th></th>\n",
       "      <th></th>\n",
       "      <th></th>\n",
       "    </tr>\n",
       "  </thead>\n",
       "  <tbody>\n",
       "    <tr>\n",
       "      <th>2023-04-17</th>\n",
       "      <td>413.94</td>\n",
       "      <td>409.6812</td>\n",
       "      <td>406.0887</td>\n",
       "      <td>3.5924</td>\n",
       "      <td>2.1738</td>\n",
       "    </tr>\n",
       "    <tr>\n",
       "      <th>2023-04-18</th>\n",
       "      <td>414.21</td>\n",
       "      <td>410.5046</td>\n",
       "      <td>406.8622</td>\n",
       "      <td>3.6424</td>\n",
       "      <td>2.3574</td>\n",
       "    </tr>\n",
       "    <tr>\n",
       "      <th>2023-04-19</th>\n",
       "      <td>414.14</td>\n",
       "      <td>411.1656</td>\n",
       "      <td>407.5553</td>\n",
       "      <td>3.6102</td>\n",
       "      <td>2.5140</td>\n",
       "    </tr>\n",
       "    <tr>\n",
       "      <th>2023-04-20</th>\n",
       "      <td>411.88</td>\n",
       "      <td>411.2955</td>\n",
       "      <td>407.9672</td>\n",
       "      <td>3.3283</td>\n",
       "      <td>2.6158</td>\n",
       "    </tr>\n",
       "    <tr>\n",
       "      <th>2023-04-21</th>\n",
       "      <td>412.20</td>\n",
       "      <td>411.4599</td>\n",
       "      <td>408.3703</td>\n",
       "      <td>3.0896</td>\n",
       "      <td>2.6750</td>\n",
       "    </tr>\n",
       "    <tr>\n",
       "      <th>2023-04-24</th>\n",
       "      <td>412.63</td>\n",
       "      <td>411.6727</td>\n",
       "      <td>408.7760</td>\n",
       "      <td>2.8967</td>\n",
       "      <td>2.7027</td>\n",
       "    </tr>\n",
       "    <tr>\n",
       "      <th>2023-04-25</th>\n",
       "      <td>406.08</td>\n",
       "      <td>410.6558</td>\n",
       "      <td>408.5192</td>\n",
       "      <td>2.1366</td>\n",
       "      <td>2.6319</td>\n",
       "    </tr>\n",
       "    <tr>\n",
       "      <th>2023-04-26</th>\n",
       "      <td>404.36</td>\n",
       "      <td>409.5111</td>\n",
       "      <td>408.1231</td>\n",
       "      <td>1.3880</td>\n",
       "      <td>2.4765</td>\n",
       "    </tr>\n",
       "    <tr>\n",
       "      <th>2023-04-27</th>\n",
       "      <td>412.41</td>\n",
       "      <td>410.0382</td>\n",
       "      <td>408.5314</td>\n",
       "      <td>1.5068</td>\n",
       "      <td>2.3552</td>\n",
       "    </tr>\n",
       "    <tr>\n",
       "      <th>2023-04-28</th>\n",
       "      <td>415.93</td>\n",
       "      <td>411.1094</td>\n",
       "      <td>409.2360</td>\n",
       "      <td>1.8734</td>\n",
       "      <td>2.2950</td>\n",
       "    </tr>\n",
       "  </tbody>\n",
       "</table>\n",
       "</div>"
      ],
      "text/plain": [
       "             close      EMA1      EMA2    MACD  SIGNAL\n",
       "Date                                                  \n",
       "2023-04-17  413.94  409.6812  406.0887  3.5924  2.1738\n",
       "2023-04-18  414.21  410.5046  406.8622  3.6424  2.3574\n",
       "2023-04-19  414.14  411.1656  407.5553  3.6102  2.5140\n",
       "2023-04-20  411.88  411.2955  407.9672  3.3283  2.6158\n",
       "2023-04-21  412.20  411.4599  408.3703  3.0896  2.6750\n",
       "2023-04-24  412.63  411.6727  408.7760  2.8967  2.7027\n",
       "2023-04-25  406.08  410.6558  408.5192  2.1366  2.6319\n",
       "2023-04-26  404.36  409.5111  408.1231  1.3880  2.4765\n",
       "2023-04-27  412.41  410.0382  408.5314  1.5068  2.3552\n",
       "2023-04-28  415.93  411.1094  409.2360  1.8734  2.2950"
      ]
     },
     "execution_count": 483,
     "metadata": {},
     "output_type": "execute_result"
    }
   ],
   "source": [
    "df=pd.read_csv(f'{ab_path}',parse_dates=['Date/Time'],dayfirst=True)\n",
    "df.rename(columns={'Date/Time':date_col},inplace=True)\n",
    "df.drop(columns=['Ticker'],inplace=True)\n",
    "\n",
    "\n",
    "df['EMA1']=ta_trend.ema_indicator(close=df['close'],window=10,fillna=True).round(4)\n",
    "df['EMA2']=ta_trend.ema_indicator(close=df['close'],window=20,fillna=True).round(4)\n",
    "df['MACD']=ta_trend.macd(close=df['close'], window_slow=20, window_fast=10, fillna=True).round(4)\n",
    "df['SIGNAL']=ta_trend.macd_signal(close=df['close'], window_slow=20, window_fast=10,window_sign=15, fillna=True).round(4)\n",
    "\n",
    "allCols=list(df.columns)\n",
    "print(allCols)\n",
    "\n",
    "\n",
    "df.set_index(date_col,inplace=True)\n",
    "df=df.loc[start_date:end_date]\n",
    "print(df.info())\n",
    "df.tail()\n",
    "\n",
    "df.info()\n",
    "df.tail(10)"
   ]
  },
  {
   "cell_type": "code",
   "execution_count": 484,
   "id": "327a7a76-24a7-4f8f-82c7-836c6a3778dd",
   "metadata": {},
   "outputs": [],
   "source": [
    "# plt.subplots(2, 1, figsize = (20, 10),sharex=True)\n",
    "\n",
    "# ax1 = plt.subplot(2, 1, 1)\n",
    "# plt.plot(df[['close','EMA1','EMA2']])\n",
    "# plt.ylabel('Price & EMA')\n",
    "\n",
    "# ax2 = plt.subplot(2, 1, 2)\n",
    "# plt.plot(df[['MACD','SIGNAL']])\n",
    "# plt.xlabel('Date')\n",
    "# plt.ylabel('MACD & Signal')\n",
    "\n",
    "# plt.show()"
   ]
  },
  {
   "cell_type": "markdown",
   "id": "e546448a-234c-49d2-9a97-346a7e62ee25",
   "metadata": {},
   "source": [
    "# Get only Feature to Predict itself in the next N days"
   ]
  },
  {
   "cell_type": "code",
   "execution_count": 485,
   "id": "36d29f68-fa93-42fc-903a-20ac2cc556ac",
   "metadata": {},
   "outputs": [
    {
     "name": "stdout",
     "output_type": "stream",
     "text": [
      "<class 'pandas.core.frame.DataFrame'>\n",
      "DatetimeIndex: 60 entries, 2023-02-02 to 2023-04-28\n",
      "Data columns (total 1 columns):\n",
      " #   Column  Non-Null Count  Dtype  \n",
      "---  ------  --------------  -----  \n",
      " 0   EMA1    60 non-null     float64\n",
      "dtypes: float64(1)\n",
      "memory usage: 960.0 bytes\n",
      "None\n",
      "(60, 1)\n",
      "                EMA1\n",
      "Date                \n",
      "2023-02-02  405.0143\n",
      "2023-02-03  406.3481\n",
      "2023-02-06  406.9812\n",
      "2023-02-07  408.4737\n",
      "2023-02-08  408.8694\n",
      "                EMA1\n",
      "Date                \n",
      "2023-04-24  411.6727\n",
      "2023-04-25  410.6558\n",
      "2023-04-26  409.5111\n",
      "2023-04-27  410.0382\n",
      "2023-04-28  411.1094\n"
     ]
    },
    {
     "data": {
      "image/png": "[encoded data removed]",
      "text/plain": [
       "<Figure size 2000x1000 with 1 Axes>"
      ]
     },
     "metadata": {},
     "output_type": "display_data"
    }
   ],
   "source": [
    "# get data last 60 days (select * from table limit 60) to predict tomorow at \n",
    "# 12:00 For S&P\n",
    "# 08:00 For SET Thailand\n",
    "\n",
    "dfForPred=df[feature_cols]\n",
    "#dfForPred=dfForPred.iloc[-(input_sequence_length+1):-1,:]\n",
    "dfForPred=dfForPred.iloc[-input_sequence_length:,:]\n",
    "print(dfForPred.info())\n",
    "print(dfForPred.shape)\n",
    "\n",
    "print(dfForPred.head(5))\n",
    "print(dfForPred.tail(5))\n",
    "\n",
    "\n",
    "dfForPred.plot(figsize = (20, 10))\n",
    "plt.show()"
   ]
  },
  {
   "cell_type": "markdown",
   "id": "9306df85-1fb9-4e9e-9987-e42d6e2c84f5",
   "metadata": {},
   "source": [
    "# Make Pediction"
   ]
  },
  {
   "cell_type": "code",
   "execution_count": 486,
   "id": "0866a254-f643-4772-a239-9ff5621f89d7",
   "metadata": {},
   "outputs": [
    {
     "name": "stdout",
     "output_type": "stream",
     "text": [
      "(60, 1)\n",
      "[[0.78279087]\n",
      " [0.77924643]\n",
      " [0.77525654]\n",
      " [0.77709376]\n",
      " [0.78082747]]\n",
      "(1, 60, 1)\n",
      "1/1 [==============================] - 1s 599ms/step\n",
      "(1, 10) [[0.79185003 0.79208195 0.7855618  0.7749264  0.7786799  0.7762255\n",
      "  0.760689   0.7973112  0.7843642  0.7888163 ]]\n",
      "(10, 1) [[414.27176]\n",
      " [414.33832]\n",
      " [412.46768]\n",
      " [409.4164 ]\n",
      " [410.49326]\n",
      " [409.7891 ]\n",
      " [405.3317 ]\n",
      " [415.8386 ]\n",
      " [412.1241 ]\n",
      " [413.4014 ]]\n",
      "============================Summary============================\n",
      "(60, 1)\n",
      "(10, 1)\n"
     ]
    }
   ],
   "source": [
    "xUnscaled=dfForPred.values #print(xUnscaled.shape)\n",
    "xScaled=x_scaler.transform(xUnscaled)\n",
    "print(xScaled.shape)\n",
    "print(xScaled[-5:])\n",
    "\n",
    "# # Way1\n",
    "# xScaledToPredict = []\n",
    "# xScaledToPredict.append(xScaled)\n",
    "# print(len(xScaledToPredict))\n",
    "\n",
    "# yPredScaled=x_model.predict(np.array(xScaledToPredict))\n",
    "# print(yPredScaled.shape,yPredScaled)\n",
    "\n",
    "# yPred  = x_scalerPred.inverse_transform(yPredScaled.reshape(-1, 1))\n",
    "# print(yPred.shape,yPred)\n",
    "\n",
    "#Way2\n",
    "xScaledToPredict= xScaled.reshape(1,input_sequence_length,len(feature_cols))\n",
    "print(xScaledToPredict.shape)\n",
    "\n",
    "yPredScaled = x_model.predict(xScaledToPredict)\n",
    "print(yPredScaled.shape, yPredScaled)\n",
    "\n",
    "yPred = x_scalerPred.inverse_transform(yPredScaled).reshape(-1, 1)\n",
    "print(yPred.shape, yPred)\n",
    "\n",
    "\n",
    "print(\"============================Summary============================\")\n",
    "print(xUnscaled.shape)\n",
    "print(yPred.shape)\n",
    "\n",
    "# print(\"============================Input============================\")\n",
    "# print(xUnscaled)\n",
    "# print(\"============================Output============================\")\n",
    "# print(yPred)\n",
    "\n"
   ]
  },
  {
   "cell_type": "markdown",
   "id": "66a97710-b915-4d94-baec-9ffedca2ef73",
   "metadata": {},
   "source": [
    "# Build Predition Result Data"
   ]
  },
  {
   "cell_type": "markdown",
   "id": "b893eae3-3adf-4eb6-815a-df7905520da6",
   "metadata": {},
   "source": [
    "## Feature Data"
   ]
  },
  {
   "cell_type": "code",
   "execution_count": 487,
   "id": "9fb7d106-f6c2-47dd-99db-f764b8697e5b",
   "metadata": {},
   "outputs": [
    {
     "name": "stdout",
     "output_type": "stream",
     "text": [
      "                EMA1     Type\n",
      "Date                         \n",
      "2023-02-02  405.0143  feature\n",
      "2023-02-03  406.3481  feature\n",
      "2023-02-06  406.9812  feature\n",
      "2023-02-07  408.4737  feature\n",
      "2023-02-08  408.8694  feature\n",
      "                EMA1     Type\n",
      "Date                         \n",
      "2023-04-24  411.6727  feature\n",
      "2023-04-25  410.6558  feature\n",
      "2023-04-26  409.5111  feature\n",
      "2023-04-27  410.0382  feature\n",
      "2023-04-28  411.1094  feature\n"
     ]
    }
   ],
   "source": [
    "dfFeature=pd.DataFrame(data= xUnscaled,columns=feature_cols,index=dfForPred.index)\n",
    "dfFeature['Type']=colInput\n",
    "print(dfFeature.head())\n",
    "print(dfFeature.tail())"
   ]
  },
  {
   "cell_type": "markdown",
   "id": "94b51723-9516-4297-b40e-61cd1d6375e1",
   "metadata": {},
   "source": [
    "## Forecast Value Data"
   ]
  },
  {
   "cell_type": "code",
   "execution_count": 490,
   "id": "e9c1f307-5e3e-4ea5-9e3f-fe614518819c",
   "metadata": {},
   "outputs": [
    {
     "name": "stdout",
     "output_type": "stream",
     "text": [
      "DatetimeIndex(['2023-05-01', '2023-05-02', '2023-05-03', '2023-05-04',\n",
      "               '2023-05-05', '2023-05-08', '2023-05-09', '2023-05-10',\n",
      "               '2023-05-11', '2023-05-12'],\n",
      "              dtype='datetime64[ns]', freq='B')\n"
     ]
    }
   ],
   "source": [
    "lastRowOfFeature=dfFeature.index.max()\n",
    "firstRowofPrediction=lastRowOfFeature+timedelta(days=1)\n",
    "datePred=pd.date_range(start=firstRowofPrediction,freq='b',periods=output_sequence_length)\n",
    "print(datePred)\n"
   ]
  },
  {
   "cell_type": "code",
   "execution_count": 491,
   "id": "3efe4934-7b42-4bb1-ad66-6a5a6b1b0898",
   "metadata": {},
   "outputs": [
    {
     "name": "stdout",
     "output_type": "stream",
     "text": [
      "                  EMA1        Type\n",
      "Date                              \n",
      "2023-05-01  414.271759  prediction\n",
      "2023-05-02  414.338318  prediction\n",
      "2023-05-03  412.467682  prediction\n",
      "2023-05-04  409.416412  prediction\n",
      "2023-05-05  410.493256  prediction\n",
      "2023-05-08  409.789093  prediction\n",
      "2023-05-09  405.331696  prediction\n",
      "2023-05-10  415.838593  prediction\n",
      "2023-05-11  412.124115  prediction\n",
      "2023-05-12  413.401398  prediction\n"
     ]
    }
   ],
   "source": [
    "dfPrediction=pd.DataFrame(data= yPred,columns=feature_cols,index=datePred)\n",
    "dfPrediction.index.name=date_col\n",
    "dfPrediction['Type']=colOutput\n",
    "print(dfPrediction)"
   ]
  },
  {
   "cell_type": "markdown",
   "id": "fa0e321c-4fa0-4d78-8678-99b9b925a2ec",
   "metadata": {},
   "source": [
    "# To ingest data into BQ , we have to create dataframe and convert to Json-Rowns"
   ]
  },
  {
   "cell_type": "code",
   "execution_count": 492,
   "id": "c89e2d97-1f3d-41bf-9b50-e22e94ef8457",
   "metadata": {},
   "outputs": [
    {
     "name": "stdout",
     "output_type": "stream",
     "text": [
      "  prediction_date asset_name prediction_name\n",
      "0      2023-04-28     S&P500            EMA1\n"
     ]
    },
    {
     "data": {
      "text/plain": [
       "[{'prediction_date': '2023-04-28',\n",
       "  'asset_name': 'S&P500',\n",
       "  'prediction_name': 'EMA1',\n",
       "  'feature_for_prediction': [{'input_date': '2023-02-02',\n",
       "    'input_feature': 405.0143},\n",
       "   {'input_date': '2023-02-03', 'input_feature': 406.3481},\n",
       "   {'input_date': '2023-02-06', 'input_feature': 406.9812},\n",
       "   {'input_date': '2023-02-07', 'input_feature': 408.4737},\n",
       "   {'input_date': '2023-02-08', 'input_feature': 408.8694},\n",
       "   {'input_date': '2023-02-09', 'input_feature': 408.5459},\n",
       "   {'input_date': '2023-02-10', 'input_feature': 408.4539},\n",
       "   {'input_date': '2023-02-13', 'input_feature': 409.2495},\n",
       "   {'input_date': '2023-02-14', 'input_feature': 409.866},\n",
       "   {'input_date': '2023-02-15', 'input_feature': 410.614},\n",
       "   {'input_date': '2023-02-16', 'input_feature': 410.1896},\n",
       "   {'input_date': '2023-02-17', 'input_feature': 409.657},\n",
       "   {'input_date': '2023-02-21', 'input_feature': 407.7357},\n",
       "   {'input_date': '2023-02-22', 'input_feature': 406.0638},\n",
       "   {'input_date': '2023-02-23', 'input_feature': 405.0813},\n",
       "   {'input_date': '2023-02-24', 'input_feature': 403.4992},\n",
       "   {'input_date': '2023-02-27', 'input_feature': 402.4503},\n",
       "   {'input_date': '2023-02-28', 'input_feature': 401.3248},\n",
       "   {'input_date': '2023-03-01', 'input_feature': 400.1275},\n",
       "   {'input_date': '2023-03-02', 'input_feature': 399.7062},\n",
       "   {'input_date': '2023-03-03', 'input_feature': 400.5214},\n",
       "   {'input_date': '2023-03-06', 'input_feature': 401.2393},\n",
       "   {'input_date': '2023-03-07', 'input_feature': 400.6995},\n",
       "   {'input_date': '2023-03-08', 'input_feature': 400.3759},\n",
       "   {'input_date': '2023-03-09', 'input_feature': 398.773},\n",
       "   {'input_date': '2023-03-10', 'input_feature': 396.4343},\n",
       "   {'input_date': '2023-03-13', 'input_feature': 394.4208},\n",
       "   {'input_date': '2023-03-14', 'input_feature': 393.9315},\n",
       "   {'input_date': '2023-03-15', 'input_feature': 393.0858},\n",
       "   {'input_date': '2023-03-16', 'input_feature': 393.6357},\n",
       "   {'input_date': '2023-03-17', 'input_feature': 392.9728},\n",
       "   {'input_date': '2023-03-20', 'input_feature': 393.1123},\n",
       "   {'input_date': '2023-03-21', 'input_feature': 394.1664},\n",
       "   {'input_date': '2023-03-22', 'input_feature': 393.7925},\n",
       "   {'input_date': '2023-03-23', 'input_feature': 393.6793},\n",
       "   {'input_date': '2023-03-24', 'input_feature': 394.0558},\n",
       "   {'input_date': '2023-03-27', 'input_feature': 394.4984},\n",
       "   {'input_date': '2023-03-28', 'input_feature': 394.6987},\n",
       "   {'input_date': '2023-03-29', 'input_feature': 395.908},\n",
       "   {'input_date': '2023-03-30', 'input_feature': 397.3247},\n",
       "   {'input_date': '2023-03-31', 'input_feature': 399.5184},\n",
       "   {'input_date': '2023-04-03', 'input_feature': 401.5969},\n",
       "   {'input_date': '2023-04-04', 'input_feature': 402.8829},\n",
       "   {'input_date': '2023-04-05', 'input_feature': 403.7406},\n",
       "   {'input_date': '2023-04-06', 'input_feature': 404.7314},\n",
       "   {'input_date': '2023-04-10', 'input_feature': 405.6184},\n",
       "   {'input_date': '2023-04-11', 'input_feature': 406.3641},\n",
       "   {'input_date': '2023-04-12', 'input_feature': 406.6707},\n",
       "   {'input_date': '2023-04-13', 'input_feature': 407.9069},\n",
       "   {'input_date': '2023-04-14', 'input_feature': 408.7347},\n",
       "   {'input_date': '2023-04-17', 'input_feature': 409.6812},\n",
       "   {'input_date': '2023-04-18', 'input_feature': 410.5046},\n",
       "   {'input_date': '2023-04-19', 'input_feature': 411.1656},\n",
       "   {'input_date': '2023-04-20', 'input_feature': 411.2955},\n",
       "   {'input_date': '2023-04-21', 'input_feature': 411.4599},\n",
       "   {'input_date': '2023-04-24', 'input_feature': 411.6727},\n",
       "   {'input_date': '2023-04-25', 'input_feature': 410.6558},\n",
       "   {'input_date': '2023-04-26', 'input_feature': 409.5111},\n",
       "   {'input_date': '2023-04-27', 'input_feature': 410.0382},\n",
       "   {'input_date': '2023-04-28', 'input_feature': 411.1094}],\n",
       "  'prediction_result': [{\"output_date'\": '2023-05-01',\n",
       "    'output_value': 414.2717590332},\n",
       "   {\"output_date'\": '2023-05-02', 'output_value': 414.3383178711},\n",
       "   {\"output_date'\": '2023-05-03', 'output_value': 412.4676818848},\n",
       "   {\"output_date'\": '2023-05-04', 'output_value': 409.4164123535},\n",
       "   {\"output_date'\": '2023-05-05', 'output_value': 410.4932556152},\n",
       "   {\"output_date'\": '2023-05-08', 'output_value': 409.7890930176},\n",
       "   {\"output_date'\": '2023-05-09', 'output_value': 405.3316955566},\n",
       "   {\"output_date'\": '2023-05-10', 'output_value': 415.8385925293},\n",
       "   {\"output_date'\": '2023-05-11', 'output_value': 412.1241149902},\n",
       "   {\"output_date'\": '2023-05-12', 'output_value': 413.4013977051}]}]"
      ]
     },
     "execution_count": 492,
     "metadata": {},
     "output_type": "execute_result"
    }
   ],
   "source": [
    "outputDF=pd.DataFrame(data=[ [end_date,AssetName,prediction_col] ],columns=[\"prediction_date\",\"asset_name\",\"prediction_name\"])\n",
    "print(outputDF)\n",
    "\n",
    "jsonOutput = json.loads(outputDF.to_json(orient = 'records'))\n",
    "for item in jsonOutput:\n",
    "    \n",
    "    dataFeature=dfFeature.reset_index()[[date_col,prediction_col]]\n",
    "    dataFeature[date_col]=dataFeature[date_col].dt.strftime('%Y-%m-%d')\n",
    "    dataFeature.columns=[\"input_date\",\"input_feature\"]\n",
    "    jsonFeature= json.loads(dataFeature.to_json(orient = 'records'))\n",
    "    item[\"feature_for_prediction\"]=jsonFeature\n",
    "    \n",
    "    dataPred=dfPrediction.reset_index()[[date_col,prediction_col]]\n",
    "    dataPred[date_col]=dataPred[date_col].dt.strftime('%Y-%m-%d')\n",
    "    dataPred.columns=[\"output_date'\",\"output_value\"]\n",
    "    jsonPred= json.loads(dataPred.to_json(orient = 'records'))\n",
    "    item[\"prediction_result\"]=jsonPred\n",
    " \n",
    "with open(\"fin_prediction.json\", \"w\") as outfile:\n",
    "    json.dump(jsonOutput, outfile)\n",
    "jsonOutput"
   ]
  },
  {
   "cell_type": "markdown",
   "id": "d061e560-fba8-478e-8eb3-70e2922ec302",
   "metadata": {},
   "source": [
    "# BigQuery Ingesting"
   ]
  },
  {
   "cell_type": "code",
   "execution_count": 493,
   "id": "def3d34c-97aa-4ee8-8668-4768b8413d57",
   "metadata": {},
   "outputs": [
    {
     "name": "stdout",
     "output_type": "stream",
     "text": [
      "pongthorn.FinAssetForecast.fin_movement_forecast\n"
     ]
    }
   ],
   "source": [
    "json_credential_file=r'C:\\Windows\\pongthorn-5decdc5124f5.json'\n",
    "projectId='pongthorn'\n",
    "dataset_id='FinAssetForecast'\n",
    "table_id = f\"{projectId}.{dataset_id}.fin_movement_forecast\"\n",
    "\n",
    "print(table_id)\n",
    "\n",
    "credentials = service_account.Credentials.from_service_account_file(json_credential_file)\n",
    "client = bigquery.Client(project=projectId,credentials=credentials )\n",
    "\n"
   ]
  },
  {
   "cell_type": "code",
   "execution_count": 494,
   "id": "bf9c75db-619f-4cf1-be6f-c63d498cc957",
   "metadata": {},
   "outputs": [],
   "source": [
    "# table=client.get_table(table_id)\n",
    "# print(\"Table {} already exists.\".format(table_id))\n",
    "# table.schema\n",
    "job_config = bigquery.LoadJobConfig(\n",
    "# schema=[\n",
    "#     bigquery.SchemaField(\"prediction_date\", \"DATE\", mode=\"REQUIRED\"),\n",
    "#     bigquery.SchemaField(\"asset_name\", \"STRING\", mode=\"REQUIRED\"),\n",
    "#     bigquery.SchemaField(\"prediction_name\", \"STRING\", mode=\"REQUIRED\"),\n",
    "    \n",
    "#     bigquery.SchemaField(\"feature_for_prediction\",\"RECORD\", mode=\"REPEATED\",\n",
    "#     fields=[ \n",
    "#          bigquery.SchemaField(\"input_date\", \"DATE\", mode=\"REQUIRED\"),\n",
    "#          bigquery.SchemaField(\"input_feature\", \"FLOAT\", mode=\"REQUIRED\")]\n",
    "#     ),    \n",
    "#     bigquery.SchemaField(\"prediction_result\",\"RECORD\", mode=\"REPEATED\",\n",
    "#      fields=[ \n",
    "#       bigquery.SchemaField(\"output_date\", \"DATE\", mode=\"REQUIRED\"),\n",
    "#       bigquery.SchemaField(\"output_value\", \"FLOAT\", mode=\"REQUIRED\")]\n",
    "#     ),   \n",
    "# ]\n",
    ")\n",
    "\n",
    "job_config.source_format = bigquery.SourceFormat.NEWLINE_DELIMITED_JSON\n",
    "job_config.write_disposition = bigquery.WriteDisposition.WRITE_APPEND  \n",
    "#job_config.write_disposition = bigquery.WriteDisposition.WRITE_TRUNCATE\n",
    "#job_config.schema"
   ]
  },
  {
   "cell_type": "code",
   "execution_count": 495,
   "id": "3f303a7f-6a01-4f74-be7b-e3a4479ec82d",
   "metadata": {},
   "outputs": [
    {
     "name": "stdout",
     "output_type": "stream",
     "text": [
      "import to bigquery successfully  1 records\n"
     ]
    }
   ],
   "source": [
    "job = client.load_table_from_json(jsonOutput,table_id, job_config = job_config)\n",
    "if job.errors is not None:\n",
    "    print(job.error_result)\n",
    "    print(job.errors)\n",
    "else:\n",
    "    print(f\"import to bigquery successfully  {len(jsonOutput)} records\")"
   ]
  },
  {
   "cell_type": "markdown",
   "id": "4598f1c1-84a5-4dc3-99a8-3245069090f4",
   "metadata": {},
   "source": [
    "### ======================================================================================"
   ]
  },
  {
   "cell_type": "markdown",
   "id": "d6fdff79-6dbd-417f-bfe3-83e70aaadca6",
   "metadata": {},
   "source": [
    "# Visualize Prediction Result"
   ]
  },
  {
   "cell_type": "code",
   "execution_count": 479,
   "id": "83bb185e-64c2-4de1-9322-50804358266b",
   "metadata": {},
   "outputs": [
    {
     "name": "stdout",
     "output_type": "stream",
     "text": [
      "<class 'pandas.core.frame.DataFrame'>\n",
      "DatetimeIndex: 70 entries, 2023-02-02 to 2023-05-12\n",
      "Data columns (total 2 columns):\n",
      " #   Column  Non-Null Count  Dtype  \n",
      "---  ------  --------------  -----  \n",
      " 0   EMA1    70 non-null     float64\n",
      " 1   Type    70 non-null     object \n",
      "dtypes: float64(1), object(1)\n",
      "memory usage: 1.6+ KB\n",
      "None\n"
     ]
    },
    {
     "data": {
      "text/html": [
       "<div>\n",
       "<style scoped>\n",
       "    .dataframe tbody tr th:only-of-type {\n",
       "        vertical-align: middle;\n",
       "    }\n",
       "\n",
       "    .dataframe tbody tr th {\n",
       "        vertical-align: top;\n",
       "    }\n",
       "\n",
       "    .dataframe thead th {\n",
       "        text-align: right;\n",
       "    }\n",
       "</style>\n",
       "<table border=\"1\" class=\"dataframe\">\n",
       "  <thead>\n",
       "    <tr style=\"text-align: right;\">\n",
       "      <th></th>\n",
       "      <th>EMA1</th>\n",
       "      <th>Type</th>\n",
       "    </tr>\n",
       "    <tr>\n",
       "      <th>Date</th>\n",
       "      <th></th>\n",
       "      <th></th>\n",
       "    </tr>\n",
       "  </thead>\n",
       "  <tbody>\n",
       "    <tr>\n",
       "      <th>2023-02-02</th>\n",
       "      <td>405.014300</td>\n",
       "      <td>feature</td>\n",
       "    </tr>\n",
       "    <tr>\n",
       "      <th>2023-02-03</th>\n",
       "      <td>406.348100</td>\n",
       "      <td>feature</td>\n",
       "    </tr>\n",
       "    <tr>\n",
       "      <th>2023-02-06</th>\n",
       "      <td>406.981200</td>\n",
       "      <td>feature</td>\n",
       "    </tr>\n",
       "    <tr>\n",
       "      <th>2023-02-07</th>\n",
       "      <td>408.473700</td>\n",
       "      <td>feature</td>\n",
       "    </tr>\n",
       "    <tr>\n",
       "      <th>2023-02-08</th>\n",
       "      <td>408.869400</td>\n",
       "      <td>feature</td>\n",
       "    </tr>\n",
       "    <tr>\n",
       "      <th>...</th>\n",
       "      <td>...</td>\n",
       "      <td>...</td>\n",
       "    </tr>\n",
       "    <tr>\n",
       "      <th>2023-05-08</th>\n",
       "      <td>409.789093</td>\n",
       "      <td>prediction</td>\n",
       "    </tr>\n",
       "    <tr>\n",
       "      <th>2023-05-09</th>\n",
       "      <td>405.331696</td>\n",
       "      <td>prediction</td>\n",
       "    </tr>\n",
       "    <tr>\n",
       "      <th>2023-05-10</th>\n",
       "      <td>415.838593</td>\n",
       "      <td>prediction</td>\n",
       "    </tr>\n",
       "    <tr>\n",
       "      <th>2023-05-11</th>\n",
       "      <td>412.124115</td>\n",
       "      <td>prediction</td>\n",
       "    </tr>\n",
       "    <tr>\n",
       "      <th>2023-05-12</th>\n",
       "      <td>413.401398</td>\n",
       "      <td>prediction</td>\n",
       "    </tr>\n",
       "  </tbody>\n",
       "</table>\n",
       "<p>70 rows × 2 columns</p>\n",
       "</div>"
      ],
      "text/plain": [
       "                  EMA1        Type\n",
       "Date                              \n",
       "2023-02-02  405.014300     feature\n",
       "2023-02-03  406.348100     feature\n",
       "2023-02-06  406.981200     feature\n",
       "2023-02-07  408.473700     feature\n",
       "2023-02-08  408.869400     feature\n",
       "...                ...         ...\n",
       "2023-05-08  409.789093  prediction\n",
       "2023-05-09  405.331696  prediction\n",
       "2023-05-10  415.838593  prediction\n",
       "2023-05-11  412.124115  prediction\n",
       "2023-05-12  413.401398  prediction\n",
       "\n",
       "[70 rows x 2 columns]"
      ]
     },
     "execution_count": 479,
     "metadata": {},
     "output_type": "execute_result"
    }
   ],
   "source": [
    "\n",
    "\n",
    "dfResult=pd.concat([dfFeature,dfPrediction],ignore_index=False)\n",
    "print(dfResult.info())\n",
    "dfResult"
   ]
  },
  {
   "cell_type": "code",
   "execution_count": 480,
   "id": "91f82938-7964-4e2f-8b45-0c16a2d4e775",
   "metadata": {},
   "outputs": [
    {
     "data": {
      "text/plain": [
       "<Axes: title={'center': 'S&P500 - 60 days ago to predict next 10 days'}, xlabel='Date', ylabel='EMA1'>"
      ]
     },
     "execution_count": 480,
     "metadata": {},
     "output_type": "execute_result"
    },
    {
     "data": {
      "image/png": "[encoded data removed]",
      "text/plain": [
       "<Figure size 1000x500 with 1 Axes>"
      ]
     },
     "metadata": {},
     "output_type": "display_data"
    }
   ],
   "source": [
    "fig, ax = plt.subplots(figsize=(10, 5))\n",
    "plt.title(f\"{AssetName} - {input_sequence_length} days ago to predict next {output_sequence_length} days\", fontsize=12)\n",
    "#sns.lineplot(data = dfResult[prediction_col], linewidth=4.0,  markers='o',ax=ax,color='black')\n",
    "sns.lineplot(data = dfResult.query(\"Type==@colInput\")[prediction_col], linewidth=2.0, ax=ax,color='blue')\n",
    "sns.lineplot(data = dfResult.query(\"Type==@colOutput\")[prediction_col], linewidth=2.0, ax=ax,color='green')"
   ]
  },
  {
   "cell_type": "code",
   "execution_count": null,
   "id": "5164970a-6438-4944-838b-d04a9955cc92",
   "metadata": {},
   "outputs": [],
   "source": []
  },
  {
   "cell_type": "code",
   "execution_count": null,
   "id": "31b11f33-37d0-4b34-b264-e6231bf4cc8f",
   "metadata": {},
   "outputs": [],
   "source": []
  },
  {
   "cell_type": "code",
   "execution_count": null,
   "id": "e638548c-4c10-4e05-be07-5adcea089b15",
   "metadata": {},
   "outputs": [],
   "source": []
  },
  {
   "cell_type": "code",
   "execution_count": null,
   "id": "467828a9-b291-4816-b1a2-26e63855b046",
   "metadata": {},
   "outputs": [],
   "source": []
  },
  {
   "cell_type": "code",
   "execution_count": null,
   "id": "6116348e-3b7a-4216-9283-191c97652b7c",
   "metadata": {},
   "outputs": [],
   "source": []
  }
 ],
 "metadata": {
  "kernelspec": {
   "display_name": "Python 3 (ipykernel)",
   "language": "python",
   "name": "python3"
  },
  "language_info": {
   "codemirror_mode": {
    "name": "ipython",
    "version": 3
   },
   "file_extension": ".py",
   "mimetype": "text/x-python",
   "name": "python",
   "nbconvert_exporter": "python",
   "pygments_lexer": "ipython3",
   "version": "3.9.16"
  }
 },
 "nbformat": 4,
 "nbformat_minor": 5
}
