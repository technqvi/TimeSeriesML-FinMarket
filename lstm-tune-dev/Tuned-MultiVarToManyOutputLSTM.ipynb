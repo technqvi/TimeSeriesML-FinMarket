{
 "cells": [
  {
   "cell_type": "code",
   "execution_count": 15,
   "metadata": {},
   "outputs": [],
   "source": [
    "#https://www.relataly.com/stock-price-prediction-multi-output-regression-using-neural-networks-in-python/5800/\n",
    "\n",
    "#https://github.com/flo7up/relataly-public-python-tutorials/blob/master/006%20Time%20Series%20Forecasting%20-%20Multi-Output%20Regression.ipynb"
   ]
  },
  {
   "cell_type": "markdown",
   "metadata": {},
   "source": [
    "# Step #1 Load the Data"
   ]
  },
  {
   "cell_type": "code",
   "execution_count": 16,
   "metadata": {},
   "outputs": [],
   "source": [
    "# Time Series Forecasting - Multi-output Regression for Stock Market Prediction\n",
    "# A tutorial for this file is available at www.relataly.com\n",
    "\n",
    "import math # Mathematical functions \n",
    "import numpy as np # Fundamental package for scientific computing with Python\n",
    "import pandas as pd # Additional functions for analysing and manipulating data\n",
    "from datetime import date, timedelta, datetime # Date Functions\n",
    "import time\n",
    "from pandas.plotting import register_matplotlib_converters # This function adds plotting functions for calender dates\n",
    "import matplotlib.pyplot as plt # Important package for visualization - we use this to plot the market data\n",
    "import matplotlib.dates as mdates # Formatting dates\n",
    "\n",
    "from sklearn.metrics import mean_absolute_error, mean_squared_error # Packages for measuring model performance / errors\n",
    "from sklearn.preprocessing import RobustScaler, MinMaxScaler # This Scaler removes the median and scales the data according to the quantile range to normalize the price data\n",
    "\n",
    "import tensorflow as tf\n",
    "from tensorflow.keras.models import Sequential # Deep learning library, used for neural networks\n",
    "from tensorflow.keras.layers import LSTM, Dense, Dropout # Deep learning classes for recurrent and regular densely-connected layers\n",
    "from tensorflow.keras.callbacks import EarlyStopping # EarlyStopping during model training\n",
    "from tensorflow.keras import backend\n",
    "\n",
    "\n",
    "import keras_tuner as kt\n",
    "from keras_tuner.engine.hyperparameters import HyperParameters\n",
    " \n",
    "# from keras.models import Sequential\n",
    "# from keras.layers import Dense\n",
    "# from keras.layers import LSTM\n",
    "# from keras.callbacks import EarlyStopping\n",
    "# from keras.layers import Flatten,Dropout    \n",
    "    \n",
    "import seaborn as sns\n",
    "\n",
    "from tensorflow.keras.models import load_model\n",
    "import joblib\n",
    "\n",
    "# print(\"check the tensorflow version and the number of available GPUs\")\n",
    "# print('Tensorflow Version: ' + tf.__version__)\n",
    "# physical_devices = tf.config.list_physical_devices('GPU')\n",
    "# print(\"Num GPUs:\", len(physical_devices))\n",
    "\n"
   ]
  },
  {
   "cell_type": "code",
   "execution_count": 18,
   "metadata": {},
   "outputs": [
    {
     "name": "stdout",
     "output_type": "stream",
     "text": [
      "EMA1_60To10_SP500-SPY\n"
     ]
    }
   ],
   "source": [
    "# ab_path = \"../data/SET50-Daily-Y09-Now.csv\"\n",
    "# asset_name='SET50'\n",
    "\n",
    "ab_path = \"../data/SPY-Daily-Y09-Now.csv\"\n",
    "asset_name='SP500-SPY'\n",
    "\n",
    "start_date='2015-01-01'\n",
    "end_date='2022-12-31'\n",
    "\n",
    "\n",
    "date_col='Date'\n",
    "prediction_col='EMA1'\n",
    "# feature_cols=['Price','EMA1','SIGNAL','RSI']\n",
    "feature_cols=['EMA1']\n",
    "\n",
    "main_obj_metric='mean_absolute_error'\n",
    "main_loss='mean_absolute_error'\n",
    "option_obj_metric='rmse'  # same name as funtion\n",
    "def rmse(y_true, y_pred):\n",
    " return backend.sqrt(backend.mean(backend.square(y_pred - y_true), axis=-1))\n",
    "\n",
    "\n",
    "split_way=2\n",
    "\n",
    "\n",
    "input_sequence_length =60 #60 #120\n",
    "output_sequence_length =10  # 10 #20\n",
    "train_ratio=0.8\n",
    "\n",
    "# most satisfaction\n",
    "#{'input_unit': 180, 'Dropout_rate': 0.0}  \n",
    "# Root MEAN Square Error(RMSE): 9.61\n",
    "# Mean Absolute Error (MAE): 7.1\n",
    "# n_epochs = 200  # stop at 93\n",
    "# n_batch_size = 64\n",
    "# n_early=20\n",
    "\n",
    "#{'input_unit': 120, 'Dropout_rate': 0.0}\n",
    "# Root MEAN Square Error(RMSE): 10.5\n",
    "# Mean Absolute Error (MAE): 8.89\n",
    "n_epochs =   150  #100/150/200\n",
    "n_batch_size = 32  # 32/48/64\n",
    "n_early=15   #  10/15/20\n",
    "\n",
    "\n",
    "model_path='models'\n",
    "\n",
    "period_str=f\"Y{start_date.split('-')[0]}-{end_date.split('-')[0]}\"\n",
    "tune_folder=f'{prediction_col}_{input_sequence_length}To{output_sequence_length}_{asset_name}'\n",
    "\n",
    "seed=88\n",
    "\n",
    "#Tuning\n",
    "mx_step=4  #3 ,4\n",
    "nExecutions_per_trial=4  #3,5  averger re-run on 1 trail \n",
    "\n",
    "min_drop=0.0\n",
    "max_drop=0.2\n",
    "step_drop=0.1\n",
    "\n",
    "ratio_traial_max=0.8  #0.7/0.8\n",
    "print(tune_folder)\n",
    "\n"
   ]
  },
  {
   "cell_type": "code",
   "execution_count": 19,
   "metadata": {},
   "outputs": [
    {
     "name": "stdout",
     "output_type": "stream",
     "text": [
      "['Date', 'Price', 'EMA1', 'EMA2', 'EMA3', 'MACD', 'SIGNAL', 'RSI', 'RSI-MA']\n"
     ]
    }
   ],
   "source": [
    "df=pd.read_csv(f'{ab_path}',parse_dates=['Date/Time'],dayfirst=True)\n",
    "df.rename(columns={'Date/Time':date_col},inplace=True)\n",
    "df.drop(columns=['Ticker'],inplace=True)\n",
    "allCols=list(df.columns)\n",
    "print(allCols)"
   ]
  },
  {
   "cell_type": "code",
   "execution_count": 20,
   "metadata": {},
   "outputs": [
    {
     "name": "stdout",
     "output_type": "stream",
     "text": [
      "<class 'pandas.core.frame.DataFrame'>\n",
      "DatetimeIndex: 2014 entries, 2015-01-02 to 2022-12-30\n",
      "Data columns (total 1 columns):\n",
      " #   Column  Non-Null Count  Dtype  \n",
      "---  ------  --------------  -----  \n",
      " 0   EMA1    2014 non-null   float64\n",
      "dtypes: float64(1)\n",
      "memory usage: 31.5 KB\n",
      "None\n"
     ]
    },
    {
     "data": {
      "text/html": [
       "<div>\n",
       "<style scoped>\n",
       "    .dataframe tbody tr th:only-of-type {\n",
       "        vertical-align: middle;\n",
       "    }\n",
       "\n",
       "    .dataframe tbody tr th {\n",
       "        vertical-align: top;\n",
       "    }\n",
       "\n",
       "    .dataframe thead th {\n",
       "        text-align: right;\n",
       "    }\n",
       "</style>\n",
       "<table border=\"1\" class=\"dataframe\">\n",
       "  <thead>\n",
       "    <tr style=\"text-align: right;\">\n",
       "      <th></th>\n",
       "      <th>EMA1</th>\n",
       "    </tr>\n",
       "    <tr>\n",
       "      <th>Date</th>\n",
       "      <th></th>\n",
       "    </tr>\n",
       "  </thead>\n",
       "  <tbody>\n",
       "    <tr>\n",
       "      <th>2022-12-23</th>\n",
       "      <td>386.73</td>\n",
       "    </tr>\n",
       "    <tr>\n",
       "      <th>2022-12-27</th>\n",
       "      <td>385.76</td>\n",
       "    </tr>\n",
       "    <tr>\n",
       "      <th>2022-12-28</th>\n",
       "      <td>384.11</td>\n",
       "    </tr>\n",
       "    <tr>\n",
       "      <th>2022-12-29</th>\n",
       "      <td>383.99</td>\n",
       "    </tr>\n",
       "    <tr>\n",
       "      <th>2022-12-30</th>\n",
       "      <td>383.70</td>\n",
       "    </tr>\n",
       "  </tbody>\n",
       "</table>\n",
       "</div>"
      ],
      "text/plain": [
       "              EMA1\n",
       "Date              \n",
       "2022-12-23  386.73\n",
       "2022-12-27  385.76\n",
       "2022-12-28  384.11\n",
       "2022-12-29  383.99\n",
       "2022-12-30  383.70"
      ]
     },
     "execution_count": 20,
     "metadata": {},
     "output_type": "execute_result"
    }
   ],
   "source": [
    "df[date_col]=df[date_col].apply( lambda  dx :  datetime(dx.year,dx.month,dx.day ))\n",
    "df.set_index(date_col,inplace=True)\n",
    "df=df.loc[start_date:end_date,:]\n",
    "df=df[feature_cols]\n",
    "print(df.info())\n",
    "df.tail()"
   ]
  },
  {
   "cell_type": "markdown",
   "metadata": {},
   "source": [
    "# Step #2 Exploring the Data"
   ]
  },
  {
   "cell_type": "code",
   "execution_count": 21,
   "metadata": {},
   "outputs": [],
   "source": [
    "ncols = 1\n",
    "nrows = len(feature_cols)"
   ]
  },
  {
   "cell_type": "code",
   "execution_count": 22,
   "metadata": {},
   "outputs": [
    {
     "data": {
      "image/png": "[encoded data removed]",
      "text/plain": [
       "<Figure size 1500x1500 with 1 Axes>"
      ]
     },
     "metadata": {},
     "output_type": "display_data"
    }
   ],
   "source": [
    "fig, ax = plt.subplots(nrows=nrows, ncols=ncols, sharex=True, figsize=(15, 15))\n",
    "for i, ax in enumerate(fig.axes):\n",
    "        sns.lineplot(data = df.iloc[:, i], ax=ax)\n",
    "        ax.tick_params(axis=\"x\", rotation=30, labelsize=10, length=0)\n",
    "        ax.xaxis.set_major_locator(mdates.AutoDateLocator())\n",
    "        ax.title.set_text(df.columns[i])\n",
    "fig.tight_layout()\n",
    "plt.show()"
   ]
  },
  {
   "cell_type": "markdown",
   "metadata": {},
   "source": [
    "# Step #3 Preprocessing and Feature Selection"
   ]
  },
  {
   "cell_type": "code",
   "execution_count": 23,
   "metadata": {},
   "outputs": [
    {
     "data": {
      "text/plain": [
       "(2014, 1)"
      ]
     },
     "execution_count": 23,
     "metadata": {},
     "output_type": "execute_result"
    }
   ],
   "source": [
    "# Indexing Batches\n",
    "df_train = df.sort_values(by=[date_col]).copy()\n",
    "df_train.shape"
   ]
  },
  {
   "cell_type": "code",
   "execution_count": 24,
   "metadata": {},
   "outputs": [
    {
     "name": "stdout",
     "output_type": "stream",
     "text": [
      "FEATURE LIST To Predict EMA1\n",
      "['EMA1']\n",
      "Convert the data to numpy values\n",
      "(2014, 1)\n",
      "(2014, 1)\n",
      "Feature Data (2014, 1)\n",
      "[[206.36]\n",
      " [205.52]\n",
      " [204.48]]\n",
      "Prediction Data (2014, 1)\n",
      "[[206.36]\n",
      " [205.52]\n",
      " [204.48]]\n"
     ]
    }
   ],
   "source": [
    "def prepare_data(df):\n",
    "\n",
    "    # List of considered Features\n",
    "    FEATURES = feature_cols\n",
    "\n",
    "    print(f'FEATURE LIST To Predict {prediction_col}')\n",
    "    print([f for f in FEATURES])\n",
    "\n",
    "    #Create the dataset with features and filter the data to the list of FEATURES\"\n",
    "    df_filter = df[FEATURES]\n",
    "    \n",
    "    print(\"Convert the data to numpy values\")\n",
    "    np_filter_unscaled = np.array(df_filter)\n",
    "    np_filter_unscaled = np.reshape(np_filter_unscaled, (df_filter.shape[0], -1))\n",
    "    print(np_filter_unscaled.shape)\n",
    "    \n",
    "    np_c_unscaled = np.array(df[prediction_col]).reshape(-1, 1)\n",
    "    print(np_c_unscaled.shape)\n",
    "    \n",
    "    return np_filter_unscaled, np_c_unscaled\n",
    "\n",
    "np_filter_unscaled, np_c_unscaled = prepare_data(df_train)   \n",
    "\n",
    "\n",
    "print(\"Feature Data\",np_filter_unscaled.shape)\n",
    "print(np_filter_unscaled[:3])\n",
    "print(\"Prediction Data\",np_c_unscaled.shape)\n",
    "print(np_c_unscaled[:3])"
   ]
  },
  {
   "cell_type": "code",
   "execution_count": 25,
   "metadata": {},
   "outputs": [
    {
     "name": "stdout",
     "output_type": "stream",
     "text": [
      "60 = Set the input_sequence_length length - this is the timeframe used to make a multiple prediction\n",
      "10 = The output sequence length is the number of steps that the neural network predicts\n",
      "Prediction Index = 0\n",
      "0.8 = 1612 Split the training data into train and train data sets\n"
     ]
    }
   ],
   "source": [
    "print(f\"{input_sequence_length} = Set the input_sequence_length length - this is the timeframe used to make a multiple prediction\")\n",
    "print(f\"{output_sequence_length} = The output sequence length is the number of steps that the neural network predicts\")\n",
    "\n",
    "#How much ratio to split\n",
    "index_Close = df_train.columns.get_loc(prediction_col)\n",
    "print(f\"Prediction Index = {index_Close}\")\n",
    "\n",
    "# As a first step, we get the number of rows to train the model on 80% of the data \n",
    "train_data_length = math.ceil(np_filter_unscaled.shape[0] * train_ratio)\n",
    "print(f\"{train_ratio} = {train_data_length} Split the training data into train and train data sets\")"
   ]
  },
  {
   "cell_type": "code",
   "execution_count": 26,
   "metadata": {},
   "outputs": [
    {
     "name": "stdout",
     "output_type": "stream",
     "text": [
      "Creating a separate scaler that works on a single column for scaling predictions\n",
      "Scale each feature to a range between 0 and 1\n",
      "Create a separate scaler for a single column\n",
      "#Way#2 split data and apply  only train to scale\n",
      "Train Data to be scaled\n",
      "(1612, 1) (1612, 1)\n",
      "[[206.36]\n",
      " [205.52]\n",
      " [204.48]\n",
      " [204.09]\n",
      " [204.42]] [[206.36]\n",
      " [205.52]\n",
      " [204.48]\n",
      " [204.09]\n",
      " [204.42]]\n",
      "For predict test that take the past 60 train value to predict the first test value\n",
      "Predict val data(Scaled from Train data\n",
      "(1612, 1)\n",
      "[[0.08352839]\n",
      " [0.0798873 ]\n",
      " [0.07537928]]\n",
      "=========================================\n",
      "Scaled data completely\n",
      "train and test data\n",
      "(1612, 1) (462, 1)\n",
      "[[0.08352839]\n",
      " [0.0798873 ]\n",
      " [0.07537928]]\n",
      "[[0.85504985]\n",
      " [0.85448635]\n",
      " [0.85249241]]\n"
     ]
    }
   ],
   "source": [
    "print(\"Creating a separate scaler that works on a single column for scaling predictions\")\n",
    "print(\"Scale each feature to a range between 0 and 1\")\n",
    "scaler_train = MinMaxScaler()\n",
    "print(\"Create a separate scaler for a single column\")\n",
    "scaler_pred = MinMaxScaler()\n",
    "\n",
    "\n",
    "if split_way==1:\n",
    "    print(\"Way#1 scale entire data and split data\")   \n",
    "    \n",
    "    np_scaled = scaler_train.fit_transform(np_filter_unscaled)\n",
    "    np_scaled_c = scaler_pred.fit_transform(np_c_unscaled)\n",
    "    \n",
    "    print(\"All Data scaled for creating train and test data\")    \n",
    "    print(np_scaled.shape,np_scaled_c.shape)\n",
    "    print(np_scaled_c[:5],np_scaled_c[:5])\n",
    "    \n",
    "    # Create the training and test data\n",
    "    train_data =np_scaled[0:train_data_length, :]\n",
    "    test_data = np_scaled[train_data_length - input_sequence_length:, :]\n",
    "\n",
    "else:\n",
    "    print(\"#Way#2 split data and apply  only train to scale\")\n",
    "    \n",
    "    train_data = np_filter_unscaled[0:train_data_length, :]\n",
    "    test_data = np_filter_unscaled[train_data_length - input_sequence_length:, :]\n",
    "\n",
    "    np_PredictVal_unScaled=np_c_unscaled[0:train_data_length]\n",
    "    \n",
    "    print(\"Train Data to be scaled\") \n",
    "    print(train_data.shape,np_PredictVal_unScaled.shape)\n",
    "    print(train_data[:5],np_PredictVal_unScaled[:5])\n",
    "    \n",
    "    train_data=scaler_train.fit_transform(train_data)\n",
    "    test_data=scaler_train.transform(test_data)\n",
    "    \n",
    "    print(f\"For predict test that take the past {input_sequence_length} train value to predict the first test value\")\n",
    "    np_scaled=scaler_train.transform(np_filter_unscaled)\n",
    "    np_scaled_c = scaler_pred.fit_transform(np_PredictVal_unScaled)\n",
    "    \n",
    "    print(\"Predict val data(Scaled from Train data\")\n",
    "    print(np_scaled_c.shape)\n",
    "    print(np_scaled_c[:3])\n",
    "print(\"=========================================\")       \n",
    "print(\"Scaled data completely\")\n",
    "print(\"train and test data\")\n",
    "print(train_data.shape,test_data.shape)\n",
    "print(train_data[:3])\n",
    "print(test_data[:3])\n",
    "\n"
   ]
  },
  {
   "cell_type": "code",
   "execution_count": 27,
   "metadata": {},
   "outputs": [
    {
     "name": "stdout",
     "output_type": "stream",
     "text": [
      "The RNN needs data with the format of [samples, time steps, features]\n"
     ]
    }
   ],
   "source": [
    "print(\"The RNN needs data with the format of [samples, time steps, features]\")\n",
    "def partition_dataset(input_sequence_length, output_sequence_length, data):\n",
    "    x, y = [], []\n",
    "    data_len = data.shape[0]\n",
    "    for i in range(input_sequence_length, data_len - output_sequence_length):\n",
    "        x.append(data[i-input_sequence_length:i,:]) #contains input_sequence_length values 0-input_sequence_length * columns\n",
    "        y.append(data[i:i + output_sequence_length, index_Close]) #contains the prediction values for validation ,  for single-step prediction\n",
    "    \n",
    "    # Convert the x and y to numpy arrays\n",
    "    x = np.array(x)\n",
    "    y = np.array(y)\n",
    "    return x, y"
   ]
  },
  {
   "cell_type": "code",
   "execution_count": 28,
   "metadata": {},
   "outputs": [
    {
     "name": "stdout",
     "output_type": "stream",
     "text": [
      "Here, we create 1612 samples, input_sequence_length time steps per sample, and f features\n",
      "Generate training data and test data\n",
      "The shapes: the result is: (rows, training_sequence, features) (prediction value, )\n",
      "(1542, 60, 1) (1542, 10)\n",
      "(392, 60, 1) (392, 10)\n"
     ]
    }
   ],
   "source": [
    "print(f\"Here, we create {len(train_data)} samples, input_sequence_length time steps per sample, and f features\")\n",
    "\n",
    "print(\"Generate training data and test data\")\n",
    "x_train, y_train = partition_dataset(input_sequence_length, output_sequence_length, train_data)\n",
    "x_test, y_test = partition_dataset(input_sequence_length, output_sequence_length, test_data)\n",
    "\n",
    "print(\"The shapes: the result is: (rows, training_sequence, features) (prediction value, )\")\n",
    "print(x_train.shape, y_train.shape)\n",
    "print(x_test.shape, y_test.shape)\n",
    "\n"
   ]
  },
  {
   "cell_type": "markdown",
   "metadata": {},
   "source": [
    "# Step #4 Model Training"
   ]
  },
  {
   "cell_type": "markdown",
   "metadata": {},
   "source": [
    "# Paramterter Network"
   ]
  },
  {
   "cell_type": "code",
   "execution_count": 29,
   "metadata": {},
   "outputs": [
    {
     "name": "stdout",
     "output_type": "stream",
     "text": [
      "Train Row : 1542 to predict future 10\n",
      "Total NN : 60= 60(backward step) x 1 (features) with step up 60 until 240\n",
      "[60, 120, 180, 240] and [0.  0.1 0.2]\n",
      "all combination : 4 x 3 = 12\n",
      "MAx run : 10 each trail run to essemble  4\n"
     ]
    }
   ],
   "source": [
    "# Configure the neural network model\n",
    "# tf.random.set_seed(7)\n",
    "\n",
    "model = Sequential()\n",
    "n_output_neurons = output_sequence_length\n",
    "  \n",
    "inputshape_Timestamps= x_train.shape[1]\n",
    "no_feature=x_train.shape[2]\n",
    "#x_train.shape[1] * x_train.shape[2]\n",
    "neuron_number =inputshape_Timestamps * no_feature\n",
    "\n",
    "\n",
    "step_neuron=int(neuron_number)\n",
    "max_neuron=int(step_neuron*mx_step)\n",
    "print(f\"Train Row : {x_train.shape[0]} to predict future {n_output_neurons}\")\n",
    "print(f\"Total NN : {neuron_number}= {inputshape_Timestamps}(backward step) x {no_feature} (features) with step up {step_neuron} until {max_neuron}\")\n",
    "    \n",
    "\n",
    "\n",
    "neuron_list = [*range(neuron_number, max_neuron+step_neuron, step_neuron)]\n",
    "\n",
    "drop_list=np.arange (min_drop, max_drop ,step_drop)\n",
    "drop_list=np.append(drop_list,[max_drop])\n",
    "\n",
    "allPosComb=len(neuron_list)*len(drop_list)\n",
    "print(f\"{neuron_list} and {drop_list}\")\n",
    "print(f\"all combination : {len(neuron_list)} x {len(drop_list)} = {allPosComb}\")\n",
    "\n",
    "nMax_trials=int(allPosComb*ratio_traial_max)\n",
    "if nMax_trials<10:\n",
    "    nMax_trials=10\n",
    "\n",
    "\n",
    "print(\"MAx run :\" ,nMax_trials , \"each trail run to essemble \",nExecutions_per_trial)"
   ]
  },
  {
   "cell_type": "markdown",
   "metadata": {},
   "source": [
    "# NetWork Architeture Model Design"
   ]
  },
  {
   "cell_type": "code",
   "execution_count": 30,
   "metadata": {},
   "outputs": [],
   "source": [
    "# Way one layer\n",
    "def build_model_way(hp):\n",
    "    \n",
    "    model = Sequential()\n",
    "\n",
    "    model.add(LSTM( hp.Int('input_unit',min_value=neuron_number ,max_value=max_neuron,step=step_neuron) \\\n",
    "                   , return_sequences=False, input_shape=(inputshape_Timestamps,no_feature)))\n",
    "    \n",
    "    model.add(Dropout(hp.Float('Dropout_rate',min_value=min_drop,max_value=max_drop,step=step_drop))) \n",
    "    \n",
    "    model.add(Dense(n_output_neurons))\n",
    "\n",
    "    model.compile(optimizer=\"adam\", loss=main_loss, metrics=[main_obj_metric,rmse])\n",
    "    return model"
   ]
  },
  {
   "cell_type": "code",
   "execution_count": 31,
   "metadata": {},
   "outputs": [
    {
     "name": "stdout",
     "output_type": "stream",
     "text": [
      "EMA1_60To10_SP500-SPY_200123_0039\n",
      "Start tund at 2023-01-20 00:39:19.362707\n"
     ]
    }
   ],
   "source": [
    "buildtime = datetime.now().strftime('%d%m%y_%H%M')\n",
    "project_model=f\"{tune_folder}_{buildtime}\"\n",
    "print(project_model)\n",
    "\n",
    "\n",
    "t_Start=time.time()\n",
    "\n",
    "print(f\"Start tund at {datetime.now()}\")"
   ]
  },
  {
   "cell_type": "code",
   "execution_count": null,
   "metadata": {},
   "outputs": [
    {
     "name": "stdout",
     "output_type": "stream",
     "text": [
      "\n",
      "Search: Running Trial #1\n",
      "\n",
      "Value             |Best Value So Far |Hyperparameter\n",
      "120               |?                 |input_unit\n",
      "0                 |?                 |Dropout_rate\n",
      "\n",
      "Epoch 1/150\n",
      "49/49 [==============================] - 5s 57ms/step - loss: 0.0417 - mean_absolute_error: 0.0417 - rmse: 0.0444 - val_loss: 0.0740 - val_mean_absolute_error: 0.0740 - val_rmse: 0.0796\n",
      "Epoch 2/150\n",
      "49/49 [==============================] - 2s 42ms/step - loss: 0.1040 - mean_absolute_error: 0.1040 - rmse: 0.1087 - val_loss: 0.0612 - val_mean_absolute_error: 0.0612 - val_rmse: 0.0687\n",
      "Epoch 3/150\n",
      "49/49 [==============================] - 2s 41ms/step - loss: 0.0717 - mean_absolute_error: 0.0717 - rmse: 0.0758 - val_loss: 0.0525 - val_mean_absolute_error: 0.0525 - val_rmse: 0.0587\n",
      "Epoch 4/150\n",
      "49/49 [==============================] - 2s 41ms/step - loss: 0.0620 - mean_absolute_error: 0.0620 - rmse: 0.0658 - val_loss: 0.0503 - val_mean_absolute_error: 0.0503 - val_rmse: 0.0566\n",
      "Epoch 5/150\n",
      "49/49 [==============================] - 2s 43ms/step - loss: 0.0444 - mean_absolute_error: 0.0444 - rmse: 0.0466 - val_loss: 0.0680 - val_mean_absolute_error: 0.0680 - val_rmse: 0.0707\n",
      "Epoch 6/150\n",
      "49/49 [==============================] - 2s 43ms/step - loss: 0.0313 - mean_absolute_error: 0.0313 - rmse: 0.0340 - val_loss: 0.0482 - val_mean_absolute_error: 0.0482 - val_rmse: 0.0547\n",
      "Epoch 7/150\n",
      "49/49 [==============================] - 2s 43ms/step - loss: 0.0313 - mean_absolute_error: 0.0313 - rmse: 0.0336 - val_loss: 0.0659 - val_mean_absolute_error: 0.0659 - val_rmse: 0.0723\n",
      "Epoch 8/150\n",
      "49/49 [==============================] - 2s 42ms/step - loss: 0.0331 - mean_absolute_error: 0.0331 - rmse: 0.0353 - val_loss: 0.0399 - val_mean_absolute_error: 0.0399 - val_rmse: 0.0430\n",
      "Epoch 9/150\n",
      "49/49 [==============================] - 2s 43ms/step - loss: 0.0194 - mean_absolute_error: 0.0194 - rmse: 0.0214 - val_loss: 0.0439 - val_mean_absolute_error: 0.0439 - val_rmse: 0.0494\n",
      "Epoch 10/150\n",
      "49/49 [==============================] - 2s 43ms/step - loss: 0.0209 - mean_absolute_error: 0.0209 - rmse: 0.0234 - val_loss: 0.0615 - val_mean_absolute_error: 0.0615 - val_rmse: 0.0642\n",
      "Epoch 11/150\n",
      "49/49 [==============================] - 2s 42ms/step - loss: 0.0248 - mean_absolute_error: 0.0248 - rmse: 0.0275 - val_loss: 0.0386 - val_mean_absolute_error: 0.0386 - val_rmse: 0.0421\n",
      "Epoch 12/150\n",
      "49/49 [==============================] - 2s 42ms/step - loss: 0.0186 - mean_absolute_error: 0.0186 - rmse: 0.0207 - val_loss: 0.0428 - val_mean_absolute_error: 0.0428 - val_rmse: 0.0478\n",
      "Epoch 13/150\n",
      "49/49 [==============================] - 2s 42ms/step - loss: 0.0203 - mean_absolute_error: 0.0203 - rmse: 0.0222 - val_loss: 0.0597 - val_mean_absolute_error: 0.0597 - val_rmse: 0.0622\n",
      "Epoch 14/150\n",
      "49/49 [==============================] - 2s 41ms/step - loss: 0.0231 - mean_absolute_error: 0.0231 - rmse: 0.0254 - val_loss: 0.0384 - val_mean_absolute_error: 0.0384 - val_rmse: 0.0419\n",
      "Epoch 15/150\n",
      "49/49 [==============================] - 2s 45ms/step - loss: 0.0183 - mean_absolute_error: 0.0183 - rmse: 0.0199 - val_loss: 0.0416 - val_mean_absolute_error: 0.0416 - val_rmse: 0.0459\n",
      "Epoch 16/150\n",
      "49/49 [==============================] - 2s 43ms/step - loss: 0.0187 - mean_absolute_error: 0.0187 - rmse: 0.0208 - val_loss: 0.0601 - val_mean_absolute_error: 0.0601 - val_rmse: 0.0629\n",
      "Epoch 17/150\n",
      "49/49 [==============================] - 2s 43ms/step - loss: 0.0230 - mean_absolute_error: 0.0230 - rmse: 0.0254 - val_loss: 0.0404 - val_mean_absolute_error: 0.0404 - val_rmse: 0.0451\n",
      "Epoch 18/150\n",
      "49/49 [==============================] - 2s 43ms/step - loss: 0.0218 - mean_absolute_error: 0.0218 - rmse: 0.0240 - val_loss: 0.0397 - val_mean_absolute_error: 0.0397 - val_rmse: 0.0440\n",
      "Epoch 19/150\n",
      "49/49 [==============================] - 2s 43ms/step - loss: 0.0195 - mean_absolute_error: 0.0195 - rmse: 0.0219 - val_loss: 0.0535 - val_mean_absolute_error: 0.0535 - val_rmse: 0.0565\n",
      "Epoch 20/150\n",
      "49/49 [==============================] - 2s 42ms/step - loss: 0.0207 - mean_absolute_error: 0.0207 - rmse: 0.0231 - val_loss: 0.0396 - val_mean_absolute_error: 0.0396 - val_rmse: 0.0433\n",
      "Epoch 21/150\n",
      "49/49 [==============================] - 2s 42ms/step - loss: 0.0187 - mean_absolute_error: 0.0187 - rmse: 0.0211 - val_loss: 0.0480 - val_mean_absolute_error: 0.0480 - val_rmse: 0.0510\n",
      "Epoch 22/150\n",
      "49/49 [==============================] - 2s 43ms/step - loss: 0.0196 - mean_absolute_error: 0.0196 - rmse: 0.0217 - val_loss: 0.0393 - val_mean_absolute_error: 0.0393 - val_rmse: 0.0427\n",
      "Epoch 23/150\n",
      "49/49 [==============================] - 2s 45ms/step - loss: 0.0183 - mean_absolute_error: 0.0183 - rmse: 0.0203 - val_loss: 0.0546 - val_mean_absolute_error: 0.0546 - val_rmse: 0.0573\n",
      "Epoch 24/150\n",
      "49/49 [==============================] - 2s 42ms/step - loss: 0.0218 - mean_absolute_error: 0.0218 - rmse: 0.0239 - val_loss: 0.0393 - val_mean_absolute_error: 0.0393 - val_rmse: 0.0437\n",
      "Epoch 25/150\n",
      "49/49 [==============================] - 2s 44ms/step - loss: 0.0208 - mean_absolute_error: 0.0208 - rmse: 0.0227 - val_loss: 0.0463 - val_mean_absolute_error: 0.0463 - val_rmse: 0.0493\n",
      "Epoch 26/150\n",
      "49/49 [==============================] - 2s 43ms/step - loss: 0.0213 - mean_absolute_error: 0.0213 - rmse: 0.0237 - val_loss: 0.0387 - val_mean_absolute_error: 0.0387 - val_rmse: 0.0429\n",
      "Epoch 27/150\n",
      "49/49 [==============================] - 2s 43ms/step - loss: 0.0203 - mean_absolute_error: 0.0203 - rmse: 0.0222 - val_loss: 0.0459 - val_mean_absolute_error: 0.0459 - val_rmse: 0.0487\n",
      "Epoch 28/150\n",
      "49/49 [==============================] - 3s 51ms/step - loss: 0.0218 - mean_absolute_error: 0.0218 - rmse: 0.0241 - val_loss: 0.0403 - val_mean_absolute_error: 0.0403 - val_rmse: 0.0437\n",
      "Epoch 29/150\n",
      "49/49 [==============================] - 2s 43ms/step - loss: 0.0208 - mean_absolute_error: 0.0208 - rmse: 0.0229 - val_loss: 0.0435 - val_mean_absolute_error: 0.0435 - val_rmse: 0.0471\n",
      "Epoch 30/150\n",
      "49/49 [==============================] - 2s 40ms/step - loss: 0.0241 - mean_absolute_error: 0.0241 - rmse: 0.0261 - val_loss: 0.0339 - val_mean_absolute_error: 0.0339 - val_rmse: 0.0369\n",
      "Epoch 31/150\n",
      "49/49 [==============================] - 2s 43ms/step - loss: 0.0261 - mean_absolute_error: 0.0261 - rmse: 0.0279 - val_loss: 0.0315 - val_mean_absolute_error: 0.0315 - val_rmse: 0.0349\n",
      "Epoch 32/150\n",
      "49/49 [==============================] - 2s 46ms/step - loss: 0.0171 - mean_absolute_error: 0.0171 - rmse: 0.0187 - val_loss: 0.0349 - val_mean_absolute_error: 0.0349 - val_rmse: 0.0382\n",
      "Epoch 33/150\n",
      "49/49 [==============================] - 2s 44ms/step - loss: 0.0149 - mean_absolute_error: 0.0149 - rmse: 0.0166 - val_loss: 0.0326 - val_mean_absolute_error: 0.0326 - val_rmse: 0.0360\n",
      "Epoch 34/150\n",
      "49/49 [==============================] - 2s 43ms/step - loss: 0.0144 - mean_absolute_error: 0.0144 - rmse: 0.0161 - val_loss: 0.0348 - val_mean_absolute_error: 0.0348 - val_rmse: 0.0380\n",
      "Epoch 35/150\n",
      "49/49 [==============================] - 2s 42ms/step - loss: 0.0158 - mean_absolute_error: 0.0158 - rmse: 0.0175 - val_loss: 0.0336 - val_mean_absolute_error: 0.0336 - val_rmse: 0.0367\n",
      "Epoch 36/150\n",
      "49/49 [==============================] - 2s 41ms/step - loss: 0.0148 - mean_absolute_error: 0.0148 - rmse: 0.0164 - val_loss: 0.0331 - val_mean_absolute_error: 0.0331 - val_rmse: 0.0368\n",
      "Epoch 37/150\n",
      "49/49 [==============================] - 2s 46ms/step - loss: 0.0152 - mean_absolute_error: 0.0152 - rmse: 0.0169 - val_loss: 0.0369 - val_mean_absolute_error: 0.0369 - val_rmse: 0.0399\n",
      "Epoch 38/150\n",
      "49/49 [==============================] - 2s 48ms/step - loss: 0.0155 - mean_absolute_error: 0.0155 - rmse: 0.0171 - val_loss: 0.0345 - val_mean_absolute_error: 0.0345 - val_rmse: 0.0385\n",
      "Epoch 39/150\n",
      "49/49 [==============================] - 2s 51ms/step - loss: 0.0155 - mean_absolute_error: 0.0155 - rmse: 0.0171 - val_loss: 0.0441 - val_mean_absolute_error: 0.0441 - val_rmse: 0.0469\n",
      "Epoch 40/150\n",
      "49/49 [==============================] - 2s 48ms/step - loss: 0.0180 - mean_absolute_error: 0.0180 - rmse: 0.0196 - val_loss: 0.0331 - val_mean_absolute_error: 0.0331 - val_rmse: 0.0364\n",
      "Epoch 41/150\n",
      "49/49 [==============================] - 2s 45ms/step - loss: 0.0168 - mean_absolute_error: 0.0168 - rmse: 0.0186 - val_loss: 0.0418 - val_mean_absolute_error: 0.0418 - val_rmse: 0.0448\n",
      "Epoch 42/150\n",
      "49/49 [==============================] - 2s 42ms/step - loss: 0.0172 - mean_absolute_error: 0.0172 - rmse: 0.0191 - val_loss: 0.0344 - val_mean_absolute_error: 0.0344 - val_rmse: 0.0388\n",
      "Epoch 43/150\n",
      "49/49 [==============================] - 2s 43ms/step - loss: 0.0161 - mean_absolute_error: 0.0161 - rmse: 0.0181 - val_loss: 0.0427 - val_mean_absolute_error: 0.0427 - val_rmse: 0.0455\n",
      "Epoch 44/150\n",
      "49/49 [==============================] - 2s 43ms/step - loss: 0.0173 - mean_absolute_error: 0.0173 - rmse: 0.0192 - val_loss: 0.0361 - val_mean_absolute_error: 0.0361 - val_rmse: 0.0394\n",
      "Epoch 45/150\n",
      "49/49 [==============================] - 2s 40ms/step - loss: 0.0174 - mean_absolute_error: 0.0174 - rmse: 0.0190 - val_loss: 0.0389 - val_mean_absolute_error: 0.0389 - val_rmse: 0.0421\n",
      "Epoch 46/150\n",
      "49/49 [==============================] - 2s 41ms/step - loss: 0.0182 - mean_absolute_error: 0.0182 - rmse: 0.0202 - val_loss: 0.0337 - val_mean_absolute_error: 0.0337 - val_rmse: 0.0369\n",
      "Epoch 47/150\n",
      "49/49 [==============================] - 2s 42ms/step - loss: 0.0168 - mean_absolute_error: 0.0168 - rmse: 0.0188 - val_loss: 0.0395 - val_mean_absolute_error: 0.0395 - val_rmse: 0.0426\n",
      "Epoch 48/150\n",
      "49/49 [==============================] - 2s 41ms/step - loss: 0.0183 - mean_absolute_error: 0.0183 - rmse: 0.0203 - val_loss: 0.0347 - val_mean_absolute_error: 0.0347 - val_rmse: 0.0379\n",
      "Epoch 49/150\n",
      "49/49 [==============================] - 2s 41ms/step - loss: 0.0184 - mean_absolute_error: 0.0184 - rmse: 0.0203 - val_loss: 0.0332 - val_mean_absolute_error: 0.0332 - val_rmse: 0.0365\n",
      "Epoch 49: early stopping\n",
      "Epoch 1/150\n",
      "49/49 [==============================] - 5s 52ms/step - loss: 0.0401 - mean_absolute_error: 0.0401 - rmse: 0.0437 - val_loss: 0.0700 - val_mean_absolute_error: 0.0700 - val_rmse: 0.0778\n",
      "Epoch 2/150\n",
      "49/49 [==============================] - 2s 40ms/step - loss: 0.0837 - mean_absolute_error: 0.0837 - rmse: 0.0868 - val_loss: 0.0533 - val_mean_absolute_error: 0.0533 - val_rmse: 0.0579\n",
      "Epoch 3/150\n",
      "49/49 [==============================] - 2s 39ms/step - loss: 0.0659 - mean_absolute_error: 0.0659 - rmse: 0.0686 - val_loss: 0.0558 - val_mean_absolute_error: 0.0558 - val_rmse: 0.0612\n",
      "Epoch 4/150\n",
      "49/49 [==============================] - 2s 41ms/step - loss: 0.0662 - mean_absolute_error: 0.0662 - rmse: 0.0701 - val_loss: 0.0520 - val_mean_absolute_error: 0.0520 - val_rmse: 0.0580\n",
      "Epoch 5/150\n",
      "49/49 [==============================] - 2s 40ms/step - loss: 0.0558 - mean_absolute_error: 0.0558 - rmse: 0.0587 - val_loss: 0.0483 - val_mean_absolute_error: 0.0483 - val_rmse: 0.0523\n",
      "Epoch 6/150\n",
      "49/49 [==============================] - 2s 39ms/step - loss: 0.0436 - mean_absolute_error: 0.0436 - rmse: 0.0476 - val_loss: 0.0708 - val_mean_absolute_error: 0.0708 - val_rmse: 0.0760\n",
      "Epoch 7/150\n",
      "49/49 [==============================] - 2s 40ms/step - loss: 0.0260 - mean_absolute_error: 0.0260 - rmse: 0.0289 - val_loss: 0.0420 - val_mean_absolute_error: 0.0420 - val_rmse: 0.0462\n",
      "Epoch 8/150\n",
      "49/49 [==============================] - 2s 38ms/step - loss: 0.0220 - mean_absolute_error: 0.0220 - rmse: 0.0249 - val_loss: 0.0436 - val_mean_absolute_error: 0.0436 - val_rmse: 0.0479\n",
      "Epoch 9/150\n",
      "49/49 [==============================] - 2s 40ms/step - loss: 0.0190 - mean_absolute_error: 0.0190 - rmse: 0.0222 - val_loss: 0.0424 - val_mean_absolute_error: 0.0424 - val_rmse: 0.0472\n",
      "Epoch 10/150\n",
      "49/49 [==============================] - 2s 41ms/step - loss: 0.0244 - mean_absolute_error: 0.0244 - rmse: 0.0282 - val_loss: 0.0537 - val_mean_absolute_error: 0.0537 - val_rmse: 0.0571\n",
      "Epoch 11/150\n",
      "49/49 [==============================] - 2s 41ms/step - loss: 0.0236 - mean_absolute_error: 0.0236 - rmse: 0.0262 - val_loss: 0.0410 - val_mean_absolute_error: 0.0410 - val_rmse: 0.0449\n",
      "Epoch 12/150\n",
      "49/49 [==============================] - 2s 40ms/step - loss: 0.0192 - mean_absolute_error: 0.0192 - rmse: 0.0216 - val_loss: 0.0485 - val_mean_absolute_error: 0.0485 - val_rmse: 0.0525\n",
      "Epoch 13/150\n",
      "49/49 [==============================] - 2s 40ms/step - loss: 0.0205 - mean_absolute_error: 0.0205 - rmse: 0.0228 - val_loss: 0.0416 - val_mean_absolute_error: 0.0416 - val_rmse: 0.0448\n",
      "Epoch 14/150\n",
      "49/49 [==============================] - 2s 40ms/step - loss: 0.0194 - mean_absolute_error: 0.0194 - rmse: 0.0219 - val_loss: 0.0436 - val_mean_absolute_error: 0.0436 - val_rmse: 0.0468\n",
      "Epoch 15/150\n",
      "49/49 [==============================] - 2s 41ms/step - loss: 0.0196 - mean_absolute_error: 0.0196 - rmse: 0.0221 - val_loss: 0.0432 - val_mean_absolute_error: 0.0432 - val_rmse: 0.0469\n",
      "Epoch 16/150\n",
      "49/49 [==============================] - 2s 39ms/step - loss: 0.0192 - mean_absolute_error: 0.0192 - rmse: 0.0214 - val_loss: 0.0423 - val_mean_absolute_error: 0.0423 - val_rmse: 0.0462\n",
      "Epoch 17/150\n",
      "49/49 [==============================] - 2s 40ms/step - loss: 0.0186 - mean_absolute_error: 0.0186 - rmse: 0.0208 - val_loss: 0.0466 - val_mean_absolute_error: 0.0466 - val_rmse: 0.0495\n",
      "Epoch 18/150\n",
      "49/49 [==============================] - 2s 43ms/step - loss: 0.0202 - mean_absolute_error: 0.0202 - rmse: 0.0227 - val_loss: 0.0423 - val_mean_absolute_error: 0.0423 - val_rmse: 0.0460\n",
      "Epoch 19/150\n",
      "49/49 [==============================] - 2s 43ms/step - loss: 0.0186 - mean_absolute_error: 0.0186 - rmse: 0.0205 - val_loss: 0.0463 - val_mean_absolute_error: 0.0463 - val_rmse: 0.0491\n",
      "Epoch 20/150\n",
      "49/49 [==============================] - 2s 41ms/step - loss: 0.0200 - mean_absolute_error: 0.0200 - rmse: 0.0226 - val_loss: 0.0433 - val_mean_absolute_error: 0.0433 - val_rmse: 0.0473\n",
      "Epoch 21/150\n",
      "49/49 [==============================] - 2s 44ms/step - loss: 0.0196 - mean_absolute_error: 0.0196 - rmse: 0.0216 - val_loss: 0.0479 - val_mean_absolute_error: 0.0479 - val_rmse: 0.0508\n",
      "Epoch 22/150\n",
      "49/49 [==============================] - 2s 42ms/step - loss: 0.0210 - mean_absolute_error: 0.0210 - rmse: 0.0232 - val_loss: 0.0433 - val_mean_absolute_error: 0.0433 - val_rmse: 0.0471\n",
      "Epoch 23/150\n",
      "49/49 [==============================] - 2s 44ms/step - loss: 0.0200 - mean_absolute_error: 0.0200 - rmse: 0.0220 - val_loss: 0.0453 - val_mean_absolute_error: 0.0453 - val_rmse: 0.0482\n",
      "Epoch 24/150\n",
      "49/49 [==============================] - 2s 43ms/step - loss: 0.0209 - mean_absolute_error: 0.0209 - rmse: 0.0228 - val_loss: 0.0406 - val_mean_absolute_error: 0.0406 - val_rmse: 0.0444\n",
      "Epoch 25/150\n",
      "49/49 [==============================] - 2s 44ms/step - loss: 0.0213 - mean_absolute_error: 0.0213 - rmse: 0.0234 - val_loss: 0.0478 - val_mean_absolute_error: 0.0478 - val_rmse: 0.0505\n",
      "Epoch 26/150\n",
      "49/49 [==============================] - 2s 46ms/step - loss: 0.0214 - mean_absolute_error: 0.0214 - rmse: 0.0234 - val_loss: 0.0375 - val_mean_absolute_error: 0.0375 - val_rmse: 0.0406\n",
      "Epoch 27/150\n",
      "49/49 [==============================] - 2s 45ms/step - loss: 0.0230 - mean_absolute_error: 0.0230 - rmse: 0.0247 - val_loss: 0.0440 - val_mean_absolute_error: 0.0440 - val_rmse: 0.0466\n",
      "Epoch 28/150\n",
      "49/49 [==============================] - 2s 45ms/step - loss: 0.0209 - mean_absolute_error: 0.0209 - rmse: 0.0230 - val_loss: 0.0363 - val_mean_absolute_error: 0.0363 - val_rmse: 0.0402\n",
      "Epoch 29/150\n",
      "49/49 [==============================] - 2s 44ms/step - loss: 0.0192 - mean_absolute_error: 0.0192 - rmse: 0.0212 - val_loss: 0.0378 - val_mean_absolute_error: 0.0378 - val_rmse: 0.0410\n",
      "Epoch 30/150\n",
      "49/49 [==============================] - 2s 47ms/step - loss: 0.0164 - mean_absolute_error: 0.0164 - rmse: 0.0184 - val_loss: 0.0346 - val_mean_absolute_error: 0.0346 - val_rmse: 0.0381\n",
      "Epoch 31/150\n",
      "49/49 [==============================] - 2s 43ms/step - loss: 0.0155 - mean_absolute_error: 0.0155 - rmse: 0.0175 - val_loss: 0.0382 - val_mean_absolute_error: 0.0382 - val_rmse: 0.0414\n",
      "Epoch 32/150\n",
      "49/49 [==============================] - 2s 42ms/step - loss: 0.0162 - mean_absolute_error: 0.0162 - rmse: 0.0179 - val_loss: 0.0352 - val_mean_absolute_error: 0.0352 - val_rmse: 0.0385\n",
      "Epoch 33/150\n",
      "49/49 [==============================] - 2s 42ms/step - loss: 0.0158 - mean_absolute_error: 0.0158 - rmse: 0.0177 - val_loss: 0.0368 - val_mean_absolute_error: 0.0368 - val_rmse: 0.0400\n",
      "Epoch 34/150\n",
      "49/49 [==============================] - 2s 42ms/step - loss: 0.0162 - mean_absolute_error: 0.0162 - rmse: 0.0182 - val_loss: 0.0363 - val_mean_absolute_error: 0.0363 - val_rmse: 0.0396\n",
      "Epoch 35/150\n",
      "49/49 [==============================] - 2s 42ms/step - loss: 0.0171 - mean_absolute_error: 0.0171 - rmse: 0.0192 - val_loss: 0.0365 - val_mean_absolute_error: 0.0365 - val_rmse: 0.0399\n",
      "Epoch 36/150\n",
      "49/49 [==============================] - 2s 42ms/step - loss: 0.0178 - mean_absolute_error: 0.0178 - rmse: 0.0201 - val_loss: 0.0373 - val_mean_absolute_error: 0.0373 - val_rmse: 0.0410\n",
      "Epoch 37/150\n",
      "49/49 [==============================] - 2s 40ms/step - loss: 0.0198 - mean_absolute_error: 0.0198 - rmse: 0.0221 - val_loss: 0.0383 - val_mean_absolute_error: 0.0383 - val_rmse: 0.0420\n",
      "Epoch 38/150\n",
      "49/49 [==============================] - 2s 41ms/step - loss: 0.0213 - mean_absolute_error: 0.0213 - rmse: 0.0236 - val_loss: 0.0332 - val_mean_absolute_error: 0.0332 - val_rmse: 0.0370\n",
      "Epoch 39/150\n",
      "49/49 [==============================] - 2s 42ms/step - loss: 0.0192 - mean_absolute_error: 0.0192 - rmse: 0.0213 - val_loss: 0.0360 - val_mean_absolute_error: 0.0360 - val_rmse: 0.0393\n",
      "Epoch 40/150\n",
      "49/49 [==============================] - 2s 41ms/step - loss: 0.0162 - mean_absolute_error: 0.0162 - rmse: 0.0182 - val_loss: 0.0349 - val_mean_absolute_error: 0.0349 - val_rmse: 0.0385\n",
      "Epoch 41/150\n",
      "49/49 [==============================] - 2s 42ms/step - loss: 0.0157 - mean_absolute_error: 0.0157 - rmse: 0.0178 - val_loss: 0.0358 - val_mean_absolute_error: 0.0358 - val_rmse: 0.0400\n",
      "Epoch 42/150\n",
      "49/49 [==============================] - 2s 41ms/step - loss: 0.0161 - mean_absolute_error: 0.0161 - rmse: 0.0181 - val_loss: 0.0365 - val_mean_absolute_error: 0.0365 - val_rmse: 0.0398\n",
      "Epoch 43/150\n",
      "49/49 [==============================] - 2s 41ms/step - loss: 0.0172 - mean_absolute_error: 0.0172 - rmse: 0.0195 - val_loss: 0.0366 - val_mean_absolute_error: 0.0366 - val_rmse: 0.0407\n",
      "Epoch 44/150\n",
      "49/49 [==============================] - 2s 42ms/step - loss: 0.0197 - mean_absolute_error: 0.0197 - rmse: 0.0218 - val_loss: 0.0364 - val_mean_absolute_error: 0.0364 - val_rmse: 0.0399\n",
      "Epoch 45/150\n",
      "49/49 [==============================] - 2s 42ms/step - loss: 0.0203 - mean_absolute_error: 0.0203 - rmse: 0.0223 - val_loss: 0.0358 - val_mean_absolute_error: 0.0358 - val_rmse: 0.0396\n",
      "Epoch 46/150\n",
      "49/49 [==============================] - 2s 42ms/step - loss: 0.0164 - mean_absolute_error: 0.0164 - rmse: 0.0188 - val_loss: 0.0412 - val_mean_absolute_error: 0.0412 - val_rmse: 0.0450\n",
      "Epoch 46: early stopping\n",
      "Epoch 1/150\n",
      "49/49 [==============================] - 5s 50ms/step - loss: 0.0457 - mean_absolute_error: 0.0457 - rmse: 0.0495 - val_loss: 0.0963 - val_mean_absolute_error: 0.0963 - val_rmse: 0.0997\n",
      "Epoch 2/150\n",
      "49/49 [==============================] - 2s 41ms/step - loss: 0.1253 - mean_absolute_error: 0.1253 - rmse: 0.1313 - val_loss: 0.1022 - val_mean_absolute_error: 0.1022 - val_rmse: 0.1191\n",
      "Epoch 3/150\n",
      "49/49 [==============================] - 2s 40ms/step - loss: 0.1114 - mean_absolute_error: 0.1114 - rmse: 0.1167 - val_loss: 0.0916 - val_mean_absolute_error: 0.0916 - val_rmse: 0.0970\n",
      "Epoch 4/150\n",
      "49/49 [==============================] - 2s 41ms/step - loss: 0.0707 - mean_absolute_error: 0.0707 - rmse: 0.0756 - val_loss: 0.0480 - val_mean_absolute_error: 0.0480 - val_rmse: 0.0537\n",
      "Epoch 5/150\n",
      "49/49 [==============================] - 2s 39ms/step - loss: 0.0470 - mean_absolute_error: 0.0470 - rmse: 0.0510 - val_loss: 0.0463 - val_mean_absolute_error: 0.0463 - val_rmse: 0.0512\n",
      "Epoch 6/150\n",
      "49/49 [==============================] - 2s 41ms/step - loss: 0.0342 - mean_absolute_error: 0.0342 - rmse: 0.0366 - val_loss: 0.0675 - val_mean_absolute_error: 0.0675 - val_rmse: 0.0702\n",
      "Epoch 7/150\n",
      "49/49 [==============================] - 2s 40ms/step - loss: 0.0242 - mean_absolute_error: 0.0242 - rmse: 0.0260 - val_loss: 0.0444 - val_mean_absolute_error: 0.0444 - val_rmse: 0.0479\n",
      "Epoch 8/150\n",
      "49/49 [==============================] - 2s 41ms/step - loss: 0.0203 - mean_absolute_error: 0.0203 - rmse: 0.0224 - val_loss: 0.0578 - val_mean_absolute_error: 0.0578 - val_rmse: 0.0604\n",
      "Epoch 9/150\n",
      "49/49 [==============================] - 2s 42ms/step - loss: 0.0226 - mean_absolute_error: 0.0226 - rmse: 0.0252 - val_loss: 0.0409 - val_mean_absolute_error: 0.0409 - val_rmse: 0.0460\n",
      "Epoch 10/150\n",
      "49/49 [==============================] - 2s 43ms/step - loss: 0.0194 - mean_absolute_error: 0.0194 - rmse: 0.0219 - val_loss: 0.0421 - val_mean_absolute_error: 0.0421 - val_rmse: 0.0470\n",
      "Epoch 11/150\n",
      "49/49 [==============================] - 2s 40ms/step - loss: 0.0187 - mean_absolute_error: 0.0187 - rmse: 0.0208 - val_loss: 0.0424 - val_mean_absolute_error: 0.0424 - val_rmse: 0.0457\n",
      "Epoch 12/150\n",
      "49/49 [==============================] - 2s 41ms/step - loss: 0.0200 - mean_absolute_error: 0.0200 - rmse: 0.0224 - val_loss: 0.0430 - val_mean_absolute_error: 0.0430 - val_rmse: 0.0459\n",
      "Epoch 13/150\n",
      "49/49 [==============================] - 2s 40ms/step - loss: 0.0190 - mean_absolute_error: 0.0190 - rmse: 0.0214 - val_loss: 0.0427 - val_mean_absolute_error: 0.0427 - val_rmse: 0.0456\n",
      "Epoch 14/150\n",
      "49/49 [==============================] - 2s 41ms/step - loss: 0.0195 - mean_absolute_error: 0.0195 - rmse: 0.0215 - val_loss: 0.0507 - val_mean_absolute_error: 0.0507 - val_rmse: 0.0540\n",
      "Epoch 15/150\n",
      "49/49 [==============================] - 2s 40ms/step - loss: 0.0206 - mean_absolute_error: 0.0206 - rmse: 0.0229 - val_loss: 0.0403 - val_mean_absolute_error: 0.0403 - val_rmse: 0.0444\n",
      "Epoch 16/150\n",
      "49/49 [==============================] - 2s 41ms/step - loss: 0.0193 - mean_absolute_error: 0.0193 - rmse: 0.0219 - val_loss: 0.0453 - val_mean_absolute_error: 0.0453 - val_rmse: 0.0484\n",
      "Epoch 17/150\n",
      "49/49 [==============================] - 2s 41ms/step - loss: 0.0202 - mean_absolute_error: 0.0202 - rmse: 0.0224 - val_loss: 0.0410 - val_mean_absolute_error: 0.0410 - val_rmse: 0.0445\n",
      "Epoch 18/150\n",
      "49/49 [==============================] - 2s 43ms/step - loss: 0.0187 - mean_absolute_error: 0.0187 - rmse: 0.0207 - val_loss: 0.0445 - val_mean_absolute_error: 0.0445 - val_rmse: 0.0472\n",
      "Epoch 19/150\n",
      "49/49 [==============================] - 2s 40ms/step - loss: 0.0194 - mean_absolute_error: 0.0194 - rmse: 0.0213 - val_loss: 0.0430 - val_mean_absolute_error: 0.0430 - val_rmse: 0.0459\n",
      "Epoch 20/150\n",
      "49/49 [==============================] - 2s 41ms/step - loss: 0.0188 - mean_absolute_error: 0.0188 - rmse: 0.0204 - val_loss: 0.0404 - val_mean_absolute_error: 0.0404 - val_rmse: 0.0435\n",
      "Epoch 21/150\n",
      "49/49 [==============================] - 2s 40ms/step - loss: 0.0186 - mean_absolute_error: 0.0186 - rmse: 0.0201 - val_loss: 0.0452 - val_mean_absolute_error: 0.0452 - val_rmse: 0.0481\n",
      "Epoch 22/150\n",
      "49/49 [==============================] - 2s 39ms/step - loss: 0.0196 - mean_absolute_error: 0.0196 - rmse: 0.0212 - val_loss: 0.0402 - val_mean_absolute_error: 0.0402 - val_rmse: 0.0437\n",
      "Epoch 23/150\n",
      "49/49 [==============================] - 2s 40ms/step - loss: 0.0194 - mean_absolute_error: 0.0194 - rmse: 0.0210 - val_loss: 0.0473 - val_mean_absolute_error: 0.0473 - val_rmse: 0.0499\n",
      "Epoch 24/150\n",
      "49/49 [==============================] - 2s 41ms/step - loss: 0.0200 - mean_absolute_error: 0.0200 - rmse: 0.0219 - val_loss: 0.0369 - val_mean_absolute_error: 0.0369 - val_rmse: 0.0402\n",
      "Epoch 25/150\n",
      "49/49 [==============================] - 2s 44ms/step - loss: 0.0217 - mean_absolute_error: 0.0217 - rmse: 0.0238 - val_loss: 0.0380 - val_mean_absolute_error: 0.0380 - val_rmse: 0.0419\n",
      "Epoch 26/150\n",
      "49/49 [==============================] - 2s 43ms/step - loss: 0.0193 - mean_absolute_error: 0.0193 - rmse: 0.0216 - val_loss: 0.0365 - val_mean_absolute_error: 0.0365 - val_rmse: 0.0399\n",
      "Epoch 27/150\n",
      "49/49 [==============================] - 2s 43ms/step - loss: 0.0169 - mean_absolute_error: 0.0169 - rmse: 0.0190 - val_loss: 0.0415 - val_mean_absolute_error: 0.0415 - val_rmse: 0.0448\n",
      "Epoch 28/150\n",
      "49/49 [==============================] - 2s 42ms/step - loss: 0.0172 - mean_absolute_error: 0.0172 - rmse: 0.0191 - val_loss: 0.0349 - val_mean_absolute_error: 0.0349 - val_rmse: 0.0383\n",
      "Epoch 29/150\n",
      "49/49 [==============================] - 2s 46ms/step - loss: 0.0171 - mean_absolute_error: 0.0171 - rmse: 0.0190 - val_loss: 0.0412 - val_mean_absolute_error: 0.0412 - val_rmse: 0.0449\n",
      "Epoch 30/150\n",
      "49/49 [==============================] - 2s 42ms/step - loss: 0.0171 - mean_absolute_error: 0.0171 - rmse: 0.0190 - val_loss: 0.0358 - val_mean_absolute_error: 0.0358 - val_rmse: 0.0391\n",
      "Epoch 31/150\n",
      "49/49 [==============================] - 2s 42ms/step - loss: 0.0166 - mean_absolute_error: 0.0166 - rmse: 0.0188 - val_loss: 0.0377 - val_mean_absolute_error: 0.0377 - val_rmse: 0.0413\n",
      "Epoch 32/150\n",
      "49/49 [==============================] - 2s 41ms/step - loss: 0.0165 - mean_absolute_error: 0.0165 - rmse: 0.0187 - val_loss: 0.0362 - val_mean_absolute_error: 0.0362 - val_rmse: 0.0399\n",
      "Epoch 33/150\n",
      "49/49 [==============================] - 2s 41ms/step - loss: 0.0163 - mean_absolute_error: 0.0163 - rmse: 0.0184 - val_loss: 0.0382 - val_mean_absolute_error: 0.0382 - val_rmse: 0.0415\n",
      "Epoch 34/150\n",
      "49/49 [==============================] - 2s 40ms/step - loss: 0.0172 - mean_absolute_error: 0.0172 - rmse: 0.0195 - val_loss: 0.0369 - val_mean_absolute_error: 0.0369 - val_rmse: 0.0413\n",
      "Epoch 35/150\n",
      "49/49 [==============================] - 2s 41ms/step - loss: 0.0178 - mean_absolute_error: 0.0178 - rmse: 0.0200 - val_loss: 0.0417 - val_mean_absolute_error: 0.0417 - val_rmse: 0.0448\n",
      "Epoch 36/150\n",
      "49/49 [==============================] - 2s 40ms/step - loss: 0.0185 - mean_absolute_error: 0.0185 - rmse: 0.0207 - val_loss: 0.0346 - val_mean_absolute_error: 0.0346 - val_rmse: 0.0384\n",
      "Epoch 37/150\n",
      "49/49 [==============================] - 2s 40ms/step - loss: 0.0196 - mean_absolute_error: 0.0196 - rmse: 0.0215 - val_loss: 0.0363 - val_mean_absolute_error: 0.0363 - val_rmse: 0.0396\n",
      "Epoch 38/150\n",
      "49/49 [==============================] - 2s 40ms/step - loss: 0.0160 - mean_absolute_error: 0.0160 - rmse: 0.0179 - val_loss: 0.0342 - val_mean_absolute_error: 0.0342 - val_rmse: 0.0385\n",
      "Epoch 39/150\n",
      "49/49 [==============================] - 2s 40ms/step - loss: 0.0162 - mean_absolute_error: 0.0162 - rmse: 0.0183 - val_loss: 0.0369 - val_mean_absolute_error: 0.0369 - val_rmse: 0.0411\n",
      "Epoch 40/150\n",
      "49/49 [==============================] - 2s 40ms/step - loss: 0.0163 - mean_absolute_error: 0.0163 - rmse: 0.0187 - val_loss: 0.0357 - val_mean_absolute_error: 0.0357 - val_rmse: 0.0405\n",
      "Epoch 41/150\n",
      "49/49 [==============================] - 2s 40ms/step - loss: 0.0162 - mean_absolute_error: 0.0162 - rmse: 0.0187 - val_loss: 0.0385 - val_mean_absolute_error: 0.0385 - val_rmse: 0.0424\n",
      "Epoch 42/150\n",
      "49/49 [==============================] - 2s 40ms/step - loss: 0.0168 - mean_absolute_error: 0.0168 - rmse: 0.0189 - val_loss: 0.0361 - val_mean_absolute_error: 0.0361 - val_rmse: 0.0406\n",
      "Epoch 43/150\n",
      "49/49 [==============================] - 2s 40ms/step - loss: 0.0181 - mean_absolute_error: 0.0181 - rmse: 0.0201 - val_loss: 0.0384 - val_mean_absolute_error: 0.0384 - val_rmse: 0.0418\n",
      "Epoch 44/150\n",
      "49/49 [==============================] - 2s 40ms/step - loss: 0.0174 - mean_absolute_error: 0.0174 - rmse: 0.0194 - val_loss: 0.0348 - val_mean_absolute_error: 0.0348 - val_rmse: 0.0390\n",
      "Epoch 45/150\n",
      "49/49 [==============================] - 2s 40ms/step - loss: 0.0188 - mean_absolute_error: 0.0188 - rmse: 0.0212 - val_loss: 0.0329 - val_mean_absolute_error: 0.0329 - val_rmse: 0.0371\n",
      "Epoch 46/150\n",
      "49/49 [==============================] - 2s 39ms/step - loss: 0.0163 - mean_absolute_error: 0.0163 - rmse: 0.0185 - val_loss: 0.0341 - val_mean_absolute_error: 0.0341 - val_rmse: 0.0390\n",
      "Epoch 47/150\n",
      "49/49 [==============================] - 2s 39ms/step - loss: 0.0150 - mean_absolute_error: 0.0150 - rmse: 0.0173 - val_loss: 0.0342 - val_mean_absolute_error: 0.0342 - val_rmse: 0.0379\n",
      "Epoch 48/150\n",
      "49/49 [==============================] - 2s 40ms/step - loss: 0.0151 - mean_absolute_error: 0.0151 - rmse: 0.0173 - val_loss: 0.0343 - val_mean_absolute_error: 0.0343 - val_rmse: 0.0383\n",
      "Epoch 49/150\n",
      "49/49 [==============================] - 2s 42ms/step - loss: 0.0153 - mean_absolute_error: 0.0153 - rmse: 0.0173 - val_loss: 0.0347 - val_mean_absolute_error: 0.0347 - val_rmse: 0.0389\n",
      "Epoch 50/150\n",
      "49/49 [==============================] - 2s 41ms/step - loss: 0.0163 - mean_absolute_error: 0.0163 - rmse: 0.0183 - val_loss: 0.0348 - val_mean_absolute_error: 0.0348 - val_rmse: 0.0385\n",
      "Epoch 51/150\n",
      "49/49 [==============================] - 2s 41ms/step - loss: 0.0174 - mean_absolute_error: 0.0174 - rmse: 0.0195 - val_loss: 0.0354 - val_mean_absolute_error: 0.0354 - val_rmse: 0.0393\n",
      "Epoch 52/150\n",
      "49/49 [==============================] - 2s 41ms/step - loss: 0.0184 - mean_absolute_error: 0.0184 - rmse: 0.0205 - val_loss: 0.0330 - val_mean_absolute_error: 0.0330 - val_rmse: 0.0368\n",
      "Epoch 53/150\n",
      "49/49 [==============================] - 2s 40ms/step - loss: 0.0185 - mean_absolute_error: 0.0185 - rmse: 0.0204 - val_loss: 0.0347 - val_mean_absolute_error: 0.0347 - val_rmse: 0.0391\n",
      "Epoch 54/150\n",
      "49/49 [==============================] - 2s 41ms/step - loss: 0.0138 - mean_absolute_error: 0.0138 - rmse: 0.0156 - val_loss: 0.0349 - val_mean_absolute_error: 0.0349 - val_rmse: 0.0387\n",
      "Epoch 55/150\n",
      "49/49 [==============================] - 2s 43ms/step - loss: 0.0144 - mean_absolute_error: 0.0144 - rmse: 0.0165 - val_loss: 0.0358 - val_mean_absolute_error: 0.0358 - val_rmse: 0.0395\n",
      "Epoch 56/150\n",
      "49/49 [==============================] - 2s 42ms/step - loss: 0.0164 - mean_absolute_error: 0.0164 - rmse: 0.0184 - val_loss: 0.0365 - val_mean_absolute_error: 0.0365 - val_rmse: 0.0402\n",
      "Epoch 57/150\n",
      "49/49 [==============================] - 2s 44ms/step - loss: 0.0180 - mean_absolute_error: 0.0180 - rmse: 0.0199 - val_loss: 0.0353 - val_mean_absolute_error: 0.0353 - val_rmse: 0.0394\n",
      "Epoch 58/150\n",
      "49/49 [==============================] - 2s 49ms/step - loss: 0.0140 - mean_absolute_error: 0.0140 - rmse: 0.0160 - val_loss: 0.0360 - val_mean_absolute_error: 0.0360 - val_rmse: 0.0397\n",
      "Epoch 59/150\n",
      "49/49 [==============================] - 2s 44ms/step - loss: 0.0165 - mean_absolute_error: 0.0165 - rmse: 0.0189 - val_loss: 0.0370 - val_mean_absolute_error: 0.0370 - val_rmse: 0.0417\n",
      "Epoch 60/150\n",
      "49/49 [==============================] - 2s 46ms/step - loss: 0.0271 - mean_absolute_error: 0.0271 - rmse: 0.0292 - val_loss: 0.0394 - val_mean_absolute_error: 0.0394 - val_rmse: 0.0426\n",
      "Epoch 61/150\n",
      "30/49 [=================>............] - ETA: 0s - loss: 0.0151 - mean_absolute_error: 0.0151 - rmse: 0.0169"
     ]
    }
   ],
   "source": [
    "early_stop = EarlyStopping(monitor='loss', patience=n_early, verbose=1)\n",
    "\n",
    "tuner = kt.BayesianOptimization(\n",
    "# tuner = kt.Hyperband(\n",
    "# tuner= kt.RandomSearch(\n",
    "        build_model_way,\n",
    "        objective=main_obj_metric,\n",
    "        max_trials=nMax_trials,\n",
    "        seed=seed,\n",
    "        executions_per_trial=nExecutions_per_trial,\n",
    "        directory=f\"tuning/{tune_folder}/\",\n",
    "        project_name= project_model\n",
    "   \n",
    "        )\n",
    "tuner.search(x_train, y_train, batch_size=n_batch_size, epochs=n_epochs,\n",
    "                        validation_data=(x_test, y_test),\n",
    "                        shuffle=False,verbose=1,callbacks=[early_stop])\n",
    "\n"
   ]
  },
  {
   "cell_type": "code",
   "execution_count": null,
   "metadata": {},
   "outputs": [],
   "source": [
    "print(\"Space to search\")\n",
    "tuner.search_space_summary()\n",
    "print(f\"Suumary of {nMax_trials}\")\n",
    "# tuner.results_summary()"
   ]
  },
  {
   "cell_type": "code",
   "execution_count": null,
   "metadata": {},
   "outputs": [],
   "source": [
    "t_End=time.time()\n",
    "t_elapsed=(t_End-t_Start)/60/60\n",
    "print('Total execution : ',round(t_elapsed,2)) \n",
    "print(datetime.now())"
   ]
  },
  {
   "cell_type": "code",
   "execution_count": null,
   "metadata": {},
   "outputs": [],
   "source": [
    "best_hps=tuner.get_best_hyperparameters(num_trials=1)[0]\n",
    "model=tuner.get_best_models(num_models=1)[0]\n",
    "\n",
    "print(best_hps.values)\n",
    "\n",
    "model.summary()"
   ]
  },
  {
   "cell_type": "code",
   "execution_count": null,
   "metadata": {},
   "outputs": [],
   "source": [
    "print(\"build model from  the best tuning\")\n",
    "model = tuner.hypermodel.build(best_hps)\n",
    "print(model.summary())"
   ]
  },
  {
   "cell_type": "code",
   "execution_count": null,
   "metadata": {},
   "outputs": [],
   "source": []
  },
  {
   "cell_type": "code",
   "execution_count": null,
   "metadata": {},
   "outputs": [],
   "source": []
  },
  {
   "cell_type": "code",
   "execution_count": null,
   "metadata": {},
   "outputs": [],
   "source": []
  },
  {
   "cell_type": "code",
   "execution_count": null,
   "metadata": {},
   "outputs": [],
   "source": []
  },
  {
   "cell_type": "markdown",
   "metadata": {},
   "source": [
    "# Training the TUNED Model "
   ]
  },
  {
   "cell_type": "code",
   "execution_count": null,
   "metadata": {},
   "outputs": [],
   "source": [
    "print(f\"Training the TUNE Model\")\n",
    "t_Start=time.time()\n",
    "print(datetime.now())\n",
    "\n",
    "if n_early==0:\n",
    "\n",
    " history = model.fit(x_train, y_train, \n",
    "                batch_size=n_batch_size,\n",
    "                epochs=n_epochs,\n",
    "                shuffle=False,\n",
    "                validation_data=(x_test, y_test),\n",
    "                verbose=2\n",
    "               )\n",
    "else:\n",
    "    early_stop = EarlyStopping(monitor='loss', patience=n_early, verbose=1)\n",
    "                    \n",
    "    history = model.fit(x_train, y_train, \n",
    "                    batch_size=n_batch_size, \n",
    "                    epochs=n_epochs,\n",
    "                    shuffle=False,\n",
    "                    validation_data=(x_test, y_test),\n",
    "                    verbose=2,callbacks=[early_stop]\n",
    "                   )\n",
    "        \n",
    "t_End=time.time()\n",
    "t_elapsed=(t_End-t_Start)/60/60\n",
    "print('Total execute making report : ',round(t_elapsed,2)) \n",
    "print(datetime.now())"
   ]
  },
  {
   "cell_type": "code",
   "execution_count": null,
   "metadata": {},
   "outputs": [],
   "source": [
    "val_per_epoch = history.history[main_obj_metric]\n",
    "#best_epoch = val_per_epoch.index(max(val_per_epoch)) + 1\n",
    "best_epoch = len(val_per_epoch) + 1\n",
    "print('Best epoch: %d' % (best_epoch,))"
   ]
  },
  {
   "cell_type": "code",
   "execution_count": null,
   "metadata": {},
   "outputs": [],
   "source": [
    "print(\"List Metrics\")\n",
    "for key in history.history.keys():\n",
    "    print(key)\n",
    "print(\"=====================================================\")    \n",
    "# Evaluate the model on the test data using `evaluate`\n",
    "#https://www.tensorflow.org/guide/keras/train_and_evaluate\n",
    "print(\"Evaluate on test data\")\n",
    "results = model.evaluate(x_test, y_test, batch_size=n_batch_size)\n",
    "print(\"test loss, test acc:\", results)"
   ]
  },
  {
   "cell_type": "code",
   "execution_count": null,
   "metadata": {},
   "outputs": [],
   "source": [
    "# Plot training & validation loss values\n",
    "fig, ax = plt.subplots(figsize=(10, 5), sharex=True)\n",
    "plt.plot(history.history[\"loss\"])\n",
    "plt.title(f\"Tradin Data Model loss with {main_loss}\")\n",
    "plt.ylabel(\"Loss\")\n",
    "plt.xlabel(\"Epoch\")\n",
    "ax.xaxis.set_major_locator(plt.MaxNLocator(n_epochs))\n",
    "plt.legend([\"Train\"], loc=\"upper left\")\n",
    "plt.grid()\n",
    "plt.show()"
   ]
  },
  {
   "cell_type": "code",
   "execution_count": null,
   "metadata": {},
   "outputs": [],
   "source": [
    "plt.title(main_obj_metric)\n",
    "plt.plot(history.history[main_obj_metric], label='train')\n",
    "plt.plot(history.history[f'val_{main_obj_metric}'], label='test')\n",
    "plt.legend()\n",
    "plt.show()"
   ]
  },
  {
   "cell_type": "code",
   "execution_count": null,
   "metadata": {},
   "outputs": [],
   "source": [
    "plt.title(option_obj_metric)\n",
    "plt.plot(history.history[main_obj_metric], label='train')\n",
    "plt.plot(history.history[f'val_{option_obj_metric}'], label='test')\n",
    "plt.legend()\n",
    "plt.show()"
   ]
  },
  {
   "cell_type": "code",
   "execution_count": null,
   "metadata": {},
   "outputs": [],
   "source": [
    "plt.title(f\"Train/Test Loss - {main_loss}\")\n",
    "plt.plot(history.history['loss'], label='train')\n",
    "plt.plot(history.history['val_loss'], label='test')\n",
    "plt.legend()\n",
    "plt.show()"
   ]
  },
  {
   "cell_type": "code",
   "execution_count": null,
   "metadata": {},
   "outputs": [],
   "source": []
  },
  {
   "cell_type": "code",
   "execution_count": null,
   "metadata": {},
   "outputs": [],
   "source": []
  },
  {
   "cell_type": "code",
   "execution_count": null,
   "metadata": {},
   "outputs": [],
   "source": [
    "# import shap\n",
    "\n",
    "# # we use the first 100 training examples as our background dataset to integrate over\n",
    "# explainer = shap.DeepExplainer(model, x_train)\n",
    "# shap_values = explainer.shap_values(x_test)"
   ]
  },
  {
   "cell_type": "code",
   "execution_count": null,
   "metadata": {},
   "outputs": [],
   "source": []
  },
  {
   "cell_type": "markdown",
   "metadata": {},
   "source": [
    "# Step #5 Evaluate Model Performance"
   ]
  },
  {
   "cell_type": "code",
   "execution_count": null,
   "metadata": {},
   "outputs": [],
   "source": [
    "# Get the predicted values\n",
    "y_pred_scaled = model.predict(x_test)\n",
    "print(y_pred_scaled.shape)\n",
    "\n",
    "# Unscale the predicted values\n",
    "y_pred = scaler_pred.inverse_transform(y_pred_scaled)\n",
    "y_test_unscaled = scaler_pred.inverse_transform(y_test).reshape(-1, output_sequence_length)\n",
    "print(y_pred.shape)\n",
    "print(y_test_unscaled.shape)"
   ]
  },
  {
   "cell_type": "code",
   "execution_count": null,
   "metadata": {},
   "outputs": [],
   "source": [
    "RMSE = math.sqrt( mean_squared_error(y_test_unscaled, y_pred))\n",
    "print(f'Root MEAN Square Error(RMSE): {np.round(RMSE, 2)}')\n",
    "\n",
    "# Mean Absolute Error (MAE)\n",
    "MAE = mean_absolute_error(y_test_unscaled, y_pred)\n",
    "print(f'Mean Absolute Error (MAE): {np.round(MAE, 2)}')\n",
    "\n",
    "\n",
    "\n",
    "# Mean Absolute Percentage Error (MAPE)\n",
    "MAPE = np.mean((np.abs(np.subtract(y_test_unscaled, y_pred)/ y_test_unscaled))) * 100\n",
    "print(f'Mean Absolute Percentage Error (MAPE): {np.round(MAPE, 2)} %')\n",
    "\n",
    "# Median Absolute Percentage Error (MDAPE)\n",
    "MDAPE = np.median((np.abs(np.subtract(y_test_unscaled, y_pred)/ y_test_unscaled)) ) * 100\n",
    "print(f'Median Absolute Percentage Error (MDAPE): {np.round(MDAPE, 2)} %')\n",
    "\n",
    "\n"
   ]
  },
  {
   "cell_type": "markdown",
   "metadata": {},
   "source": [
    "# Plot Multiple Forcast (Most Complex Step)"
   ]
  },
  {
   "cell_type": "code",
   "execution_count": null,
   "metadata": {},
   "outputs": [],
   "source": [
    "def prepare_df(i, x, y, y_pred_unscaled):\n",
    "    # Undo the scaling on x, reshape the testset into a one-dimensional array, so that it fits to the pred scaler\n",
    "    x_test_unscaled_df = pd.DataFrame(scaler_pred.inverse_transform((x[i]))[:,index_Close])\\\n",
    "    .rename(columns={0:'x_test'})\n",
    "    \n",
    "    y_test_unscaled_df = []\n",
    "    # Undo the scaling on y\n",
    "    if type(y) == np.ndarray:\n",
    "        y_test_unscaled_df = pd.DataFrame(scaler_pred.inverse_transform(y)[i]).rename(columns={0:'y_test'})\n",
    "\n",
    "    # Create a dataframe for the y_pred at position i, y_pred is already unscaled\n",
    "    y_pred_df = pd.DataFrame(y_pred_unscaled[i]).rename(columns={0:'y_pred'})\n",
    "    return x_test_unscaled_df, y_pred_df, y_test_unscaled_df\n",
    "\n",
    "\n",
    "def plot_multi_test_forecast(x_test_unscaled_df, y_test_unscaled_df, y_pred_df, title): \n",
    "    # Package y_pred_unscaled and y_test_unscaled into a dataframe with columns pred and true   \n",
    "    if type(y_test_unscaled_df) == pd.core.frame.DataFrame:\n",
    "        df_merge = y_pred_df.join(y_test_unscaled_df, how='left')\n",
    "    else:\n",
    "        df_merge = y_pred_df.copy()\n",
    "    \n",
    "    # Merge the dataframes \n",
    "    df_merge_ = pd.concat([x_test_unscaled_df, df_merge]).reset_index(drop=True)\n",
    "    \n",
    "    # Plot the linecharts\n",
    "    fig, ax = plt.subplots(figsize=(20, 8))\n",
    "    plt.title(title, fontsize=12)\n",
    "    ax.set(ylabel = f\"{asset_name}-{prediction_col}\")\n",
    "    sns.lineplot(data = df_merge_, linewidth=2.0, ax=ax)\n",
    "\n"
   ]
  },
  {
   "cell_type": "code",
   "execution_count": null,
   "metadata": {},
   "outputs": [],
   "source": [
    "# Creates a linechart for a specific test batch_number and corresponding test predictions\n",
    "\n",
    "x_test_unscaled_df, y_pred_df, y_test_unscaled_df = prepare_df(i, x_test, y_test, y_pred)\n",
    "title = f\"Predictions vs y_test - test batch number {input_sequence_length}\"\n",
    "plot_multi_test_forecast(x_test_unscaled_df, y_test_unscaled_df, y_pred_df, title) "
   ]
  },
  {
   "cell_type": "markdown",
   "metadata": {},
   "source": [
    "# Step #6 Create a new Forecast"
   ]
  },
  {
   "cell_type": "code",
   "execution_count": null,
   "metadata": {},
   "outputs": [],
   "source": [
    "x_test_latest_batch = np_scaled[-(input_sequence_length+1):-1,:].reshape(1,input_sequence_length,len(feature_cols))\n",
    "print(f\"{x_test_latest_batch.shape} is the latest input batch from the test dataset, which is contains the price values for the last {input_sequence_length} trading days\")\n",
    "\n",
    "    \n",
    "x_test_latest_batch"
   ]
  },
  {
   "cell_type": "code",
   "execution_count": null,
   "metadata": {},
   "outputs": [],
   "source": [
    "y_pred_scaled = model.predict(x_test_latest_batch)\n",
    "y_pred_unscaled = scaler_pred.inverse_transform(y_pred_scaled)\n",
    "print(f\"Predict on the inverse transformed batch {y_pred_unscaled.shape}\")\n",
    "print(y_pred_unscaled)"
   ]
  },
  {
   "cell_type": "code",
   "execution_count": null,
   "metadata": {},
   "outputs": [],
   "source": [
    "print(\"Prepare the data and plot the input data and the predictions\")\n",
    "x_test_unscaled_df, y_test_unscaled_df, _ = prepare_df(0, x_test_latest_batch, '', y_pred_unscaled)\n",
    "print(f\"X-Test= {x_test_unscaled_df.shape}\")\n",
    "print(f\"Y-Test= {y_test_unscaled_df.shape}\")\n",
    "\n",
    "# print(x_test_unscaled_df.tail(len(y_test_unscaled_df)))\n",
    "# print(y_test_unscaled_df.tail(len(y_test_unscaled_df)))"
   ]
  },
  {
   "cell_type": "code",
   "execution_count": null,
   "metadata": {},
   "outputs": [],
   "source": [
    "plot_multi_test_forecast(x_test_unscaled_df, '',y_test_unscaled_df, \"x_new Vs. y_new_pred\")"
   ]
  },
  {
   "cell_type": "code",
   "execution_count": null,
   "metadata": {},
   "outputs": [],
   "source": []
  },
  {
   "cell_type": "markdown",
   "metadata": {},
   "source": [
    "# Create Final Model"
   ]
  },
  {
   "cell_type": "code",
   "execution_count": null,
   "metadata": {},
   "outputs": [],
   "source": [
    "dfAll=df.sort_values(by=[date_col]).copy()\n",
    "npAll_unscaled, npPredictCol_unscaled = prepare_data(dfAll) \n",
    "print(npAll_unscaled.shape,npPredictCol_unscaled.shape)"
   ]
  },
  {
   "cell_type": "code",
   "execution_count": null,
   "metadata": {},
   "outputs": [],
   "source": [
    "scalerFinalTrain = MinMaxScaler()\n",
    "scalerFinalPred = MinMaxScaler()\n",
    "npAll_scaled = scalerFinalTrain.fit_transform(npAll_unscaled)\n",
    "npAllPredictCol_scaled = scalerFinalPred.fit_transform(npPredictCol_unscaled)\n",
    "print(npAll_scaled.shape,npAllPredictCol_scaled.shape)\n",
    "print(npAll_scaled[:2])\n",
    "print(npAllPredictCol_scaled[:2])"
   ]
  },
  {
   "cell_type": "code",
   "execution_count": null,
   "metadata": {},
   "outputs": [],
   "source": [
    "x_all, y_all = partition_dataset(input_sequence_length, output_sequence_length,npAll_scaled)\n",
    "print(f\"We will tranin {x_all.shape},{y_all.shape} with batch={n_batch_size} and best epoch={best_epoch}\")"
   ]
  },
  {
   "cell_type": "code",
   "execution_count": null,
   "metadata": {},
   "outputs": [],
   "source": [
    "\n",
    "history_final=model.fit(x=x_all, y=y_all, batch_size=n_batch_size, epochs=best_epoch,shuffle=False)"
   ]
  },
  {
   "cell_type": "code",
   "execution_count": null,
   "metadata": {},
   "outputs": [],
   "source": [
    "# Plot training & validation loss values\n",
    "fig, ax = plt.subplots(figsize=(10, 5), sharex=True)\n",
    "plt.plot(history_final.history[\"loss\"])\n",
    "plt.title(\"Model loss\")\n",
    "plt.ylabel(\"Loss\")\n",
    "plt.xlabel(\"Epoch\")\n",
    "ax.xaxis.set_major_locator(plt.MaxNLocator(n_epochs))\n",
    "plt.legend([\"All Data\"], loc=\"upper left\")\n",
    "plt.grid()\n",
    "plt.show()"
   ]
  },
  {
   "cell_type": "code",
   "execution_count": null,
   "metadata": {},
   "outputs": [],
   "source": []
  },
  {
   "cell_type": "code",
   "execution_count": null,
   "metadata": {},
   "outputs": [],
   "source": [
    "# Save Model and it Scaler"
   ]
  },
  {
   "cell_type": "code",
   "execution_count": null,
   "metadata": {},
   "outputs": [],
   "source": []
  },
  {
   "cell_type": "code",
   "execution_count": null,
   "metadata": {},
   "outputs": [],
   "source": []
  },
  {
   "cell_type": "code",
   "execution_count": null,
   "metadata": {},
   "outputs": [],
   "source": []
  },
  {
   "cell_type": "code",
   "execution_count": 91,
   "metadata": {},
   "outputs": [
    {
     "name": "stdout",
     "output_type": "stream",
     "text": [
      "Save model and scaler\n"
     ]
    },
    {
     "data": {
      "text/plain": [
       "['models/scaler_pred_EMA1_60To10_SP500-SPY-Y2012-2022.gz']"
      ]
     },
     "execution_count": 91,
     "metadata": {},
     "output_type": "execute_result"
    }
   ],
   "source": [
    "print(\"Save model and scaler\")\n",
    "modelName=f\"{tune_folder}-{period_str}\"\n",
    "#modelName='test2022-20for10'\n",
    "file_model=f'{model_path}/{modelName}.h5'\n",
    "file_scaler=f'{model_path}/scaler_{modelName}.gz'\n",
    "file_scaler_pred=f'{model_path}/scaler_pred_{modelName}.gz'\n",
    "\n",
    "model.save(file_model)\n",
    "# joblib.dump(scaler_train,file_scaler)\n",
    "# joblib.dump(file_scaler_pred,file_scaler_pred)\n",
    "\n",
    "joblib.dump(scalerFinalTrain,file_scaler)\n",
    "joblib.dump(scalerFinalPred ,file_scaler_pred)"
   ]
  },
  {
   "cell_type": "code",
   "execution_count": null,
   "metadata": {},
   "outputs": [],
   "source": []
  },
  {
   "cell_type": "code",
   "execution_count": null,
   "metadata": {},
   "outputs": [],
   "source": []
  }
 ],
 "metadata": {
  "kernelspec": {
   "display_name": "Python 3 (ipykernel)",
   "language": "python",
   "name": "python3"
  },
  "language_info": {
   "codemirror_mode": {
    "name": "ipython",
    "version": 3
   },
   "file_extension": ".py",
   "mimetype": "text/x-python",
   "name": "python",
   "nbconvert_exporter": "python",
   "pygments_lexer": "ipython3",
   "version": "3.9.16"
  },
  "vscode": {
   "interpreter": {
    "hash": "cdb995469269d53d5ebc14eb4bb889bd554e0493b704e0e84f3a885021cdd43e"
   }
  }
 },
 "nbformat": 4,
 "nbformat_minor": 4
}
