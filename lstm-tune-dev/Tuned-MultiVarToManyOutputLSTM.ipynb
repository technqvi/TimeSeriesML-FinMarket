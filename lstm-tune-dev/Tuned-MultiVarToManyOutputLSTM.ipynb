{
 "cells": [
  {
   "cell_type": "code",
   "execution_count": 92,
   "metadata": {},
   "outputs": [],
   "source": [
    "#https://www.relataly.com/stock-price-prediction-multi-output-regression-using-neural-networks-in-python/5800/\n",
    "\n",
    "#https://github.com/flo7up/relataly-public-python-tutorials/blob/master/006%20Time%20Series%20Forecasting%20-%20Multi-Output%20Regression.ipynb"
   ]
  },
  {
   "cell_type": "markdown",
   "metadata": {},
   "source": [
    "# Step #1 Load the Data"
   ]
  },
  {
   "cell_type": "code",
   "execution_count": 93,
   "metadata": {},
   "outputs": [],
   "source": [
    "# Time Series Forecasting - Multi-output Regression for Stock Market Prediction\n",
    "# A tutorial for this file is available at www.relataly.com\n",
    "\n",
    "import math # Mathematical functions \n",
    "import numpy as np # Fundamental package for scientific computing with Python\n",
    "import pandas as pd # Additional functions for analysing and manipulating data\n",
    "from datetime import date, timedelta, datetime # Date Functions\n",
    "import time\n",
    "from pandas.plotting import register_matplotlib_converters # This function adds plotting functions for calender dates\n",
    "import matplotlib.pyplot as plt # Important package for visualization - we use this to plot the market data\n",
    "import matplotlib.dates as mdates # Formatting dates\n",
    "\n",
    "from sklearn.metrics import mean_absolute_error, mean_squared_error # Packages for measuring model performance / errors\n",
    "from sklearn.preprocessing import RobustScaler, MinMaxScaler # This Scaler removes the median and scales the data according to the quantile range to normalize the price data\n",
    "\n",
    "import tensorflow as tf\n",
    "from tensorflow.keras.models import Sequential # Deep learning library, used for neural networks\n",
    "from tensorflow.keras.layers import LSTM, Dense, Dropout # Deep learning classes for recurrent and regular densely-connected layers\n",
    "from tensorflow.keras.callbacks import EarlyStopping # EarlyStopping during model training\n",
    "from tensorflow.keras import backend\n",
    "\n",
    "\n",
    "import keras_tuner as kt\n",
    "from keras_tuner.engine.hyperparameters import HyperParameters\n",
    " \n",
    "# from keras.models import Sequential\n",
    "# from keras.layers import Dense\n",
    "# from keras.layers import LSTM\n",
    "# from keras.callbacks import EarlyStopping\n",
    "# from keras.layers import Flatten,Dropout    \n",
    "    \n",
    "import seaborn as sns\n",
    "\n",
    "from tensorflow.keras.models import load_model\n",
    "import joblib\n",
    "\n",
    "# print(\"check the tensorflow version and the number of available GPUs\")\n",
    "# print('Tensorflow Version: ' + tf.__version__)\n",
    "# physical_devices = tf.config.list_physical_devices('GPU')\n",
    "# print(\"Num GPUs:\", len(physical_devices))\n",
    "\n"
   ]
  },
  {
   "cell_type": "code",
   "execution_count": 94,
   "metadata": {},
   "outputs": [
    {
     "name": "stdout",
     "output_type": "stream",
     "text": [
      "SIGNAL_60To10_SP500-SPY_E150S15\n"
     ]
    }
   ],
   "source": [
    "# ab_path = \"../data/SET50-Daily-Y09-Now.csv\"\n",
    "# asset_name='SET50'\n",
    "\n",
    "ab_path = \"../data/SPY-Daily-Y09-Now.csv\"\n",
    "asset_name='SP500-SPY'\n",
    "\n",
    "start_date='2015-01-01'\n",
    "end_date='2022-12-31'\n",
    "\n",
    "date_col='Date'\n",
    "prediction_col='SIGNAL'\n",
    "# feature_cols=['Price','EMA1','SIGNAL','RSI']\n",
    "feature_cols=['SIGNAL']\n",
    "\n",
    "main_obj_metric='mean_absolute_error'\n",
    "main_loss='mean_absolute_error'\n",
    "option_obj_metric='rmse'  # same name as funtion\n",
    "def rmse(y_true, y_pred):\n",
    " return backend.sqrt(backend.mean(backend.square(y_pred - y_true), axis=-1))\n",
    "\n",
    "split_way=2\n",
    "\n",
    "input_sequence_length =60 #60 #120\n",
    "output_sequence_length =10  # 10 #20\n",
    "train_ratio=0.8\n",
    "\n",
    "\n",
    "n_epochs =  150 #100/150/200/250\n",
    "n_batch_size = 32  # 32/48/64\n",
    "n_early=15   #  10/15/20\n",
    "\n",
    "\n",
    "model_path='models'\n",
    "\n",
    "period_str=f\"Y{start_date.split('-')[0]}-{end_date.split('-')[0]}\"\n",
    "tune_folder=f'{prediction_col}_{input_sequence_length}To{output_sequence_length}_{asset_name}_E{n_epochs}S{n_early}'\n",
    "\n",
    "seed=88\n",
    "\n",
    "#Tuning\n",
    "mx_step=4  #3 ,4\n",
    "mxMultipleStep=1\n",
    "nExecutions_per_trial=3  #3,4,5  averger re-run on 1 trail \n",
    "\n",
    "min_drop=0.0\n",
    "max_drop=0.2\n",
    "step_drop=0.1\n",
    "\n",
    "ratio_traial_max=1  #0.7/0.8\n",
    "print(tune_folder)\n",
    "\n"
   ]
  },
  {
   "cell_type": "code",
   "execution_count": 95,
   "metadata": {},
   "outputs": [
    {
     "name": "stdout",
     "output_type": "stream",
     "text": [
      "['Date', 'Price', 'EMA1', 'EMA2', 'EMA3', 'MACD', 'SIGNAL', 'RSI', 'RSI-MA']\n"
     ]
    }
   ],
   "source": [
    "df=pd.read_csv(f'{ab_path}',parse_dates=['Date/Time'],dayfirst=True)\n",
    "df.rename(columns={'Date/Time':date_col},inplace=True)\n",
    "df.drop(columns=['Ticker'],inplace=True)\n",
    "allCols=list(df.columns)\n",
    "print(allCols)"
   ]
  },
  {
   "cell_type": "code",
   "execution_count": 96,
   "metadata": {},
   "outputs": [
    {
     "name": "stdout",
     "output_type": "stream",
     "text": [
      "<class 'pandas.core.frame.DataFrame'>\n",
      "DatetimeIndex: 2014 entries, 2015-01-02 to 2022-12-30\n",
      "Data columns (total 1 columns):\n",
      " #   Column  Non-Null Count  Dtype  \n",
      "---  ------  --------------  -----  \n",
      " 0   SIGNAL  2014 non-null   float64\n",
      "dtypes: float64(1)\n",
      "memory usage: 31.5 KB\n",
      "None\n"
     ]
    },
    {
     "data": {
      "text/html": [
       "<div>\n",
       "<style scoped>\n",
       "    .dataframe tbody tr th:only-of-type {\n",
       "        vertical-align: middle;\n",
       "    }\n",
       "\n",
       "    .dataframe tbody tr th {\n",
       "        vertical-align: top;\n",
       "    }\n",
       "\n",
       "    .dataframe thead th {\n",
       "        text-align: right;\n",
       "    }\n",
       "</style>\n",
       "<table border=\"1\" class=\"dataframe\">\n",
       "  <thead>\n",
       "    <tr style=\"text-align: right;\">\n",
       "      <th></th>\n",
       "      <th>SIGNAL</th>\n",
       "    </tr>\n",
       "    <tr>\n",
       "      <th>Date</th>\n",
       "      <th></th>\n",
       "    </tr>\n",
       "  </thead>\n",
       "  <tbody>\n",
       "    <tr>\n",
       "      <th>2022-12-23</th>\n",
       "      <td>-0.07</td>\n",
       "    </tr>\n",
       "    <tr>\n",
       "      <th>2022-12-27</th>\n",
       "      <td>-0.47</td>\n",
       "    </tr>\n",
       "    <tr>\n",
       "      <th>2022-12-28</th>\n",
       "      <td>-0.88</td>\n",
       "    </tr>\n",
       "    <tr>\n",
       "      <th>2022-12-29</th>\n",
       "      <td>-1.20</td>\n",
       "    </tr>\n",
       "    <tr>\n",
       "      <th>2022-12-30</th>\n",
       "      <td>-1.46</td>\n",
       "    </tr>\n",
       "  </tbody>\n",
       "</table>\n",
       "</div>"
      ],
      "text/plain": [
       "            SIGNAL\n",
       "Date              \n",
       "2022-12-23   -0.07\n",
       "2022-12-27   -0.47\n",
       "2022-12-28   -0.88\n",
       "2022-12-29   -1.20\n",
       "2022-12-30   -1.46"
      ]
     },
     "execution_count": 96,
     "metadata": {},
     "output_type": "execute_result"
    }
   ],
   "source": [
    "df[date_col]=df[date_col].apply( lambda  dx :  datetime(dx.year,dx.month,dx.day ))\n",
    "df.set_index(date_col,inplace=True)\n",
    "df=df.loc[start_date:end_date,:]\n",
    "df=df[feature_cols]\n",
    "print(df.info())\n",
    "df.tail()"
   ]
  },
  {
   "cell_type": "markdown",
   "metadata": {},
   "source": [
    "# Step #2 Exploring the Data"
   ]
  },
  {
   "cell_type": "code",
   "execution_count": 97,
   "metadata": {},
   "outputs": [],
   "source": [
    "ncols = 1\n",
    "nrows = len(feature_cols)"
   ]
  },
  {
   "cell_type": "code",
   "execution_count": 98,
   "metadata": {},
   "outputs": [
    {
     "data": {
      "image/png": "[encoded data removed]",
      "text/plain": [
       "<Figure size 1500x1500 with 1 Axes>"
      ]
     },
     "metadata": {},
     "output_type": "display_data"
    }
   ],
   "source": [
    "fig, ax = plt.subplots(nrows=nrows, ncols=ncols, sharex=True, figsize=(15, 15))\n",
    "for i, ax in enumerate(fig.axes):\n",
    "        sns.lineplot(data = df.iloc[:, i], ax=ax)\n",
    "        ax.tick_params(axis=\"x\", rotation=30, labelsize=10, length=0)\n",
    "        ax.xaxis.set_major_locator(mdates.AutoDateLocator())\n",
    "        ax.title.set_text(df.columns[i])\n",
    "fig.tight_layout()\n",
    "plt.show()"
   ]
  },
  {
   "cell_type": "markdown",
   "metadata": {},
   "source": [
    "# Step #3 Preprocessing and Feature Selection"
   ]
  },
  {
   "cell_type": "code",
   "execution_count": 99,
   "metadata": {},
   "outputs": [
    {
     "data": {
      "text/plain": [
       "(2014, 1)"
      ]
     },
     "execution_count": 99,
     "metadata": {},
     "output_type": "execute_result"
    }
   ],
   "source": [
    "# Indexing Batches\n",
    "df_train = df.sort_values(by=[date_col]).copy()\n",
    "df_train.shape"
   ]
  },
  {
   "cell_type": "code",
   "execution_count": 100,
   "metadata": {},
   "outputs": [
    {
     "name": "stdout",
     "output_type": "stream",
     "text": [
      "FEATURE LIST To Predict SIGNAL\n",
      "['SIGNAL']\n",
      "Convert the data to numpy values\n",
      "(2014, 1)\n",
      "(2014, 1)\n",
      "Feature Data (2014, 1)\n",
      "[[0.59]\n",
      " [0.53]\n",
      " [0.42]]\n",
      "Prediction Data (2014, 1)\n",
      "[[0.59]\n",
      " [0.53]\n",
      " [0.42]]\n"
     ]
    }
   ],
   "source": [
    "def prepare_data(df):\n",
    "\n",
    "    # List of considered Features\n",
    "    FEATURES = feature_cols\n",
    "\n",
    "    print(f'FEATURE LIST To Predict {prediction_col}')\n",
    "    print([f for f in FEATURES])\n",
    "\n",
    "    #Create the dataset with features and filter the data to the list of FEATURES\"\n",
    "    df_filter = df[FEATURES]\n",
    "    \n",
    "    print(\"Convert the data to numpy values\")\n",
    "    np_filter_unscaled = np.array(df_filter)\n",
    "    np_filter_unscaled = np.reshape(np_filter_unscaled, (df_filter.shape[0], -1))\n",
    "    print(np_filter_unscaled.shape)\n",
    "    \n",
    "    np_c_unscaled = np.array(df[prediction_col]).reshape(-1, 1)\n",
    "    print(np_c_unscaled.shape)\n",
    "    \n",
    "    return np_filter_unscaled, np_c_unscaled\n",
    "\n",
    "np_filter_unscaled, np_c_unscaled = prepare_data(df_train)   \n",
    "\n",
    "\n",
    "print(\"Feature Data\",np_filter_unscaled.shape)\n",
    "print(np_filter_unscaled[:3])\n",
    "print(\"Prediction Data\",np_c_unscaled.shape)\n",
    "print(np_c_unscaled[:3])"
   ]
  },
  {
   "cell_type": "code",
   "execution_count": 101,
   "metadata": {},
   "outputs": [
    {
     "name": "stdout",
     "output_type": "stream",
     "text": [
      "60 = Set the input_sequence_length length - this is the timeframe used to make a multiple prediction\n",
      "10 = The output sequence length is the number of steps that the neural network predicts\n",
      "Prediction Index = 0\n",
      "0.8 = 1612 Split the training data into train and train data sets\n"
     ]
    }
   ],
   "source": [
    "print(f\"{input_sequence_length} = Set the input_sequence_length length - this is the timeframe used to make a multiple prediction\")\n",
    "print(f\"{output_sequence_length} = The output sequence length is the number of steps that the neural network predicts\")\n",
    "\n",
    "#How much ratio to split\n",
    "index_Close = df_train.columns.get_loc(prediction_col)\n",
    "print(f\"Prediction Index = {index_Close}\")\n",
    "\n",
    "# As a first step, we get the number of rows to train the model on 80% of the data \n",
    "train_data_length = math.ceil(np_filter_unscaled.shape[0] * train_ratio)\n",
    "print(f\"{train_ratio} = {train_data_length} Split the training data into train and train data sets\")"
   ]
  },
  {
   "cell_type": "code",
   "execution_count": 102,
   "metadata": {},
   "outputs": [
    {
     "name": "stdout",
     "output_type": "stream",
     "text": [
      "Creating a separate scaler that works on a single column for scaling predictions\n",
      "Scale each feature to a range between 0 and 1\n",
      "Create a separate scaler for a single column\n",
      "#Way#2 split data and apply  only train to scale\n",
      "Train Data to be scaled\n",
      "(1612, 1) (1612, 1)\n",
      "[[0.59]\n",
      " [0.53]\n",
      " [0.42]\n",
      " [0.3 ]\n",
      " [0.22]] [[0.59]\n",
      " [0.53]\n",
      " [0.42]\n",
      " [0.3 ]\n",
      " [0.22]]\n",
      "For predict test that take the past 60 train value to predict the first test value\n",
      "Predict val data(Scaled from Train data\n",
      "(1612, 1)\n",
      "[[0.74987739]\n",
      " [0.74693477]\n",
      " [0.74153997]]\n",
      "=========================================\n",
      "Scaled data completely\n",
      "train and test data\n",
      "(1612, 1) (462, 1)\n",
      "[[0.74987739]\n",
      " [0.74693477]\n",
      " [0.74153997]]\n",
      "[[0.7930358 ]\n",
      " [0.77979402]\n",
      " [0.7675331 ]]\n"
     ]
    }
   ],
   "source": [
    "print(\"Creating a separate scaler that works on a single column for scaling predictions\")\n",
    "print(\"Scale each feature to a range between 0 and 1\")\n",
    "scaler_train = MinMaxScaler()\n",
    "print(\"Create a separate scaler for a single column\")\n",
    "scaler_pred = MinMaxScaler()\n",
    "\n",
    "\n",
    "if split_way==1:\n",
    "    print(\"Way#1 scale entire data and split data\")   \n",
    "    \n",
    "    np_scaled = scaler_train.fit_transform(np_filter_unscaled)\n",
    "    np_scaled_c = scaler_pred.fit_transform(np_c_unscaled)\n",
    "    \n",
    "    print(\"All Data scaled for creating train and test data\")    \n",
    "    print(np_scaled.shape,np_scaled_c.shape)\n",
    "    print(np_scaled_c[:5],np_scaled_c[:5])\n",
    "    \n",
    "    # Create the training and test data\n",
    "    train_data =np_scaled[0:train_data_length, :]\n",
    "    test_data = np_scaled[train_data_length - input_sequence_length:, :]\n",
    "\n",
    "else:\n",
    "    print(\"#Way#2 split data and apply  only train to scale\")\n",
    "    \n",
    "    train_data = np_filter_unscaled[0:train_data_length, :]\n",
    "    test_data = np_filter_unscaled[train_data_length - input_sequence_length:, :]\n",
    "\n",
    "    np_PredictVal_unScaled=np_c_unscaled[0:train_data_length]\n",
    "    \n",
    "    print(\"Train Data to be scaled\") \n",
    "    print(train_data.shape,np_PredictVal_unScaled.shape)\n",
    "    print(train_data[:5],np_PredictVal_unScaled[:5])\n",
    "    \n",
    "    train_data=scaler_train.fit_transform(train_data)\n",
    "    test_data=scaler_train.transform(test_data)\n",
    "    \n",
    "    print(f\"For predict test that take the past {input_sequence_length} train value to predict the first test value\")\n",
    "    np_scaled=scaler_train.transform(np_filter_unscaled)\n",
    "    np_scaled_c = scaler_pred.fit_transform(np_PredictVal_unScaled)\n",
    "    \n",
    "    print(\"Predict val data(Scaled from Train data\")\n",
    "    print(np_scaled_c.shape)\n",
    "    print(np_scaled_c[:3])\n",
    "print(\"=========================================\")       \n",
    "print(\"Scaled data completely\")\n",
    "print(\"train and test data\")\n",
    "print(train_data.shape,test_data.shape)\n",
    "print(train_data[:3])\n",
    "print(test_data[:3])\n",
    "\n"
   ]
  },
  {
   "cell_type": "code",
   "execution_count": 103,
   "metadata": {},
   "outputs": [
    {
     "name": "stdout",
     "output_type": "stream",
     "text": [
      "The RNN needs data with the format of [samples, time steps, features]\n"
     ]
    }
   ],
   "source": [
    "print(\"The RNN needs data with the format of [samples, time steps, features]\")\n",
    "def partition_dataset(input_sequence_length, output_sequence_length, data):\n",
    "    x, y = [], []\n",
    "    data_len = data.shape[0]\n",
    "    for i in range(input_sequence_length, data_len - output_sequence_length):\n",
    "        x.append(data[i-input_sequence_length:i,:]) #contains input_sequence_length values 0-input_sequence_length * columns\n",
    "        y.append(data[i:i + output_sequence_length, index_Close]) #contains the prediction values for validation ,  for single-step prediction\n",
    "    \n",
    "    # Convert the x and y to numpy arrays\n",
    "    x = np.array(x)\n",
    "    y = np.array(y)\n",
    "    return x, y"
   ]
  },
  {
   "cell_type": "code",
   "execution_count": 104,
   "metadata": {},
   "outputs": [
    {
     "name": "stdout",
     "output_type": "stream",
     "text": [
      "Here, we create 1612 samples, input_sequence_length time steps per sample, and f features\n",
      "Generate training data and test data\n",
      "The shapes: the result is: (rows, training_sequence, features) (prediction value, )\n",
      "(1542, 60, 1) (1542, 10)\n",
      "(392, 60, 1) (392, 10)\n"
     ]
    }
   ],
   "source": [
    "print(f\"Here, we create {len(train_data)} samples, input_sequence_length time steps per sample, and f features\")\n",
    "\n",
    "print(\"Generate training data and test data\")\n",
    "x_train, y_train = partition_dataset(input_sequence_length, output_sequence_length, train_data)\n",
    "x_test, y_test = partition_dataset(input_sequence_length, output_sequence_length, test_data)\n",
    "\n",
    "print(\"The shapes: the result is: (rows, training_sequence, features) (prediction value, )\")\n",
    "print(x_train.shape, y_train.shape)\n",
    "print(x_test.shape, y_test.shape)\n",
    "\n"
   ]
  },
  {
   "cell_type": "markdown",
   "metadata": {},
   "source": [
    "# Step #4 Model Training"
   ]
  },
  {
   "cell_type": "markdown",
   "metadata": {},
   "source": [
    "# Paramterter Network"
   ]
  },
  {
   "cell_type": "code",
   "execution_count": 105,
   "metadata": {},
   "outputs": [
    {
     "name": "stdout",
     "output_type": "stream",
     "text": [
      "Train Row : 1542 to predict future 10\n",
      "Total NN : 60= 60(backward step) x 1 (features) with step up 60 until 240\n",
      "[60, 120, 180, 240] and [0.  0.1 0.2]\n",
      "all combination : 4 x 3 = 12\n",
      "MAx run : 12 each trail run to essemble  3\n"
     ]
    }
   ],
   "source": [
    "# Configure the neural network model\n",
    "# tf.random.set_seed(7)\n",
    "\n",
    "model = Sequential()\n",
    "n_output_neurons = output_sequence_length\n",
    "  \n",
    "inputshape_Timestamps= x_train.shape[1]\n",
    "no_feature=x_train.shape[2]\n",
    "#x_train.shape[1] * x_train.shape[2]\n",
    "neuron_number =inputshape_Timestamps * no_feature\n",
    "\n",
    "\n",
    "step_neuron=int(neuron_number)\n",
    "max_neuron=int(step_neuron*mx_step)\n",
    "print(f\"Train Row : {x_train.shape[0]} to predict future {n_output_neurons}\")\n",
    "print(f\"Total NN : {neuron_number}= {inputshape_Timestamps}(backward step) x {no_feature} (features) with step up {step_neuron} until {max_neuron}\")\n",
    "    \n",
    "\n",
    "\n",
    "neuron_list = [*range(neuron_number, max_neuron+step_neuron, step_neuron)]\n",
    "\n",
    "drop_list=np.arange (min_drop, max_drop ,step_drop)\n",
    "drop_list=np.append(drop_list,[max_drop])\n",
    "\n",
    "allPosComb=len(neuron_list)*len(drop_list)\n",
    "print(f\"{neuron_list} and {drop_list}\")\n",
    "print(f\"all combination : {len(neuron_list)} x {len(drop_list)} = {allPosComb}\")\n",
    "\n",
    "nMax_trials=int(allPosComb*ratio_traial_max)\n",
    "nMax_trials=nMax_trials*mxMultipleStep\n",
    "if nMax_trials<10:\n",
    "    nMax_trials=10\n",
    "\n",
    "\n",
    "print(\"MAx run :\" ,nMax_trials , \"each trail run to essemble \",nExecutions_per_trial)"
   ]
  },
  {
   "cell_type": "markdown",
   "metadata": {},
   "source": [
    "# NetWork Architeture Model Design"
   ]
  },
  {
   "cell_type": "code",
   "execution_count": 106,
   "metadata": {},
   "outputs": [],
   "source": [
    "# Way one layer\n",
    "def build_model_way(hp):\n",
    "    \n",
    "    model = Sequential()\n",
    "\n",
    "    model.add(LSTM( hp.Int('input_unit',min_value=neuron_number ,max_value=max_neuron,step=step_neuron) \\\n",
    "                   , return_sequences=False, input_shape=(inputshape_Timestamps,no_feature)))\n",
    "    \n",
    "    model.add(Dropout(hp.Float('Dropout_rate',min_value=min_drop,max_value=max_drop,step=step_drop))) \n",
    "    \n",
    "    model.add(Dense(n_output_neurons))\n",
    "\n",
    "    model.compile(optimizer=\"adam\", loss=main_loss, metrics=[main_obj_metric,rmse])\n",
    "    return model"
   ]
  },
  {
   "cell_type": "code",
   "execution_count": 107,
   "metadata": {},
   "outputs": [
    {
     "name": "stdout",
     "output_type": "stream",
     "text": [
      "SIGNAL_60To10_SP500-SPY_E150S15_250123_1458\n",
      "Start tund at 2023-01-25 14:58:35.325998\n"
     ]
    }
   ],
   "source": [
    "buildtime = datetime.now().strftime('%d%m%y_%H%M')\n",
    "project_model=f\"{tune_folder}_{buildtime}\"\n",
    "print(project_model)\n",
    "\n",
    "\n",
    "t_Start=time.time()\n",
    "\n",
    "print(f\"Start tund at {datetime.now()}\")"
   ]
  },
  {
   "cell_type": "code",
   "execution_count": null,
   "metadata": {},
   "outputs": [
    {
     "name": "stdout",
     "output_type": "stream",
     "text": [
      "\n",
      "Search: Running Trial #1\n",
      "\n",
      "Value             |Best Value So Far |Hyperparameter\n",
      "120               |?                 |input_unit\n",
      "0                 |?                 |Dropout_rate\n",
      "\n",
      "Epoch 1/150\n",
      "49/49 [==============================] - 10s 164ms/step - loss: 0.1775 - mean_absolute_error: 0.1775 - rmse: 0.1923 - val_loss: 0.1138 - val_mean_absolute_error: 0.1138 - val_rmse: 0.1223\n",
      "Epoch 2/150\n",
      "49/49 [==============================] - 7s 146ms/step - loss: 0.0590 - mean_absolute_error: 0.0590 - rmse: 0.0644 - val_loss: 0.1108 - val_mean_absolute_error: 0.1108 - val_rmse: 0.1173\n",
      "Epoch 3/150\n",
      "49/49 [==============================] - 7s 147ms/step - loss: 0.0555 - mean_absolute_error: 0.0555 - rmse: 0.0598 - val_loss: 0.1089 - val_mean_absolute_error: 0.1089 - val_rmse: 0.1154\n",
      "Epoch 4/150\n",
      "49/49 [==============================] - 7s 147ms/step - loss: 0.0559 - mean_absolute_error: 0.0559 - rmse: 0.0599 - val_loss: 0.1090 - val_mean_absolute_error: 0.1090 - val_rmse: 0.1158\n",
      "Epoch 5/150\n",
      "49/49 [==============================] - 7s 146ms/step - loss: 0.0665 - mean_absolute_error: 0.0665 - rmse: 0.0718 - val_loss: 0.1108 - val_mean_absolute_error: 0.1108 - val_rmse: 0.1180\n",
      "Epoch 6/150\n",
      "49/49 [==============================] - 7s 147ms/step - loss: 0.0564 - mean_absolute_error: 0.0564 - rmse: 0.0618 - val_loss: 0.1109 - val_mean_absolute_error: 0.1109 - val_rmse: 0.1192\n",
      "Epoch 7/150\n",
      "49/49 [==============================] - 7s 148ms/step - loss: 0.0593 - mean_absolute_error: 0.0593 - rmse: 0.0646 - val_loss: 0.1152 - val_mean_absolute_error: 0.1152 - val_rmse: 0.1211\n",
      "Epoch 8/150\n",
      "49/49 [==============================] - 7s 146ms/step - loss: 0.0678 - mean_absolute_error: 0.0678 - rmse: 0.0714 - val_loss: 0.1193 - val_mean_absolute_error: 0.1193 - val_rmse: 0.1261\n",
      "Epoch 9/150\n",
      "49/49 [==============================] - 7s 146ms/step - loss: 0.0664 - mean_absolute_error: 0.0664 - rmse: 0.0713 - val_loss: 0.1242 - val_mean_absolute_error: 0.1242 - val_rmse: 0.1306\n",
      "Epoch 10/150\n",
      "49/49 [==============================] - 7s 146ms/step - loss: 0.0677 - mean_absolute_error: 0.0677 - rmse: 0.0722 - val_loss: 0.1335 - val_mean_absolute_error: 0.1335 - val_rmse: 0.1397\n",
      "Epoch 11/150\n",
      "49/49 [==============================] - 7s 147ms/step - loss: 0.0657 - mean_absolute_error: 0.0657 - rmse: 0.0695 - val_loss: 0.1349 - val_mean_absolute_error: 0.1349 - val_rmse: 0.1403\n",
      "Epoch 12/150\n",
      "49/49 [==============================] - 7s 147ms/step - loss: 0.0634 - mean_absolute_error: 0.0634 - rmse: 0.0667 - val_loss: 0.1354 - val_mean_absolute_error: 0.1354 - val_rmse: 0.1406\n",
      "Epoch 13/150\n",
      "49/49 [==============================] - 7s 147ms/step - loss: 0.0622 - mean_absolute_error: 0.0622 - rmse: 0.0655 - val_loss: 0.1323 - val_mean_absolute_error: 0.1323 - val_rmse: 0.1378\n",
      "Epoch 14/150\n",
      "49/49 [==============================] - 7s 147ms/step - loss: 0.0617 - mean_absolute_error: 0.0617 - rmse: 0.0655 - val_loss: 0.1335 - val_mean_absolute_error: 0.1335 - val_rmse: 0.1390\n",
      "Epoch 15/150\n",
      "49/49 [==============================] - 7s 148ms/step - loss: 0.0605 - mean_absolute_error: 0.0605 - rmse: 0.0647 - val_loss: 0.1257 - val_mean_absolute_error: 0.1257 - val_rmse: 0.1323\n",
      "Epoch 16/150\n",
      "49/49 [==============================] - 7s 144ms/step - loss: 0.0624 - mean_absolute_error: 0.0624 - rmse: 0.0682 - val_loss: 0.1342 - val_mean_absolute_error: 0.1342 - val_rmse: 0.1400\n",
      "Epoch 17/150\n",
      "49/49 [==============================] - 7s 147ms/step - loss: 0.0611 - mean_absolute_error: 0.0611 - rmse: 0.0655 - val_loss: 0.1321 - val_mean_absolute_error: 0.1321 - val_rmse: 0.1376\n",
      "Epoch 18/150\n",
      "49/49 [==============================] - 7s 147ms/step - loss: 0.0602 - mean_absolute_error: 0.0602 - rmse: 0.0644 - val_loss: 0.1312 - val_mean_absolute_error: 0.1312 - val_rmse: 0.1368\n",
      "Epoch 18: early stopping\n",
      "Epoch 1/150\n",
      "49/49 [==============================] - 10s 158ms/step - loss: 0.1628 - mean_absolute_error: 0.1628 - rmse: 0.1764 - val_loss: 0.1126 - val_mean_absolute_error: 0.1126 - val_rmse: 0.1207\n",
      "Epoch 2/150\n",
      "49/49 [==============================] - 7s 148ms/step - loss: 0.0561 - mean_absolute_error: 0.0561 - rmse: 0.0608 - val_loss: 0.1105 - val_mean_absolute_error: 0.1105 - val_rmse: 0.1177\n",
      "Epoch 3/150\n",
      "49/49 [==============================] - 7s 146ms/step - loss: 0.0648 - mean_absolute_error: 0.0648 - rmse: 0.0689 - val_loss: 0.1125 - val_mean_absolute_error: 0.1125 - val_rmse: 0.1195\n",
      "Epoch 4/150\n",
      "49/49 [==============================] - 7s 146ms/step - loss: 0.0577 - mean_absolute_error: 0.0577 - rmse: 0.0626 - val_loss: 0.1122 - val_mean_absolute_error: 0.1122 - val_rmse: 0.1193\n",
      "Epoch 5/150\n",
      "49/49 [==============================] - 7s 145ms/step - loss: 0.0590 - mean_absolute_error: 0.0590 - rmse: 0.0637 - val_loss: 0.1165 - val_mean_absolute_error: 0.1165 - val_rmse: 0.1227\n",
      "Epoch 6/150\n",
      "49/49 [==============================] - 7s 145ms/step - loss: 0.0690 - mean_absolute_error: 0.0690 - rmse: 0.0731 - val_loss: 0.1245 - val_mean_absolute_error: 0.1245 - val_rmse: 0.1315\n",
      "Epoch 7/150\n",
      "49/49 [==============================] - 7s 146ms/step - loss: 0.0707 - mean_absolute_error: 0.0707 - rmse: 0.0757 - val_loss: 0.1303 - val_mean_absolute_error: 0.1303 - val_rmse: 0.1370\n",
      "Epoch 8/150\n",
      "49/49 [==============================] - 7s 146ms/step - loss: 0.0678 - mean_absolute_error: 0.0678 - rmse: 0.0728 - val_loss: 0.1373 - val_mean_absolute_error: 0.1373 - val_rmse: 0.1438\n",
      "Epoch 9/150\n",
      "49/49 [==============================] - 7s 145ms/step - loss: 0.0676 - mean_absolute_error: 0.0676 - rmse: 0.0731 - val_loss: 0.1388 - val_mean_absolute_error: 0.1388 - val_rmse: 0.1445\n",
      "Epoch 10/150\n",
      "49/49 [==============================] - 7s 145ms/step - loss: 0.0646 - mean_absolute_error: 0.0646 - rmse: 0.0686 - val_loss: 0.1361 - val_mean_absolute_error: 0.1361 - val_rmse: 0.1417\n",
      "Epoch 11/150\n",
      "49/49 [==============================] - 7s 147ms/step - loss: 0.0634 - mean_absolute_error: 0.0634 - rmse: 0.0672 - val_loss: 0.1353 - val_mean_absolute_error: 0.1353 - val_rmse: 0.1409\n",
      "Epoch 12/150\n",
      "49/49 [==============================] - 7s 147ms/step - loss: 0.0626 - mean_absolute_error: 0.0626 - rmse: 0.0664 - val_loss: 0.1342 - val_mean_absolute_error: 0.1342 - val_rmse: 0.1401\n",
      "Epoch 13/150\n",
      "49/49 [==============================] - 7s 146ms/step - loss: 0.0621 - mean_absolute_error: 0.0621 - rmse: 0.0665 - val_loss: 0.1339 - val_mean_absolute_error: 0.1339 - val_rmse: 0.1401\n",
      "Epoch 14/150\n",
      "49/49 [==============================] - 7s 148ms/step - loss: 0.0625 - mean_absolute_error: 0.0625 - rmse: 0.0677 - val_loss: 0.1323 - val_mean_absolute_error: 0.1323 - val_rmse: 0.1380\n",
      "Epoch 15/150\n",
      "49/49 [==============================] - 7s 146ms/step - loss: 0.0610 - mean_absolute_error: 0.0610 - rmse: 0.0652 - val_loss: 0.1326 - val_mean_absolute_error: 0.1326 - val_rmse: 0.1380\n",
      "Epoch 16/150\n",
      "49/49 [==============================] - 7s 146ms/step - loss: 0.0587 - mean_absolute_error: 0.0587 - rmse: 0.0619 - val_loss: 0.1278 - val_mean_absolute_error: 0.1278 - val_rmse: 0.1335\n",
      "Epoch 17/150\n",
      "49/49 [==============================] - 7s 143ms/step - loss: 0.0596 - mean_absolute_error: 0.0596 - rmse: 0.0641 - val_loss: 0.1313 - val_mean_absolute_error: 0.1313 - val_rmse: 0.1366\n",
      "Epoch 17: early stopping\n",
      "Epoch 1/150\n",
      "49/49 [==============================] - 10s 153ms/step - loss: 0.1662 - mean_absolute_error: 0.1662 - rmse: 0.1763 - val_loss: 0.1181 - val_mean_absolute_error: 0.1181 - val_rmse: 0.1250\n",
      "Epoch 2/150\n",
      "49/49 [==============================] - 7s 144ms/step - loss: 0.0651 - mean_absolute_error: 0.0651 - rmse: 0.0717 - val_loss: 0.1202 - val_mean_absolute_error: 0.1202 - val_rmse: 0.1275\n",
      "Epoch 3/150\n",
      "49/49 [==============================] - 7s 140ms/step - loss: 0.0656 - mean_absolute_error: 0.0656 - rmse: 0.0705 - val_loss: 0.1272 - val_mean_absolute_error: 0.1272 - val_rmse: 0.1353\n",
      "Epoch 4/150\n",
      "49/49 [==============================] - 7s 144ms/step - loss: 0.0734 - mean_absolute_error: 0.0734 - rmse: 0.0798 - val_loss: 0.1381 - val_mean_absolute_error: 0.1381 - val_rmse: 0.1446\n",
      "Epoch 5/150\n",
      "49/49 [==============================] - 7s 142ms/step - loss: 0.0745 - mean_absolute_error: 0.0745 - rmse: 0.0788 - val_loss: 0.1442 - val_mean_absolute_error: 0.1442 - val_rmse: 0.1505\n",
      "Epoch 6/150\n",
      "49/49 [==============================] - 7s 143ms/step - loss: 0.0736 - mean_absolute_error: 0.0736 - rmse: 0.0783 - val_loss: 0.1500 - val_mean_absolute_error: 0.1500 - val_rmse: 0.1568\n",
      "Epoch 7/150\n",
      "49/49 [==============================] - 7s 142ms/step - loss: 0.0725 - mean_absolute_error: 0.0725 - rmse: 0.0772 - val_loss: 0.1546 - val_mean_absolute_error: 0.1546 - val_rmse: 0.1601\n",
      "Epoch 8/150\n",
      "49/49 [==============================] - 7s 142ms/step - loss: 0.0699 - mean_absolute_error: 0.0699 - rmse: 0.0735 - val_loss: 0.1529 - val_mean_absolute_error: 0.1529 - val_rmse: 0.1584\n",
      "Epoch 9/150\n",
      "49/49 [==============================] - 7s 146ms/step - loss: 0.0680 - mean_absolute_error: 0.0680 - rmse: 0.0715 - val_loss: 0.1517 - val_mean_absolute_error: 0.1517 - val_rmse: 0.1568\n",
      "Epoch 10/150\n",
      "49/49 [==============================] - 7s 143ms/step - loss: 0.0670 - mean_absolute_error: 0.0670 - rmse: 0.0703 - val_loss: 0.1507 - val_mean_absolute_error: 0.1507 - val_rmse: 0.1558\n",
      "Epoch 11/150\n",
      "49/49 [==============================] - 7s 144ms/step - loss: 0.0665 - mean_absolute_error: 0.0665 - rmse: 0.0701 - val_loss: 0.1510 - val_mean_absolute_error: 0.1510 - val_rmse: 0.1563\n",
      "Epoch 12/150\n",
      "49/49 [==============================] - 7s 143ms/step - loss: 0.0674 - mean_absolute_error: 0.0674 - rmse: 0.0717 - val_loss: 0.1507 - val_mean_absolute_error: 0.1507 - val_rmse: 0.1558\n",
      "Epoch 13/150\n",
      "49/49 [==============================] - 7s 148ms/step - loss: 0.0675 - mean_absolute_error: 0.0675 - rmse: 0.0722 - val_loss: 0.1498 - val_mean_absolute_error: 0.1498 - val_rmse: 0.1552\n",
      "Epoch 14/150\n",
      "41/49 [========================>.....] - ETA: 1s - loss: 0.0702 - mean_absolute_error: 0.0702 - rmse: 0.0760"
     ]
    }
   ],
   "source": [
    "early_stop = EarlyStopping(monitor='loss', patience=n_early, verbose=1)\n",
    "\n",
    "tuner = kt.BayesianOptimization(\n",
    "# tuner = kt.Hyperband(\n",
    "# tuner= kt.RandomSearch(\n",
    "        build_model_way,\n",
    "        objective=main_obj_metric,\n",
    "        max_trials=nMax_trials,\n",
    "        seed=seed,\n",
    "        executions_per_trial=nExecutions_per_trial,\n",
    "        directory=f\"tuning/{tune_folder}/\",\n",
    "        project_name= project_model\n",
    "   \n",
    "        )\n",
    "tuner.search(x_train, y_train, batch_size=n_batch_size, epochs=n_epochs,\n",
    "                        validation_data=(x_test, y_test),\n",
    "                        shuffle=False,verbose=1,callbacks=[early_stop])\n",
    "\n"
   ]
  },
  {
   "cell_type": "code",
   "execution_count": null,
   "metadata": {},
   "outputs": [],
   "source": [
    "print(\"Space to search\")\n",
    "tuner.search_space_summary()\n",
    "print(f\"Suumary of {nMax_trials}\")\n",
    "tuner.results_summary()"
   ]
  },
  {
   "cell_type": "code",
   "execution_count": null,
   "metadata": {},
   "outputs": [],
   "source": [
    "t_End=time.time()\n",
    "t_elapsed=(t_End-t_Start)/60/60\n",
    "print('Total execution : ',round(t_elapsed,2)) \n",
    "print(datetime.now())"
   ]
  },
  {
   "cell_type": "code",
   "execution_count": null,
   "metadata": {},
   "outputs": [],
   "source": [
    "best_hps=tuner.get_best_hyperparameters(num_trials=1)[0]\n",
    "model=tuner.get_best_models(num_models=1)[0]\n",
    "\n",
    "print(best_hps.values)\n",
    "\n",
    "model.summary()"
   ]
  },
  {
   "cell_type": "code",
   "execution_count": null,
   "metadata": {},
   "outputs": [],
   "source": [
    "print(\"build model from  the best tuning\")\n",
    "model = tuner.hypermodel.build(best_hps)\n",
    "print(model.summary())"
   ]
  },
  {
   "cell_type": "code",
   "execution_count": null,
   "metadata": {},
   "outputs": [],
   "source": []
  },
  {
   "cell_type": "code",
   "execution_count": null,
   "metadata": {},
   "outputs": [],
   "source": []
  },
  {
   "cell_type": "code",
   "execution_count": null,
   "metadata": {},
   "outputs": [],
   "source": []
  },
  {
   "cell_type": "code",
   "execution_count": null,
   "metadata": {},
   "outputs": [],
   "source": []
  },
  {
   "cell_type": "markdown",
   "metadata": {},
   "source": [
    "# Training the TUNED Model "
   ]
  },
  {
   "cell_type": "code",
   "execution_count": null,
   "metadata": {},
   "outputs": [],
   "source": [
    "print(f\"Training the Best Model\")\n",
    "t_Start=time.time()\n",
    "print(datetime.now())\n",
    "\n",
    "if n_early==0:\n",
    "\n",
    " history = model.fit(x_train, y_train, \n",
    "                batch_size=n_batch_size,\n",
    "                epochs=n_epochs,\n",
    "                shuffle=False,\n",
    "                validation_data=(x_test, y_test),\n",
    "                verbose=2\n",
    "               )\n",
    "else:\n",
    "    early_stop = EarlyStopping(monitor='loss', patience=n_early, verbose=1)\n",
    "                    \n",
    "    history = model.fit(x_train, y_train, \n",
    "                    batch_size=n_batch_size, \n",
    "                    epochs=n_epochs,\n",
    "                    shuffle=False,\n",
    "                    validation_data=(x_test, y_test),\n",
    "                    verbose=2,callbacks=[early_stop]\n",
    "                   )\n",
    "        \n",
    "t_End=time.time()\n",
    "t_elapsed=(t_End-t_Start)/60/60\n",
    "print('Total execute making report : ',round(t_elapsed,2)) \n",
    "print(datetime.now())"
   ]
  },
  {
   "cell_type": "code",
   "execution_count": null,
   "metadata": {},
   "outputs": [],
   "source": [
    "val_per_epoch = history.history[main_obj_metric]\n",
    "#best_epoch = val_per_epoch.index(max(val_per_epoch)) + 1\n",
    "best_epoch = len(val_per_epoch) + 1\n",
    "print('Best epoch: %d' % (best_epoch,))"
   ]
  },
  {
   "cell_type": "code",
   "execution_count": null,
   "metadata": {},
   "outputs": [],
   "source": [
    "print(\"List Metrics\")\n",
    "for key in history.history.keys():\n",
    "    print(key)\n",
    "print(\"=====================================================\")    \n",
    "# Evaluate the model on the test data using `evaluate`\n",
    "#https://www.tensorflow.org/guide/keras/train_and_evaluate\n",
    "print(\"Evaluate on test data\")\n",
    "results = model.evaluate(x_test, y_test, batch_size=n_batch_size)\n",
    "print(\"test loss, test acc:\", results)"
   ]
  },
  {
   "cell_type": "code",
   "execution_count": null,
   "metadata": {},
   "outputs": [],
   "source": [
    "# Plot training & validation loss values\n",
    "fig, ax = plt.subplots(figsize=(10, 5), sharex=True)\n",
    "plt.plot(history.history[\"loss\"])\n",
    "plt.title(f\"Tradin Data Model loss with {main_loss}\")\n",
    "plt.ylabel(\"Loss\")\n",
    "plt.xlabel(\"Epoch\")\n",
    "ax.xaxis.set_major_locator(plt.MaxNLocator(n_epochs))\n",
    "plt.legend([\"Train\"], loc=\"upper left\")\n",
    "plt.grid()\n",
    "plt.show()"
   ]
  },
  {
   "cell_type": "code",
   "execution_count": null,
   "metadata": {},
   "outputs": [],
   "source": [
    "plt.title(main_obj_metric)\n",
    "plt.plot(history.history[main_obj_metric], label='train')\n",
    "plt.plot(history.history[f'val_{main_obj_metric}'], label='test')\n",
    "plt.legend()\n",
    "plt.show()"
   ]
  },
  {
   "cell_type": "code",
   "execution_count": null,
   "metadata": {},
   "outputs": [],
   "source": [
    "plt.title(option_obj_metric)\n",
    "plt.plot(history.history[main_obj_metric], label='train')\n",
    "plt.plot(history.history[f'val_{option_obj_metric}'], label='test')\n",
    "plt.legend()\n",
    "plt.show()"
   ]
  },
  {
   "cell_type": "code",
   "execution_count": null,
   "metadata": {},
   "outputs": [],
   "source": [
    "plt.title(f\"Train/Test Loss - {main_loss}\")\n",
    "plt.plot(history.history['loss'], label='train')\n",
    "plt.plot(history.history['val_loss'], label='test')\n",
    "plt.legend()\n",
    "plt.show()"
   ]
  },
  {
   "cell_type": "code",
   "execution_count": null,
   "metadata": {},
   "outputs": [],
   "source": []
  },
  {
   "cell_type": "code",
   "execution_count": null,
   "metadata": {},
   "outputs": [],
   "source": []
  },
  {
   "cell_type": "code",
   "execution_count": null,
   "metadata": {},
   "outputs": [],
   "source": [
    "# import shap\n",
    "\n",
    "# # we use the first 100 training examples as our background dataset to integrate over\n",
    "# explainer = shap.DeepExplainer(model, x_train)\n",
    "# shap_values = explainer.shap_values(x_test)"
   ]
  },
  {
   "cell_type": "code",
   "execution_count": null,
   "metadata": {},
   "outputs": [],
   "source": []
  },
  {
   "cell_type": "markdown",
   "metadata": {},
   "source": [
    "# Step #5 Evaluate Model Performance"
   ]
  },
  {
   "cell_type": "code",
   "execution_count": null,
   "metadata": {},
   "outputs": [],
   "source": [
    "# Get the predicted values\n",
    "y_pred_scaled = model.predict(x_test)\n",
    "print(y_pred_scaled.shape)\n",
    "\n",
    "# Unscale the predicted values\n",
    "y_pred = scaler_pred.inverse_transform(y_pred_scaled)\n",
    "y_test_unscaled = scaler_pred.inverse_transform(y_test).reshape(-1, output_sequence_length)\n",
    "print(y_pred.shape)\n",
    "print(y_test_unscaled.shape)"
   ]
  },
  {
   "cell_type": "code",
   "execution_count": null,
   "metadata": {},
   "outputs": [],
   "source": [
    "RMSE = math.sqrt( mean_squared_error(y_test_unscaled, y_pred))\n",
    "print(f'Root MEAN Square Error(RMSE): {np.round(RMSE, 2)}')\n",
    "\n",
    "# Mean Absolute Error (MAE)\n",
    "MAE = mean_absolute_error(y_test_unscaled, y_pred)\n",
    "print(f'Mean Absolute Error (MAE): {np.round(MAE, 2)}')\n",
    "\n",
    "\n",
    "\n",
    "# Mean Absolute Percentage Error (MAPE)\n",
    "MAPE = np.mean((np.abs(np.subtract(y_test_unscaled, y_pred)/ y_test_unscaled))) * 100\n",
    "print(f'Mean Absolute Percentage Error (MAPE): {np.round(MAPE, 2)} %')\n",
    "\n",
    "# Median Absolute Percentage Error (MDAPE)\n",
    "MDAPE = np.median((np.abs(np.subtract(y_test_unscaled, y_pred)/ y_test_unscaled)) ) * 100\n",
    "print(f'Median Absolute Percentage Error (MDAPE): {np.round(MDAPE, 2)} %')\n",
    "\n",
    "\n"
   ]
  },
  {
   "cell_type": "markdown",
   "metadata": {},
   "source": [
    "# Plot Multiple Forcast (Most Complex Step)"
   ]
  },
  {
   "cell_type": "code",
   "execution_count": null,
   "metadata": {},
   "outputs": [],
   "source": [
    "def prepare_df(i, x, y, y_pred_unscaled):\n",
    "    # Undo the scaling on x, reshape the testset into a one-dimensional array, so that it fits to the pred scaler\n",
    "    x_test_unscaled_df = pd.DataFrame(scaler_pred.inverse_transform((x[i]))[:,index_Close])\\\n",
    "    .rename(columns={0:'x_test'})\n",
    "    \n",
    "    y_test_unscaled_df = []\n",
    "    # Undo the scaling on y\n",
    "    if type(y) == np.ndarray:\n",
    "        y_test_unscaled_df = pd.DataFrame(scaler_pred.inverse_transform(y)[i]).rename(columns={0:'y_test'})\n",
    "\n",
    "    # Create a dataframe for the y_pred at position i, y_pred is already unscaled\n",
    "    y_pred_df = pd.DataFrame(y_pred_unscaled[i]).rename(columns={0:'y_pred'})\n",
    "    return x_test_unscaled_df, y_pred_df, y_test_unscaled_df\n",
    "\n",
    "\n",
    "def plot_multi_test_forecast(x_test_unscaled_df, y_test_unscaled_df, y_pred_df, title): \n",
    "    # Package y_pred_unscaled and y_test_unscaled into a dataframe with columns pred and true   \n",
    "    if type(y_test_unscaled_df) == pd.core.frame.DataFrame:\n",
    "        df_merge = y_pred_df.join(y_test_unscaled_df, how='left')\n",
    "    else:\n",
    "        df_merge = y_pred_df.copy()\n",
    "    \n",
    "    # Merge the dataframes \n",
    "    df_merge_ = pd.concat([x_test_unscaled_df, df_merge]).reset_index(drop=True)\n",
    "    \n",
    "    # Plot the linecharts\n",
    "    fig, ax = plt.subplots(figsize=(20, 8))\n",
    "    plt.title(title, fontsize=12)\n",
    "    ax.set(ylabel = f\"{asset_name}-{prediction_col}\")\n",
    "    sns.lineplot(data = df_merge_, linewidth=2.0, ax=ax)\n",
    "\n"
   ]
  },
  {
   "cell_type": "code",
   "execution_count": null,
   "metadata": {},
   "outputs": [],
   "source": [
    "# Creates a linechart for a specific test batch_number and corresponding test predictions\n",
    "\n",
    "x_test_unscaled_df, y_pred_df, y_test_unscaled_df = prepare_df(i, x_test, y_test, y_pred)\n",
    "title = f\"Predictions vs y_test - test batch number {input_sequence_length}\"\n",
    "plot_multi_test_forecast(x_test_unscaled_df, y_test_unscaled_df, y_pred_df, title) "
   ]
  },
  {
   "cell_type": "markdown",
   "metadata": {},
   "source": [
    "# Step #6 Create a new Forecast"
   ]
  },
  {
   "cell_type": "code",
   "execution_count": null,
   "metadata": {},
   "outputs": [],
   "source": [
    "x_test_latest_batch = np_scaled[-(input_sequence_length+1):-1,:].reshape(1,input_sequence_length,len(feature_cols))\n",
    "print(f\"{x_test_latest_batch.shape} is the latest input batch from the test dataset, which is contains the price values for the last {input_sequence_length} trading days\")\n",
    "\n",
    "    \n",
    "x_test_latest_batch"
   ]
  },
  {
   "cell_type": "code",
   "execution_count": null,
   "metadata": {},
   "outputs": [],
   "source": [
    "y_pred_scaled = model.predict(x_test_latest_batch)\n",
    "y_pred_unscaled = scaler_pred.inverse_transform(y_pred_scaled)\n",
    "print(f\"Predict on the inverse transformed batch {y_pred_unscaled.shape}\")\n",
    "print(y_pred_unscaled)"
   ]
  },
  {
   "cell_type": "code",
   "execution_count": null,
   "metadata": {},
   "outputs": [],
   "source": [
    "print(\"Prepare the data and plot the input data and the predictions\")\n",
    "x_test_unscaled_df, y_test_unscaled_df, _ = prepare_df(0, x_test_latest_batch, '', y_pred_unscaled)\n",
    "print(f\"X-Test= {x_test_unscaled_df.shape}\")\n",
    "print(f\"Y-Test= {y_test_unscaled_df.shape}\")\n",
    "\n",
    "# print(x_test_unscaled_df.tail(len(y_test_unscaled_df)))\n",
    "# print(y_test_unscaled_df.tail(len(y_test_unscaled_df)))"
   ]
  },
  {
   "cell_type": "code",
   "execution_count": null,
   "metadata": {},
   "outputs": [],
   "source": [
    "plot_multi_test_forecast(x_test_unscaled_df, '',y_test_unscaled_df, \"x_new Vs. y_new_pred\")"
   ]
  },
  {
   "cell_type": "code",
   "execution_count": null,
   "metadata": {},
   "outputs": [],
   "source": []
  },
  {
   "cell_type": "markdown",
   "metadata": {},
   "source": [
    "# Create Final Model"
   ]
  },
  {
   "cell_type": "code",
   "execution_count": null,
   "metadata": {},
   "outputs": [],
   "source": [
    "dfAll=df.sort_values(by=[date_col]).copy()\n",
    "npAll_unscaled, npPredictCol_unscaled = prepare_data(dfAll) \n",
    "print(npAll_unscaled.shape,npPredictCol_unscaled.shape)"
   ]
  },
  {
   "cell_type": "code",
   "execution_count": null,
   "metadata": {},
   "outputs": [],
   "source": [
    "scalerFinalTrain = MinMaxScaler()\n",
    "scalerFinalPred = MinMaxScaler()\n",
    "npAll_scaled = scalerFinalTrain.fit_transform(npAll_unscaled)\n",
    "npAllPredictCol_scaled = scalerFinalPred.fit_transform(npPredictCol_unscaled)\n",
    "print(npAll_scaled.shape,npAllPredictCol_scaled.shape)\n",
    "print(npAll_scaled[:2])\n",
    "print(npAllPredictCol_scaled[:2])"
   ]
  },
  {
   "cell_type": "code",
   "execution_count": null,
   "metadata": {},
   "outputs": [],
   "source": [
    "x_all, y_all = partition_dataset(input_sequence_length, output_sequence_length,npAll_scaled)\n",
    "print(f\"We will tranin {x_all.shape},{y_all.shape} with batch={n_batch_size} and best epoch={best_epoch}\")"
   ]
  },
  {
   "cell_type": "code",
   "execution_count": null,
   "metadata": {},
   "outputs": [],
   "source": [
    "print(f\"Training All\")\n",
    "t_Start=time.time()\n",
    "print(datetime.now())\n",
    "\n",
    "history_final=model.fit(x=x_all, y=y_all, batch_size=n_batch_size, epochs=best_epoch,shuffle=False)\n",
    "        \n",
    "t_End=time.time()\n",
    "t_elapsed=(t_End-t_Start)/60/60\n",
    "print('Total execute making report : ',round(t_elapsed,2)) \n",
    "print(datetime.now())"
   ]
  },
  {
   "cell_type": "code",
   "execution_count": null,
   "metadata": {},
   "outputs": [],
   "source": [
    "# Plot training & validation loss values\n",
    "fig, ax = plt.subplots(figsize=(10, 5), sharex=True)\n",
    "plt.plot(history_final.history[\"loss\"])\n",
    "plt.title(\"Model loss\")\n",
    "plt.ylabel(\"Loss\")\n",
    "plt.xlabel(\"Epoch\")\n",
    "ax.xaxis.set_major_locator(plt.MaxNLocator(n_epochs))\n",
    "plt.legend([\"All Data\"], loc=\"upper left\")\n",
    "plt.grid()\n",
    "plt.show()"
   ]
  },
  {
   "cell_type": "code",
   "execution_count": null,
   "metadata": {},
   "outputs": [],
   "source": []
  },
  {
   "cell_type": "code",
   "execution_count": null,
   "metadata": {},
   "outputs": [],
   "source": [
    "# Save Model and it Scaler"
   ]
  },
  {
   "cell_type": "code",
   "execution_count": null,
   "metadata": {},
   "outputs": [],
   "source": []
  },
  {
   "cell_type": "code",
   "execution_count": null,
   "metadata": {},
   "outputs": [],
   "source": []
  },
  {
   "cell_type": "code",
   "execution_count": null,
   "metadata": {},
   "outputs": [],
   "source": []
  },
  {
   "cell_type": "code",
   "execution_count": 90,
   "metadata": {},
   "outputs": [
    {
     "name": "stdout",
     "output_type": "stream",
     "text": [
      "Save model and scaler\n"
     ]
    },
    {
     "data": {
      "text/plain": [
       "['models/scaler_pred_SIGNAL_60To10_SP500-SPY_E150S20-Y2015-2022.gz']"
      ]
     },
     "execution_count": 90,
     "metadata": {},
     "output_type": "execute_result"
    }
   ],
   "source": [
    "print(\"Save model and scaler\")\n",
    "modelName=f\"{tune_folder}-{period_str}\"\n",
    "#modelName='test2022-20for10'\n",
    "file_model=f'{model_path}/{modelName}_ma.h5'\n",
    "file_scaler=f'{model_path}/scaler_{modelName}.gz'\n",
    "file_scaler_pred=f'{model_path}/scaler_pred_{modelName}.gz'\n",
    "\n",
    "model.save(file_model)\n",
    "# joblib.dump(scaler_train,file_scaler)\n",
    "# joblib.dump(file_scaler_pred,file_scaler_pred)\n",
    "\n",
    "joblib.dump(scalerFinalTrain,file_scaler)\n",
    "joblib.dump(scalerFinalPred ,file_scaler_pred)"
   ]
  },
  {
   "cell_type": "code",
   "execution_count": null,
   "metadata": {},
   "outputs": [],
   "source": []
  },
  {
   "cell_type": "code",
   "execution_count": null,
   "metadata": {},
   "outputs": [],
   "source": []
  }
 ],
 "metadata": {
  "kernelspec": {
   "display_name": "Python 3 (ipykernel)",
   "language": "python",
   "name": "python3"
  },
  "language_info": {
   "codemirror_mode": {
    "name": "ipython",
    "version": 3
   },
   "file_extension": ".py",
   "mimetype": "text/x-python",
   "name": "python",
   "nbconvert_exporter": "python",
   "pygments_lexer": "ipython3",
   "version": "3.9.16"
  },
  "vscode": {
   "interpreter": {
    "hash": "cdb995469269d53d5ebc14eb4bb889bd554e0493b704e0e84f3a885021cdd43e"
   }
  }
 },
 "nbformat": 4,
 "nbformat_minor": 4
}
